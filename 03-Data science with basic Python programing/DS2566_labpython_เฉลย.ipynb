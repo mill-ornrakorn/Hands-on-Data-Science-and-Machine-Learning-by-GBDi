{
  "nbformat": 4,
  "nbformat_minor": 0,
  "metadata": {
    "colab": {
      "provenance": []
    },
    "kernelspec": {
      "name": "python3",
      "display_name": "Python 3"
    },
    "language_info": {
      "name": "python"
    }
  },
  "cells": [
    {
      "cell_type": "markdown",
      "source": [
        " **Basic Python**"
      ],
      "metadata": {
        "id": "z7b205ny-N3Z"
      }
    },
    {
      "cell_type": "markdown",
      "source": [
        "#**01_EXPRESSION**"
      ],
      "metadata": {
        "id": "YxtRjUG9bR9I"
      }
    },
    {
      "cell_type": "markdown",
      "source": [
        "##### Example 1: Hello World!"
      ],
      "metadata": {
        "id": "JvyG42v2-Aqd"
      }
    },
    {
      "cell_type": "code",
      "source": [
        "print('Hello World!')"
      ],
      "metadata": {
        "id": "oBozxYKx-pPc",
        "colab": {
          "base_uri": "https://localhost:8080/"
        },
        "outputId": "8e301af7-a073-4c06-b209-0308724dcc64"
      },
      "execution_count": null,
      "outputs": [
        {
          "output_type": "stream",
          "name": "stdout",
          "text": [
            "Hello World!\n"
          ]
        }
      ]
    },
    {
      "cell_type": "code",
      "source": [
        "print(\"This is Python Class\") #This is comment"
      ],
      "metadata": {
        "colab": {
          "base_uri": "https://localhost:8080/"
        },
        "id": "vpTAnofReBIE",
        "outputId": "a4faf174-fe8d-4ab2-e773-1a0389ddd625"
      },
      "execution_count": null,
      "outputs": [
        {
          "output_type": "stream",
          "name": "stdout",
          "text": [
            "This is Python Class\n"
          ]
        }
      ]
    },
    {
      "cell_type": "code",
      "source": [
        "\"\"\"\n",
        "What you write here not be executed\n",
        "\"\"\"\n",
        "print(\"This is Python Class\")"
      ],
      "metadata": {
        "colab": {
          "base_uri": "https://localhost:8080/"
        },
        "id": "BnEYKr7WdGWX",
        "outputId": "23728670-84eb-4c8a-9817-d8314ddd2f87"
      },
      "execution_count": null,
      "outputs": [
        {
          "output_type": "stream",
          "name": "stdout",
          "text": [
            "This is Python Class\n"
          ]
        }
      ]
    },
    {
      "cell_type": "code",
      "source": [
        "# Try by yourself\n"
      ],
      "metadata": {
        "id": "VCpD_1Fiuvkp"
      },
      "execution_count": null,
      "outputs": []
    },
    {
      "cell_type": "markdown",
      "source": [
        "# **02_VARIABLES**"
      ],
      "metadata": {
        "id": "PoMBuqnCFLti"
      }
    },
    {
      "cell_type": "markdown",
      "source": [
        "##### Example 2: Variables"
      ],
      "metadata": {
        "id": "ER3Vsy3PFdc2"
      }
    },
    {
      "cell_type": "markdown",
      "source": [
        "การตั้งชื่อตัวแปรที่ถูกต้อง\n",
        "\n",
        "Myvar = 'BDI'\n",
        "\n",
        "_myvar = 'BDI'\n",
        "\n",
        "mYVar = 'BDI'\n",
        "\n",
        "myvar01= 'BDI'"
      ],
      "metadata": {
        "id": "k1OdZC81BP3B"
      }
    },
    {
      "cell_type": "code",
      "source": [
        "#Try here\n",
        "Myvar = 'BDI'\n",
        "\n",
        "_myvar = 'BDI'\n",
        "\n",
        "mYVar = 'BDI'\n",
        "\n",
        "myvar01= 'BDI'"
      ],
      "metadata": {
        "id": "UE2Vog3Hh4S_"
      },
      "execution_count": 1,
      "outputs": []
    },
    {
      "cell_type": "markdown",
      "source": [
        "การตั้งชื่อตัวแปรที่ไม่ถูกต้อง\n",
        "\n",
        "01myvar = 'BDI'\n",
        "\n",
        "myvar@ = 'BDI'"
      ],
      "metadata": {
        "id": "YVseFxJhCEYh"
      }
    },
    {
      "cell_type": "code",
      "source": [
        "# Try here\n",
        "01myvar = 'BDI'\n",
        "\n",
        "myvar@ = 'BDI'\n",
        "\n",
        "#out put จะ error เนื่องจากตั้งชื่อตัวแปรไม่ถูกต้อง"
      ],
      "metadata": {
        "id": "oqScYahZipac",
        "colab": {
          "base_uri": "https://localhost:8080/",
          "height": 141
        },
        "outputId": "b0994e1e-2aa3-4c6e-d1e1-36f5492910db"
      },
      "execution_count": 2,
      "outputs": [
        {
          "output_type": "error",
          "ename": "SyntaxError",
          "evalue": "ignored",
          "traceback": [
            "\u001b[0;36m  File \u001b[0;32m\"<ipython-input-2-33513a3d7747>\"\u001b[0;36m, line \u001b[0;32m2\u001b[0m\n\u001b[0;31m    01myvar = 'BDI'\u001b[0m\n\u001b[0m    ^\u001b[0m\n\u001b[0;31mSyntaxError\u001b[0m\u001b[0;31m:\u001b[0m leading zeros in decimal integer literals are not permitted; use an 0o prefix for octal integers\n"
          ]
        }
      ]
    },
    {
      "cell_type": "markdown",
      "source": [
        "# **03_OPERATION**"
      ],
      "metadata": {
        "id": "gG1ZCiL8jHgD"
      }
    },
    {
      "cell_type": "markdown",
      "source": [
        "##### Example 3: Arithmetic Operator"
      ],
      "metadata": {
        "id": "7l6-rCAmvJO0"
      }
    },
    {
      "cell_type": "markdown",
      "source": [
        "กำหนดให้ a=56 , b=5 จงแสดงการคำนวณระหว่างค่า a และ b ด้วยวิธี การบวก การลบ การคูณ การหาร การหารแบบตัดเศษทิ้ง การหารเอาเศษ และการยกกำลัง"
      ],
      "metadata": {
        "id": "t63GVy8WC-Fz"
      }
    },
    {
      "cell_type": "code",
      "source": [
        "a=56\n",
        "b=5\n",
        "print(a,'+',b ,'=',a+b)\n",
        "print(a,'-',b ,'=',a-b)\n",
        "print(a,'*',b ,'=',a*b)\n",
        "print(a,'/',b ,'=',a/b)\n",
        "print(a,'//',b ,'=',a//b)\n",
        "print(a,'%',b ,'=',a%b)\n",
        "print(a,'^',b ,'=',a**b)"
      ],
      "metadata": {
        "id": "-TvILtIGvDdL",
        "colab": {
          "base_uri": "https://localhost:8080/"
        },
        "outputId": "9f5dd23d-c44f-42c4-f4b7-0713cff0e740"
      },
      "execution_count": null,
      "outputs": [
        {
          "output_type": "stream",
          "name": "stdout",
          "text": [
            "56 + 5 = 61\n",
            "56 - 5 = 51\n",
            "56 * 5 = 280\n",
            "56 / 5 = 11.2\n",
            "56 // 5 = 11\n",
            "56 % 5 = 1\n",
            "56 ^ 5 = 550731776\n"
          ]
        }
      ]
    },
    {
      "cell_type": "markdown",
      "source": [
        "##### Example 4: Assignment Operator"
      ],
      "metadata": {
        "id": "A2UdhtcivZnA"
      }
    },
    {
      "cell_type": "markdown",
      "source": [
        "กำหนดให้ x=5 จงหาค่า x=x+2"
      ],
      "metadata": {
        "id": "f058uJ0NDh3o"
      }
    },
    {
      "cell_type": "code",
      "source": [
        "x=5\n",
        "x+=2\n",
        "print(x)"
      ],
      "metadata": {
        "id": "nMq6gpOLvmvS",
        "colab": {
          "base_uri": "https://localhost:8080/"
        },
        "outputId": "3284a074-ecae-4932-a6ec-8d236216bf2a"
      },
      "execution_count": null,
      "outputs": [
        {
          "output_type": "stream",
          "name": "stdout",
          "text": [
            "7\n"
          ]
        }
      ]
    },
    {
      "cell_type": "markdown",
      "source": [
        "##### Example 5: Comparison Operator"
      ],
      "metadata": {
        "id": "heiHu7JqvnuW"
      }
    },
    {
      "cell_type": "markdown",
      "source": [
        "กำหนดให้ a=56 , b=4 จงแสดงการเปรียบระหว่างค่า a และ b ด้วยการเปรียบเทียบ การเท่ากัน การไม่เท่ากัน การมากกว่า การน้อยกว่า การมากกว่าเท่ากับ และการน้อยกว่าเท่ากับ"
      ],
      "metadata": {
        "id": "TwXq2EglD1Ev"
      }
    },
    {
      "cell_type": "code",
      "source": [
        "a=56\n",
        "b=4\n",
        "\n",
        "print(a,'==',b, a==b)\n",
        "print(a,'!=',b, a!=b)\n",
        "print(a,'>',b, a>b)\n",
        "print(a,'<',b, a<b)\n",
        "print(a,'>=',b, a>=b)\n",
        "print(a,'<=',b, a<=b)"
      ],
      "metadata": {
        "id": "i9DpDtrIvtP1",
        "colab": {
          "base_uri": "https://localhost:8080/"
        },
        "outputId": "5c0243e4-b4b3-4da6-84bf-d0cbf0925885"
      },
      "execution_count": null,
      "outputs": [
        {
          "output_type": "stream",
          "name": "stdout",
          "text": [
            "56 == 4 False\n",
            "56 != 4 True\n",
            "56 > 4 True\n",
            "56 < 4 False\n",
            "56 >= 4 True\n",
            "56 <= 4 False\n"
          ]
        }
      ]
    },
    {
      "cell_type": "markdown",
      "source": [
        "##### Example 6: Precedence of Operator"
      ],
      "metadata": {
        "id": "qPxNwYB-7C6i"
      }
    },
    {
      "cell_type": "markdown",
      "source": [
        "![Screenshot 2023-07-09 143057.png](data:image/png;base64,iVBORw0KGgoAAAANSUhEUgAAAZ4AAAD6CAYAAACRbiH3AAAAAXNSR0IArs4c6QAAAARnQU1BAACxjwv8YQUAAAAJcEhZcwAAFiUAABYlAUlSJPAAAHQ1SURBVHhe7Z0HYFRFF4VPtm82lSSE3otIE0HBgqLYsWIX/e0Ne++KvfdesItYsVfsiIgovXcIIb237f89s29TNyEJEAKZT4d9M6/Ne7uZM3fmzkxUUIBGo9FoNC2EyfjUaDQajaZF0MKj0Wg0mhZFC49Go9FoWhQtPBqNRqNpUbTwaDQajaZF0cKj0Wg0mhZFC49Go9FoWhQtPBqNRqNpUbaZ8Hz11VdITk7G5ZdfbqS0Tl599VWVzzvvvNNI0WwrJk6cqN7tF198YaRoNBpNXSIKz8aNG9GnTx9ER0fjzz//VGlvv/02oqKiVMjJyVFpjz/+uIrvv//+KCkpQW5urvpsKkuXLlXX6d69O7Kzs43UKvLz87HnnnvC5XJh+vTpRuqWmTZtmrpu586djRSgoqJC5bOsrMxIaZs888wz6t2cdNJJ8Hq9Rmrjufnmm9X5F1xwgZGCyt+Ax+MxUqrIyspCly5d1DkrVqwwUlsfhYWFGDZsmMrnr7/+aqRCxRkWLFhgpDSPtWvXYp999oHT6VTXGzBgAB588EFjr0bTNogoPKy1pqamory8HGvWrFFpf/zxh/okP/74o/qkYJAjjjgCVqtVbW8PEhISlOCsW7cOBxxwgJGq2Zngb2revHnIzMxE7969jdSdB+abYffddzdSmkdpaamqqC1cuBBTp07FsmXLcMcdd+Dnn382jtBo2gCcqy0S1113HedwC954441BqckG991336DNZgs6HI7gxIkT1TE9e/ZUx8yePTv48ccfq+3Ro0cHjznmGHWsFDDB3377TR37zjvvqDiPsVgsQalVBp977rmg2+1WadVDt27dglJDVucREcDgYYcdFhQLLCiiF0xLSwueccYZwXbt2qnjO3XqFHzllVeMo0NIrbrOdTt27BiUmr7aHjt2rArMS//+/dUzECkcg6ecckowNjY2KDXS4MiRI4Pvv/++2led+fPnB6W2GhTBVdfju7j66quDeXl5QbEggmPGjAmaTKbg6aefHpRCNyjWWvDCCy8MiqUVLCgoCIqlEExJSVHn8vOhhx4KXnvttSrO90KefPJJFT/zzDNV/MUXX1TxK6+8Mig18+Bdd90V7Nevn0rr0KFD8JprrgmKdaiOZRrDFVdcoZ7xp59+UulhwvvDYfz48UEpWIOXXXaZuhbTxEIJ3n333UGxEo2zQvz99991zj/33HODZ511ltrms/H75fvjO+Y7IWJFq/3Lly8PSoUm+L///U+9G6bxni+99JI6rjorV64MHn/88UG73a6+v4EDB6rjmS/C+zC+ePFiFRfLWMUXLVqk4s8//3xw0KBBKk0qMMFLLrlE/bb4Hdx2221BsbLVPn4/fPann35axasHvru9995bbfN752+W3034uvHx8cEJEyYEV69eHSwqKgqOGjVK/VbPOecc9VzMO7977qtN37591TX496HRtBXqFZ4ffvhB/UHwj2jjxo2q0OA2C1v+cUtNTe1v37590OfzVQoPCxt+hsN5552nrvfYY48FH3744eCqVauCn3zyiSoExKpSBQbFicd27tw5KDVBVQD6/X51HqktPPwj5n14vfT0dFUgs8CoDgv/yZMnq+vyPjyO1w0LT+183nDDDeo+Bx98sCoo3n777eA///yjCl/mlfmujtRQg+eff77KL8WKhRCFZsqUKZXCU/s+3M9Cm6LO9Ntvv13li4XOPffcE1yyZIk6jiJPeG/GKW4ULBbAjPN+TzzxhLoGBZhCfNppp6l9LBAJtxnC968tPPfee69KHzduXHDDhg1KHPhd8fhTTz1VCffQoUODZrM5+MYbbxhnhfB4PKqQ5vkUVj4DC/Kw8FR/Zm5/+umn6rzqwnP99derfVLbV7+v1157Tb2D2oS/65NPPjkoFq/KL6/RGOH56KOPlOgeddRRaj/Fkdfi74aVCT7b0UcfHVy7dm3wq6++Cp599tnqWcLixt8p4xSa6sIzbdo0dd1evXqp64afhRWWsPDw2OqBv6Fw5SbML7/8ovLA3zWFWKNpK9TrXCB/aKqJi81pUrBh06ZNkEIOUoODFDIQsVDHHXnkkZA/HrVNGGf/ycsvv6ziPJdILR1iCUEKcHUtNr2w2YH9RVLjV8fwOmziEzGDFNIqLRLcJ3lXndgvvPCCOl5qz8beEFIwIDExUW3zulJbVseFkUISgUAAUtipOPsgmO+//vpLnctmRhEeJCUlqXSpeavjwhx00EGqiYTNL3PnzlXPwOtJIW4cEbrv559/DhFmDB8+XKXxecP5//777/Hss8+qZkqpiav2fjZDzZw5E3PmzIEUejjwwAPV+czL119/DbGsVHPPjBkz1DX4XEwP9xlIwajyEYbvmseJoBopIeLi4tSnWLDqO+U57BPjsWJ9QWri6t1IBUDFq8P8xsTEqG32AzIPUutXcfLoo4+qfiMRCXU99mtEgvukgqO+Q7Fe1W+kNh988IE6Tixv1QfI76Ox0JGE727IkCHqffH757XYrBX+fYlA4amnnoIILx544AH1POFmY+aJzybWu4qHeffdd9V1L7roIvVd3HTTTeq6H374oerjIrwOHW4YZ/8kf0MiSmofEesWIqaqL1WsdfW9ajRthXpLdxYk7LthZ6tYM6ogHjt2LPbaay/V2c8/KsK06rAAZiEYFhM6C7Dwkho29ttvP0itXRUwFKDmMmnSJIgFpBwf7rvvPkhtH/fff7+xt3Ewfyyow+JEMWXhy+ekIF588cXKSytckDO9Ot98840SE4qpWD6Q2quxpwpeP/we+D5ZOPF93nXXXRg/frwSE3Ysn3nmmarwIny/hO+cx0stXRWS4QKYhRgFLZwfOngwr2KVqP1SO1efYVhwNgY6BITPY6FJKEhELBT12VgoEBRvVi4Ixbk29H6kGIoFqN4Bv0OKS23ChTUdS5oKv1NC4eQ7EktHxZl++OGHqzT2G4q1jHPOOUelNQZ+hyQsSOHnJOGKFsWL3z2Pobjz/VJ8wohlqiohrOiI1WikajRtg/rNCuGQQw5Rnyzc+MfF2t2hhx6qhOfLL79UFhFr6VuCx9M6YQH+/vvvKzGiZ08Y/nHGxsaq/ZE8ompDr6jJkydj8+bNqtBg7Zo12trQi4rwuiyQtwTz0aNHD5UX1oRZEFOEfv/9d4wePdo4CkpIp0yZop6L3l0siGixNJbZs2erd0or6/XXX1e1Z1o4vF/4vbBWzXwcddRRSrQ+++wzdd9Ro0YpIQrXkOmdRhHiNegIwvxUt0Drg4LL48JCxe8y/L7ozcV3+u2336r4eeedpz6rE7Y8eD7fb1OhJfDmm2+q38Jbb72lvvePPvrI2FtFt27d1Of69evVvapbDdV54okn1DtdvXq1kQJV0SGPPfaYOo/PSYv0pZdeUve96qqrlAjRcYXPz++cvykKBSkuLlaftWFrAKGHG/MU9n7r2rUrhg4dqra3BCsrDPwewtaXRtNWaPAXz9o1Cz/CJjQSbjIiFKNwYdUQ/EPmdfiHTCtijz32wL///mvsDVkDrCXzj37kyJHYd999K5ssIkGLh/lgIUxLh3+4xx13nLG3ChbOrPGzkGHTUbjAqA82H7E5kW7BbOKiCPXv3x/HHnusqhmH4f1Ym2WBS+EbOHCgcjdvLI888ojKC62bW2+9VaXRcqSFxOfnJ5vITjjhBHUfWkdsdmPByXdDKAasVd9yyy3q2Xr16qXOpSA2Bj6X3W5XhS7Pv+aaa/Dcc88pa5UFIpv82PTE7yXcHFkdVkJ4/qeffqre8w033GDsaRxs3hoxYoQKFEsSfhfVufDCC9UnrQLmMyyGYcLiworI9ddfrwQ4DC0o5u32229XFSR+n7wfxZ4WK9/l4MGDlbXDygPfd79+/Sp/J7Q2eQ6bPqtDi53v57333lN54nl8F/xeGwObbfneGRYvXmykajRtB7MU4pOM7TrQAmCNjn+M/MNnezQLJtZOuU23UAoSC2I2I7CWzLRwmzaP4x8xmzDCBSvH1LBZhcewsKRVxVothYTi1KlTJ1Ug8DrhtnYWuBQPihwtLrpUs+mFwsfrcDAo+2xq1xyZV4ocm45YG2UeBg0apGr6FBZuUwx5Hu9JIeMxzBPFkv1NLKhYyHM/CxfC5+CxrPWzH4D7TjzxRNWHwL4fFkbhcStsrmStlnE+O6/Nd8Y+Fqazhsxmtssuu0zli2kUYOabVhSvwSYvFqhMY174vfA9cT/zQMHkd0SBnDBhgsoTLQQez6bNSDAv7Pug6HN7zJgxOProo1Xe+D1Q8Ghtsb8mUv8D0xiYX35/bPrk98H88DviNdmUxDjfNcWZYsp3w74fCgHzzf0s/NkUy99YbWuN3y+/Bx5HgWATHgtrvmdel98Pfye8BvvL+B0wX8w739HZZ5+t8sd3xnS+I/7++OzMO5+Vv0OKFkWc3zHfBS0g3nO33XZT3yGtSopQ+Loc/8RKDX+HFPy7775bPRfhb5X34nfN98v3EH5H/C75N0XrlMfwb4PHaDRtCb30tWangkJC65IFvZ59QqPZOdGNyxqNRqNpUbTFo9mpoIccm0fZnMig0Wh2PrTwaDQajaZF0U1tGo1Go2lRtPBoNBqNpkXRwqPRaDSaFkULj0aj0WhaFC08Go1Go2lRtPBoNBqNpkXRwqPRaDSaFkULj0aj0WhaFC08Go1Go2lRtPBoNBqNpkXRwqPRaDSaFkULj0aj0WhaFC08Go1Go2lRtPBoNBqNpkXRwqPRaDSaFkULj0aj0WhaFC08Go1Go2lRtPBoNBqNpkXRwqPRaDSaFkULj0aj0WhaFC08Go1Go2lRtPBoNBqNpkXRwqPRaDSaFkULj0aj0WhaFC08Go1Go2lRooKCsa3ZEvKq3Dkb4CsvgqtLP4n7JTGA4pVzsPDe8aFjqrH3i/NgiY4zYsDiB06HNTEV/S59ykgBCpb+hSUPTTBiVfQ5/2G0P+BkIwZs+OQJpH3xHPZ9a42REmLOVaPgKcgyYiG6n3IjOo+7xIgB2X99jo2fPoU97v8GJptTpfnLS/DvdaPhKy1U8TAp+x6PPhc+iiiTWcULFv6OpU9fjEE3v4fYPnuqNLLihSuR8/dXRixEdOe+2OOB741YiJln98KQe75ETPeBRgqw6pXrkPXnNCMWwinnDr7lfVhi26m4Jz9T3umJaL//Seg6/mqVRrJnfoaVL19rxKrY89Ff4WjfzYgBSx75H6LlO+pxxu1GCpA//xcsfeJ8IxbCZLVj0K0fIKbXECMF6hhfST4G3jJF9jtUWtmmlVj80BnwFuWqeJieE+5Ex8POMWLA5p/exebvXlP5qQ7fQ226jb8WXY673IjJs/3xMdZ9+LDc931Ed+qj0vg9LXn8XPmN/aviYWJ6DsGQSZ8ZMaAiJw3zbzsCQ+76DE7jXLLiucuR8883RixEbN/hGHz7R0YMcOem47/rD0Tfix9H8qhjjVRg3fv3I/27yUYshNkZg6H3fgVHSuhdB7xuLHrwdCTsvg+6nXSDSiP583+V93ieEaui9u93/h3j1LP0Pu9BI0V+cwt+lWeue26/ic8geeTRRiyUv6zfP1J/Z9WZPXFYnd9173PuQ+pBZxgx+Z6mv4PMn9/FkLu/UL8B4i3OlfcwBv6KUhUPkzrmNPQ+937ZilLxvP9+xHJ5r0Pv/gzRXQeoNLL0qQuRP/cnIxYitvcwDL7zEyMm32dFCf6+eAiGP/Yb7CldjVRgmZybV+tcV4+BGHjju7C44lW8InsjFt13MjoecT46H3mhSiMZP7+HNW/dYcSq2OvZ2bDGJRsxYME9JyJx8Gh0PUH+ftTftwnlGetQsm6J5HNPWBM6wGwPlQ/bGy08TSDgzsXKFy6TQnETBl97rwiPT4kPf+QFyxYYR1WRtMeIygKcFK9dJdoVQFwvES0DX2kJCpYvNmJVxHTrCUdyeyMmBd/mNAmbkLznSCMlRP6SBfJjLjdiIZwdOsHVqepH7SnIR+mm9UjYbTCizKH8BAN+5C2cK9mneFZhT2iH2J5ScEWF/si8JUUoWrUCsb36wBaXoNJI8fo1UmBlG7EQZrsDiQOHGrEQOf/9jYQBg2FxRhspQGnaepRnZRixECae2393RFmsKh7welC4YglsiUk1nsWdn6veY20SdhskIu8yYpK/NSvlWmZ5j1UFPp+lcMVSI2ZgMiGh7wD5444xEoCi1cvl/l7E9d1N/j4tKs3vrkDhyqUIeDwqHiZa8hYt7ztMRU4WyjPT5T3sYaSE4HuojTO1I1ydq8TSU5CH4g1rEc/8GO+L3w/z4y0pVvEwfFY+cxi/5Ktw+SL13Vljqio7pRvXoTw704iF4LMm9K+qCPBZ8xbNRWz3XrC3qyqoIn1PUXxfcl+zI1RABQMBFK5aBqvk19W1h0oj3uJCeV/LjFgVtX+/fDb+jajfnAGfld99bWJ79K6Zv00b1PtOGjrCSAmRv3iefF9uIxai9vfkzstRf0/8bfKZSNDvk/cwr87fhCOlPWK69jRifDb5HUm+E+T3YXHFGqmhv2/+PqtT+3vi313uvDnq92G2hwSPlMj3zmepjlneaTx/g+G/CfmOC1YslnIhtc5vjufXJmH3IbAY3xPh98S4q2tv+SJZDpiR/d9fWP3Oc1LhS5KKW0+plOyFLsdeDXN0SOy2F1p46oEC4c3bLBaCTX48NvmVyx+CN0cVXiabHWYJGo1Gs7PDym/+kvnI+nuGquBaEzpj4K3TxFqqqvhua7TwRIC1ks0/vobN374kNbS90f3oEyTRa+zVaDSaXQ9afOVZmajIzUHisCMRFd1LTDa2coRaP7YlWnhq4SstwMaPH0TOn1PFVB2MbsecrJqfNBqNpk0RZQNcu8NbYYPFlYgoi8S3EVp4qsHOxVUvX47ChT+j9+nnInn4qBp9NBqNRtOWCPiARU8/guQDJqDTEVUOS1uLdqeuhskir6MiC7tfdgNS9tpPi45Go2nTmCxAt6OOQtLg/lDOVNsIbfGECbiBskUIlGyAyRryZNJoNBqNECWVcnsPIFoEKGrry0dt8ZBgQCydNYA7XYuORqPR1IZlpHsjghVp8JUVYmvtlTYvPCVr5yN35rtA+VojRaPRaDR1CHqRN+tdrHjuAngLa445aiptW3hEtfPmfIm1U+6Bp6DmYEiNRqPR1CSmS2cULfkd+f99Z6Q0j7bdxyOP7stbiIoNvyGmW9Woa41Go9FEJu27z7B55kwMe2RW5XQ+TaWNN7UFYDEXatHRaDSaRpI8fB8RDi82f/eSkdJ02rbw+ItEe2rOgaXRaDSa+uEcktGduyF/3g8IuGvOE9lY2mxTW0XWOkR51sFmL6ycJFCj0Wg0W6ZkwxpYkofD3nmfZo13bJMlLudiS/v8CSx+5BI1M69Go9FoGg9nfXfEWxBlzGLfVNqm8Pg8KN+0AnH9BtSYmlyj0Wg0jcTPdYuaN5tBm7V4/OXFiKm2fohGo9FomkKAhamx3TTarvBUlMCRVLWolEaj0WgaT+5/M5D+zctGrGm0TeHx+9TSxvZ2KUaKRqPRaJoCl4uxuKpWJW4KbdKrTS14tOZbROtldjQajab5JIwBzFXLfzeWNutckDdvhvZo02g0mh1AmxSegKcM6T9MVX09Go1Go2lZ2uYA0mAAnvQ/YHMUGQkajUajaQr+8jK4A30R3W1PI6XxtEmLh4sa2RK1Y4FGo9E0l9JNG7Dxs2eNWNNom8Kj0Wg0mh1G2xSeYBABj3urV9HTaDQaTdNpk8LjLc3Hoocvhd9dYaRoNBqNpqVomxaP34+SDSuMiEaj0WiaRVTzJET38Wg0Go2myThTO6Hj2AlGrGlo4dFoNBpNk7HGxiGu/15GrGlo4dFoNBpNi9ImhcdktSN5r7FGTKPRaDQtSZtd+hplS4Dy1UZEo9FoNE3BnZuNoiwHUvY/w0hpPLqpTaPRtBis50YKmp2Pivxc5M/7xYg1DW3xaDSaFuPKW15BUVGZEavixccnwumwGTHNTgErDXGjEWVLNBIaT9tcjyfgh2fDz7DH6gGkGk1LkZ6Rh86DzjFiVfTt1QkrZr9kxDQ7FXo9nsbjK8nD3ElnwVdRbqRoNJrtzYpVm4ytmuw5tLexpWkrtEnhscalYNQLP8PicBopGo1me/P3f5FnC+nTs6OxpWkraOcCjUaz3fH7A1i8bIMRq8JsNmHEHn2MmGZnonjdaqx9+24j1jS08Gg0mu2OPxDAyjXpRqyKqKgoDBrQ3YhpdiaCPi88xblGrGlo4dFoNNud4pLyiBZPUmIsunRMMmKatkKbFB6vqPR/t52mnQs0jWbuwjX48++llaGwuK5L8K5EVk5h5bP+O2+Vkdp85i1Yo8SnNicftx8c2o26zdEm3am9hdn4Z2J/7P3ISzudg8E/c1di8rs/GrHmc88tE9A+Od6I7XhYsP/wy9yIgwn3GtYXYw8YasS2zKKl6zF49BVGDOjVowNWz3nFiDWOzOwCvDFlOqb/Nh8z/l4Ct9tr7AlhsZixe7+uOOaIvXHmyWOwW98uxp7GsWZdBvYbdxMyMvNVvHvX9vjzm4fRuRm1f4/Xh5R+Z6KomhhmLXsHKU34fn0+P77+cQ4+/uJP/Dl7KdauzzT2hGBfzJDde+Dg0UPwv1MPxpCBPYw9jeOia5/Hq29/b8Sq+Gnafeqa5Mdf5+HJFz9X2w0x9sChuG7i8UZs+zLt61kR890ULjjrMIw/eh8jtutQtGoZNsvfRv8r3zBSGo8Wnp1MeKZO+wMTLnoMga382lgQs0BuLQw/+Br8tyDygN5rLj0OT9x7vhGLDAtdq9WiBiHyJx3b41SUlobGaU087yg8/8glaptjSRLiXYh22lU8EhSFvQ+9DnkFJY0aVW+T+3774aTKArQ+KGas3cfHRiMnrwiHjL8D8xetVftYqM///Rm1vXzVJvTv01lt1weFsLzCo56FHHXa3fh2+r9qm30mC/8IrYXP42idNVTJKCmrwDmXPYXPvpmlnAC2RJzk/+0XrsFxR440UraMpf3xqp+nOvyuSjd+pPp5yFtTf8Y5lz+lthvinNPH4o1nrzJi25dnX/1KDXrdGp687wJcfcmxRmzXoSI3G8XZTqTsd7qR0nh0H49mh8KC8bIbX6pXdBrLVbe+ipEiFr//tRiUitGjBoZ2CMOH9Fb3eerlL7DvkTfie7Gs6mPJio04/OS7kJtf3OipXGhxnHrBI/j5jwVGSl14zM33vIWhB1ypavYsvFNTEoy9wIH7DVLHvP/p7xhz7K14WvLaEB+JZdJ/5CWY/N6P6tmqW4S0Rlgx+f7n/zB87DV46OmPjT11oXhRdD75cmajRIdQ5Pm8X/3wj5HSMOzbqS06hJZsWHQ0Ox+OpBSkjDraiDUNLTyaHQqbsdiktTUsWLwO73zwCxYuXY8Tz3kQ3/w4B6OG91P72CQ2WAri+5/8CNff+TrWb8zCtbe9pvZF4o4H3sWqtZuNWOPJyS3CuVc8bcTqsiEtW1kkvP/Rp9+Djz7/E4N262bsBfbZazfcdv87+N/EJ5GRlY8nXvwcaZsjewzRQrlahJb9MJdc94ISlgP2qRLaAX26YLqI24nnPqQK/Wde+RJpm3KMvTV54fVv8OlXfxmxxkOxu+Xet41YwyxYss7YqsnQQT2NLU1bo00Kj8lqQ+KgkTCZLUaKJhKz/1uhCqXagbXkbQGbnq4WEdia65WUVuDS61+orFFTAE6SApeWD2FzDptK7n1samWNfp0U/g889VGd5soZs5ao54tEYkKMEod99x6AdomRpwihuHz0+QwjVhOKCp+X0LK5+Lrn8ZuRR0JLh/0b7Gshm0R03vmw7gSMfIYHnvhQWWSEx0965H3cLcFutyoL4off5imrLdzUyHPOv/pZlJW7VTwM83u7CG0ky46CPWpEf/W89TVLsi+NzXMNwWvP/rfuwFHmc0C/rkZM09Zos5OEBovmI8pb172ztcNavfpjb+S3dudD7xlbVXTvkoI1c1+DaQvNHGde+gQ+mPaHEati/bzJ6NShnRFrHix8jz/r/sp+iYZoqI+HheuHUtg/LbX6cH9JQ7BAPfqwvXD7tadgeK2BixSwl978zohVEeNy4M9vHqnsd+F4FDbZRfLSOu+MQzD5mSuNWBW06l5841vlHBIJFsTV/xQP2n8wHr7rHNUcVR2KyPTf56umuJ9+m6/e45bgc954xXicfOx+6j5haClFslooNL98fj+GDgxZJJxx4MBjblHbtTl0zB744eN7jFhdKIzjxQr98rvZRkoIfg+/f/mgEvMwO0sfDwV+1PD+6hkaw6XnHokTj9nXiO06+EpL4Pb2hKv3KCOl8bRZ4WkLs1OzNnu/1I5r886L1ypPrC1x+kWPYarUxGuTtvCNZnlfVYe1+QuveU412WyJxjgXsEBevnqTshrY7Ob21Lxu187JuP6yE3D8UaPQTYS3NizA2bfy1z/LjJQqXn7iMlz0v8ONWIiX3/pONXPVZuSe/TDrh8eMWF3oOMCmr9fe+aGOaFDMr7jwaJw+/gDl5bYlaBW999GvePT5acrSqw6dGOhUwUJ6QN8udQpJvq+zpGJBS6s69F57RATv2lpeY5MenoK7H51qxKqgJZi3aooRqwut2YH7XVbHS46Fd8aStyudIwj7jnLzQpYciyU2O9LDrjY7Wnj4+5n/2zM18t4WKV67ClkLNqD3eU8aKY1H9/HsotB7iwVcbQbu1q1J3kjbAxaYbGKrLTojR/Q3tpoOLbOzLnkCUz7+LaIVsDkzH3c8+J7q02BTW22YF74bdtJXD8fKu4rkrTawf1X/TGPg9b/8fraq0bNm7zWa1KrDPpvHX/gMDz/zCVaurjvKvzqz5izHxBtexH1SscgvKDFSq+D96AZ8+/3vYE6EcTgU5nDTX3UoWGxeq80B+w4ytprG2nUZWLeh7vveY1DPOgU3HS56dk+tDHp8T+smpnsv9Dz9NiPWNNqk8AQDPpRujNzksavAMTG12/QJO6EbciXe3hQUlqqabJ7RRxGGHl6vPH6ZEWs8LKw5ZmfCJY8rzzg+M2vL4UKNNX3W4tnkwxo1C/Wewy5QIsRaf5jYGCdeffJyTP/03hrh83duiziJZX0OCGP2H2xsVUEROOzku3DshPuUYJSWVdTII2FzHvNIy4VNcgP2nYi7xMqoDUX1gqufxT5H3IAvvputmvv4HOzLols3m9JoTfD63MdjeOz+426q0zTYs1sq9hORqR723Ws3NZtAbVySv+bwy58LazQhhjnntF1j6Xm+Uzpw/Dd/dWXgb7wtEGUywWRrXlnSJoXHV5KPhQ9dCr97112PhxZA9YI1DAf/sSDeUbz+3o/4dcZCI1YFm/4G7970ObtSkuJwYq3Bef16d1LNTCQhzoX7bztLbVeHfTHNfQ/LVqYp1+hInHXKQcZWFRSCieceacRCsLmGzX5hHrrz7BpCxNr/kWOHG7EqKC4TTqrZTMqKBPuVaEWxkGeTIs+vzuUXHK3ENQzP4dimH0Vcq4fP370dvXvVFdqZEZq8SLfOycZWZCI5SJATdoEBlW++/5NyaR91+PU44JhbKsNuoy7Fg099HLHipwnRJoXH7IxD7zOvF8VuXOfgzgbdVyONKeG6Jzty7RN2/j/49Md1vMn2GNwLt15zco2O78bCc2666qRK11zOJDB92n2qOY9woOYwuf4vn92vavh0qLjj+lNVU05jYcf4tXdMVuGIUyZhxNhr6zRT0bJiXxSb6yJx+MF7KouC+T3soGGY/sm9NWYacHt8+HLKHdi9f8jTi8cw35Gg48El54SErK+I7Dcf3IVAoGoJaTpcLP3rhcqxPQfuOwinnTBabVeHgkhLqXao7XTCfD7x/GdGrCZnRhDaMLTe/o7g0da7R4caY5h2NmjlnHL+w8p9nk249KykFRsO/G3cet/bGD3uZjUjxy6L/N7YetQctHPBLgibVtikU5uZ3z5Sw4sozIB9JtZp+iIc8V67H4Ykt4uDyVRXJK686Bjcdu0pRqwmLIToCVZ7hmLW8pmvsGttVHLdEd6NcS7g2B16t734WGgJZc48EPYge+D2/+Hmq05U42LOv/IZvPbUFREdDOrjJrFuHnnmEyMWmVOO3x+vi9Xhiq6/SYoDVx988iN8MPlGxMhxnG0g7PZ9rAgmrQ0K5mkXPoqP37i5wcJ546Yc1cdDq4XPQu+08EDRsKcZa9wXX/s8Tht/AMYdOkLtaw6vvP29uk5t+J7Xzn2t3nzy2SJ5w50qIjj11RuMWGRYLB164p346ff5RkoVtZ0LsnMKVZ9hpEGqjYHeindcd2pEL7WtnbmAVua8X59uVbOEbCuK16xE1ry16H1haJaMptAmLZ5dGbYxR6pl0apgiAStAvaV1A6RRIfUdzxrfvXBTvM16zOMWBXnTzhULX28tdCiYHMTC0O2sVd3W+Z4JFoaXTslq8K9KaKzJdik9ejd5+LN565uUHTI4WLFcGodFtQUddaWw6xYna4sFXoL0hrakkXQuVMSpr19a+WzfPF9lbty+PtncxqntuF9mwsHvD72/DQjVhM2FTaUz0iVH8I57rYlFfI7ZaWDzcvNCb/MWBixWXpbQOvohklv1Pu3tDMTDPjhK6/r2NIYtPDsYnCMT6QfOWvULJR3BOwfeEKEp/YfNyfWZP9LY8dDNAT7a8ym0M+5RP7Yb5cabDhUb7La1u+ATSvPv/Y1fv2zbr9VJML3ZzPXuRMOqczjuWccggrDBZz7tgSbw6q/txOP3rfyWmyGCzc1UnCb+35pMXGsVSQPOz7H5RfWP10Kv+tI46r4PQ1qRl9ea4UVjzH7DUZyUpyRUhdauuEBv5oQbVJ4/BWl2PjFZAT9zWufbK1QcFjzi8T4cTumM5cTbp5x8eN1XJzpOfWWWAmNKWSbSpfOybj3lgmV4c4bTjP2bHtYwNI9+7QLHlWdzY2Fz3/LVSdV5pEDPCN5kzWWe24+o8Yzb+04q4KiUtWHMS+CeFDIbrryROUBVx/00Iu08BsrB4N3gYXf6OTBAb45K99Tg22zl7+LL8Sa5rim2tCS5azfmirapPAE3GXY+OUb8Ht3LfP3rQ9+Vk02tWHHMucr2xGwiY1Ts9SG7fQj9qw5Kr+1MuHEA/Hpm7eoviF6h0UqXNgBzz6XcJ/NzgwtnRPPflBNHBqJS84+QllWDUEPO064WhtaPL267/z9HWefdrBamsFazZo8+vC98NQDFxqxmnz14xxjS0PapHPBzrwsQn2wX2PogVfWKeRZM+NI+vo8pMgZFz1WZ4wH4bgYDkStDb2lIjVZcc0RNhmF4bxnnLQzEhwd365d3Rr+BVfV7aikhxc770mPru0rvbV2FHzX190xGW9/+Iuq2VeHg02/mXrXdrHkWgJ21F9+88v48LPIljOnG3rt6Su22Af1xbd/47iz7jdiVVwkovXy4xONWP00xbmAA2hvvPtNBAPNK8roGUgR2RZNvmxSS+47wYhVQWuW1tGuRFl6GvLXVaDzMdcYKY1HC88uIjyfyx86C/na/SgspOluSwGqj/o6Ps+a+GTESS/X/PtqxLnaWJut/sd73pXPbPXM07VhhzY71Xc0G9NzMPaE2+v0f3Cqm1+/eEAJ5M4GF6U78LhbsXrt5oid7Scdux/eev7qRg1ApvXHgbC1oVt7pEG2tWmK8LQ2InlmkmBOw0td7HTIdxSMG40oW6KR0Hi0c8EuAtuQIxUWdK1tSHQIa+eRQn0DLG02S8Tja9cYt3axupZk7YZMJZSnnv9IjXDDXW9EtAa5mBsHp9aGzgZFRTvfsticafqYCfdixapNdX5H/F6POnQEnnv44kaJDisykfo0eG5jRKc18dufi9T6SbVDpGmKSO0588J0aN/0wrnVExWFqGbO8K+FZxeAa61wYbBINGYyUI0gGslBt3TOqB5YgNJ9vDYsnGs3sxGf1x9xrrjWDK3lg46/LeKcbvSK48SlH71+0xab18KsWJOO7AgF8I4cvNxc7n/yQ+XZVztwbFMkXnqzrpVHtrSibFujTQqPNS4ZI5+fvss0s9392NSIzWUX/u/wrfZuaitwrjRXdN3aPJvUONt1bTHhGJVI87VFyzXiqk1N05qhEwFXMKWlF6mmzn6JSTeerlzeG2PphFmyLPJyIw31M7ZWuCwF31PtcM+jU1UfZnXrkBWXR5+rf8zTroa/ohzlGXW9HhtD27R4pBZntjVv0sPWxup1GWpG5tpwxDTdajWNIykpLuLCZCxYuLTEMWfcizen/qSaXq65fbJaqyhSExw93to30jLYkVBI2YzIZccjzVpBuNIpn3nI6CvQd6+LIwbOesGmpzDsm5kZYWkJWk4ct7WzcUmtOfbCUHz+d9mT6DfyEoz/3wPqPdATsPo0SGFYqTnuqB07I/z2oDR9I9K+eNGINY0239S2dlUayuUPjOyMfhZsCoq0gidnod6acSHbgjefvUp1qDY20EKLBKfMCR+zvRwLOCDz+stPiOitx0Kas32fe/nTGHPcrXjqpc/rLazp9VV7uv/WCC1kNq3V51hCuI/r6NCyayhQoMLQjTrS+B26He+MS11ztguujxQJjs/hOLVp38xSE8dy7FMkxslvolPq1i2c2BpxpnZCpyPONWJNo00KT35ODlYuWYF/Zy3C8w+/g8fumoypb3yN52T7y49+xpoVG+HeiuWYWxLOVBBJMOl+vLXuoY/fcx6WzXqxTmhsW//OBptVbrhivBFrOpwgdHsOVt0ZUANHI4wlo6NK/947Zz/HfbeeWWe278bClgfOA0fnm10NqysGrm51125qDG1SeGZ8+QkmjDkRE0+/Cz998xe++vhnPHXfG3jzhU/xwM0v4ParnsQPX0Qex9CaYJtypPmwaNofEWFK/aZCl2l2itYO22K8Q2uEo+q58ibnj2vqMw4a0F2t7NqUvpBdEbpk0wqqzYD+XRucVqY1wwk+Z3z9kJpgd0vLxVeHFZE/vnqo3hnL2zJtTnjWLF2CL96fKjWzADzG3Fj8pIUT8Afg9/uxcV06/p4xD4vm1p3SvbXAZhC2z0firhtPR/vkeCOmaQp0k+aMz5wdOtICcLVhTZ7jSn78+B61qmZb55Ov/jK2asJ3tDMzePce+Pr9O/H0gxdFHMNWHVb8uB7UT9Puw5AdNGNIa6dNDSD1eb247dwz8eMnHzXYn2OSwoSjoHv26YJXP34A7VphIc5xJ5wKv7ZLL8fsPPPQRWrpgp2Nl978DtN/q+qoDnPM4XurKUpaGnYgcwqcr77/R/VbeDxVnm1xsU6MGNZX9ekMkUKpvjFPrRX+bmbMWqJmyd4a6DQwYo8+lYXx6KNvVtetzfp5k5s0Kzj/Pu997AO1tlRtODtEeKG/HQF/F2xpYB/ZvIVrKj0e6UHKd8H1j7blDOitlfLsDBRttiD1oKb387QZ4eFjrl22FJcfdxQ2b1hvpDaM1WrGdZMuwKnnjDNSNG0VWpjV13uhwO+qTY7NhdPtdBx4dp0BqJzNYd3c14yYZlehaNUybP57Cfpf+YaR0njaTFNbfnYWHr72CmSm1Z24sD7sDjs2rttc2SSnabuwc5j9N+GgRacuC5euryM6hE4bGk112ozwVJSXo6igAIEmrFJYLiZ1YX4JykrqX+BMo9GE4KSykdB9X5ratBnh2bRuLXIz6q6A2RAUqQ1r04HGO7JoNG0SWjpzF9Rd+ZaWIfvANJrqtBnhsdpssDuaNlsBX87e+w9BfIT1VzQaTRV0VqDDS20oPP366HnKdkU4QajF1TzHqzYjPN379kO71FTlhdNY2ndMRo/enZWbtUajqR/OXrA0wsJv7aTS1rN7qhHT7ErE9uyD3ufca8SaRpvxaisvLcXfP0/H6488iCVz/4Xf1/AMwiZTFPY7aDiefvMORMl2dfjKvB4vbPbQ9CqBQFAdr9G0Vej1F8n1mSP3d8Y52jSNJGEMYG761FxtahzPojmz8fErL+HbD6fAU+E2UmtCi8jhtOPQY/bDxBsmIFWsntqUFJfhrqufxthx+4hF1AU5WXk44NC9jb0ajUbTRtDC0zjmzpyBr997G7Onf420DZsrB5KaLWaYzWZ06JiEvfcfipvuv7iOy2xxUSm+nfYbPv9gOpYtXA2rzQqr1YKOXI75yH2x/8HDVdOcq5nzOmk0Gs1OhRaexsHHLcjNwRmjhiIjLTSnlDPagXEnHoRefbvg4CP3QUJSHOxGM1oYj9uDh257GV9/8kuNEeyETXE8nqPXjzjuAFw36Xx1TY1Go9lVKVq9HJn/rkLfSyNP3dUQbU54PBUVeOS6q/DJ5FfU1DjnXX4SBg3rh732HYJoV2SxWLd6E1587D3M/OU/1cxWH+znccVE4+iTD8YVN5+lxUej0eyy+EqLUVHRFTH9RhspjafNeLWFWbloIX7+7FO1PWr0Hrjo6tNw4KF71ys6HJ+wcuk6TP/yzwZFhygJjwLm/7O00vFAo9FodkUsrljE9N7DiDWNnVZ43G431qxZg6+++gq33347Pv744y3OSsD9tHQK8nLhclhw7iXHwWqzGHsjs/DfZXj5ife5JP8WofFYUlSG3OwCfD71R/hrTeCp0Wg0mp1QeEpKSjB9+nTcdddduPXWW/HyK6/gr7/+Qv/+/WEyNfw4KxbMxzdT31MC0b9rAnYf0sfYUz8msxk5WfmVTghbgsdlZeTim2m/oaiwxEjVaDQaTZhWLzxcHycrKwt//vknnnnmGVx+xRXqM332bHRYvRpdN2/GFaedhsGDBhlnRIZLInz0yovwlJfDZrfjwocfRHR8w94YtFi4SikXCGsK7OvxeX3KLVuj0Wh2RSpys5Hz9zdGrGm0WuHx+XxYtGgRnnzySVxzzTV4/PHH8b1YOqWbNuHQ+fMxbtYsdFy7Fvvk5yNm0iSse+ghZHz+OTb/+CMCIjK1yd6cjtm//KS2h+9/APbaf6Tabgg6H3Tt3kHNYNAUYuNdGLHPYDW7tUaj0eyKePJzkTvnOyPWNFqN8LCJqri4GAsXLsSUKVNw4403qqa0X3/7DflFRbDIvj3Fwjl8zhwUyPGfDBuGVSecgEN+/RWD5PgNH3+MxRL/75hjMPf22xGs1d+zfP485GRshtlqxbgJZ6lxO56sfKx7/ANUbMoxjqoJB5PGxLnE6vKp7cZiF4uq3+495RwjQaPRaDSV7HDhoeBs3rwZ7733Hq699lrce++9eP/997FixYqQs4Ds3y09HeNmz4ZVxOeHPfbArEGDsNlsxoEHHoiOXbqgg3z2Ou88WCXN4XZjxauvomjlSuMOIWZ8941aGiG5Q0cM3nskMj6ZhmXXPAdfcTm9Doyj6tJvYE/ExsU0WkTYzNazbxcMG7l7k8RKo9Fo2grmSYKx3WJ4PB5s3LgRs2bNwtSpU/HGG29g/vz5yuLxer3Kg8wqYtAlNxd7LV+O2MJC/N2vH1b06gWvWCxlpaXIzs7Gr2LtJCcnY8CAAXB27w5vVhYCUtgXifgUvfsu3CI+HhG1ErnXS6+9hMKCfHQzWzB4xkxkiJVkcrqQN3MREvcdjOgeHUKZq0ZuTgHen/wlfv9xtpqLaktQaFLaJ2LiTWc2ynFBo9FodlbceTko2ZSN5JHHGymNp0UHkFZUVCgngR9//BHr169HWVmZch6oTsBkQooI0H6LF6Nc9s3t3x+5CQkISjoLdl4jMzMThSJGDocDqampuPjiizFhwgQERHD8cs3StDTMP/98uP/5BwGLBRlWC54Kyj551CPkdgcHTAjIf9ZgFBL7d8Xur98EV7+uRg5C0DPttsufwNzZi9VYHmKzWWGzW1FaUl7Dy01ZNhJ3uhx4/r270ad/d8TE6WlzNBrNrkvx2lXImr8Ovc9/2khpPC0mPCvF+njsscdUsxpvWfu2bJRqV1KC/mKdJIqoLOncGWu7dkVQCnXJpDqGDge5YgXR2qHrdIIIEgt9hokTJ+LMM88UcQgN3KzIycGa555D3kcf4es1K/F1MGSxXBUdj96OaBGpLCTusxeSjhyFriePQZQ51OrImaYX/LsMD97yIlYsXaeaznYf2heXXHs6sjPz1FxtnJGAjgcZovZ0mWZ/zsjRQ9GhcwoOGLtXndmsNRqNZlcj4PHAZx0KW3LTW3daRHhopdx5551YsmSJkRKCt6Yt4QgEMGr5ciSJoMzr1QsbO3WC31xzgk7299DKycjIUM1x8fHxlSJDuE2rhwIUHs8TFIupTI6/5byz8PtvvyDGasPN3fvCJcJRkrEQ/S8/G12O3AfRHZNotqhzZs+Yj7uueRoZ6TlKDMeO2xfX332BmqWaolRUUKwsH25TCGn90FGhQ6emeb5pNBrNTk9rnSSUAz6ff/55zJgxo4aVw2Yy9s20LyuDZfJkbExJwVIRHY8ISNjCqQ6vQ9Fh81x0dDRcLpexpwpaPrR6Lrzwwsr9hXl5uPDwg7By4QLsud9oPD/1EwS9pfjvhj0x8pGXYHE41XFc7O23H2fjvhueR15eoZr089RzjsJlN1dZURqNRqOpRjOFZ7t6tbH/5sMPP6wjOhSIC0QcLr/iKnQYNAjfDxuGBf37K8eBSKJDiylPBKS8vBwWi0UJTyR4D3rEPfroo+pYUlpchFKxlEi/IUPhEIGzp3REvwvuqhQdMmfWIjx0y4tKdDjL9MXXna6cBLToaDQaTV04ZCXgibyu2ZbYbsLDprE//vgD3333XQ3RYXrnzp2RkJCIr776Eu9/9RV8EayXMGxWYxNbUVGRilN0VGd+PbD5i/O33X///ao/qETOrSgtVc1vXXr1VseYrHakjDxUbZMVS9aJpfMcsrLy1WwDl14/AedMHF9naQSNRqPRhChL34i0L180Yk1juwnPf//9hxdffFE1jVWHArBp0yY88vBDmPbpJ/C461dMChZdrHNyctQ2m+c4OHNL8Fh6zt19993Iygz1CZnFUurco6dxRBWF+cV45PaXsXF9hurTOf28o/G/S45vUNw0Go2mrWOyWGGJSTBiTWO7CA891zg2p7bohKEwcCxPQ/AY9uuwiY1WElcHjdSvUx+0fGbOnIkH7r031ERntSI2oeZL4j2++PAnLPhvmfJeO+KEAzHxhjPVyqIajUajqR9nh07odPg5RqxpbHPhyc/PV30sGzZsUAV7c6C1wWUP2FRG0eB1ttTEFgnePSN9s5og1GazwxUbp9ID7jJs/OpNrF2xEa8//7FYRH507pqKi689TQSqpjedRqPRaLYt21R4KBZvv/22GrPTXNEhbBqjgLGZjbB5rTFNbBEJGoM/7TY4o3mNIAI+DwqW/IdP3/sOhblFypngzIuPR7eendSxGo1Go9kSNASa1yWxTYXnyy+/xO+//75Vlg494ehIUFDAqUAlgyYTYmJi1HazUDMjBEUUS4CcyUDW27AEV6Lb+Xfh75kLlVXUZ7ceOPaUsbpfR6PRaBqJW8pob2GuEWsa20R4KDQ///wz3nnnHWX1NBWerwZjlpYqS4czEzBOnE5n5YDQ5hDWkkDAh2D5cqDoW2DzY8hZ8RTSN2UpsRl79Eg4nNqDTaPRaBpL1l8/Y9O3rxmxprFNhIdLUL/77rt15l2rj7BlQXGhAwLFhg4JnDiU87CFHQ/oUEBPtubi8wUxbICcH1YfWmK+gKhQEPk5BfBUeJWo9euTB5TOEutIPjUajUazRTyFBbC162jEmsZWC096erqag41WypYIWzb0VqPjAGcioGs1r0HxoeCopRAEilNcXFylSDUVaszBw+wYt58LFosJjmgrLNaqx6UXm81uRlyiHUnxcrBnDVD4gwjQXyJOFKBQPjQajUZTl6LVy2GNTTJiTWOrpsyhx9nDDz+MOXPmGCk1oWhQSCg2FBU2w7E5jVYO08IiQ5gNHs9AS4fOBGxmaw58oA6JJjw5MQ7tEm1YsLIESUkODBqQAIsxgWe5J4BlywrgireiZ5cYWM2GwFHoLHJfa3cgepDEm29xaTQaza5IafpGLHjsHgy57ye4ug40UhtPs4WHQsI+nS+++KJOExsvyTQeQ3EKBwoPxSZsxfCTTV0UGk5Nw+lwuB3evzXcdkYsxo5wIDYlVs0kreQo0pMyLdLtKFDmdoBrTxGhFEnQbtYajUZDMv/+A5um/4TBd/8oVo+Uk02kWcJD8fjss8+U6zQtFwoFLxO2bCgytGz4WduyIeG+G6vVus2EpjoXHBWN0w5yIqadWDIOi5HaDJgvkw1w9AOcQyS+TbrENBqNZufGEgtPoD9sCanNKhebfAYFZu7cufjkk0/UeBtaNhQOro1DoUlLS1OOAnSHrt5nQyg07LdJTExUzWi0cLal6AREQkcPtuHE0U4RHCssWyM6hJrsdwMVi8S2nCHbJcaOHQ3fWThoNBpNC0KhsXWBLbFjs0SHNNni4eDQu+66S3mfdejQAfvuu68KXbt2xZQpU/DEE08ocaoNx+JsjYfaluAiobt3t+CB8+OQEGtGXEqM0cS2jWDTG5vcYvaV7aZPA761BIJWeKNi4JPgD9okHiVZ8sOCEkSDvvTaGUKj0bQA5hggbpSUg83rgydNFh66Tn/++ecYOXIkhg0bVsMBgJbO8ccfr7zVqsPpbupbymBbwCfo1t6MRy+OQ0q8CdHtXLBxXE7THm3L0AHBHAe4DhBTs3mT4zWeKJESOzyIRTmS5DMBgSi7shLDViStRTZVxrrnwIZ8labRaDTbAy6DkPPfLLh6H4ToPpzdv/ktLk02CXr16oWrrrpKWTm1vc6Sk5NVem1YOG4vqC0uRxRuPC0GSXFRsEbbVDPbNhcd4pdr+oqAspliYESeAHVb4BfBKQj2QJ55DxRbBsJn7YQoi1NZkmy+ZL8ZQ7ipswLxxpkajUazffCVlmDzbz8h7dsP1OrOW8NWuVNHYvr06bjooosqPd14+djY2O3SzMaMxzmjcNfZsdizjxVRInAxbGLbxs4KdWCzmyUZiD1wq8zNSHijYlFkGgCTPRFWq9lwvgjto6VTXlaBioqqmb1p9TiiCpAYXKRsJI1Go9kuWOJRUdYO5uj2sMa3NxKbxzbsBAlBi2fw4MFGLERtd+ttAeWS4arxMdijtxXBKBNcSa7tLzqEXgy+XLF8FhgJ2wa/34wK2yBEy5fKKXzMFrEU5XEosAxRJhOiXWy2rBI7CnvQFC2Ss5WOFBqNRlMfUTbAOQCOjoO2WnTINhce9uVcdtllyoONsEbOZqFtjUPeww2nuDB2T5sqlF2J0WIdbPPHqR/2s7hXAeUrQgq41URhQ1YMSktDg2jrRXZRlBx8AQa+gAW+oB7oqtFoti0lG9Yid8EiIHYYYON4xm3DdimpR40ahX79+hmxkMVTeyxPc2EZ7/UFcfHRLhw+wgF/IAox7Vyw2ndAjV+Jz8KQ9bOVBEVRLIndsXbZGvi8WxBqESanyyniHnpmf9AEn2l7OztoNJq2AvtwClcswdJXnkTa9B/gLTV2bCO2i/DQdfrQQ+n1EIKis7XCQ8Exm6LQp7MFD14Uj+P2c4CTVrsSnbA5G79iqGgW0gs82JBTgTLvNhBDX5mIz1LJ4NZdi/0zsY5SxCYnImdTppFaP7SKnNGOSuvIDS08Go1m6ylL34g1H7yJ5a8/j/gBY9D/qjdgTdj65rXqbHPngjAc73PMMceoQaWEy1Y3Z+416hXHKO3Vz4bj9nVgcC8L4lxRMFkscMY7m7RiqE/K6AdeWoYpX6xDtMOCi8/ojYtP6y0mVGNEI9z8FeF1mUX4OL7H1s1IaB7uYCzyTEOQuS4D/Yb2V84SDcGvrqS4DF6PF+YoP1IwB2Y0vKS4RqPR1IdfypJ/77wGJpsTXcffhJQDzoDJ2sxFOBtguwkPL3vzzTdj6tSpKs652OLj41V6Q6i98g+7a2KcURjR36pmIhjQ3SJGRRTWbS7D8kw3uveIx7D+CbCHJ/fcEmItTfs5HY+/tgx3XzcEQwckIMZqgqPB8yUTASn8GcLCEyUiZfLLJx0mjGeh3WhJBGLFyjNtzZcUhZxgf2RmRiE+MRbJnVIjyVwNfD4/igqK1fieRP88PZ5Ho9E0CrpHF69difh+g2BypUqhm6D6cfIW/ovozrvBkdrTOHLbs92Eh6xatQonn3wy8vLyVJMQp8qpb1E3LpMTDASRHG/G8L5WNfXNbiI27WJMUM5dNgte+2wjXvxwLTqmOtG9YzRuv2IQdusWQ5UzrtIw6Xlu2ERskuONwaUNnRYQK8bnCIUAj2cm5IQon3xBbhEaseTMYl0oARKolK4DAYd8WXLtVe+9jKy/fw/tM4gymTHy8dfFWjOaBuW4f+++Gj3Hn4V2Q0aoJB8c2FjUFelrsjFk/+Gw2LbcjFhcGGqAdfpWo3z2VKye8ooa7FWdgVfdgfg+A4wYsOKt5+ErL8Xul9xopIjFlZ8rtZ0rjFgVQ264FzHdxDI0WDXlVVRkZ2DApTfCbAsJbVnGJix8chL8ZTUbg7sccQK6jTvZiAHZc/7ESrn3qCfelJpUlYPEvAduRNnmNCMWInX0oeh9yrlGDChcsRgr3ngWg66dBGdKB5UWDPix4JHbUbppvYqHievdH7tfdkvlPdh8sPjZ+9HrtPORNHQvlUbWfz4Fm6Z/ZcRCWOPisdf9LxqxEH9ff546N2XEfkYKsOGbT5D27SdGLATPHXTlHXCmhpZR97srsOT5B+FIao++Z1+m0khp2jrMf/hWI1bFkOvlXXev9q7feRF+rwf9z7vKSJFzN6zB/EdvN2Ih6PHY9+zLkbznKCMFWDftXeT8+xf2uPVhWKJDq/j6ykqw8PG7UJ61WcXDdDroKPQYf6YRAwqWL8SK15/F3g+/YqSE+PuG8+GvCLVihEndZwx6n3GREQPyl87Hspcfx8DLbkZc391VGn+P/N5z/vtLxcPwb2HUk28ZMf5JBDDn9svRT54lvl/oXLLuk3eQ/uu3RiwE3/Gw2x6Vhw9VCn3lZfjnlkvQ9Yjj5Xc3XqWRzD9/wuoPXld/b9Wp/bte+urj8vfmqPE98Xcz78GbjFgVw+58ovI3SFZMfhq+ijLsdtH18psL/c2WbFyLxc/cV+d99TjudHQ65BgjBmRI/tZMnYx9n51ipIT4d9JVcOfWXG6m06HHosexpxkxIG/BHKz58A0MvvZu2Nslq7SA/F7mP3IbyuVvsjrx/Qdi90tvQpQlWl58tORvI5Y+fyt6X/AE2g2vyk9LsF2FhwMc6eH2/fffqzib2tjkFr4jfy8WsThi5T0M6GbF2GF2ZeEkith4/UHRhSg1GNThsmNTkRfn3TQbk64ZjP2GJan1dFQTGV2bm4Pc3Cvn+iQwH7Sc1M83KP/65YfjdQGeWPk1yx+sXwpXWj08wOQVkZEfkq1ESpliCWWSbogPp5HodI1sqCs1m4LSMqxYsALJHZLRsWcXI7V+3BUeNb7HIeKcGLP9ZojQaDSabcF2FR5eetq0abj22mtUX41PxCQpqR3aJ1jQX4RmaG+rWCwWdE0xIy46Cha2bEluLFKA2l025akWnm+NAlEuQhPrtDRfbIhogkdO/+KXdHw5fRPyC0J9IqP2TMaFp/ZCisspJbkIjlvMTg+DbFN4uC4Pm+U4USitHVuRqFVBKDDOJjiLHNvjYfkM1TyaS4UIdlZuATJWb8SgUUO32NfjZ3NbYQnsVrEQRcUbdMfWaDSaHcx2FR5SWJiPU044ApZgIYb1c+LAYXEY0tOGGKdJTexJMSIsKs1ScDrjHdtvyhuhVMTrinvn4ttf03HdRQMweo8kfDczE0++tgwjhiThk6cORTxSgPIkEZ9Ew+oR4YlrL3nyif2cE7JyKDyOPAm5IfFhsxuFKWkC0O5Y427Ng19JXkkp1ixaha59uiE+peH1LgIixMWFxTCb2TTpVN5/Go1G01rZ7sITKF2DTb9fBpvJB7stZL2woKwOm83oocaJPbdrZV3u89PsbIy/dAaevns4/ndMd5jk8YNy0y9/T8f5N8zG+ScOxv3nHQ5zuYhPhRT4XsPiUU1tkm/28VhEeOyFgFNEx5Ed+rSWquvD3hfoeodsh/o+motXrJjVq9ejIDMXg/fbUyy/hq2ekqJSNf4nKc4FmzG+R6PRaFojkXv6tyG+wmWIdwZgtXAZ7GAd0TFbzYhLjYM9ugmiI8fxKuxZCfCcxp4neZi9IBcWiwlHjO4AE9v/JD9RYnodvk8qxuzTHp9NX4ucArk6xUYFWyjQ2UB9MoT3SeB2QAp69g3x2Txp8tBiAVUjIOLm8ftR7HEjs7QYG4sKVEgvLkJuWRnKfV74ajkDWC1mJLVPRmlhCYpyal4vEpxexy/X8G6H6Yk0Go1mW7J9hScoBWHRisrmtNqYRAA464ByFGgk7J/56d8c3PncYlx271zc8OgCfD0zU43RaQy8l98XgKfW2B272YTd+yQgr7ACmXkVohbyaoIMYmmoTwa5SeW2pNMKCsfD6kdHA1+O2nSLCGwuKcKynCwsyEjHQgmrcnOwPj9PhTV5OVianaH2LcrajLSiwhoCFBvjRMfe3ZC5cXNI1BqAwsMJRf31vGuNRqNpLbDE3H4EfYhy13TpC2OKMiE2OUYKzMZnwSeicesTC3HKZX8iv8SrxuIsW1OM4y/6A3c/v0SJUoNIody/VxwqPAF8+5sU5rVMrBMO6YaJE4aic5JT9snF6DCgAi/MuPGpto19nBG6+mWCfvg8eUgXEZm3OQ2rRWjyy8tEhHzqTMLO/+qBYlPq8WBNfi7miwgVu93qOLvFgqROyagoq5BrelVaffB9ElpW27n1VKPRaLaK7So8wYAXQXeeEauJLcZWd1LPGhYFS/NqJbqIzmfTN+GtT9fi3af3xTO3DsOlp/TC+0+OwnUX7obn3lqJP+bmquPqRYRncP94DJGQlV2hmsAqke09+sRh0oV7ICle7k9nAZMRoug44JNtulJz20gPf7LfR4mQXEYK/k0FG7G2IE81ezXWw4xiYTNbVLMbLaRid4U6Ny7aiZikeGSnZzbYohi2GjmgtMZzaTQaTStj+wqPrxx+T5ERq4ktOjSwL4Rkg/0l3mgJMYYnmUuCHMMmLYF9Q59+sxE9usZg/xHJMLHpSUKc3Yx7rx2Cfj1j8MK7K0SzGi7oe6c68fO7B+G2SwbAVKd8Zv9IhQhKechZwCaBHmxWiZvlk27TFklj4H46GVh5vIiPAe/u99Ni2cIs07WIsdvh4sAzEQ1aR0tFfChcTpsN7Tu1R25mrnKbrhe5FcWLouPfQrOcRqPR7Ei2r/B488UCCDUbVYfjdCxha4ed8+64kAdZRXugnIHuzMmSLmnGOJqgWEDsl1Gn1SrQreYo7DciBTNm5yCvsEoE6iPGZgoJV23YlGYRIeHgUFuhBI7TyQ8FB7cZJF1tc7+IKsWHllAzoFBw2GqiM1o1lRV7QlYOn87j8ylHBOYy2ulActcOKCmILOLVYT+Pj37qGo1G00rZrsIT8BYi4K9ZKKsmJY7ToXgExaLxiIVTkRgSmjIRnFIRnrJUCRQgSeM+byzMUXb07hGL1etLkJ0tlkd1RJAO3CsFRx/cSSyErXwkE92lRXjs1cbp0F3amWN8SmCag4Ikx9A6MprZKjH6W7aE1WRGh9hYJTJsWpNXUwkFqLCCaUE4OL7J5URxUYmK1yYgllFxcVlIyCT4JK7RaDStle0qPKI8UmOvWSizNm+20RtMgidarJr40EDNiqRQCHSWQr1PVZxWD4+RY48f2x2cz23uIin0qzepSdqxYzritXuHI3prhYc2hkWsJlo8FB5ntpgcWUbIlLh8UoRoBbHJjX0/1eCYIB9c3Aol1IPLZhNLx4m88jKUeCNbaRUiSGw6s4gVY5Hnzc8uQKBWc5vH7UFRcTkCaZtgeeMt+EtL4dcWj0ajacVsX+EhtcrfKClAGdSYGNWfEyeBU9NQgCR4JRRz2hrGJV2JjhzjdmGfwR3w31dH4rixIk61msqUExqTGi7vG4lchP02bHKjZUOhUQNFGSg6BaE+HlpHtaDwVESJkNYDrZI4uwPxEnLp7SbiUk1CaxCotsaPSwTH9PZbKFm6vPJ4j9uLkhKxuBYsgP3UCZJHOwIiZn65RyTLSKPRaFoD21V4oqyxIjK1R9GzD0Nuy4GYavZnERmPBDoW+CSUSLFaxLEwkqYCHQ7kk84HHiu6tXPC0lKFKsfkqJmoy0IipBwKKuStsfkwch4CQQs8psjCY44yIcUVI8ZaFDaXFCuBaBhKjIhIQSEC19yAwGfTsOnzL1Wqz+NDWWk5zD/8CNuV11KFELRYYZo7F2bV1FafnGk0Gs2OpUnCw1o0R8eXe72q/yGrtASZUoDys6CiHGXGCHw2D7FINdkSYTJX916T4lAKXVWR52j/ytkARFTCswNUBokzrXK2AAZjhoAWh09TPdSDZK3M1B6eKLHSqsH3RueBZJcLFSIKfFeqP8bYXx+cc43/eWfOAv78C155d5nf/wBPaRlKRHQw62/Y7piEqNxcmMrKYXvkMVgWLsayBfPxyE03YsPqVdry0Wg0rY5GCQ/Fhn0RK/Ny1ADHeRmb1Ej7lbnZKqzIyVLxeZs3YW56GhZnZWBDYQGKRVDU2g81EPHySmEYHrOjit/qgXCfEVefclw4Hj5GCuFWh2Qp0zJKnrCmlRdjs4ul40KRu0I5ETQGyoWDFozJhMCmdPh8PsTIM5etWYfs+YuBDRtgu+c+QCoAtG9Wd0jB5+MOxTNrl+ONxx9Bx84d8fj112HN0iXqehqNRtNa2KLwqAGNIi6LszKVZcN49QGKyv2XQf5j7doT8KsCdkNBHhbmFKIsKtY4MgRP9YnFFBr5L0WmWsuG2zSDZGe4s0btkzSu9smiNRyXfbzPuiX5rW68SoVYOtnmPWWLzxJ61li7HXEOR+jdyXM3Wi7l5Fgusiaf1t36wyrXoB0VJZWA3Jl/Affcj6iNabDIu3++ohC3uAuxHj4ceuQReOytt/C/q67BYaecgnmzai68pdFoNDuaBoUnv7wcS8R64ZQv9Adoio3BfoyoKBMqLKlGSgiKht/rk6LZA1jcRh9KuXyKJcD+E8ZVkP1MU/v5KXH2rZiCyM8sx5TL/0TeZroyGxfewdCpINM0Qp7LquLMVrIrWs1GkFlSUsNRoDFQzBMdTvU5syAHP3ftgDinEwliARV98SWK//4bFTEuLD9lPLJGjcAHP/2KSc+9gAOOPApxie1QXFCAhbNmIbVTZ+OKGo1G0zqoV3hotSzJzhALp36vq8ZQ5uwLc60pAvx+uglTbNhpXyqhONR5z/Ez4ZkB1CBOY5+VHftyLMVHCvD4Ti7YXFas+DNDjt2i0dYi+EwO5FhGyLvyKyeCjrFxavG6bLF0KDq0CJsCB5VyNoOAWDhfTJ2KPd96DTEvPYMBHTug96pVCJSVofCYo5HudCihiYmPh9fjQUFODr6Y8i5OPWA0fvn+R3Tv18+4okaj0bQOzJMEY7sSTjS5IidbfUqFe6vwm6LRrnCGCAabzKowmUVLHOwLMW7A5jW6J5vFqqGFo6asoSAVhQZqKmGihROUc6NQlOvGrHdXYrexneGKC1kZW2Qrn6U+gmKFrLUeg4KovnBarWgXHa0m+uT4nObc0iIvp39ye1jNZvw1fToy0zbisPEnwtq7N6xyQdPPv6mmt/VLlwFz/sXMDWsxY8F8/PT5NPzx4/c0l3D25Vegd/+++O3rrzByzEEwW2p7F2o0Gs2OIaK5UOAuR6kUmmxes0khyMKzub0pXlsqCmL3Eiug2hVk01PB5jQRkvAS0mpmAIZsY8wMx86EZwgolNJYLJ7wDAG+IPY6qZfq4/li0n9ilVG0Gi7iOeImN6O8znpA24Ic00BsNu+HGJsNySI6eWKN8P0116OM3m9OEQqe/8V772GvA8fAYrEqJwP3+x/BL4LkkecwJybC2bWrWFY+HHXC8bjvxZfx2Fvv4oo77sLw/ffH3iI4a5YtR0GevEeNRqNpJUQUnqwSsS4EFpvsY4h3OJHkjFaj7c1Su28SwQCy2x0LjznBSAjBCS/LitmEJpZNeJBmeHYAF2cHYKAIyb4IgzWTUp045+XRKM5z4+Uzfsa/X21ASbFYS1x+Ohy4+Jwcm7ayCB/eNBtvXTIDHnfT+loaRG5RYknFRtvRaOewqmUMOD7HG6hp3TUWvm+nxYYucfHqvbPpbP2KpejSqxcCG9NQcsmVSF+5CgsDAZS5K9Bpt37ImnAyeh91FA4+5jhEx1Y5cngqKpS1M2yffZDUvmY/m0aj0exI6ix9Tdfpfzdvgsdf1bfDAywiOAkiQNFS8+Z4HY5FCc8JxkKyQdjnkf0B2hVMR3WDg7eOT42FhUs107Wa43R4V7pOm0QgKj3eamSxBsUiNtPu/BcLfkxDXLwN/cZ0Qvc9kuBs70Dx+hIs+2MzVv6Tg3apDvzvhf3RqW+8XLL+6zWFCnMcFtqvRFx0J3jlfRWJpbg1V2YT25DUjqq5jrhFPP43Zn/c+/Rz6HDHfShftAT/iGVn7tYdAzZsQIx8VzOCHnzcrwfun/wGXDEuZGzciEX/zcXnU95DdtomvDl9Orr07KWup9FoNK2BOsLDKVzmZaSrgjSSoLDfgeLD2r0cgHKplVOIKFgNYfUXoOemx2D1ZNco99nPE5MU06y+EIXkge7dGxfnY8WMTKQtyUdheplaZdTusiC5Ryz6jGqPfvt3QFw7+7YRHclsuakd1jrOQpSzH8q9bpR5vcqTj6+T74IDadVgWgY6F8g+swgLBZzvkANK5WglVPwG+Kr7tEtG+5jYynfBc6859RQcbrVj3z9mI13Slsr3k3D1teifk4no96fyC8QDpTkoOOAAdOjaBa7oaKR06oz+gwdh2Zw5SO7YCceffU7oghqNRtMKqCM8LMT/S09DRTWLJxI8iQMc24kVZDNzSn+xgsqlwJfzWYjWQQpamzcLvTfeB/jKjURBLuSIcyBawlbDNRPUJKHMnZEJPp5bLKcaT7l1lFraY5n9MricKcgvL5Vn9qOUk3WKhVJcUSbWYkDSKMTV88HNUJziw0Gl7aJdiJX3x0XcdktJVe+yNn9N/wFPnjAeT8Z3wEp5sXlJSUh+8FH0GjUM9ksnwjbjL0yKM+OWn35GexGZ6nz7wfvIycjEWVddbaRoNBrNjqeOVxtr5sUetxrs2BAsTlmzZyd6udcHm1hACQ6HiFHIEuI+Fr1VGhSEz+SC3xKHuPJFyjJQyAGcd4wTh1rsW+l5xWuKpUPng9Cnsb2NCMqz5Vn3wEbH6fIsCUgryENGUSE2S8gtLUGpvLfw/Gt8j/UFHlHB5koR6sLycnSIjUN7V4x6h1Xvi48TxNfvv4sffpuOX9wlKBPB6nHO+UgcNBBJqUnw7TEU5lWrMGvlcmQ57SjMy8PKRYswd9ZMfPHO21gsFs9pl1yK+HbtjCtqNBrNjqeOxUM49mRFbrYRaxy8CG2NOLsT8SJAtJzyK8pVYcxbsMANHWdGQtkcdNn8KgK1OuFdidGwu0Kj9VsVknWP5P/Tr4NYXzYU/cYdgUyxbCiunNKmOfAJ7WYLeiWniMVoVu+rU2w8erVLqhSfrE1pOGPfEcjNzFRxmysOk16fgq49+6D34H7wiuBzzraCa67DFe+/idJ4OiWYENsuEWV52bjn5ck4+PgT1LkajUbTWohYanLafjajNQUWlixM6Yq9qbhQfcZYregQE6cGQ3LRM0XQh0LXcKSlXoCgLQGmao4DpfllKC0oU4Vwq0DejkeMpj//KcWku9Lw+QersfCbz7BQLArOVNAc0eGTsaktNSYWfUR0KD5EzVgt721+xiYUukMLwM34/lsUiRUTplO3nrDbXIiOcdGkgtVmRXx8LGy33ghz5064UozXp6a+j5emTcN+hxyK9avXGGdqNBpN6yGixcOEtMICrC/Iq7RUmgOvY5VCNl6sIJeIULnfi7zycnjVwFQTzEE3emx+FjHuFZDKeyXs84hJiYHFygXjjMSWxhqFDWlevPpaFlasKIeZ7tkCxWa3s89B++HD4fd4VFpjUI8hrzrO4USX+ETYLOZ6H40u6wNTOmDiwQdg0b+zQ4ly8LhzL8KYcadhyH57ilVTNQN2UCyvXz/7FO88/wI2LFuCUrcXvfr0wSuff4HkVO1KrdFoWhcRhYfQI2tpdiYKK8q3SnwIb1DdG46DODnZKPuGirPSsOadGzF6lANdO5plHwtSyZgYE7ZoO+wua8jduiUQnSstC2LJ8nLMmFGC+QvKUFHB5jSgvKwMdrsdJnkOW1wcXO3bo/dJJ8Mpn7VRr5TvTD45fY7TZkMMF39zOlUfmOrnifzaQ8j+2R9/gndvu1neR0iRubzE3W9/iNiYJAwfO6rOTASMVXi8yM3OhcftRrQrBp1Tq5rtNBqNprVQr/AQOhgszNqsLJRtQfhGHK8Sa7XBIVZQWtoGvHjhecq62W8vB8Yd7ERivBk+X4DltsLmtMIZ54RZWUANFNjNgSWzxYTiEj9++6MI331XiKwsLyySRu1g/0pCcjLKS0thFQHx+3xwukJNXf2POx6dDzpYRNof6u+RS9EispotiJZjObs0vdZowYRdpxtDgdzzwWOOQWlBTihBTtz7sCNwxQNPIyBi3W/P3SNei4JeVFiMgF/yIvlLbRenPjUajaY10aDwcAdnpl6Vmw2PFKyNLcKijGI2PJ6FwsXR/CwYOaaFU92wMGZfBwdLLvnuW/z76ccoLylDrMuETillGLFHHAb0cyExTgpyqc5z2TSzbHDcD73fzEoYmlio8nBTlMpHcVkAm9K9WLOmAkuWlmPef9mST4cIjhkVYt3wjk6xGvJzcpCY1E4sMJNKt0h+aW1QYI664moMHnOQEsPwS+QnXym92/jsfAeNlxwKlxmfPvQgfpr8ilxHTD8hOiYBD300TSyuBHTu1QVJHZLrvWJJcZlYPB71ftsnxmrh0Wg0rY4GhScMVxtls1tobEr9UAj8Uttm81x+WWlovjLuUIVvCCUWEsxiEYhZg9zFS7HkzcnwlodW5VRNSKqsNEmhGUSnVBN27xOFoYOi0bG9BS5nFLUDJhEIq0NEQEKUbCt4E54bDjxQ4BOWi0WTnunF0iXlWCxh6bJiuN1h8QqKqJSL0ESreFF+vtrmRaximflFNCk0ARFQj8ejmtxGjD8JI085VaWHno35ioJN4najSZHeahQdDsotk/PcSoirrMdQ7qrgsy/+7Te8dNEF8HndRiow6pAjcevkt7B+0SoM3X+4CK+8u3pwV7hRVlqhniM1IUblT6PRaFoTjRIeHlAkYrIuPw/FtWZcZgHHS5S63cgTsSmRT063Q3GpPE62WQD6yitQsG49MhctRsaCBchesRxmvxepXbsgPzsbsfHxqvBlHwXXk3HFxcHucFK3JB1SkPsQH29GUjsbnDY/4uNsiHaKQJkCcMRYUcGJTYM2BGBGWXkARSUBsVjKkJvngddnR2mpWF5eP8wiCEXyLPQKc8XGquYzWjLlnKNO8sqmNLp6FxcWIz4xQTWzMV981tLiEsQmxCOxU2ec+tCjsDkd6vnDcCv83DzeLIFNb5xsldu8vrIGRaB9IuScIcIn57PvaPlff+HVyyaiND+38iIUvoc+/Aydeg1ASV4Bdh85RFlf9eFjv1lRKSxmE1ISqmZB0Gg0mtZCo4QnDJuN1kiBnVlSpApQFmpeKUA3SkFZ4qmqoVfHLAW6r7QMK77+Fgs++RSF6WliOXAF0tBt7c5o9BowIGQ5SFZqZEe2y8USys/OUdPBhGvvLNAzN6UjISkJNqn9l5WUqnnNbA6HamJyRDulYA8JjJqMVAQlTgSEcJAlxYYOC5ySht51BTm5iE9qpywaoqyu6lAwJFtsIqQR5fMHMWC3OIw440I4Og1ATGKi3JsCySly/JXXobdZ+HnCAs13xnta5EIOERWXWE9WsZBmfvcNnr/iSpTkZ6njFXLqoeddiJsfeRyLZi1A17490KFHwwu7sX+nsKBYrmlGSnyMkarRaDSthyYJD+HB+WVlSC8uEgsoV43cVxOKsnCujlw2d/lKrPzhR6z+9ReU5HBAqhS8ESrrFimA2Z+S0iFVXd8RHQ2fx4sisXoSkpPUMRQdrlzKZi+bsUBaOJ2oQp3b/JS85GVlK7Hh/pKiYrXNY7jsNoWluKAQFvmMjo0JnWvkn/fPy8hAcseOKp1NV7RRKGr77+WQ6wHtk8zYd4QNa9YV46HnN6DM7URS586Ia9cOcampcCUkiLUWC7sIXDStOLF4aNGEoRh6xIIsyclBgeRzw4L5WPbnH5JOQTYOkoz0Gr43bn13CpLtMVgzfzn2PGhvZWE1REh4SmCzmJCshUej0bRCmiw8hAM81+TlYi2njCksUHOUsdxm4c3C3y+F9axnnsOSr78RgfDwLsaZkRFDQjCj/5BBKC0uRmx8nCiKWayXKLjF4uE1KTa5Ukhz8KRVrBW324NoepcZ8N4lIoJsmqJIhB8rLCh1YLpxDIXAJ4W+Xc4jXrHerDY7nA42kwE5+X7EuMy4eWIcUtvTsy50Kq+9cVMZLr/uHxQXGRafSg/1+/AzZBdWa3YUOPk2D1QzN6gL8eia2KLjcP0HH2HUiL2Qtz5DWXJ9hvRX120IPgub2uzyjtrFsp9Ko9FoWhdNFh46GKzJy0NWabEqTNl4xHnHiqUGzw70lX/+hRnPPIucdStZ3tYkVBrDwdkMUjqgXXIKOiZsRvsECzp2tsMbiMHCFT7lQNC5gwW//FWBgNethMnusKuCns1XuZlZYl0kKkHyyT35SdHIzchEHD3Q5Dir1YrCvHwlVBabDSXsMxILxOfzqWtQnLyc2FPSYxPjRbRKkNohGU65d0FhyINv9Eg7jjssGqvW+ZCabEL75CqrJQznmPvqu0147Kklyhliq5FLdNptIM586CEM2HM42lsdWLdgJfrvuTui47ZswXjFUiwtKYfDZkFijBYejUbT+miS8PBANq9xSpyadXgaKGZsmLcAz51/nhTyNed5Y8WefTl99xqJUccei73HjkUi5ygr+BEJ6e9WTpHDK7IBjcYIC/+nXi9CVnYASe1MIkRmLFpWNXEpT+HaM4nJSappLpQIlIjFZDablIMAnRRoKRHO0pzUPkWND3KLSNKqols1F1uz2a1KQONdUbjh0jgsWOpVedh7Dzsc9tCT1veS+PpsLhseeWYZPv9kjVgmxo6mIg8eFAtpj8OPwCl33onYlBR0j0uEN78UOemZGLLPMDEKt3zx8rIKeT6PiLcdcRI0Go2mtdEk4eGkn8uys9RYnNqU5OTi8VNORvbGdSEFEaJgQtfdB2PUCeMx4vDD0K13b9XfUeoux4p//4Jv5r04eHQK7DaTEoHqsOD3+oIoKw8i2hGF9Ew/Xny3BIVFIdfsvj2sWLWmHBUiLs5ol1wjCh5vUDWZmU3sU4mC02FCSWlo5gE+ZUK8CX17WjB3oVc5CIwZ5YBbzlm8wgt6ZB+0jwOHjnbIvUOeZ6olLJSdOvD6FrEq7NE2WBxW5JV4cckFM7BiWS5fav0nhpE8Wa12RCckIqlrV3QfPARDDz0U/UaOVPfnbNXxJiuW/L0w5FTQs2GngjAlRaVq8tB4lxMuR/1u1xqNRrOjaLTwcDDkvM2b4KardARmvDcF7991O8LOA9SmfU44GRPuuQcdaWn4/WryS58/gCipub904bn4b/ov2Gt4Eq6e2B89usfA560raNUpKgli4TIPop3AwL42fPtbOX77yw2zJQqnHxuNfxa4MWd+aP603t2tOPXoaLz0Xgny8v1wiHj970QX9hpqx6r1PiVoA3pbYLGKYLEbKkosF9muD74liiEHrjpi7LA5baqZTSE7fJKHD7+OQlnHE5C1YhnyNm1CRYVbOUGUFxbKMYAzLl5EUSwrsdJSe/dFcrcuSO7STa7nUg4PFLugCHBnOa5LbALWrNuIzSs3YPjYfUTktjxpK+9VVFiiRC8xxglHI87RaDSalqZRwsMDNhcXYXVejhokWQc54NP77sNP77weNnbQa+AeuO+bb8UyEKvD40aFLzznmBkr//wVz1xwMTwiRDR0bDYz9h6RjEPGpGLgbvFon+IQCyQ0w0Dt3HECUVowgWCUEouSkpBFwyYxWkgrVouoVATRr5cFCbEmFIpYZeX4ERdjQkpSSBXDj7ClJ6flYRJBMYs5ROvGahdLyhp2GBAkj2UVfsyZm4P3316JhQuKcfOUKeg0ZLhYUvRQCx0XFLHlS+Kzh1+3+pSgvPN4H7mmy2ZDp9g4JIkFV1BaipXzliOlU3t07NVVnbMlaOkUF5aq2RcoPJyIVKPRaFobjRIe9sEszspAkQhFfXz1yGP49tUXKgv1vQ4/GpdOfg1lavqZKoIBH5449USsmrtQ7m4kCqFcRCEm1ord+sXhyEM6YuSIJCQm2NQ+BruyNKyqAA9D92Gv2wtvuVcsJj8zS7tBHV8pEOH71Peksp8iQwuGImMWIbSK0JgpMqJq4WdS8BqSXuHx46efNuHtN5Zj1fJC5U1Ghu27N5758ge4o8zIqyhXsz5woCgtvtooJwgxERNdLqS6YtSqpBxkWiGitXHDZmSs3ohhY/aW/GzZcmEWS0vLUVHuhtPhQHy0Tawrw/zUaDSaVkSjhMcjheaCzHQ19UskWIAu/mE6np94YWUhndS5K2789DO4EhNDCQYZyxfj3mOOi9hPFIZGADMVF2dF395xGLx7AnYfloKuveKQ3M6O+FjOXGBS/SyVYiKPEfTTgghZEdzmo7HpqvoTquxJeayEhoEWlFhl/FRBHWXAh+Et5AIl5X5kZpdjzaoi/DM7CzNnZCBtA5u1xJKpVr7TDfupjz/GvocdreIUbc5TxyZGzlkXnjyIokDR4aqjnLMuDO+VmZuPxbMWoLNYOt0H9ArlYwuoZraCEvXptNuR4LJLvrTwaDSa1kejhIezVC/I2lyn1s5TLWYLEh1OlBYW4oaDDkReVrqxExhy8GE477ln1XQ0hAX9jHffxNu33w1TrckB6oNFruiBsjxojbhcZiSnONFLBKlv33j0HZCAjh2j0THVCVeMVXm0sQlMqQ21jW153K7vKXkDFuwso9WN5FAfZ0zwYWNaKZYvycc//2Rj0fxcZGSUw1PBQawhZaxPD069+ALc/PSrRqzx8H2WVrixcslqZG/cjL0P2w92dmg1gvLSCrEuy5XYOOlKHVs1xkmj0WhaE40SHvbPLMhIVzX3MFzawMnautmsxvF45DJ/TpmK9yfdDr8v1MFvijLjkAsvxlFXXaksAQ6ofPuGqzDjk88aU4mvFJ3asNw3yn51kEOsH1esFbFxNiS1cyAm0Y5EsZbi420qOFycUToK0XZz6KIGfPLSCj+8IjIlRR7k5LqRmy+fGaXIyq5AcYEb5e7QmB7qWWMNiK69euDDOfPgiK5arK0xqIG5azZi3eJV6NqvB7rv1qtevawOpwcqLqS1IxUB+U5inTZ5Vu3RptFoWieNEh6vlPILMzeL5SOCIkfHOhxqZdFit1vtMyQAAZ8fL55/Ppb+9buKE7PZikEHHYwzH34EMQnxeOyU8Vgx5z9jb8PQcGkKtZ9Enc5/DJWr/i8JMt+V59Rqkqs6rMmwD+q5zz7EPoeON1IaiWRg4b9LUJhfhD0OHNH4vp2ScuVBF24+bB8fE7L8NBqNphViniQY2/VCTzZ2eHPVUJfUpNlfUezhjAI1S3o2h3Xq1w+Lf/0VFSXFqlTkmjIZq1Zj9X//oUPP7jig2xKsXJmDouLQWJpwwV+7oGe0qYU/j68eqmlMNXjDcKhJjXO3AloetNQOOvZEuVYTLibHJiTGw+5ywJUQ16iMeDzyvZSVq202s3HGgmg9fkej0bRiGlUtZvHXJT5erByzWvaAAlQfXQcNxKWvTUZ8+w5Gipwvd1nz72w8c/a5+HvGKjz90J4YuXcnjD1+PK64+z6kdOhkHLlrQI+4gX0LxZys3wuwPuxOOzp06dAoweLSCmVi7VTXf93EptFoWjuNamoLQytnRU626tNpCBaaC3/+Ge/fdjsKczYbqSHon9Crfxfc9PTr2GfsoWo5g3snnotZ079Abq5brZfDMpeKGKl/p7XCFsdolxUDhyThnHP7Y/8De4laPyIqlGwc0XjoO8gGzKpGzLrQW6+kpBReT8jTkO+cA0YTXE6xfHaiF6fRaNocTRIeHsgF35bn5aBMRCjiYFIDFoSZq9dg8lVXYtPSxZW2FT2yxxxzLJ7+ZJpqGvr0jVfhyHwRAwfEY9XaEvw+Mxt/zsrG5gypyfuCanZoMbRaJRRRn6hDuyQ7xhzcCSed2Av9ByTAaZWHtdqBTvcCjh7G0U2DbhwUHlLHiV1Ep7ia6BA6FcRH2/VsBRqNptXTJOEJQ4eCtMIC5JaXwiNKUruvR5ksAsenlGZl4/tnnsasb79CsZwTm5iCl77+FrvvORy5WTn4/IkTcPJRLrF0AjCbo5SYlZX7sH5zBVasK8PSpflYv64EOfQyK/agoizUN8Rb8i68VQP6t9XwPirINqe7cTilgE+wo0MnJ/r1TcCeI1Kw555JaN8hWhRCjqL7NrE7gI6TRHjE8tkKKC28Ij+pv37JTGlJBdxSASAUeLMos8NmVvOzaTQaTWunWcJDeBJFp8znVaPz2fwWvhRdrGOkxh9js8FhtSLg8WD+rJl48b77cOjxx+OMy65QavHPH3+h+N+rscfgum7HnKEgJilGLIqgXDuAslK5T54baZtKsWpFIVatKcb6NUXIzCpXrtDl5X5V5tOwCotROISp3gLFnIafXAlL9cA0CZxkNDbRju5dY9C3XzwGDU5C3z6xSBGR4Zghh8UUWs46fKHqcFbsjveI8PQ0EppH+Mq0fig6xRQdLgUh9+X75kBU9uvEOOmuHjpWo9FoWjPNFp7msHbZEmxYvQoHjjs2FF+xGvM/PhMHjoytLGDDcG60uJRY2aq1h+qhmu2i1BQ5FJy8vArk5HuQm12uLKP8Qq+IkVssAy/KS33KmqJVVubhUtTqKrCKdeVQU+JEweWyqP6ZaI79ibEhJcWBlI7RSEnkthOu6NAcbVLyh0SmdmYjYRHh6fawKOi2dZzg7cMDeZkNWmF6ahyNRrMz0aLC4/WU4+t338Dx501UcS7K9v5943H8QW41wWd1OI1NfGpc42rx6pjwgaHrcEYeig1DMLTkp9oOwxRaDYTlttIzxmvcUI5v7tsxxwE9nxABkk+NRqPRVNKiVWWT2YqCvHyxVLz49asvYDabYbKlKJGpDeccC0+8uUUoDhQVFUJx6getAatc22aJUoEWTjjYJYTTLXJcpaNE5XWMazUHXsreTTKgp63RaDSa2rSs8JjMMFut2Lh6NTLT0qRsD6IofxMC/iCsIgQ13ICl0PeUc2kBI75TIZmO3Vs+Wqk7nkaj0exAWrSpjSz8ewY+feNNdO8/APHx8XjgmsvRqb0NI4a3w7AhiejW1YV2CTY4HGbY7GbEtecIfjmxRXO5FTCvlgSg20OAtV0oTaPRaDSVtLjw+Lwe3HjGCVgydzGyM7PgcYemeyFc3dMVbUVSOyt69YjBoN3iMXTvDujRJx6JCXZYxCoKN6WpEZt09WoNFhHzwOZC+Swu8sBtH4XkATdIvDVkTqPRaFoXLS48ZNXCOTj30ENRmF9gpNSFrtGcDNtiiUJ8nAUdOsSgU5dodOsWi5RUB1JTnEiSEB9vhTPWhmixkJxiIVmNPpsahf7W9tfwn/Dl5DpefwAebwBFZT4U5buRkV6GFSsLsXBeLtasLsWNT0/GAeOaOEGoRqPRtBF2iPAERVEeue4yvPv8y40yCsIdUcwpj2fg7Mu0gGxWM+xOC+JiJcTbkNreidROLqR2cKITXaLbR6sF5WLpMi3WlIULyPGe6kKh69ZArCjOWu33B1FBYSnxqglN83Iq1BiiTWkSNpQgI6NMTfFDl+2KCrps+5URNvrwg/Ho1GlwurQ3m0aj0URihwgPSV+3CheNOxQbVq0zUhqmMUsk8ElUCxyb4ASewul22F/kFHGiQNllO1o+OTbHKiJU++k5O4LHE0AJx/9U+FEm4sNF4ShE4WO58nZYAKuT2rkjJv/4Ezr3GmCkaDQajaY2O0x4yLplC3DJseOQvj7NSKkfJSKNEJ/6qPGUsl3fQ1feotq9agtMJCxWC25+4kmceOHlRopGo9FoItGi7tS16bHbENz48KOIS0wwUuqHQrE1Chm2UFSQp1aDRiME7lOh2vFbgpOdHj3hdIybcI6RotFoNJr6kCJ2xzLm2JPwzEdTMWhYbzXbszEbTETocLA14rM94OJ3404/FTc8/hwc0TFGqkaj0WjqY4c2tVWnZPMczPnsLsz+ezmWLC3A5sxyFBX5VMc9FzwL55IWiHJaC0V3KFyKYL/DDsWkV95AQnKqkarRaDSahmg1wqNwp6NsxUuoyJyFwiIP8gs9yMiswLqNJVi9phTrNpQik4JU4oWfc7vJ/xQh1URGMdoOasS3Ew50WpAPWC1AYqITx51zIS64ZRJi4hNDB2s0Go1mi7Qu4RGCvhKUr5sCf+aP8LsLlWnDqXT4nz8QRIGIUU6uG2npZWqxuOxcD7IkFBa4UVzsRXl5AF6PHz6xknwiTgE5h6t1hsSDj1r7ceXKvD7vI/8oN21LFKx007abEBNrQXy8DUnJDnTtEoPO3WPRo1cndBk8AQk9jobJrJea1mg0mqbQ6oRHERTRKFwE97q34M1fpMSjOtUtmygRCkecE/4oE9ze0MBOT4VPuUQz+BinO7Rco7yszlqeMIvIOOwWmDkmiNP0yCfdrO0OC2zyabNGwS4iRDHizApwDQbanQI4+srZ28HE0mg0ml2c1ik8BkERIO/mr1G+/lPAnSkC5FOWS224vEF0vBO2aKvargPTtqQRvG7Ei/MfERx7KhB/OJAgQU/+qdFoNM2mVQtPiCAC7lz4cmbCnfYl/KUbaqyrU4mIi83BxdwcMNEy2RawA8mSLGJzGBAzCrCmyH12uCOgRqPR7NTsBMJTRTDghjfjJ7jTv4XJkwF3RZEYJFUzCtBqoejQ+rE6LJGtn4ZQh8s/tmj5EMGJ21+snLGAWbtJazQazbZipxKeMEFfKfxlG+HNm4tA3mx4ClfAYvaraW1C/UFRsNjMcMTalRVULxQa5RYnwc/mtC6Aaw8gWoK9qyE4So00Go1Gs43YKYWnOsGgH4GyNGxe9AVW//MRkhODalJQmwgPVyqwOzl7tQNmiRNfIDS7dIXbj5ICLzamlaJ970PQd+SZYumI8ERZ1HEajUaj2T7s9MITxl1Rga/efQOv3nsb7DYfUpJtSElxoEOqEzEuC8rdAZSUBZCX70Z2dgXy8zwoKHDDFZ+Mp6Z9i74DBxlX0mg0Gs32ZJcRnjAfv/Yynrr1RpQUFoUGfMrThZ8wPNCUn2GOPesc3PHCK7BYG2iS02g0Gs02Y5dz0aKQ3PLkc4hPTFDLF1gsADWFgfHqohMTH4/TL79Si45Go9G0ILuc8NjsdoybcBZufPwZxCXUP+s1Pd4OOeEk7DZ0mJGi0Wg0mpZglxOeMIedfCpufOIZxLdrZ6TUJD4hEcefe74R02g0Gk1LscsKj9Vmw7gzzsKkl19Hu5QUI7WKgXuPRL9BQ4yYRqPRaFqKXVZ4wow+chxuffYlJKVWLVtgtlhw6iWXwelyGSkajUajaSl2eeGhyIw9fjzufOFVdOjcBdEiNozvc8hhxhEajUajaUl2OXfq+gj4/VizbCnS16/DsP32R2z8lpfb1mg0Gs22p80Ij0aj0WhaA8D/AWXGzx+3vu8vAAAAAElFTkSuQmCC)"
      ],
      "metadata": {
        "id": "NhgKNYVFj7wG"
      }
    },
    {
      "cell_type": "code",
      "source": [
        "# your code here\n",
        "print(7+4*3**2/1-5)"
      ],
      "metadata": {
        "id": "YyGbg_h87B3e",
        "colab": {
          "base_uri": "https://localhost:8080/"
        },
        "outputId": "6625f263-b945-464b-c49e-0fdb1294cd1f"
      },
      "execution_count": null,
      "outputs": [
        {
          "output_type": "stream",
          "name": "stdout",
          "text": [
            "38.0\n"
          ]
        }
      ]
    },
    {
      "cell_type": "markdown",
      "source": [
        "##### Example 7: Logical Operator"
      ],
      "metadata": {
        "id": "GxCyqs1D9a-E"
      }
    },
    {
      "cell_type": "markdown",
      "source": [
        "จงแสดงผลของ \"นิเสธของ (54 mod 7 มากกว่า 4)\"  หรือ \"นิเสธของ (3 ไม่เท่ากับ 3)\""
      ],
      "metadata": {
        "id": "x7jwyRpbE6jU"
      }
    },
    {
      "cell_type": "code",
      "source": [
        "print(not 54%7 >4 or not 3!=3)"
      ],
      "metadata": {
        "id": "-b7zEaMG9gs4",
        "colab": {
          "base_uri": "https://localhost:8080/"
        },
        "outputId": "77b18668-e7c5-4fc5-ef65-0125dd7df797"
      },
      "execution_count": null,
      "outputs": [
        {
          "output_type": "stream",
          "name": "stdout",
          "text": [
            "True\n"
          ]
        }
      ]
    },
    {
      "cell_type": "markdown",
      "source": [
        "### **Exercise1: Operation**"
      ],
      "metadata": {
        "id": "OyGhMuFX_DXs"
      }
    },
    {
      "cell_type": "markdown",
      "source": [
        "Question1: ค่า x มีค่าเท่าใดจากการคำนวณต่อไปนี้ x=-73, x+=15"
      ],
      "metadata": {
        "id": "1UN6HHHt-5lq"
      }
    },
    {
      "cell_type": "code",
      "source": [
        "#your code here\n",
        "x=-73\n",
        "x+=15\n",
        "print(x)"
      ],
      "metadata": {
        "id": "uCacsNFu-_YI",
        "colab": {
          "base_uri": "https://localhost:8080/"
        },
        "outputId": "b2843e22-2d31-4545-c4e1-ef622f669d20"
      },
      "execution_count": null,
      "outputs": [
        {
          "output_type": "stream",
          "name": "stdout",
          "text": [
            "-58\n"
          ]
        }
      ]
    },
    {
      "cell_type": "markdown",
      "source": [
        "Question2: กำหนดให้ my_variable=157 ค่า my_variable มีค่าเท่าใดจากการคำนวณต่อไปนี้ my_variable%=10"
      ],
      "metadata": {
        "id": "iGhZXIoy_GK6"
      }
    },
    {
      "cell_type": "code",
      "source": [
        "# Your code here\n",
        "my_variable=157\n",
        "my_variable %=10\n",
        "print(my_variable)"
      ],
      "metadata": {
        "id": "uIfAHFXY99vY",
        "colab": {
          "base_uri": "https://localhost:8080/"
        },
        "outputId": "cdb7ffd7-61e4-4843-e6cd-ffab35831213"
      },
      "execution_count": null,
      "outputs": [
        {
          "output_type": "stream",
          "name": "stdout",
          "text": [
            "7\n"
          ]
        }
      ]
    },
    {
      "cell_type": "markdown",
      "source": [
        "Question3: ค่า y จากการคำนวณต่อไปนี้มีค่าเท่าใด y=28/13"
      ],
      "metadata": {
        "id": "lXD4UF89_kT5"
      }
    },
    {
      "cell_type": "code",
      "source": [
        "# Your code here\n",
        "y=28/13\n",
        "print(y)"
      ],
      "metadata": {
        "id": "pCI9syK6_0qs",
        "colab": {
          "base_uri": "https://localhost:8080/"
        },
        "outputId": "1a894fc7-6e30-46bc-a531-553092120cf1"
      },
      "execution_count": null,
      "outputs": [
        {
          "output_type": "stream",
          "name": "stdout",
          "text": [
            "2.1538461538461537\n"
          ]
        }
      ]
    },
    {
      "cell_type": "markdown",
      "source": [
        "Question4: กำหนดให้ y=x+9 (ใช้ค่า x จาก Question1) จงหาค่า y หลังจากการคำนวณต่อไปนี้ y/=10"
      ],
      "metadata": {
        "id": "qSDMT4Db_4AM"
      }
    },
    {
      "cell_type": "code",
      "source": [
        "# Your code here\n",
        "x=-58\n",
        "y=x+9\n",
        "print(y)"
      ],
      "metadata": {
        "id": "7IIUQCaqAVnl",
        "colab": {
          "base_uri": "https://localhost:8080/"
        },
        "outputId": "cc1816d4-b7b5-47b6-e93b-2d1495b62802"
      },
      "execution_count": null,
      "outputs": [
        {
          "output_type": "stream",
          "name": "stdout",
          "text": [
            "-49\n"
          ]
        }
      ]
    },
    {
      "cell_type": "markdown",
      "source": [
        "Question5: จงหาค่าของ 5-2**2%2/4*3//6"
      ],
      "metadata": {
        "id": "TG9XbmIcAZxv"
      }
    },
    {
      "cell_type": "code",
      "source": [
        "# Your code here\n",
        "print(5-2**2%2/4*3//6)"
      ],
      "metadata": {
        "id": "tstrDnvQAYKO",
        "colab": {
          "base_uri": "https://localhost:8080/"
        },
        "outputId": "d0f00fa1-acf9-4247-af79-f89d4cb2dc6d"
      },
      "execution_count": null,
      "outputs": [
        {
          "output_type": "stream",
          "name": "stdout",
          "text": [
            "5.0\n"
          ]
        }
      ]
    },
    {
      "cell_type": "markdown",
      "source": [
        "Question6: จงหาคำตอบของ not 36%9>2 and 4!=1"
      ],
      "metadata": {
        "id": "5wtmcG45AtJ5"
      }
    },
    {
      "cell_type": "code",
      "source": [
        "# Your code here\n",
        "print(not 36%9>2 and 4!=1)"
      ],
      "metadata": {
        "id": "Hhvlys7iBIXr",
        "colab": {
          "base_uri": "https://localhost:8080/"
        },
        "outputId": "d4ebe2a5-bb56-4c37-fd13-29c7f0b94948"
      },
      "execution_count": null,
      "outputs": [
        {
          "output_type": "stream",
          "name": "stdout",
          "text": [
            "True\n"
          ]
        }
      ]
    },
    {
      "cell_type": "markdown",
      "source": [
        "# **04_DATA TYPES**"
      ],
      "metadata": {
        "id": "ksNymswfFyQ1"
      }
    },
    {
      "cell_type": "markdown",
      "source": [
        "##### Example 8: Data types"
      ],
      "metadata": {
        "id": "MwYDdMHFElet"
      }
    },
    {
      "cell_type": "markdown",
      "source": [
        "การตรวจสอบประเภทของข้อมูล"
      ],
      "metadata": {
        "id": "10yaimqgCkLm"
      }
    },
    {
      "cell_type": "code",
      "source": [
        "a='Hello Carbu'\n",
        "type(a)"
      ],
      "metadata": {
        "id": "zZJvMsbIEk5t",
        "colab": {
          "base_uri": "https://localhost:8080/"
        },
        "outputId": "2b9e6bd0-4b9b-4dfa-a100-5a598fc9c84a"
      },
      "execution_count": null,
      "outputs": [
        {
          "output_type": "execute_result",
          "data": {
            "text/plain": [
              "str"
            ]
          },
          "metadata": {},
          "execution_count": 27
        }
      ]
    },
    {
      "cell_type": "code",
      "source": [
        "b=45.5\n",
        "type(b)"
      ],
      "metadata": {
        "id": "lEleLaAhGhv2",
        "colab": {
          "base_uri": "https://localhost:8080/"
        },
        "outputId": "a04ca0ec-7930-4fd3-a426-173dda070a12"
      },
      "execution_count": null,
      "outputs": [
        {
          "output_type": "execute_result",
          "data": {
            "text/plain": [
              "float"
            ]
          },
          "metadata": {},
          "execution_count": 28
        }
      ]
    },
    {
      "cell_type": "code",
      "source": [
        "c=90\n",
        "type(c)"
      ],
      "metadata": {
        "id": "xT0WM7alG1PQ",
        "colab": {
          "base_uri": "https://localhost:8080/"
        },
        "outputId": "f99aa981-fe19-4558-8495-9105b27a3443"
      },
      "execution_count": null,
      "outputs": [
        {
          "output_type": "execute_result",
          "data": {
            "text/plain": [
              "int"
            ]
          },
          "metadata": {},
          "execution_count": 29
        }
      ]
    },
    {
      "cell_type": "code",
      "source": [
        "d=['Python','SQL','R']\n",
        "type(d)"
      ],
      "metadata": {
        "id": "7rIWjJeQG7HP",
        "colab": {
          "base_uri": "https://localhost:8080/"
        },
        "outputId": "ef02898f-69d3-4bb8-aebb-b622108d5c6a"
      },
      "execution_count": null,
      "outputs": [
        {
          "output_type": "execute_result",
          "data": {
            "text/plain": [
              "list"
            ]
          },
          "metadata": {},
          "execution_count": 30
        }
      ]
    },
    {
      "cell_type": "code",
      "source": [
        "e=('Python','SQL','R')\n",
        "type(e)"
      ],
      "metadata": {
        "id": "dwLuf_atHYrs",
        "colab": {
          "base_uri": "https://localhost:8080/"
        },
        "outputId": "8bc2c280-0325-418e-fff0-a5cbcd73a5c9"
      },
      "execution_count": null,
      "outputs": [
        {
          "output_type": "execute_result",
          "data": {
            "text/plain": [
              "tuple"
            ]
          },
          "metadata": {},
          "execution_count": 31
        }
      ]
    },
    {
      "cell_type": "code",
      "source": [
        "f={'Python','SQL','R'}\n",
        "type(f)"
      ],
      "metadata": {
        "id": "kB-4NAj9HgEh",
        "colab": {
          "base_uri": "https://localhost:8080/"
        },
        "outputId": "22e56d5d-9b16-4ff8-8aad-9ebff017ad75"
      },
      "execution_count": null,
      "outputs": [
        {
          "output_type": "execute_result",
          "data": {
            "text/plain": [
              "set"
            ]
          },
          "metadata": {},
          "execution_count": 32
        }
      ]
    },
    {
      "cell_type": "code",
      "source": [
        "g={'Name':'Carbu', 'Age': '20'}\n",
        "type(g)"
      ],
      "metadata": {
        "id": "AP5LlAC7OGmO",
        "colab": {
          "base_uri": "https://localhost:8080/"
        },
        "outputId": "3abed2cc-a5a4-4960-fd7a-66a57c01d021"
      },
      "execution_count": null,
      "outputs": [
        {
          "output_type": "execute_result",
          "data": {
            "text/plain": [
              "dict"
            ]
          },
          "metadata": {},
          "execution_count": 33
        }
      ]
    },
    {
      "cell_type": "code",
      "source": [
        "h=False\n",
        "type(h)"
      ],
      "metadata": {
        "id": "ypy71F1iIH1z",
        "colab": {
          "base_uri": "https://localhost:8080/"
        },
        "outputId": "7e5c06b2-8cd0-4734-fb1c-50c1ef552712"
      },
      "execution_count": null,
      "outputs": [
        {
          "output_type": "execute_result",
          "data": {
            "text/plain": [
              "bool"
            ]
          },
          "metadata": {},
          "execution_count": 34
        }
      ]
    },
    {
      "cell_type": "markdown",
      "source": [
        "### **04.1_Number**"
      ],
      "metadata": {
        "id": "kT6MC-BWbQ46"
      }
    },
    {
      "cell_type": "markdown",
      "source": [
        "##### Example 9: Numbers"
      ],
      "metadata": {
        "id": "EEmmah-eR25X"
      }
    },
    {
      "cell_type": "markdown",
      "source": [
        "Integer"
      ],
      "metadata": {
        "id": "0BHADPD_J8if"
      }
    },
    {
      "cell_type": "code",
      "source": [
        "my_interger = int(3.414)"
      ],
      "metadata": {
        "colab": {
          "base_uri": "https://localhost:8080/"
        },
        "id": "8zwiO2CsbyAr",
        "outputId": "d9793703-814a-4cd6-b1cd-2915886a68e1"
      },
      "execution_count": null,
      "outputs": [
        {
          "output_type": "execute_result",
          "data": {
            "text/plain": [
              "3"
            ]
          },
          "metadata": {},
          "execution_count": 25
        }
      ]
    },
    {
      "cell_type": "markdown",
      "source": [
        "Float"
      ],
      "metadata": {
        "id": "kV2rpr-1Ph9U"
      }
    },
    {
      "cell_type": "code",
      "source": [
        "my_float = float(4)\n",
        "my_float"
      ],
      "metadata": {
        "id": "o81QCjeLb75J",
        "colab": {
          "base_uri": "https://localhost:8080/"
        },
        "outputId": "bd88a016-6ad3-4655-d556-c06c6d876108"
      },
      "execution_count": null,
      "outputs": [
        {
          "output_type": "execute_result",
          "data": {
            "text/plain": [
              "4.0"
            ]
          },
          "metadata": {},
          "execution_count": 1
        }
      ]
    },
    {
      "cell_type": "code",
      "source": [
        "my_round = round(2.453345,3)\n",
        "my_round"
      ],
      "metadata": {
        "colab": {
          "base_uri": "https://localhost:8080/"
        },
        "id": "0qkVuUVKXe_a",
        "outputId": "4ccec3f9-8bc0-4f0b-933b-5913cbb5cbb6"
      },
      "execution_count": null,
      "outputs": [
        {
          "output_type": "execute_result",
          "data": {
            "text/plain": [
              "2.453"
            ]
          },
          "metadata": {},
          "execution_count": 3
        }
      ]
    },
    {
      "cell_type": "markdown",
      "source": [
        "complex"
      ],
      "metadata": {
        "id": "yprPfPdJQQpu"
      }
    },
    {
      "cell_type": "code",
      "source": [
        "my_complex= complex(2,3)"
      ],
      "metadata": {
        "colab": {
          "base_uri": "https://localhost:8080/"
        },
        "id": "oZaId6_6QQUQ",
        "outputId": "4e555a6d-aad4-492f-9e45-5a4be10d21d2"
      },
      "execution_count": null,
      "outputs": [
        {
          "output_type": "execute_result",
          "data": {
            "text/plain": [
              "(2+3j)"
            ]
          },
          "metadata": {},
          "execution_count": 3
        }
      ]
    },
    {
      "cell_type": "markdown",
      "source": [
        "### **04.2_String**"
      ],
      "metadata": {
        "id": "Pb4okUYmF1k9"
      }
    },
    {
      "cell_type": "markdown",
      "source": [
        "##### Example 10: String Methods"
      ],
      "metadata": {
        "id": "JfW5K-wEOG1C"
      }
    },
    {
      "cell_type": "code",
      "source": [
        "organize_name='bDi'"
      ],
      "metadata": {
        "id": "gAG7GsVAF5p3"
      },
      "execution_count": null,
      "outputs": []
    },
    {
      "cell_type": "code",
      "source": [
        "#Converts the first character to upper case\n",
        "organize_name.capitalize()"
      ],
      "metadata": {
        "colab": {
          "base_uri": "https://localhost:8080/",
          "height": 35
        },
        "id": "chqGU10RkI1x",
        "outputId": "4e9f490b-853f-4b6e-fbd8-873a696ac178"
      },
      "execution_count": null,
      "outputs": [
        {
          "output_type": "execute_result",
          "data": {
            "text/plain": [
              "'Bdi'"
            ],
            "application/vnd.google.colaboratory.intrinsic+json": {
              "type": "string"
            }
          },
          "metadata": {},
          "execution_count": 39
        }
      ]
    },
    {
      "cell_type": "code",
      "source": [
        "#Converts a string into upper case\n",
        "organize_name.upper()"
      ],
      "metadata": {
        "colab": {
          "base_uri": "https://localhost:8080/",
          "height": 35
        },
        "id": "UvTWLR3dOF0r",
        "outputId": "4851ac80-361e-454e-ebf4-c31f3cfed881"
      },
      "execution_count": null,
      "outputs": [
        {
          "output_type": "execute_result",
          "data": {
            "text/plain": [
              "'BDI'"
            ],
            "application/vnd.google.colaboratory.intrinsic+json": {
              "type": "string"
            }
          },
          "metadata": {},
          "execution_count": 40
        }
      ]
    },
    {
      "cell_type": "code",
      "source": [
        "#Converts a string into lower case\n",
        "organize_name.lower()"
      ],
      "metadata": {
        "colab": {
          "base_uri": "https://localhost:8080/",
          "height": 35
        },
        "id": "_FpKAfmzORSC",
        "outputId": "023931cb-5f8c-4aab-a004-ac8c36685927"
      },
      "execution_count": null,
      "outputs": [
        {
          "output_type": "execute_result",
          "data": {
            "text/plain": [
              "'bdi'"
            ],
            "application/vnd.google.colaboratory.intrinsic+json": {
              "type": "string"
            }
          },
          "metadata": {},
          "execution_count": 41
        }
      ]
    },
    {
      "cell_type": "code",
      "source": [
        "#Split String: Split by dash\n",
        "my_str = '13-July-2023'\n",
        "my_str.split()"
      ],
      "metadata": {
        "colab": {
          "base_uri": "https://localhost:8080/"
        },
        "id": "4DCxgpOUO5Jx",
        "outputId": "b645670e-2569-41c9-b88d-5c55d6c00754"
      },
      "execution_count": null,
      "outputs": [
        {
          "output_type": "execute_result",
          "data": {
            "text/plain": [
              "['This', 'is', 'Python', 'class']"
            ]
          },
          "metadata": {},
          "execution_count": 13
        }
      ]
    },
    {
      "cell_type": "code",
      "source": [
        "#Find String: Find position of P\n",
        "my_str1 = 'This is Python class'\n",
        "my_str1.find('P')"
      ],
      "metadata": {
        "colab": {
          "base_uri": "https://localhost:8080/"
        },
        "id": "RLnqy4wVpr9T",
        "outputId": "b7066ecc-c0e4-4127-aa40-147ffc8e0491"
      },
      "execution_count": null,
      "outputs": [
        {
          "output_type": "execute_result",
          "data": {
            "text/plain": [
              "8"
            ]
          },
          "metadata": {},
          "execution_count": 5
        }
      ]
    },
    {
      "cell_type": "code",
      "source": [
        "#Replace String: Please replace SQL with Python.\n",
        "my_str2 = \"I am studying SQL\"\n",
        "x=my_str2.replace('SQL','Python')\n",
        "print(x)"
      ],
      "metadata": {
        "colab": {
          "base_uri": "https://localhost:8080/"
        },
        "id": "5iC-U6CnPCR0",
        "outputId": "3f101279-6d4f-42a8-898d-c134d71a18a8"
      },
      "execution_count": null,
      "outputs": [
        {
          "output_type": "stream",
          "name": "stdout",
          "text": [
            "I am studying Python\n"
          ]
        }
      ]
    },
    {
      "cell_type": "code",
      "source": [
        "#Count String: How many a in the sentence?\n",
        "my_str3 = \"Data scientist\"\n",
        "x = my_str3.count('a')\n",
        "print(x)"
      ],
      "metadata": {
        "colab": {
          "base_uri": "https://localhost:8080/"
        },
        "id": "WhHjT7iN9Jkw",
        "outputId": "5ecc84f6-3824-4f29-809a-58b3cfbc2b2c"
      },
      "execution_count": null,
      "outputs": [
        {
          "output_type": "stream",
          "name": "stdout",
          "text": [
            "2\n"
          ]
        }
      ]
    },
    {
      "cell_type": "code",
      "source": [
        "#Find index: Find index of 'i'\n",
        "my_str4=\"Data scientist\"\n",
        "x=my_str4.index('i')\n",
        "print(x)"
      ],
      "metadata": {
        "colab": {
          "base_uri": "https://localhost:8080/"
        },
        "id": "1W4aQPu_jX3W",
        "outputId": "762ae8b3-fa41-4836-a39f-a97944782dbd"
      },
      "execution_count": null,
      "outputs": [
        {
          "output_type": "execute_result",
          "data": {
            "text/plain": [
              "7"
            ]
          },
          "metadata": {},
          "execution_count": 5
        }
      ]
    },
    {
      "cell_type": "code",
      "source": [
        "#isnumeric\n",
        "my_str5 = \"0568\"\n",
        "my_str6 = \"2B34\"\n",
        "my_str7 = \" \"\n",
        "x = my_str5.isnumeric()\n",
        "y = my_str6.isnumeric()\n",
        "z = my_str7.isnumeric()\n",
        "print(x,y,z)"
      ],
      "metadata": {
        "colab": {
          "base_uri": "https://localhost:8080/"
        },
        "id": "H_5m-lheBZS9",
        "outputId": "aefb31f6-e2c9-4805-cc8d-2d41cd041b33"
      },
      "execution_count": null,
      "outputs": [
        {
          "output_type": "stream",
          "name": "stdout",
          "text": [
            "True False False\n"
          ]
        }
      ]
    },
    {
      "cell_type": "code",
      "source": [
        "#Strip\n",
        "my_str8 = \" Mr. John  \"\n",
        "my_str8.strip()"
      ],
      "metadata": {
        "colab": {
          "base_uri": "https://localhost:8080/",
          "height": 35
        },
        "id": "4C6ED3xpBdJ8",
        "outputId": "e65dbbc8-7f82-4a12-ecba-c6e86e3020d3"
      },
      "execution_count": null,
      "outputs": [
        {
          "output_type": "execute_result",
          "data": {
            "text/plain": [
              "'Mr. John'"
            ],
            "application/vnd.google.colaboratory.intrinsic+json": {
              "type": "string"
            }
          },
          "metadata": {},
          "execution_count": 2
        }
      ]
    },
    {
      "cell_type": "code",
      "source": [
        "#Format\n",
        "txt = \"My height is {Height:.2f} cm.\"\n",
        "print(txt.format(Height = 180))\n",
        "\n",
        "#named indexes:\n",
        "txt1 = \"There are {num_member} people in {fname} organization\".format(num_member = 70, fname = \"BDI\")\n",
        "#numbered indexes:\n",
        "txt2 = \"There are {0} people in {1} organization\".format(70,\"BDI\")\n",
        "#empty placeholders:\n",
        "txt3 = \"There are {} people in {} organization\".format(70,\"BDI\")\n",
        "\n",
        "print(txt1)\n",
        "print(txt2)\n",
        "print(txt3)"
      ],
      "metadata": {
        "colab": {
          "base_uri": "https://localhost:8080/"
        },
        "id": "H1QS63by-gAW",
        "outputId": "06cf20a8-78ce-45e3-9bce-e4a29a3686e2"
      },
      "execution_count": null,
      "outputs": [
        {
          "output_type": "stream",
          "name": "stdout",
          "text": [
            "My height is 180.00 cm.\n",
            "There are 70 people in BDI organization\n",
            "There are 70 people in BDI organization\n",
            "There are 70 people in BDI organization\n"
          ]
        }
      ]
    },
    {
      "cell_type": "markdown",
      "source": [
        "##### Example 11: Basic String Operation"
      ],
      "metadata": {
        "id": "lrNQWbDHeaJS"
      }
    },
    {
      "cell_type": "code",
      "source": [
        "print('สวัสดี'+'ค่ะ')\n",
        "print('Thank you'*3)\n",
        "print(len('Hello World'))\n",
        "print('H' in 'Hello World')\n",
        "print('H' not in 'Hello World')"
      ],
      "metadata": {
        "colab": {
          "base_uri": "https://localhost:8080/"
        },
        "id": "8vFIvBCQeOYN",
        "outputId": "dd0dbac1-2615-4884-a4fb-2813ca8521af"
      },
      "execution_count": null,
      "outputs": [
        {
          "output_type": "stream",
          "name": "stdout",
          "text": [
            "สวัสดีค่ะ\n",
            "Thank youThank youThank you\n",
            "11\n",
            "True\n",
            "False\n"
          ]
        }
      ]
    },
    {
      "cell_type": "markdown",
      "source": [
        "##### Example 12: String Slicing"
      ],
      "metadata": {
        "id": "LKenUgAZj4VK"
      }
    },
    {
      "cell_type": "code",
      "source": [
        "x = 'Hello World!'"
      ],
      "metadata": {
        "id": "xPAh_rG6j22h"
      },
      "execution_count": null,
      "outputs": []
    },
    {
      "cell_type": "markdown",
      "source": [
        "จงหาคำตอบของ\n",
        "![Screenshot (75).png](data:image/png;base64,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)"
      ],
      "metadata": {
        "id": "iOLXwhqLmXMi"
      }
    },
    {
      "cell_type": "code",
      "source": [
        "print(x[0])\n",
        "print(x[5])\n",
        "print(x[9])\n",
        "print(x[-12])\n",
        "print(x[-7])\n",
        "print(x[-3])"
      ],
      "metadata": {
        "id": "QDBlNL-Ij9lT",
        "colab": {
          "base_uri": "https://localhost:8080/"
        },
        "outputId": "9ecd5533-bc32-4cde-b4b0-1009e68c396b"
      },
      "execution_count": null,
      "outputs": [
        {
          "output_type": "stream",
          "name": "stdout",
          "text": [
            "H\n",
            " \n",
            "l\n",
            "H\n",
            " \n",
            "l\n"
          ]
        }
      ]
    },
    {
      "cell_type": "markdown",
      "source": [
        "##### Example 13: String Slicing2"
      ],
      "metadata": {
        "id": "YHkSiRmkTWfz"
      }
    },
    {
      "cell_type": "code",
      "source": [
        "x = 'Hello World!'"
      ],
      "metadata": {
        "id": "I2NpxG5vWvvn"
      },
      "execution_count": null,
      "outputs": []
    },
    {
      "cell_type": "markdown",
      "source": [
        "จงหาคำตอบของ\n",
        "![Screenshot (76).png](data:image/png;base64,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)"
      ],
      "metadata": {
        "id": "Mmf8YKFSVgeF"
      }
    },
    {
      "cell_type": "code",
      "source": [
        "print(x[1:9])\n",
        "print(x[0:11:2])\n",
        "print(x[2:12:1])\n",
        "print(x[3:-2:2])"
      ],
      "metadata": {
        "id": "xEUX_80-TVkQ",
        "colab": {
          "base_uri": "https://localhost:8080/"
        },
        "outputId": "f77f57a9-ce16-4535-841b-4752059b9e52"
      },
      "execution_count": null,
      "outputs": [
        {
          "output_type": "stream",
          "name": "stdout",
          "text": [
            "ello Wor\n",
            "HloWrd\n",
            "llo World!\n",
            "l ol\n"
          ]
        }
      ]
    },
    {
      "cell_type": "markdown",
      "source": [
        "### **04.3_Immutable Containers**"
      ],
      "metadata": {
        "id": "NvIODATkGJvb"
      }
    },
    {
      "cell_type": "markdown",
      "source": [
        "##### Example 14: Tuple"
      ],
      "metadata": {
        "id": "sTjP0Q6qjKzj"
      }
    },
    {
      "cell_type": "code",
      "source": [
        "my_tuple1= (1, 2, 3, 4, 4, 5, 5, 5)\n",
        "type(my_tuple1)"
      ],
      "metadata": {
        "id": "umfQr8xtGTq1",
        "colab": {
          "base_uri": "https://localhost:8080/"
        },
        "outputId": "a4275539-ce06-4b56-f62e-51351ea0c1f4"
      },
      "execution_count": null,
      "outputs": [
        {
          "output_type": "execute_result",
          "data": {
            "text/plain": [
              "tuple"
            ]
          },
          "metadata": {},
          "execution_count": 1
        }
      ]
    },
    {
      "cell_type": "code",
      "source": [
        "my_tuple1.count(4)"
      ],
      "metadata": {
        "colab": {
          "base_uri": "https://localhost:8080/"
        },
        "id": "f81pxuIgjkoV",
        "outputId": "15cc6861-4281-4df4-edfd-a54a2e223bf1"
      },
      "execution_count": null,
      "outputs": [
        {
          "output_type": "execute_result",
          "data": {
            "text/plain": [
              "2"
            ]
          },
          "metadata": {},
          "execution_count": 2
        }
      ]
    },
    {
      "cell_type": "code",
      "source": [
        "my_tuple2= tuple([1, 2, 3, 4, 4, 5, 5, 5])\n",
        "type(my_tuple2)"
      ],
      "metadata": {
        "colab": {
          "base_uri": "https://localhost:8080/"
        },
        "id": "53IZvficjVDb",
        "outputId": "cc900c97-420f-4b04-dd73-469f7b53547a"
      },
      "execution_count": null,
      "outputs": [
        {
          "output_type": "execute_result",
          "data": {
            "text/plain": [
              "tuple"
            ]
          },
          "metadata": {},
          "execution_count": 22
        }
      ]
    },
    {
      "cell_type": "code",
      "source": [
        "my_tuple2.count(4)"
      ],
      "metadata": {
        "colab": {
          "base_uri": "https://localhost:8080/"
        },
        "id": "x11-Sf0TkRVH",
        "outputId": "32327fe3-7a3e-46cc-965b-b17dfcf080d9"
      },
      "execution_count": null,
      "outputs": [
        {
          "output_type": "execute_result",
          "data": {
            "text/plain": [
              "2"
            ]
          },
          "metadata": {},
          "execution_count": 46
        }
      ]
    },
    {
      "cell_type": "code",
      "source": [
        "#Accessing of Tuple: 3rd index\n",
        "my_tuple3= (1, 2, 3, 4, 4, 5, 5, 5)\n",
        "my_tuple3[3]"
      ],
      "metadata": {
        "colab": {
          "base_uri": "https://localhost:8080/"
        },
        "id": "-FCuHM02khto",
        "outputId": "95e98e2c-bd14-42ef-f5e2-ed5722cd429f"
      },
      "execution_count": null,
      "outputs": [
        {
          "output_type": "execute_result",
          "data": {
            "text/plain": [
              "4"
            ]
          },
          "metadata": {},
          "execution_count": 51
        }
      ]
    },
    {
      "cell_type": "code",
      "source": [
        "my_tuple4=(\"C\", \"Python\", \"HTML\")\n",
        "print(my_tuple4[0:2])\n",
        "print(my_tuple4[1:])"
      ],
      "metadata": {
        "colab": {
          "base_uri": "https://localhost:8080/"
        },
        "id": "xK9jDJFbzaoN",
        "outputId": "e1c7cecf-b10e-4dea-e34d-6eed73e561c8"
      },
      "execution_count": null,
      "outputs": [
        {
          "output_type": "stream",
          "name": "stdout",
          "text": [
            "('C', 'Python')\n",
            "('Python', 'HTML')\n"
          ]
        }
      ]
    },
    {
      "cell_type": "code",
      "source": [
        "my_tuple4[:-1]"
      ],
      "metadata": {
        "colab": {
          "base_uri": "https://localhost:8080/"
        },
        "id": "FzQp4ebLli-K",
        "outputId": "b2eedace-ecf9-4649-e8d7-e18af8cbd797"
      },
      "execution_count": null,
      "outputs": [
        {
          "output_type": "execute_result",
          "data": {
            "text/plain": [
              "('C', 'Python')"
            ]
          },
          "metadata": {},
          "execution_count": 2
        }
      ]
    },
    {
      "cell_type": "code",
      "source": [
        "my_tuple5 = (1, 2, 3)\n",
        "my_tuple5.remove(2)\n",
        "print(my_tuple5)\n",
        "#เมื่อกำหนดค่าให้ tuple ครั้งแรกแล้ว tuple จะไม่สามารถเปลี่ยนแปลงค่าได้"
      ],
      "metadata": {
        "colab": {
          "base_uri": "https://localhost:8080/",
          "height": 201
        },
        "id": "D28e3Y1woJaI",
        "outputId": "4ec72c19-b2c8-4d39-f2b2-96086121e909"
      },
      "execution_count": null,
      "outputs": [
        {
          "output_type": "error",
          "ename": "AttributeError",
          "evalue": "ignored",
          "traceback": [
            "\u001b[0;31m---------------------------------------------------------------------------\u001b[0m",
            "\u001b[0;31mAttributeError\u001b[0m                            Traceback (most recent call last)",
            "\u001b[0;32m<ipython-input-4-8477a9e2c928>\u001b[0m in \u001b[0;36m<cell line: 2>\u001b[0;34m()\u001b[0m\n\u001b[1;32m      1\u001b[0m \u001b[0mmy_tuple5\u001b[0m \u001b[0;34m=\u001b[0m \u001b[0;34m(\u001b[0m\u001b[0;36m1\u001b[0m\u001b[0;34m,\u001b[0m \u001b[0;36m2\u001b[0m\u001b[0;34m,\u001b[0m \u001b[0;36m3\u001b[0m\u001b[0;34m)\u001b[0m\u001b[0;34m\u001b[0m\u001b[0;34m\u001b[0m\u001b[0m\n\u001b[0;32m----> 2\u001b[0;31m \u001b[0mmy_tuple5\u001b[0m\u001b[0;34m.\u001b[0m\u001b[0mremove\u001b[0m\u001b[0;34m(\u001b[0m\u001b[0;36m2\u001b[0m\u001b[0;34m)\u001b[0m\u001b[0;34m\u001b[0m\u001b[0;34m\u001b[0m\u001b[0m\n\u001b[0m\u001b[1;32m      3\u001b[0m \u001b[0mprint\u001b[0m\u001b[0;34m(\u001b[0m\u001b[0mmy_tuple5\u001b[0m\u001b[0;34m)\u001b[0m\u001b[0;34m\u001b[0m\u001b[0;34m\u001b[0m\u001b[0m\n",
            "\u001b[0;31mAttributeError\u001b[0m: 'tuple' object has no attribute 'remove'"
          ]
        }
      ]
    },
    {
      "cell_type": "markdown",
      "source": [
        "### **04.4_Mutable Containers**"
      ],
      "metadata": {
        "id": "cMP5qcMquKwo"
      }
    },
    {
      "cell_type": "markdown",
      "source": [
        "##### Example 15: List"
      ],
      "metadata": {
        "id": "jBhtB_XEuWnH"
      }
    },
    {
      "cell_type": "markdown",
      "source": [
        "Creating lists"
      ],
      "metadata": {
        "id": "kF2Wq01wKT6w"
      }
    },
    {
      "cell_type": "code",
      "source": [
        "my_list1 = [1, 2, 3]\n",
        "print(my_list1)"
      ],
      "metadata": {
        "colab": {
          "base_uri": "https://localhost:8080/"
        },
        "id": "YCTocbIJrQaJ",
        "outputId": "185e45b6-233e-4d48-ef1a-2bf71540f249"
      },
      "execution_count": null,
      "outputs": [
        {
          "output_type": "stream",
          "name": "stdout",
          "text": [
            "[1, 2, 3]\n"
          ]
        }
      ]
    },
    {
      "cell_type": "code",
      "source": [
        "my_list2 = list([1, 2, 3])\n",
        "print(my_list2)"
      ],
      "metadata": {
        "colab": {
          "base_uri": "https://localhost:8080/"
        },
        "id": "4h0NmaG34LTv",
        "outputId": "65fc0339-f311-4ac0-ef35-18fbb4d9d897"
      },
      "execution_count": null,
      "outputs": [
        {
          "output_type": "stream",
          "name": "stdout",
          "text": [
            "[1, 2, 3]\n"
          ]
        }
      ]
    },
    {
      "cell_type": "code",
      "source": [
        "my_list3 = list('123')\n",
        "print(my_list3)"
      ],
      "metadata": {
        "colab": {
          "base_uri": "https://localhost:8080/"
        },
        "id": "sm_-zimK4h2C",
        "outputId": "294db090-79f2-4903-f047-4f8c97524581"
      },
      "execution_count": null,
      "outputs": [
        {
          "output_type": "stream",
          "name": "stdout",
          "text": [
            "['1', '2', '3']\n"
          ]
        }
      ]
    },
    {
      "cell_type": "code",
      "source": [
        "#Please count p in the list.\n",
        "my_list4 = list('python programming')\n",
        "my_list4.count('p')"
      ],
      "metadata": {
        "colab": {
          "base_uri": "https://localhost:8080/"
        },
        "id": "mq3HbvtH4qFF",
        "outputId": "1453dd18-bee7-4cef-fb85-e2097bd7766d"
      },
      "execution_count": null,
      "outputs": [
        {
          "output_type": "execute_result",
          "data": {
            "text/plain": [
              "2"
            ]
          },
          "metadata": {},
          "execution_count": 6
        }
      ]
    },
    {
      "cell_type": "code",
      "source": [
        "my_list5 = list('python')\n",
        "my_list5.reverse()\n",
        "my_list5"
      ],
      "metadata": {
        "colab": {
          "base_uri": "https://localhost:8080/"
        },
        "id": "59GTDfL34_EV",
        "outputId": "c2ab93db-e4f7-49bd-d5b3-c58ca3a220f9"
      },
      "execution_count": null,
      "outputs": [
        {
          "output_type": "execute_result",
          "data": {
            "text/plain": [
              "['n', 'o', 'h', 't', 'y', 'p']"
            ]
          },
          "metadata": {},
          "execution_count": 10
        }
      ]
    },
    {
      "cell_type": "markdown",
      "source": [
        "Adding to a list: append(), insert(), extend()"
      ],
      "metadata": {
        "id": "_q1QlfCbspUB"
      }
    },
    {
      "cell_type": "code",
      "source": [
        "my_list6 = list('python')\n",
        "my_list6.append('!!!!!')\n",
        "my_list6"
      ],
      "metadata": {
        "colab": {
          "base_uri": "https://localhost:8080/"
        },
        "id": "7pS5noBr5agn",
        "outputId": "d168d082-7c0f-4e01-bcb8-760c8d429bd9"
      },
      "execution_count": null,
      "outputs": [
        {
          "output_type": "stream",
          "name": "stdout",
          "text": [
            "['p', 'y', 't', 'h', 'o', 'n', '!!!!!']\n"
          ]
        }
      ]
    },
    {
      "cell_type": "code",
      "source": [
        "my_list6 = list('python')\n",
        "my_list6.extend('!!!!!')\n",
        "my_list6"
      ],
      "metadata": {
        "colab": {
          "base_uri": "https://localhost:8080/"
        },
        "id": "nnN16ShjtYSl",
        "outputId": "aed6ecea-fe9a-44cc-8df2-6d4526d2ff9c"
      },
      "execution_count": null,
      "outputs": [
        {
          "output_type": "execute_result",
          "data": {
            "text/plain": [
              "['p', 'y', 't', 'h', 'o', 'n', '!', '!', '!', '!', '!']"
            ]
          },
          "metadata": {},
          "execution_count": 12
        }
      ]
    },
    {
      "cell_type": "code",
      "source": [
        "my_list7 = ['python']\n",
        "my_list7.insert(0,'I love')\n",
        "my_list7"
      ],
      "metadata": {
        "colab": {
          "base_uri": "https://localhost:8080/"
        },
        "id": "xDEov2ubG7z1",
        "outputId": "d7aeb84b-9996-4ddc-fa80-400b13a6b566"
      },
      "execution_count": null,
      "outputs": [
        {
          "output_type": "stream",
          "name": "stdout",
          "text": [
            "['I love', 'python']\n"
          ]
        }
      ]
    },
    {
      "cell_type": "code",
      "source": [
        "my_list_1 = ['I', 'love']\n",
        "my_list_2 = ['python']\n",
        "my_list_1.extend(my_list_2)\n",
        "my_list_1"
      ],
      "metadata": {
        "colab": {
          "base_uri": "https://localhost:8080/"
        },
        "id": "TuV6JOjQGx-x",
        "outputId": "0d22c4b4-e9b5-42e9-b590-c787c5afea66"
      },
      "execution_count": null,
      "outputs": [
        {
          "output_type": "execute_result",
          "data": {
            "text/plain": [
              "['I', 'love', 'python']"
            ]
          },
          "metadata": {},
          "execution_count": 11
        }
      ]
    },
    {
      "cell_type": "markdown",
      "source": [
        "Accessing list elements"
      ],
      "metadata": {
        "id": "itnLxqHYs25W"
      }
    },
    {
      "cell_type": "code",
      "source": [
        "my_list8 = ['rain','cloud','sun','moon']\n",
        "my_list8[3]"
      ],
      "metadata": {
        "colab": {
          "base_uri": "https://localhost:8080/",
          "height": 36
        },
        "id": "GWyR-v6Am_eK",
        "outputId": "dc8c964c-b7dd-4309-aa2a-15e1ddcbc1c5"
      },
      "execution_count": null,
      "outputs": [
        {
          "output_type": "execute_result",
          "data": {
            "text/plain": [
              "'moon'"
            ],
            "application/vnd.google.colaboratory.intrinsic+json": {
              "type": "string"
            }
          },
          "metadata": {},
          "execution_count": 2
        }
      ]
    },
    {
      "cell_type": "code",
      "source": [
        "my_list8[-2]"
      ],
      "metadata": {
        "colab": {
          "base_uri": "https://localhost:8080/",
          "height": 36
        },
        "id": "Bz3BEAuboE79",
        "outputId": "af75f50c-441d-4082-8ded-26402f234411"
      },
      "execution_count": null,
      "outputs": [
        {
          "output_type": "execute_result",
          "data": {
            "text/plain": [
              "'sun'"
            ],
            "application/vnd.google.colaboratory.intrinsic+json": {
              "type": "string"
            }
          },
          "metadata": {},
          "execution_count": 3
        }
      ]
    },
    {
      "cell_type": "code",
      "source": [
        "my_list8[3][3]"
      ],
      "metadata": {
        "colab": {
          "base_uri": "https://localhost:8080/",
          "height": 36
        },
        "id": "ZCDK0oRExTF1",
        "outputId": "53f339ed-d835-42df-bb4d-29c081cb7da8"
      },
      "execution_count": null,
      "outputs": [
        {
          "output_type": "execute_result",
          "data": {
            "text/plain": [
              "'n'"
            ],
            "application/vnd.google.colaboratory.intrinsic+json": {
              "type": "string"
            }
          },
          "metadata": {},
          "execution_count": 4
        }
      ]
    },
    {
      "cell_type": "markdown",
      "source": [
        "Delete from a list"
      ],
      "metadata": {
        "id": "-m_cpAfiu5O1"
      }
    },
    {
      "cell_type": "code",
      "source": [
        "my_list9 = ['apple','orange','banana']\n",
        "my_list9.clear()\n",
        "print(my_list9)"
      ],
      "metadata": {
        "id": "KQE198rovgta",
        "colab": {
          "base_uri": "https://localhost:8080/"
        },
        "outputId": "025abd18-122c-4dc1-b854-9d69031e8e4f"
      },
      "execution_count": null,
      "outputs": [
        {
          "output_type": "stream",
          "name": "stdout",
          "text": [
            "[]\n"
          ]
        }
      ]
    },
    {
      "cell_type": "code",
      "source": [
        "#Remove apple from the list\n",
        "my_list10 = ['apple','orange','banana']\n",
        "my_list10.remove('apple')\n",
        "print(my_list10)"
      ],
      "metadata": {
        "colab": {
          "base_uri": "https://localhost:8080/"
        },
        "id": "U1vasbFXv0ul",
        "outputId": "25bb8ed1-4cb9-4a6f-aeab-084293c70b70"
      },
      "execution_count": null,
      "outputs": [
        {
          "output_type": "stream",
          "name": "stdout",
          "text": [
            "['orange', 'banana']\n"
          ]
        }
      ]
    },
    {
      "cell_type": "code",
      "source": [
        "#Remove banana from the list\n",
        "my_list11 = ['apple','orange','banana']\n",
        "my_list11.pop(2)\n",
        "print(my_list11)"
      ],
      "metadata": {
        "colab": {
          "base_uri": "https://localhost:8080/"
        },
        "id": "6W1yXKC3xLt2",
        "outputId": "914e27a6-53f7-4d38-af31-39947c5bf070"
      },
      "execution_count": null,
      "outputs": [
        {
          "output_type": "stream",
          "name": "stdout",
          "text": [
            "['apple', 'orange']\n"
          ]
        }
      ]
    },
    {
      "cell_type": "markdown",
      "source": [
        "Sorting a list"
      ],
      "metadata": {
        "id": "tsuEf6aSAPd2"
      }
    },
    {
      "cell_type": "code",
      "source": [
        "my_list12 = [13, 2, 7, 5, 11, 3]\n",
        "my_list12.sort()\n",
        "print(my_list12)"
      ],
      "metadata": {
        "id": "xKufyvEKAU8D",
        "colab": {
          "base_uri": "https://localhost:8080/"
        },
        "outputId": "b0bab5b1-6daf-42a2-8df2-e61bf367e36f"
      },
      "execution_count": null,
      "outputs": [
        {
          "output_type": "stream",
          "name": "stdout",
          "text": [
            "[2, 3, 5, 7, 11, 13]\n"
          ]
        }
      ]
    },
    {
      "cell_type": "code",
      "source": [
        "my_list13 = [13, 2, 7, 5, 11, 3]\n",
        "sorted(my_list13)"
      ],
      "metadata": {
        "colab": {
          "base_uri": "https://localhost:8080/"
        },
        "id": "eCBuP0n9Aoar",
        "outputId": "364b2371-a6eb-4668-dc03-c3afd3133b00"
      },
      "execution_count": null,
      "outputs": [
        {
          "output_type": "execute_result",
          "data": {
            "text/plain": [
              "[2, 3, 5, 7, 11, 13]"
            ]
          },
          "metadata": {},
          "execution_count": 55
        }
      ]
    },
    {
      "cell_type": "markdown",
      "source": [
        "Let's try\n",
        "\n",
        "![Screenshot 2023-07-11 232022.png](data:image/png;base64,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)\n"
      ],
      "metadata": {
        "id": "Vx1Cy67JnN1W"
      }
    },
    {
      "cell_type": "code",
      "source": [
        "## write your code here\n",
        "x=[]\n",
        "x.append(9)\n",
        "x.insert(0,False)\n",
        "x.remove(9)\n",
        "x.copy()\n",
        "print(x)"
      ],
      "metadata": {
        "id": "39k_DD98mq_S",
        "colab": {
          "base_uri": "https://localhost:8080/"
        },
        "outputId": "85c3c071-4a2a-47bb-a23b-c6c79383126d"
      },
      "execution_count": null,
      "outputs": [
        {
          "output_type": "stream",
          "name": "stdout",
          "text": [
            "[False]\n"
          ]
        }
      ]
    },
    {
      "cell_type": "markdown",
      "source": [
        "##### Example 16: Set"
      ],
      "metadata": {
        "id": "Ugh6j_smuecn"
      }
    },
    {
      "cell_type": "markdown",
      "source": [
        "Creating a set"
      ],
      "metadata": {
        "id": "L0REwsclKenX"
      }
    },
    {
      "cell_type": "code",
      "source": [
        "my_set = {\"python\", \"C#\", \"MATLAB\", \"SQL\", \"SQL\"}\n",
        "print(my_set)"
      ],
      "metadata": {
        "id": "hCilEbOLuhBa",
        "colab": {
          "base_uri": "https://localhost:8080/"
        },
        "outputId": "5785983d-06cc-42e9-914f-25b8d9358871"
      },
      "execution_count": null,
      "outputs": [
        {
          "output_type": "stream",
          "name": "stdout",
          "text": [
            "{'SQL', 'MATLAB', 'python', 'C#'}\n"
          ]
        }
      ]
    },
    {
      "cell_type": "code",
      "source": [
        "mylist = [\"python\", \"C#\", \"MATLAB\", \"SQL\", \"SQL\"]\n",
        "my_set2 = set(mylist)\n",
        "print(my_set2)"
      ],
      "metadata": {
        "colab": {
          "base_uri": "https://localhost:8080/"
        },
        "id": "hW4ezRaCJmjU",
        "outputId": "a22afd1f-3020-48e4-f567-6de4147c877f"
      },
      "execution_count": null,
      "outputs": [
        {
          "output_type": "stream",
          "name": "stdout",
          "text": [
            "{'MATLAB', 'python', 'SQL', 'C#'}\n"
          ]
        }
      ]
    },
    {
      "cell_type": "markdown",
      "source": [
        "Accessing set members"
      ],
      "metadata": {
        "id": "THZmfUiJKiCk"
      }
    },
    {
      "cell_type": "code",
      "source": [
        "my_set3 = {\"python\", \"C#\", \"MATLAB\", \"SQL\", \"SQL\"}\n",
        "'python' in my_set3"
      ],
      "metadata": {
        "colab": {
          "base_uri": "https://localhost:8080/"
        },
        "id": "1ixVyAyAKPqa",
        "outputId": "23444fa5-bb80-4785-b659-e2f50e84edc2"
      },
      "execution_count": null,
      "outputs": [
        {
          "output_type": "execute_result",
          "data": {
            "text/plain": [
              "True"
            ]
          },
          "metadata": {},
          "execution_count": 59
        }
      ]
    },
    {
      "cell_type": "markdown",
      "source": [
        "Adding set members"
      ],
      "metadata": {
        "id": "y3PNrFB4L1on"
      }
    },
    {
      "cell_type": "code",
      "source": [
        "my_set3 = {\"python\", \"C#\", \"MATLAB\", \"SQL\", \"SQL\"}\n",
        "my_set3.add('HTML')\n",
        "print(my_set3)"
      ],
      "metadata": {
        "colab": {
          "base_uri": "https://localhost:8080/"
        },
        "id": "GKYyfBdNLGqC",
        "outputId": "93823f38-6f6b-4717-bce8-755a5f81b44f"
      },
      "execution_count": null,
      "outputs": [
        {
          "output_type": "stream",
          "name": "stdout",
          "text": [
            "{'C#', 'MATLAB', 'HTML', 'python', 'SQL'}\n"
          ]
        }
      ]
    },
    {
      "cell_type": "code",
      "source": [
        "my_set4_1 = my_set3.copy()\n",
        "my_set4_1.update('C++')\n",
        "print(my_set4_1)"
      ],
      "metadata": {
        "colab": {
          "base_uri": "https://localhost:8080/"
        },
        "id": "528WKeeYPhpv",
        "outputId": "22b2238f-09c5-4dd3-ae29-96c7df3a541c"
      },
      "execution_count": null,
      "outputs": [
        {
          "output_type": "stream",
          "name": "stdout",
          "text": [
            "{'+', 'C', 'HTML', 'SQL', 'MATLAB', 'python', 'C#'}\n"
          ]
        }
      ]
    },
    {
      "cell_type": "code",
      "source": [
        "my_set4_2 = my_set3.copy()\n",
        "my_set4_2.update(['C++'])\n",
        "print(my_set4_2)"
      ],
      "metadata": {
        "colab": {
          "base_uri": "https://localhost:8080/"
        },
        "id": "DfQsp7cWMYjW",
        "outputId": "9f443bc7-e728-431b-cc41-7802872f47c2"
      },
      "execution_count": null,
      "outputs": [
        {
          "output_type": "stream",
          "name": "stdout",
          "text": [
            "{'C++', 'HTML', 'SQL', 'MATLAB', 'python', 'C#'}\n"
          ]
        }
      ]
    },
    {
      "cell_type": "markdown",
      "source": [
        "Removing set members"
      ],
      "metadata": {
        "id": "WCNdizL8NR6u"
      }
    },
    {
      "cell_type": "code",
      "source": [
        "my_set5 = {2, 3, 5, 7, 9, 11, 13}\n",
        "my_set5.remove(9)\n",
        "print(my_set5)"
      ],
      "metadata": {
        "id": "XyvvkZKlNW8-",
        "colab": {
          "base_uri": "https://localhost:8080/"
        },
        "outputId": "4199744a-f6ef-4c35-b0c7-b421a2442421"
      },
      "execution_count": null,
      "outputs": [
        {
          "output_type": "stream",
          "name": "stdout",
          "text": [
            "{2, 3, 5, 7, 11, 13}\n"
          ]
        }
      ]
    },
    {
      "cell_type": "code",
      "source": [
        "my_set6 = {2, 3, 5, 7, 9, 11, 13}\n",
        "my_set6.discard(9)\n",
        "print(my_set6)\n",
        "# discard will not throw an error if you try to remove an item that doesn't exist"
      ],
      "metadata": {
        "id": "GFconBrKOkXT",
        "colab": {
          "base_uri": "https://localhost:8080/"
        },
        "outputId": "2bc50b05-2a27-4701-c727-e00ed7cc6606"
      },
      "execution_count": null,
      "outputs": [
        {
          "output_type": "stream",
          "name": "stdout",
          "text": [
            "{2, 3, 5, 7, 11, 13}\n"
          ]
        }
      ]
    },
    {
      "cell_type": "markdown",
      "source": [
        "Clearing or deleteing a set; empty set"
      ],
      "metadata": {
        "id": "FWrNIcfKQ0hp"
      }
    },
    {
      "cell_type": "code",
      "source": [
        "my_set7 = {\"sea\", \"beach\", \"sand\", \"sun\"}\n",
        "my_set7.clear()\n",
        "print(my_set7)"
      ],
      "metadata": {
        "colab": {
          "base_uri": "https://localhost:8080/"
        },
        "id": "BGLazcS4QqvE",
        "outputId": "2d5d659e-3718-4195-818b-7e38b35585e2"
      },
      "execution_count": null,
      "outputs": [
        {
          "output_type": "stream",
          "name": "stdout",
          "text": [
            "set()\n"
          ]
        }
      ]
    },
    {
      "cell_type": "markdown",
      "source": [
        "Set operation"
      ],
      "metadata": {
        "id": "VJSxlTpORuWQ"
      }
    },
    {
      "cell_type": "code",
      "source": [
        "my_set8 = {1,2,3,4,6,8,10}\n",
        "my_set9 = {3,4,5,7,9}"
      ],
      "metadata": {
        "id": "UBoDo2JORxJb"
      },
      "execution_count": null,
      "outputs": []
    },
    {
      "cell_type": "code",
      "source": [
        "union_set = my_set8.union(my_set9)\n",
        "intersection_set = my_set8.intersection(my_set9)\n",
        "diff_set1 = my_set8.difference(my_set9)\n",
        "diff_set2 = my_set9.difference(my_set8)\n",
        "print(union_set)\n",
        "print(intersection_set)\n",
        "print(diff_set1)\n",
        "print(diff_set2)"
      ],
      "metadata": {
        "id": "obEchtEVSEfd",
        "colab": {
          "base_uri": "https://localhost:8080/"
        },
        "outputId": "53015f8b-bd66-49f6-a33a-f9b35e1b55c0"
      },
      "execution_count": null,
      "outputs": [
        {
          "output_type": "stream",
          "name": "stdout",
          "text": [
            "{1, 2, 3, 4, 5, 6, 7, 8, 9, 10}\n",
            "{3, 4}\n",
            "{1, 2, 6, 8, 10}\n",
            "{9, 5, 7}\n"
          ]
        }
      ]
    },
    {
      "cell_type": "markdown",
      "source": [
        "##### Example 17: Dictionary"
      ],
      "metadata": {
        "id": "brPn8nbCuhZy"
      }
    },
    {
      "cell_type": "markdown",
      "source": [
        "Creating dictionaries"
      ],
      "metadata": {
        "id": "CQsjJehJMFaI"
      }
    },
    {
      "cell_type": "code",
      "source": [
        "my_dict1 = {'one':1,'two':2,'three':3}\n",
        "my_dict1"
      ],
      "metadata": {
        "colab": {
          "base_uri": "https://localhost:8080/"
        },
        "id": "GyC21HhfYbBM",
        "outputId": "75a6b069-50d5-4a39-dbee-731ee12c2b2e"
      },
      "execution_count": null,
      "outputs": [
        {
          "output_type": "execute_result",
          "data": {
            "text/plain": [
              "{'one': 1, 'two': 2, 'three': 3}"
            ]
          },
          "metadata": {},
          "execution_count": 72
        }
      ]
    },
    {
      "cell_type": "code",
      "source": [
        "my_dict2 = dict({'one':1,'two':2,'three':3})\n",
        "my_dict2"
      ],
      "metadata": {
        "colab": {
          "base_uri": "https://localhost:8080/"
        },
        "id": "ZuuFXwgNMrRg",
        "outputId": "2540d066-eb0c-4847-c428-876aedba537a"
      },
      "execution_count": null,
      "outputs": [
        {
          "output_type": "execute_result",
          "data": {
            "text/plain": [
              "{'one': 1, 'two': 2, 'three': 3}"
            ]
          },
          "metadata": {},
          "execution_count": 73
        }
      ]
    },
    {
      "cell_type": "markdown",
      "source": [
        "Accessing dictionaries"
      ],
      "metadata": {
        "id": "x0eCj7SAuGgt"
      }
    },
    {
      "cell_type": "code",
      "source": [
        "my_dict3= {'first_name':'Angkhana','last_name':'Prommarat','organization':'BDI'}\n",
        "my_dict3['organization']"
      ],
      "metadata": {
        "id": "TOG15DZ1NWZ0",
        "colab": {
          "base_uri": "https://localhost:8080/",
          "height": 35
        },
        "outputId": "7c495717-b00f-4299-a229-97d9baffa7eb"
      },
      "execution_count": null,
      "outputs": [
        {
          "output_type": "execute_result",
          "data": {
            "text/plain": [
              "'BDI'"
            ],
            "application/vnd.google.colaboratory.intrinsic+json": {
              "type": "string"
            }
          },
          "metadata": {},
          "execution_count": 74
        }
      ]
    },
    {
      "cell_type": "code",
      "source": [
        "'last_name' in my_dict3"
      ],
      "metadata": {
        "id": "GBcqLgRwul_W",
        "colab": {
          "base_uri": "https://localhost:8080/"
        },
        "outputId": "8b324dd5-36f1-4d28-fde1-8cc3bc5fb633"
      },
      "execution_count": null,
      "outputs": [
        {
          "output_type": "execute_result",
          "data": {
            "text/plain": [
              "True"
            ]
          },
          "metadata": {},
          "execution_count": 75
        }
      ]
    },
    {
      "cell_type": "code",
      "source": [
        "'nick_name' in my_dict3"
      ],
      "metadata": {
        "colab": {
          "base_uri": "https://localhost:8080/"
        },
        "id": "mFXXHiYzOF3S",
        "outputId": "57aacf0a-c73e-4bec-ff95-008afc037004"
      },
      "execution_count": null,
      "outputs": [
        {
          "output_type": "execute_result",
          "data": {
            "text/plain": [
              "False"
            ]
          },
          "metadata": {},
          "execution_count": 76
        }
      ]
    },
    {
      "cell_type": "markdown",
      "source": [
        "Keys Method"
      ],
      "metadata": {
        "id": "8txtXswvOo0q"
      }
    },
    {
      "cell_type": "code",
      "source": [
        "my_dict4 = {'Cat':'แมว','Pig':'หมู','Rabbit':'กระต่าย','Elephant':'ช้าง','Bird':'นก'}\n",
        "x=my_dict4.keys()\n",
        "y=my_dict4.values()\n",
        "z=my_dict4.items()\n",
        "print(x)\n",
        "print(y)\n",
        "print(z)\n",
        "\n",
        "# print(my_dict4.keys())\n",
        "# print(my_dict4.values())\n",
        "# print(my_dict4.items())"
      ],
      "metadata": {
        "colab": {
          "base_uri": "https://localhost:8080/"
        },
        "id": "YOzDMxXPUoml",
        "outputId": "50e74cbc-c37f-4725-b1f6-18bcce4446f6"
      },
      "execution_count": null,
      "outputs": [
        {
          "output_type": "stream",
          "name": "stdout",
          "text": [
            "dict_keys(['Cat', 'Pig', 'Rabbit', 'Elephant', 'Bird'])\n",
            "dict_values(['แมว', 'หมู', 'กระต่าย', 'ช้าง', 'นก'])\n",
            "dict_items([('Cat', 'แมว'), ('Pig', 'หมู'), ('Rabbit', 'กระต่าย'), ('Elephant', 'ช้าง'), ('Bird', 'นก')])\n"
          ]
        }
      ]
    },
    {
      "cell_type": "markdown",
      "source": [
        "Adding item to dictionary\n"
      ],
      "metadata": {
        "id": "rd7uQIRWdrIE"
      }
    },
    {
      "cell_type": "code",
      "source": [
        "personal_info = {'first_name':'AngAng','last_name':'Pro','organization':'BDI'}\n",
        "x1 = personal_info.keys()\n",
        "x2 = personal_info.values()\n",
        "print(x1,x2)"
      ],
      "metadata": {
        "colab": {
          "base_uri": "https://localhost:8080/"
        },
        "id": "t0SHNw3COMG4",
        "outputId": "79393983-428a-436a-b6d7-2f44e22e4605"
      },
      "execution_count": null,
      "outputs": [
        {
          "output_type": "stream",
          "name": "stdout",
          "text": [
            "dict_keys(['first_name', 'last_name', 'organization']) dict_values(['AngAng', 'Pro', 'BDI'])\n"
          ]
        }
      ]
    },
    {
      "cell_type": "code",
      "source": [
        "personal_info['email']='angkhana.pr@depa.or.th'\n",
        "print(x1,x2)"
      ],
      "metadata": {
        "colab": {
          "base_uri": "https://localhost:8080/"
        },
        "id": "kq7lehOseA-0",
        "outputId": "92c19957-c48c-41e8-93be-33dd183ea2a5"
      },
      "execution_count": null,
      "outputs": [
        {
          "output_type": "stream",
          "name": "stdout",
          "text": [
            "dict_keys(['first_name', 'last_name', 'organization', 'email']) dict_values(['AngAng', 'Pro', 'BDI', 'angkhana.pr@depa.or.th'])\n"
          ]
        }
      ]
    },
    {
      "cell_type": "code",
      "source": [
        "personal_info.update({'tel.':'020262333'})\n",
        "personal_info"
      ],
      "metadata": {
        "id": "_2wjafmptULX",
        "colab": {
          "base_uri": "https://localhost:8080/"
        },
        "outputId": "78c1f9df-a5e6-4f46-e12c-d7cc63eea7d1"
      },
      "execution_count": null,
      "outputs": [
        {
          "output_type": "execute_result",
          "data": {
            "text/plain": [
              "{'first_name': 'AngAng',\n",
              " 'last_name': 'Pro',\n",
              " 'organization': 'BDI',\n",
              " 'email': 'angkhana.pr@depa.or.th',\n",
              " 'tel.': '020262333'}"
            ]
          },
          "metadata": {},
          "execution_count": 80
        }
      ]
    },
    {
      "cell_type": "markdown",
      "source": [
        "Deleting item from dictionary\n"
      ],
      "metadata": {
        "id": "uCUc64sEgmuf"
      }
    },
    {
      "cell_type": "code",
      "source": [
        "personal_info2 = {'first_name':'AngAng','last_name':'Pro','organization':'BDI'}\n",
        "del personal_info2['last_name']\n",
        "print(personal_info2)\n",
        "#key, not return value"
      ],
      "metadata": {
        "colab": {
          "base_uri": "https://localhost:8080/"
        },
        "id": "dOFiwsS_g2PQ",
        "outputId": "761e511f-57a7-4ffd-bf4c-f8e040367370"
      },
      "execution_count": null,
      "outputs": [
        {
          "output_type": "stream",
          "name": "stdout",
          "text": [
            "{'first_name': 'AngAng', 'organization': 'BDI'}\n"
          ]
        }
      ]
    },
    {
      "cell_type": "code",
      "source": [
        "personal_info3 = {'first_name':'AngAng','last_name':'Pro','organization':'BDI'}\n",
        "personal_info3.pop('last_name')\n",
        "print(personal_info3)\n",
        "#function, return value"
      ],
      "metadata": {
        "colab": {
          "base_uri": "https://localhost:8080/"
        },
        "id": "QBQD8DOdOvAq",
        "outputId": "b1b8bbf8-1aea-4bc6-e2ab-91acddb93e56"
      },
      "execution_count": null,
      "outputs": [
        {
          "output_type": "stream",
          "name": "stdout",
          "text": [
            "{'first_name': 'AngAng', 'organization': 'BDI'}\n"
          ]
        }
      ]
    },
    {
      "cell_type": "code",
      "source": [
        "personal_info4 = {'first_name':'AngAng','last_name':'Pro','organization':'BDI'}\n",
        "personal_info4.clear()\n",
        "personal_info4"
      ],
      "metadata": {
        "colab": {
          "base_uri": "https://localhost:8080/"
        },
        "id": "PzeLGkpgRl0N",
        "outputId": "7bf113c1-784e-4d55-9223-0b17da048b81"
      },
      "execution_count": null,
      "outputs": [
        {
          "output_type": "execute_result",
          "data": {
            "text/plain": [
              "{}"
            ]
          },
          "metadata": {},
          "execution_count": 16
        }
      ]
    },
    {
      "cell_type": "markdown",
      "source": [
        "Modifying item in dictionary"
      ],
      "metadata": {
        "id": "p6FBjzLh0RmF"
      }
    },
    {
      "cell_type": "code",
      "source": [
        "personal_info5 = {'first_name':'AngAng','last_name':'Pro','organization':'BDI'}\n",
        "personal_info5['first_name']='Adisak'\n",
        "print(personal_info5)"
      ],
      "metadata": {
        "id": "yNO-jug9UFej",
        "colab": {
          "base_uri": "https://localhost:8080/"
        },
        "outputId": "c938eff1-48d3-458c-f8b8-6ad77a613c7e"
      },
      "execution_count": null,
      "outputs": [
        {
          "output_type": "stream",
          "name": "stdout",
          "text": [
            "{'first_name': 'Adisak', 'last_name': 'Pro', 'organization': 'BDI'}\n"
          ]
        }
      ]
    },
    {
      "cell_type": "markdown",
      "source": [
        " ### **Exercise 2: Data Types**"
      ],
      "metadata": {
        "id": "wUX3GVAVAgyI"
      }
    },
    {
      "cell_type": "markdown",
      "source": [
        "1. กำหนดให้ A = 'Big Data Institute' จงหาคำตอบของ A[5:-5:3]"
      ],
      "metadata": {
        "id": "uQjyg0KwA2RR"
      }
    },
    {
      "cell_type": "code",
      "source": [
        "# your code here\n",
        "A = 'Big Data Institute'\n",
        "A[5:-5:3]"
      ],
      "metadata": {
        "id": "cooz7suYBOBs",
        "colab": {
          "base_uri": "https://localhost:8080/",
          "height": 35
        },
        "outputId": "b40de912-9b57-465c-d809-391f98209f2f"
      },
      "execution_count": null,
      "outputs": [
        {
          "output_type": "execute_result",
          "data": {
            "text/plain": [
              "'a s'"
            ],
            "application/vnd.google.colaboratory.intrinsic+json": {
              "type": "string"
            }
          },
          "metadata": {},
          "execution_count": 86
        }
      ]
    },
    {
      "cell_type": "markdown",
      "source": [
        "2. กำหนดให้ B = ['Yellow', 'Mango','อีโต้'] จงลบคำว่า 'อีโต้' ออกจาก list\n"
      ],
      "metadata": {
        "id": "J-kFundyBRBe"
      }
    },
    {
      "cell_type": "code",
      "source": [
        "# your code here\n",
        "B = ['Yellow', 'Mango','อีโต้']\n",
        "#B.pop(2)\n",
        "#del B[2]\n",
        "#B.remove('อีโต้')\n",
        "print(B)"
      ],
      "metadata": {
        "colab": {
          "base_uri": "https://localhost:8080/"
        },
        "id": "uIXzxc_V0Lyp",
        "outputId": "38e6deaf-0336-4b79-a05b-331f9a526a87"
      },
      "execution_count": null,
      "outputs": [
        {
          "output_type": "stream",
          "name": "stdout",
          "text": [
            "['Yellow', 'Mango']\n"
          ]
        }
      ]
    },
    {
      "cell_type": "markdown",
      "source": [
        "3. กำหนดให้ C=[3,5,2,4,8,100,1,6,5,7] จงลบเลข 100 ออกจาก list แล้วจัดเรียง list ใหม่ โดยให้ผลลัพธ์เรียงลำดับจากมากไปหาน้อย"
      ],
      "metadata": {
        "id": "d2Nuw9_kFEud"
      }
    },
    {
      "cell_type": "code",
      "source": [
        "# your code here\n",
        "C=[3,5,2,4,8,100,1,6,5,7]\n",
        "C.remove(100)\n",
        "C.sort()\n",
        "C.reverse()\n",
        "#C.remove(100) C.sort(reverse=True)\n",
        "C"
      ],
      "metadata": {
        "id": "plGk0f95DOg0",
        "colab": {
          "base_uri": "https://localhost:8080/"
        },
        "outputId": "d192477f-df8f-440d-cffd-5df0760149f6"
      },
      "execution_count": null,
      "outputs": [
        {
          "output_type": "execute_result",
          "data": {
            "text/plain": [
              "[8, 7, 6, 5, 5, 4, 3, 2, 1]"
            ]
          },
          "metadata": {},
          "execution_count": 19
        }
      ]
    },
    {
      "cell_type": "markdown",
      "source": [
        "4. กำหนดให้ D = {'Banana':'กล้วย','Mango':'เงาะ','Durian':'ทุเรียน'} จงจัดการความหมายของผลไม้ ใน Dictionary ให้ถูกต้อง"
      ],
      "metadata": {
        "id": "WgD5kz16Gng6"
      }
    },
    {
      "cell_type": "code",
      "source": [
        "# your code here\n",
        "D = {'Banana':'กล้วย','Mango':'เงาะ','Durian':'ทุเรียน'}\n",
        "#Deal with key:\n",
        "D['Mango']='มะม่วง'\n",
        "\n",
        "#Deal with value:\n",
        "#D['Rambutan']=D.pop('Mango')\n",
        "\n",
        "D\n",
        "\n"
      ],
      "metadata": {
        "colab": {
          "base_uri": "https://localhost:8080/"
        },
        "id": "ZEB4Y2W1G6xE",
        "outputId": "c9bdc0be-61d1-496b-f106-947198c1d686"
      },
      "execution_count": null,
      "outputs": [
        {
          "output_type": "execute_result",
          "data": {
            "text/plain": [
              "{'Banana': 'กล้วย', 'Mango': 'มะม่วง', 'Durian': 'ทุเรียน'}"
            ]
          },
          "metadata": {},
          "execution_count": 33
        }
      ]
    },
    {
      "cell_type": "markdown",
      "source": [
        "5. กำหนดให้ E={9, 2, 3, 4, 5, 6, 8}, F={2, 3}, G={3, 8} จงหาผลลัพธ์ของ (E $\\cap$ F)-G"
      ],
      "metadata": {
        "id": "A8BU4b535htL"
      }
    },
    {
      "cell_type": "code",
      "source": [
        "E={9,2,3,4,5,6,8}\n",
        "F={2,3}\n",
        "G={3,8}\n",
        "X = E.intersection(F)\n",
        "Y = X.difference(G)\n",
        "Y\n",
        "\n",
        "#print((E.intersection(F)).difference(G))  #อีกวิธีรวดเร็วกว่า"
      ],
      "metadata": {
        "colab": {
          "base_uri": "https://localhost:8080/"
        },
        "id": "NPZhNNg34pKO",
        "outputId": "522729a0-38dc-4987-c47c-745d5c602ab5"
      },
      "execution_count": null,
      "outputs": [
        {
          "output_type": "execute_result",
          "data": {
            "text/plain": [
              "{2}"
            ]
          },
          "metadata": {},
          "execution_count": 35
        }
      ]
    },
    {
      "cell_type": "markdown",
      "source": [
        "# **05_CONDITION**"
      ],
      "metadata": {
        "id": "p3-m3D3i19eu"
      }
    },
    {
      "cell_type": "markdown",
      "source": [
        "##### Example 18: Conditions"
      ],
      "metadata": {
        "id": "enORkeBnXS6B"
      }
    },
    {
      "cell_type": "markdown",
      "source": [
        "If-statement"
      ],
      "metadata": {
        "id": "_wdrAqy0DOiR"
      }
    },
    {
      "cell_type": "code",
      "source": [
        "p1=5\n",
        "if p1<10:\n",
        "  print('p1 below ten')\n",
        "if p1>3:\n",
        "  print('p1 is greater than three')\n",
        "if p1>7:\n",
        "  print('p1 is greater than seven')"
      ],
      "metadata": {
        "colab": {
          "base_uri": "https://localhost:8080/"
        },
        "id": "PNGqmoARloaR",
        "outputId": "a94b8c09-4794-4441-ced0-79bc9532eb6b"
      },
      "execution_count": null,
      "outputs": [
        {
          "output_type": "stream",
          "name": "stdout",
          "text": [
            "p1 below ten\n",
            "p1 is greater than three\n"
          ]
        }
      ]
    },
    {
      "cell_type": "markdown",
      "source": [
        "If-else statement"
      ],
      "metadata": {
        "id": "ERogesA0DU-j"
      }
    },
    {
      "cell_type": "code",
      "source": [
        "weight = int(input('Fill your weight:'))\n",
        "if weight>80:\n",
        "  print('You have belly fat.')\n",
        "else:\n",
        "  print('You don\\'t have belly fat.')"
      ],
      "metadata": {
        "colab": {
          "base_uri": "https://localhost:8080/"
        },
        "id": "YQrXAs2riSlJ",
        "outputId": "80af7691-65a6-45c0-a027-414a4afc8a7c"
      },
      "execution_count": null,
      "outputs": [
        {
          "output_type": "stream",
          "name": "stdout",
          "text": [
            "Fill your weight:4\n",
            "You don't have belly fat.\n"
          ]
        }
      ]
    },
    {
      "cell_type": "markdown",
      "source": [
        "If-elif-else statement"
      ],
      "metadata": {
        "id": "kXrS9JRzDZ7Z"
      }
    },
    {
      "cell_type": "markdown",
      "source": [
        "จงสร้างโปรแกรมเช็คค่าฝุ่น โดยสามารถ input ค่าความเข้มข้นของ PM$_{2.5}$ ($μg/m^3$) เข้าไปได้ จากนั้นให้แสดงผลลัพธ์เป็นค่าคุณภาพอากาศตามช่วง เช่น คุณภาพอากาศปานกลาง ดังตารางข้างต้น\n"
      ],
      "metadata": {
        "id": "dzOZPTTLfcSi"
      }
    },
    {
      "cell_type": "markdown",
      "source": [
        "![Screenshot 2023-07-09 184456.png](data:image/png;base64,iVBORw0KGgoAAAANSUhEUgAAAUcAAAFgCAYAAAAo4LvlAAAAAXNSR0IArs4c6QAAAARnQU1BAACxjwv8YQUAAAAJcEhZcwAAFiUAABYlAUlSJPAAAIt5SURBVHhe7Z0FgJTF+8e/u3u7e919x3HFFd2tlIqCCKjY/uwWu7uwFRAVWxFQWrq7u667u2+75v/M7h7litz5J+6YD46377w9zzzPPM+8884rMZlMDBcDxsBPLJFIbMsCwcWGKqStTtoWBZc3ErPZfBGMI0Pa5oVYme6KRx8aCzfZxbHPAsEJzDosm/MzGjpegzuHxUJCjbfg8kZq/3uBkFg9RYmEoTzzMLbuTIHOYl9lx7b+ZDorzIjy4hI0nHmQC4Cqvh5NWoPVzTjbZTKzEbVVVdAZzLZ7sue3WexyOWcZXeo03wPJ6diBrTiQVWH1Hk/SfJ+AurYShSXV+H9xJ5gF1aUlqG6kOuQQBpPRBF6zm8//bzCzAWUFeahX6e05f8dsMoL7Q2eXXfM9S2AxqFFcVIaLFF9eVKTNhXC+k1Qqga6xBoWFhZSKUFRQhPo6i9U6n9iOKkR1SQaW/7UQi1dsQEWT6bRjnJ6kMOlq8Mrd92D+sRoH689fokLDj288iOF3v4HknCKUVatOKNmZyVCbjWdH9cIzH85CUXER6tR66/6Otr30kxR6dS3y8nKRk5tDKRtFpVWwMEfbXvpJSqanoaoUhQUFKCopQUlZEUxwOlEnT6+zBVjyxYu4+9Gf0WhyfLyWJGbS4vMnH8TnK9Mc1h2LoQHP3Hgrpq85hqIiqmM1VMdOMVqOkrkxFy/f1A+zt6fStUsdbKPHilfvwAMvzUQx1cXi8irSuDO3kcCobUIB3TM/b8aO3/D4g2+j0XLSoF4uSfbWW2+9za2kDQZVXS2a9GaYtSryjMxwdpZTXjXqG7WQO7vAiSoMs5hQV12FBpUWCsqz6NWorq6FWSqHs8LJfigz6qsr0aQzw8XFxRqmpKz/Fe9/PhML5i/AgWINevYdhqtGdIXS6r9KoFeV4q3nn8TKbYexY9Vc/LY2FcOvGgk/N7n1kM1YTHpUV1WjSa1GfnYeYgcOQ6BUTdejg7OLKxkfvhWDuq4GNfUqyJTOkMvoJNRa19dUob6hCRK5EgonGRlYFSora0gpZHBWymEy6KE3MjjROqqi0OuoZZfy7fRgMhlVaiM09LtjRz/sW7UM6zdtRaEpDH2SgiF3IsWic1sMOhhM1OaTN2JReCIh2hfrl/+F5as2QxmciNhQb8hoWyp/GPV6OreUnGC+D6NjyGh/A12DxXoNTXQPdfUNMDIZXOj6mjHROaoqq2Ck67blM+iaGlBTWwcdnbso9Shy6kxwlRrQQAbZ2cXZapRNBi3tVw0dHd/F2ZnK0gAjbS/j90vlY6DrYXS/tAK1NdVobFJTWTlTWZGh12mRu3c9pnwyDctWrcbGjRuRUkJy7NoZzk7k6dD1W49D12KgMrLQ+ZiRPBW6Ol1jHWob9VDyumDSoaa6GhoT4OqssN6PVV71tahtUFvrlIwK0mLUoobk3Ej1TKawydCoo7pWVQuTxOlEXWP8eFQWKq0Jzq4ukDJeP2k/jYHum5Z5faD610THr6tvQn1ZPg4dzYa3vytWf/slpv3wKxYsXokGsxsGjBqPXhHuMFlIOWjHU+vs/iIVuve+kupsFxgbqlDXpIOSrpXXGd7Mm/lfkpNMRvdN9V+vM1qNFC9TKcnbYjTAQOVuIN3i+pKfk4OArgPRyQekXyfv26YLDchK2Ya/lq/Fvh2bkaVyQ8/EaLpnXr4kfz3VF6piTlQmZqo71RSdqFRNKMzKQOSAaxHibEaTxggXNypvXkiETt2I+tpCrCa57d69G/vTi9G/Xy8oSWa8IeC6oTXLUJm2FS+//QU2b9mELfuS4RraBWPHXAFniQWNVCfqGjVkC1yttoBj1UeqU2o9L3+qZ9Zcfo16qrcS6zWSMqCOZNl8n04yhkaq2yfkTTLT0/5cLyykY1x9eFnoqM4xrh/kwVZRmalIpgrScX5ILZVRTU09YNdljpn0uaqqBlojyO4o+UVQ5FYNlYFZl61Vgep2PdWPhiYVyvNSkZJbj5CQAHvZn4LFYmE8ccqPr2FX901ineLiWHxcJ5bU/xo2b/4PbHSfKBYZ2ZHd8eJ0VqdVsXlv3cc6d+rE4uKT2P9e/pJNefA6ltApmnXrdyPbm13J8tKOsoLcI+yJq7qwqKh49uK361htwW42aVRXNrD/UNalcyJL6HoVW3qs1nru5mQy6lhlVR3T6nSs4shfLNIzmi3el09XdnIbbUU6e2jCUBYb24l1io2jY//FSg4uYFd0j2edYuLYKzNWM4vZyDbMepvFRsWwTnSd3Qddww7kVrFtMx9liQm2e+s26g52sFjFvnrjXjpWLEsaNJZtKdCwFd8+w6564mtWb6DqrS9jT950C1uRUsienXQnm3esgW2Z9xmLjOrE3pm1ielLd7NbJz3KckrT2MTb72KHKvV0rUa2+5s72QMvvs3mvHQn69F1FFuV1sj2LfmKDRnxPFu35FfWq8+DLKOGTkB89OI97Lk/D7DpL05gMT2uZCsOl7Hjf7zKJk5+j2377SnWIymWxcfHs7jEAeyLRQeYuqmOHTl8jB3asJANoPvo3PNatja5hlVk7GQDenVjCbRtJ5JFx9gu7JMPX2Q9uyawmMgo9szXK5i+MY+9MH4Yi+sUx+K69GfTVqezTT+/zW57fiZrNNHFqAvZM7fcypYdr2Brv3+OJSXEs/hOsazTqLvYzpxS9tNrk9j/psxnDdWZ7MkHbmI7MkrYwRXfsOseeo/Nm/Y6u+el35ia35Sxmr17/+3slw3H2ezXH2Ajhw1h3bslsejISPb4R7+zBdOfZlHRsSwqviebsSaFleVnsbTUNPbZC7exjpGxbMzT01hFTQl75sZR1vuJ7xTDel99C9ufV8q+f3qUVX7dB11llWljyXF27/gRdM9xJP8YduPr37P9y79n/ROoznaMZ5M/XcHUJjPbteBD1rNzAu0bx0L8fNgNT09nK395hyX0GMaG9uthPc+YB99n9ep6NvW5CezRr9axOgd1dtnxWpaz7XfWJz6CdR8+kR0sqGCP3ncr+2zVYfb8vWPYF2tyeQmw+vwd7Lbbb2MHju9id0+8kx2soDr53cus14B+rEfvniyOrvWGZ75klfm72dj+Xagux7L735jFzGYTXetHLCk+hiUk0Dk792EL9qSx6j2/sqvueYHVm+ngFj1b/MEkdv/H80hnqtkrk65hMXRfMXGd2T2fr2CH133PEuNiWXRMJ/bkVxuY3mJmhTv/ZCO7JLCExESW2HUE+3NXEcvfu5j1TYpkt73yDVMVbWM3jhzF1mRVsnefnMCmrslhOtLDqpQl7O7bnmSVehNbNvMlFhNNehcTy/pecwdLLmlixqYS9ua9o1lsXLz1/A9/uYJpeV0ifnjvEfbUj7uYtqaAffjgMKtd4fd9/X2vsaLkteyqgV1YbGQEu+uN71ht+mp297i7WE6dmq37+g320NuLWH15Grulz0j2xY9/stFX9LbVbSqn6+5+hlVU5bNnxw+iuhHNht3wDCtp0LHCw6vYdUO6Ul2ga4mOYW/8uIKt++ZV1jWK9KFTdzbtr0PMZDGyPz9+0FqH4qhe+XoFsxe+Ws3IoTjNFvF0IqyGRYM/v/kSsgH/w6dvPosX356CK9ySsbdAgSnfzMP3nzyBgwtn4sCBXZj952KMuP81/DFnFu6+ti+ueeBtzPvzJ/RxzcTCtXux5Ze38fz0LXhmxjx8+sINmPvxS9iTSeFLTh5irrkNv8+dhTGdVHjvnZ9RbzzFjXVSIsDfm1oyKZIP7IQlKgGRwdSskr23bkOty6pfP8bqPF/M+O0P/PjJU1j79TQcNCfhy5/+xLdv3oRVv89GfmUOPvtiCW59/VvM//NXDHXPx6e/LEZg56sw49e5WER5V/mW4JYH3kDnax/FX38twKjAWrzxzXJUVJUjp8zWr0S+EEry88mTNtDfAtRSq9W590D0c20gj7UEcuiRk5MPLXlxpQWF0JG3wa9VXZuPgopGDL39drjL8pBZroK+vhrpGcVobKhFRkbRib7WqrJCFNRoMXDYNajLyUBpRT30jWXILy6Fa8QIfDD1B8z+40+89+RVmPLI3ViydR+ennQVFuV74MfFi3HrAClefncqtJ6RePXdKZg6bSpef+AKeLqHY9R1t+K7X+bgq2fHY9Mf3+Dgtr+wJrUGr3/xA3795hP0j/JEUw2dq7SG7pVjRHFBPupVRsQNuBmffvkFvvj0A/So34HPvlmDmIgwZG5ch/Q9a7F83kas2J2FQ1u3wS0wBlJtNQrL6sgTVuPw3t04cOQYDidno7yyCFXSWHz23Sx89fJtWD97GlySxmHegj/x+CAv/Pr9d0jd8B1uuud5DL7tFfwx811ULZuBH1bnYNjdT+OHX2fjj7m/YWxwNV587zv0uu0DLJg3C/28KjBrxU6sm/URdlSF4fs/F+KXT55E5m+f4YghGl/9tgBfPDcaK7+bjtTDW/DOqzMw5rEPrPVhbL9YqCTOMKgqUVrZgLtenorfvv0AlVt+we97KkgmFGLXNJGnp3FQZ3/C6jUbkC/tiddffwnhbhaUFeajokmL0uJsVKlsfYiM9s0vLIJWp0FBHtURcp+bqouRW6LH029PxZwfPkbxpj+xrsAV7379O36d+hT2LZmL/fm5+PC9n9Dzvk/x5/w5eGywD6Z+M5fqiwo5RWXkjdPBKTVUFqCqphYpf7yJ1RUe+HnuIsx8+y6sf/shHFR3ws9/LMYHT43HL69Nxk7yPG+/6UHE3PIsFiyaj8euD8Qjdz+OGu+uuHVYB+Qd3oev334dedIA9A73QXkRyY3qgFKphJO2Dnm5RdCXH8K0GWsw+ZMf8OecmYis2oQvf1+O7b+8gTnHJZg5dwGmvnIzFr/zErZl1lrLoKayGKUNehxaNw8f/VmKpz4jD5321Scvw29HZfh4BpX3ly8iddXvyJN1IE87jexECdasX4y/Vi7EnkOHsLNRh+ikeDzw7Lv45fc5+PP3mfAt2Y6Xv6Z7enUaFsydAZeiLVh5MAezPp2C6ogbMXfhQnw5eTzmzfgY5u7X4uf58/HydUH45afZyN09Dx/8vB/Pffoj5vz0OXp1IE9VafPYm+1Qc5KSgacQgFRDU42D2WUYdtXVGHf7g7j3lqsR5CuF1DOAwt++GNS3N8LdVVArwnDT7aOxcMabeP6taVDLg9GrX19069UPfeKCUFunwxXXjcbhw3shDUsid/xaeCgakFteT+6zO8ZfPxo9unTDwG4x0JQXUAhoO/+J6yA1zdj4HZ74fANemToD3cI8TllvRnlBKdS6Evz47Qw0dBiEaLkBNQhBz9490G/QFfAw16GqopgEU4cjq3/E0l3luPH6wagtq0f8kAkYTmFEUo+BePCh21C4dxucAmLRObErkrpGIrmgHAYeAzZ3PtNfKiP7ddFfiRQ1+WnYVOKLu267FtQgc7NN662rCdv1W405FXblwdVAh+tw/6Ag7qLzLa3/7Ae17sGRSBVIPXIYvlc9iOuviLUaZr5tefI2THn1RXwxay9G3HQH+ppKkVUK3HNVBA7uP4SYuCSMvnoo8rKTkXV8J75+7wX87+678e4P21DTWAmjdwz69u6FgVcOgM5sgEv8VRiSJMfLTz+KqbM3IzDA23oerm/8sjhW3WNG7Fs1B889fC/ue/Q57MypQm1OBZKGjoBUdxhzZi+Gf1IvrF+xAGuOZ2DYsN5QSi1UPoChoQzfffEFdmVlYguFb7UGBXqPnICRA3pj6JWDIKHw261jF/Tt1RMDBndBXV0TYoZPQIQqEyUGD/QdMhyDImVIST6G5X9+jxdefBUphhDc9cCdyE07DnlML3Tt0Q+Dunihsk6F+O690OSsRHyXrhg0chQSXcwwuoagb7/eGEj10ktfgZqSAhQWq7Bn5Sz8/lc6BvbpTOEnNWYGI7xi++CaEYPQrecAxIZYUFRRZ72P5vKQKc+osxVF6Na3B8wFa/DSq++ioJGCPnsB8l2sP4nm31Yx238wahADo6/A1cOHolu/IYh0cUKF0cdad3v2G4ogaQNqZcGIiXWDzDMcXbv2xNhxV0JXXgeVifch2g9M8HoHchYKso6gujQf3372Huq8E9HNrxJ6hTcG9KLy6J1EcinC8b17sb+iMx685050TuiMsdeNQUN1BgpL8vHbX8cx4aGH8diU7xFtzsa3mzKs3SrWc9lOxJ9MwFCbh8ryamye9zXWH6zH+Cs6o5J0qvPAIQh1kiAuPh6DBg9HuKwENfVq2650rcxsQhe6V1+vBmjkvujafwS6xvoiX+eGnr36kLyHwMXVggZZCAZGR2LDol+QXu6OaG0Gfvl5CQLiRyHBW4M533yIl9/6EAjvg/9NGoq9Bw8jvGsfdCVnJSlYCfJFkNQzlmJpTyR164KrxoyCFymzS0gS+vTphUH9+wGVVSjNS0MeNSqrfv0KGzJl6N81CLnFZTCTbE7aGVuy9fbxkqC43dtFjuKcQmj1Rph50E/YZWH7SztYyHhcTa3axqWzcWVEFV597S0UqG1b8ephof0CEoegU30yFmxJw77te6GxuCMi0JPvbk22bf+OxazDxtnv4cbHP8HNz3+C23r4wGA02dcStBPvu2Tkdvn6B8FNQRXGvsr613oCqjb8OnlNdPGDn7c7reD3wqhCVKJJraUWSo2M5BS4+AfC09Xe58V3pc14UfBO+kpSWp2qFrQ5XBS8T88MnVaD4hIyvF4JCPBRQlVXA51cBlfe9aVVITe/AlqNGuW1ashlEmQfToenTyi1QGY0NqkAdw+4KhWQGmvRoNJAXUdeVXUtpGRYSqmiRiV0hzt5o7XVdXROBWpzj0Pn3hEP3zkMDQXpyIYLAoJDcO0d96L2yE5kFhdj797DiI7tij2rlyA/6Eas37UP86e/gA6udNfNhU03R7EYzDJPvDljCRbPfAfSrIV44uP5MECG+uoiVND98j6/Jqolkvo0/LZkNR74fAH2bl2F+6/oCkYVTdmxH7rLVfhmTQHuf+lZuKXMw44cDwyKD6AK7g51TTF0yjB8Nu0zMl5JePTJ+xGk5LXCdh3NjcxJaJl39Pt2w6ihEVi5YRfyM5NxuFSKmI7BOJScjk6j7sTgaHekHT0Od28/+LjYerT4oSz0j7f4FAJZD8WPzkdCNNP8i5+folEo3L0R4Odx2ja2jU4uc/nzuqTX6aih5A0arbWv5n8kdK6d2/dD2fV2/Pb9VETISJZqA/w8PeHm7IbcgiKotDpUleRSjfGCh7Oc6pUZarXafv8nz2U93olFWylJeP3l1pYrGs/lF0AoPX2haGqkKEMFbVM18ouK4eXhTsVHjQFtExgcBnc6F8dqOO3woypdlVRzylBWWQ29Xm972k4HVteUokhlQYegIMg9guHn5orqOj2kMoWtD5Hqcm5mntXr5aVtIt1WegbC19uVluggVFgymdTa59jQqKFD8v5Wo7VPX6euRXUteZB0KUYykIwMuVVOdpqv0DpkipKZ6mF3aiznT/sU8t43Y/INsVi6dDV6j7kK7roKHDieiisnPYgIFwOSU3IREtgRbs2PN/jR+OVIqW40l5v136k053AbRg20rz98PZ2t99As8zOxhtVWlIG4487xWPnpkxh3y134cfUhOg4pVPMZ6MYs5NMb69LxzM3D8AyFBjuOVsDJwwfOctsxLOQFWqgQ3L3DMahnCN6+/QpMenUmJr7wOfpHelmtM+nCiW152MrLptmNrUlZjaee/RiZFRosnPo8rhw2Ar+tP3piPceoAxJH3IVPPvkIg6LcYaKCbz4mv3GzdZmUxjMRr3/5NZ6482rrQxTeCbt55qO47oaJuP2WCXh0yho8+cpbSApxs+9qtioDP0bN7rmYeP04TBh3GwoCEnBFfCACPDV495FboA/uhaH6jfjfzRNx3S1PI6LXIES6mmFpzMMz1w/DDRMn4pnvszBo6DgMu+NmlO75DjffNgnPf70M45+7DwP69cHAsDQ8dtsEjBk+DEu2ZVOFZbhy+Ggc+PZxjJ9wI+4lr/maUWPh7+uOooz9+PKDlzHx9ifQYdxkTByRhMBe1yPSKQXXDe2P6asrMOXNJ8kYxaBi7+946e0voPYOhoeSmw47dO9cMSv2z8OkCTfgk+/mIb1UC+9AX5ANR8GOn3H92LG4YcK9yFFGYGD3RHT0d8GvH7+JGQs2INCXPEwLhYsyfwwY1gdBkVfimuH9cXVMMEITEhHm44Guo26APG8hxo8djzHjJyHfOR7X9oyGiSrriaG0JBeuIKddFxcek2PY1SOw7qunceXoe+A34j48dEM3BDADdi/6CU8/cBMe+ng57n3sEYS7cuNIBpHkbLLuS8pAcuNn4F6w2cjrle0MvLEzU31k5AlLvCLx7Jsf4cUnroeSj6u1Vkbal+qhdWe+F12bCQqEBIVi16/vYemePKvxOrXOkkYgMakrjGlL8To1ELffdCPq3fpj0pA43DZuDLa8dzfG33QTbr7rLcRdfRtiw4OpMczGUy9+gOI6Ix2LkvVodK1WnbIfnLCYqR7xy6F8gz2fWYwwcQ834VpcG1qCCSPHYuK4cZi61Ru3XH0FjGR0e189CdO+/ALDEkJ4kdLxm++fjkcZHfuMwD1jnfHkHWNw8+1P4UhhHV8Jn+g+eHRgBN54+BZMGj8am8ud8L+ru2LEgH6Y+9admDB+HK557CvU8Guh47iF9MJ7077Eg7cOs5YDo/Jw9Y2EueYAJt3wIqqcI6leROGzZ/6H8eS5fbfkEJk8PX6f/glKq5SICuSRCkHHMtrrhNVkWesIEJPUFyFKOfqMGoWRY0chKLgjxg6Oh5OCdJQin6U/T8X9N4/G1E1lePGZ2+HOjSMd0Ew788aPl5uRbp0fWUL1wsTrBTcwBG9EzLyukCH379QXH3z8OR68vqf1QZCJsq372O3MiUQ72/YmzEYt0g/twfHcKnTqMxiB5jKYvGIQFeIDs64eaakZCIlJQn3BMRxKKyBPxAM9yK1OCOP9gmaUZKdR2B2EuAh/1ObnIK2wFF5BHZHQKYKa4kakpqQjLL4H/DzkqCrIRlGDFF06x0Jhe9BEIVk5jiTn0g1S0VPiFxZJ3lTHIC/bBiTQMjpHNXyRFBtCCqtDxtFM+HXqjEAPGV1jLZLTysiTCkNeVjGiu3aBOzWmjSVZKNK4oKO3Gdt37kMteZ4d43uiX484KKzSohA2PxP5Wg90dFOR222CuaqArs+I3v0HIz7Cj8L5DGQW1JAb3wfmiizsPnQcWoUvhg4dghB3C44czyYP0oDU9AK4ByVg0MDO4E5p9tGdOJhcCM8OiRg2uCdcSDHrClKw40AqpBT2hvlK4BzUCXEBcqQe2IvUggp4h8Zh8IDukOmqreFzfnktfINiKAztTZ4TrxEW5KceQ1G1GmHRiYgK8yWZN+Lgzm3Ib5Rh2BV9UV1UhIiErvB0doJJVYVj2RXoFBuK9IP7kFVSAze/CAwZOhCSugLkV6mgqS4j5dWhK4VAiSS/+tI07Nh1GM4hcegS6IZaoxsSEyOgqsxHXoMCXeNDUJeXjEqTD+Jjw0kJeJdHGvbuPw6j3A+9B/ZHZJAnyrJSoXYORqcOfjCTN3E0owjRSUnwJi+nqSwH6VUWdEuKAdPW4hiF6BalFxK7xMOTGtwK2vdgWhqatDKSZQ/0SIymusKNIxl6OnedNBgRnkYkF6nQoyvJ0qwhDzMN3lGJCPF1hb6pEqlpxYiMDkV+NtWLbp3hReVXXZSDgiYFIryMyKlh6Nk5BnIyi1mpR6EM6QxfSzVSqf6ERUdRORQi9Mw6mxCOvOSDOJpZCClFJ/0GDEREkAcpnhYZpD9Hc8vhweXVvyfdpxTZJKtKA69/UlSqZFTn+fkMSD+eBs/IeIR581EDKqQcy0ZYUjc05B2D0TMWcWHuFM4WIbXEQCF2DLTVBdi5az/qDHIkdhuIzp0CUZd7mPQhCIkxoaS/aqQdPgTf2J4IpYZV31iBI+RlxXfvC1dTFbZv341ylRJDBvdAYVEFunTvCndzLXZso/xGE7r3H4Kk6GAYNfXYS3WprIkMVkInSPVAQqw/MrOqEEcNJ+qL8PW770I66H+YPGkgso8fRWW9E3oN7AYndQmdZy+apD7kkXrAI5hk1liIco0repK+OVMInpt+HGbvSHQK9gCjaz6emoPw+M7whIbK4DhCEvsiUKnBcZJdTGICnCUmKsPDSONeLFzRpXdfJEVRRGbVXRNyUlIgD46Dm7YYxWo3qpuhkGjrcDSV6lrnJKsOqKvykVGiR3SIElnlWnTrHG/tCirKTIHKJRQJEQFkEPnxTnKacRQIBIJ/w9hYjCmPTMQ+j9vx1zdPWbuQ2iO2DhyBQCA4R+Sewbjt/scwYUQPu/fWPhGeo0AgaDHW/kzwgfLt178SxlEgEAgcIMJqgUAgcIAwjgKBQOAAYRwFAoHAAcI4CgQCgQOEcRQIBAIHCOMoEAgEDhDGUSAQCBwgjKNAIBA4QBhHgUAgcIAwjgKBQOAAYRwFAoHAASfereb/P3WmXoFAILicOWEcjSYzKqprrTPgCgQCweXOCePIpxSvrW8UxlEgEAiIU4yjGTV1wjgKBAIBRzyQEQgEAgcI4ygQCAQOEMZRIBAIHCCMo0AgEDhAGEeBQCBwgDCOAoFA4ABhHAUCgcABwjgK/hNSqQwKheJEcpLZqpSE58vlkJ4xblYikUKu+Hu+4EIggRPJpFlWcvots3+VXypzgtzJyfr7VLh8ef7lKC0xCFzQanhdKUrdjy2HMmG21iIJfIIj0a9vb8jrM7F2bzb6DR+N2ABn6/a0A2oKU7BmdzYGDBuFmCBXwLqf4ELAjCrsXL8K2TUmLgpInZToGJuE3t1iUHl4Gw5WOeGaa4fDU8asYpHAgoLDm7CvRIbRo4fDg2zn5SQu4TkKWg03jtUF6di8MxlmJ2dIDA3YtHwepv+4FJmF+di0djXWbj0Is93vkEmM2Lt+GVZt2oOSegPliob4QsKMehw/sBXHsivg6eaG2uIs/PbtVCzechhVGQewcsUKbEutJq/fJhdjUwXmzl6KrXsOQ2cmaV1m4hLGUfDfIFfC4hWBa8dNwL0PPYknbhuBmtJUFFRpIHNiSDu6HyV1OmsYXZd7GNsO55M/IoziRYMCxfBOvXDzTRPx7LOTcU2MEpnpeTBKyC3UNWDjmo2o1pCEKJzOPrYfmfU6ayN4OXr4wjgK/h9gsJhNaKqtQFpWHpjMGa7OckilUujq87HreD5tYsCeHdtRruL9WNw4Sqx/ueLxfshTu3P4b74vT6fmC/5/YMwCM8mrrDAHGdV6KF2d4SSxQKZQoD51K47kVsIJGuzZexhMqeR72HYkOdlkx2VIv+2ys2e1O2RvE/yHhVoUrU4vKqPgnOF1pSz7GPYfOoi9u7Zj05YdyK81Y8i1NyHJqwkH0+vRr1cMDh4rRnQHVyxbth2d+vVFQ1UtuvTqidq03VizaRsOpuTB3S8Evh7OMGvrsWHtehxOzkBKeg6Yqz8CvVzsZxT8F5hRi4O7t+JwahY2bd6MbXuPwuwVjQnjrgbLP4QchKB/BHn75QyxblVYtqsI11wZg8IyA4Zc0Q9lybuxen8RIsL9kX9oO5av3YT9x7Kg8AxCoK+b/SztB+E5Cv4b1KhaPKNx3+NP4aUXX8A7b7yE20Z0hZx7J0yGzv2GwqsxBT/9tgga3wSM6NUJMmp/LSYjGiyu6DNoMPx12Zj/1ybozIC+qQZbDiTDs0MsOifEIMDzFM9F8P+ABTE9huPlF57F66++gvdeeQJ9YgMpl4yBiw+uGzMSdem78d3clfCO6YXOQe4kYgmacndhzoKVWLPtKHJS9+PreVsRltQXSf4aLF7yF5oMPBZoXwjjKPhvcOMoc0FwSCjCQ4Pg6eZiVRL+vNNiNsMjMAKDuoSjpLAcfYcMRrCHDBaLGVKFB4aPuALd46MR4OVKIZ1teI/ZZIDEpMax/XtxLKsERttZBP9P8Nn+nd28EB4WiqAAPzgrnCgCIHlRvtnM4JswFF3C5EjO12PQwF4gaVnl5RyQiNtvugbOZCgLcwrgHz8Ewwb3xvDR4+HJGihi0LS7qFMYR8F/wt03CAlRoZBLyRie+MyGBS4efoiLiYSr0gVDRo3EwIGDcEWPaMiVbugUEwUvNyeqfBak7lmHFceMGDtmOJR0DHf/SDx438O4Y/zVkBbuxuyVO6G3tDef5CIhlSMsohM6BHmRrKj5so3iI8sogWdwR8R04B6kAlcMG2YdatUjNgTOHoGIiQyHq3cgfN25F2/7aoDChcJoig4YGUS5TGo1rO0NMc5R8N8gJeP91VL74O9meLXiCsjzuUfIPRObi8JgpnwwI1J2r8HsFYcx4qZbMSA+DAo6hMFkgZHWu9HC/uU/Y7M6Bi/dOw4uMhFa/3/AvflTH6ycgHuOVMQyuxy5iKybWLtH6LfUCTVZu/HyzIO45/pILNyQhYceuh3ujcmYtfo4Hnr8CQS5Sbl42w3COAouPFTHNBW5+GbmLyjTSeDl7go3vw5ICpahBl4ozzwKrYHBYFZi7B13oV9MAIXq7Ujr2iIks9rcw/h49jE89fg4JK/8A1szKq1jWIeMvQVjB8TbN2w/COMouChwT1Kv15NXYjN6EokTFHKZ1XPRqRpQr9bDyzcA7kqZ1TMVXHyYxQydwQxnZwW4g1lXXQOm9LCG2+1RRsI4Ci5JeD20V03BpQrJiAxIu/XpxQMZwSWJMIxtgHZsGDnCOAoEAoEDhHEUWLG9rnf+u1QkdB4ZpfMJPwe/n3YJhbK8X/ZC9H7ZXhG0L5wPTtzLpdmVJ4yjgBTAjJzkgziYUgDjeXzPgStBRV4K9h/NOn9jF5kJBRlHsfdQBgztbewdlZ9ZXY19e/ajsE5vzzwfSCA1a3Hs0AFkVarPU42QQFtfge079qGkWsUXLzmEcbzM4Y12ReoOzPh+NnIbTJDxd1tOtSm8X8meYWvhbW++8LxTW3z+k09o0DwQ/G91nTaQ6Kuw8LdfsPZIMXkMtEzZfPsz9+HHPvUaHC+fzDh1mU+EoKnIwc/fzcSOtHLrdbUbTBpsWvAjZq3YDZmcJGW9b/s6wrps/83v28LlYbaXrb0cmmXG33rh41AdFRAVIWqy9+CHXxeg2kDr+TZ07BP72CXl8PynXAPlWJdPcup6qj/MgL3Lf8f389dDY7JmXlKIiScuc5ihCUvnzUa1W1c8cNMVyNm3Dmv2lyImLgrOMiDr0FYs2V2ATrGRMNWXYO2KxZi1aCWO51bCyz8Egd6ukFiMSD+yB38tXoIV63egQi1BUGiodSB3M7xaFR/dimV7izDhlhsR5mrGri2rsWDhX1i7fR9q1EB4eAgsqlLMW7ASzCscwb6uMOvqsWrJQuSrvRAd7gOJSY/da5ZgZ54OcdGhcGJG7N6wDDsya9ApKgJOFAoGhodDlXsAewpMGNivM+SnqGtbpr7wGL6btQ5XTvof+gabsZDKCYExCPRQQmKowoIFy6Fyi0CEjxNyj++j9YuwaNUO1JKBC48IhysZVENTJbasX4P5ixZi17FcSFz8EBrodXr4bFJjw4JfUenRA7dd0weNZTlYtmQRFi5did3JeZB7+KJDsA8Ob1mBDUeo3OMioKDwuODYdvyxNgWRcdFwo3OpqnLx+9zlkPlFIMTHFZraYiz4YyE07h0Q7ucGuYsnogJl2LhhJ4I790G4t31S5EsE4Tle1kigodAmPacSUV17wFXhhNL8DOw7kgM9I8+OexCF2dh9LBMNdWX4+esZWH+0Ep2TkiCpTsPU6TNxtLgWW5fOwvQfFkHrHIS4qEDsWTUHPy3eAq3ZfhrCYlBbp8BSBCUiLtgTBk0jMgoqERSdgK7Rgdi/ej5+X30AGrUK+/cfQlGNhvsWMBu1OH74IFLzq62TIzAyxIUph7E/o8z+po0ZuWnJOJKaA4PVSyEPx8kTfft3RUNBMrKrDY6cozZJUVY6apTh6BwTRk5kIw4ePIyyRqPVkWMUBh8/cBC5NToUHN2Cj6b+jFqJF3p1Dseh9QvxxeytqCzNxYyPP8SKvVmI7NQd3uZazPziC+xILT3NODaUZmPdwWp079MDSvLwq8uLUKpVoEu3HgiWVOL3n3/CwVIdinNTse9oHoy8rlAhV5fmYNv+NKgNNm9V31iDXXsOoLSaWj66SJO6AYd370JuFYXRBJdvSFwPRHiZsTOliOR7aQlKGMfLGarQ6sY6VGicEBkeYFUQXslPD5d5+CtFY00xUkr1GDX+JkwcPx533jIeHvpSJGdVwKLXQOYTjhtvvhG33XYbxg+ORHFGBpr09jnA6RhN1YXYl1qJHoMGwkMpg9IzAKOvHABvuQVK2jcpLgCZmbSPgfeB2kJuG6RCdGEnr8l6kdZtmuHrTnv+QjbSJ6gDZCYtynl/1iWmdK2ltKwabsGB8PN04a9DWx+gnS4rKZWVDOnpmbD4x+KWW27B+BtvwQ1XJiFj5x7UaIzQklGN6T4Et08aj3vvnIhAhQa5+cWQNR+H9s84cghNXpHolRgJi8mEyISeGNYt3BpSR3XrCy+LCgfSSsBkstPOb5MLF4Q9j5ZPW0/wh2UnckhOMldvhPq6o5AaSuMl5uAL43gZwyupmcJUE3OCkrzGZrhpOrVK8/ptNppJGY3Ysvg3vPvZt0ivNlEoRR6h2QnhQd4wG7TQU+3mH2TycHO1vgHTXNf5sXKO7YfKKxqDu0dZlbokdQc+mv4T9qYXI+PoPhxILSPls1jf6W3Gdg2nXskpWJXuH9bRmaUyZ9rEAqPB5lm1dfjrkwajyfpRrJNP4m1yOvX2+G+j2QxTQzF++OozfPbrFhjlCvIs9XBy9UBQgDNUjbYZdJyUCrhQOMz7Jm0HIeNmrCdvMAdJ/Uaho58LGU0z1s7/FV/N3YjC4mJsW78JFWoj1RtbWCDh8johM9uPM4v7TAN5cgPe/yije3KCQas7TfaXAsI4XsbwuihXuMJZokeTRnuikmvV5aho4J82ABpVjXAiw8kfoDCqvbE9huB/t4xDjL+zfXv6H4WzZyqEFco384c3umrs2p2MhF79EeGjtHqChZmpMDpH4+HJT+L5557DpOFJkNKh5EpnKKUGlFVUwkJeiF7VgEa1CW5e7pCQF2N9TY2Mg762BBqDic5hhFqng0yqgIyMq8nEL0oCg77ROp+kh5ttJpm2Dr8rN2dnko2eGiF7f4VFg+zCcvDHaCZ1HbRmC5yd5bSCtnbyxKgx5Mlf1xPOJ7Sc8vmBHGEyWldVU6OV0+CEq0f2hJJbPkMjUnMK0H30LXj6ySfw+quPI97PmUJgKdzdXKBuKEIdGUspbVtTWQ8ndzc4yyXWmcZ5rZBKDOS9V1s9Ur1ODY2ZwZlaVbOZzkeHl1gMaFLr4OHtDvklZo2Ecbycodrp4ROAcG8pcrKLwVVO5kRGRleGn6Z+hHfeex9L95ZiQJ+e8HEmA6nwRteevZEYFw1PVzkZVtunWKUy2+c+mx0E/plPhVKO2ozN+HDaHKQe3o1sjRsG9UmwToLLjWxYTBxcjAWY8dmnmLXhCHkxrtZ3q119QnDt0M44vmEu3vtgCqZMn0UhYjeM7BOCpb9Pw2+bMiGVO0NXmYFPPvkU7300FYdKLejdty8ytizEF98vJyPBUJydCYmbHzoGe1rvs+0jQXhkMPSVJSivVZHRkUGplCFlzY949/0peOOT3yGlULpvrLd1nXdgB/Ts0RUxEQFQOFFkQPLgXRFOciUtk8vPmzNqfKyfaaXGcdWPX+LPlduxc+dB+ER2RrdAhbUhkig8EB8ZgZS1c/Dx9O9xtNwAV1clnMj0deszCB2U5fjq0yl47713sfxwDa4fOwLy+gy89vYMZFbrrdseXD8P70z5BF/8tAiK0J7oHCTFL5+8jfXHS6GvL0dBjRpdEiLomJcW4t3qyxwJhVvr5nyNlTlSvPrSk3DR1aBOQyG0WUVhVA08AoIRFx0BmUmHkvIa+AWHwJ0MpdmoQ1lpJRmzQLhCjcp6A4JDg0jx+EOeSlSpgSAfF9Q1koLILajXMoTSejl3Rwn+YKWiqAC5JdXwCo1BRy8JanRAWLA/nVuPMlpXWFYNuYcfYqIi4eOuQH11JYWIXpBpaqCicN6sqbZ29vuFdkRsRBCMqlrU65wQ6NpERncaTAnX49nbryDvpD0YR/Loq3Pw6TsfIWjUg3jk+p4oKimH0kWB8qJiNBmkiInrhCBfD9RXlaNBJ0FYaCCcqLw1DdUoq9UhLDwI6uoSGOTeCPH34k/JUFpYBrmXL5xNKuhlbjBTGUrc/RHo624/K3nhmgZkZ2WjjuTTKSkBrJFvE4BALwXJugrZuYVoNDCEhEehY5g/efhalFY0wNfHA1VV1WSYnVBZWgItc0ZMp07w95Cjurwczj7+KNw5DzPXleCZV55DjK/ykmrHhHG8zOHy1lWmY8bMeQi5YhJuG5ZkG+vIQyJSLN532DzjCt/WXl2s2OoKX7YbvFO241gXKdxq7sE8dV+O9eNM/BzW8ZF8+dRj2N/YoWUzX2nNsy1bN7RlWL2h5mu0rTfj8MZFmLslB/c8+hg6h3par7A9QMEqUjbNx5xdtbj/iUfImJCvRUVjm0uTjz+19fOeLH/7ndMyz+HLzTI7ucq2zI9+kpPrm5HKZNYwk/cLN6+yHZ9kwKMH+sXldFJ+trrSfC22flLezXJSluqqXMyY9h18+96A+8YNvOTCWGEcBVbUjfXQMzm8Pd3I4Ngz2yJkaFWNjXQvMvh4ebTte3GAxWxAfYMKCjcv63RubRmTXou6Jg3cPb3hwp/uXWII4ygQCAQOuNQ8WYFAILgkEMZRIBAIHCCMo0AgEDhAGEeBQCBwgDCOAoFA4ABhHAUCgcABwjgKBAKBA4RxFAgEAgeIQeCXMEaTCSaTfU5EgUBwQRHG8RKGv4fa/F6zQCC4sAjjKBAIBA4QfY4CgUDgAGEcBQKBwAHCOAoEAoEDhHEUCAQCBwjjKBAIBA4QxlHQRpBA5uQE2UWc2lsms32Fsa3APzXhRGUmBqC0DmEcBW0Ci1GDfVvW40B29YlvmFxQLAYc3L0Zu5LL6fxtwdpI0FRZgBUrVqO8wWDPE7QEYRwFbQAJGUc19mxcg73ZVRfcOEmkMkiZCft3bMDW5FL+Tau/Q16aTCaDkz1dbG+Nj15uKMvB0mWrUNqobxPm/FKjTRtHs0kPA/+w+6nwWmmxQKtRo0mlgkanP0WZGPR6PYwmh9VbcKlBcjQaTdbXKHlSevjA1fpx43P3HS0mI9RqXhc0MNq/fHcqFjquTm9wbPA4zILijGTszyzHiLG3Y+KgCOt1nQZVL01tEXbv2omtO3diy459KGkw2le2HpOqAvPn/IrdqSXn/KEwi9kMk1GLw6t+wZb0agQHBcBJvGXVKmRvE/wHf01NS4akzbwhY1Jj3dyvsexoLXp2S4RcyiuABPqGEqxcPA9zFi7D6nUbsOtgCqpVEkRGhkNhbsSs779HkSQU8R18aWtRaS4WvJ411zTr71OSDYaK9F34+c+VOHDwIPYfPILUjGx4xPRBv7hg6ydZHe93Ek11AebN+g1/LFmOdZt2IL1Cj06JcXCzfz1eYtZg/eLfsWhDKmJ69oCX3JZ/En5cCw6snodfVu5AdXUNcjJSYXAPQWyot9U74+eVktdYV3AU3/80B3uTc8gQGxHUqSvCvRUnPlXKsV6n/TfnxLXbl23Y8yiZVSX4ffZ8yMO6oldssLWR/9s+9mXrT2bAgfULsWDlduw7fAhZRZWoaWhCr0HDEebjcnLfvxfVyXX2ZUEbNo4NhUcxc9Y6FJVWI6jrAETyD4IbmzD/x2+xNrUKvfpfgauG9IVcV4GtG9ajRuqLnp0CsW75SkhDu6JnbCBVBGEcLwYW8myK8gtgkrvBWUZGsLQIebRcVFoJjcEMN1dXyGVS68fkyyproTcY4eoViP6Dh6B/1zh4Kxntn4Ocwkoo3DxgbKhAYWUjPDw8Tjyw4f+vK8kgY1WLwSNHID5Yib1bNqDWLQ69ov1pvQXpu1bjlwWbUKNXYtDIofA91TiSx1hZUojSGhU6xiciNsQHqoY6KLzDERcRgPqKUuQXlKBJZ4IzXa9PYAf4owa7Mxtx98MPorO3AbnFlXDx8LTei1FTj7yiCsg9vKHk8RozoyA7w2rAJHJneLgpeSbqK4uRnV8KM11fcWEJJJ4h6NerG1yhQV5eLrLz6JwaPeTOVHZyGQyNVcgvq4GbpzeMqmpk5FcgKKITuvfqh8TIMHj7BiEpsRNYYyWyc/NRVFYBLTm1rm5u1g/+cyTMhJK8LGTll8EkkcPdzaXdfdK2NbRR42jBnvUrkdzkgU7+ZiSXSDC4TyzqUtdh9qY83PjQ05g4rAfCw8PRtXsPhMqrsXpbKuK6d0P6gd1wi+qFnjEBwjheBHj9MtbmY+a3P8AY1A1B5kLM/GkhUrNzkZOVim2btiCvyQldEqNQdGgD1h8pInGbUFFcgJJGOQYN7Ibj6+fguz/WI7+8Gp6hJPf9S/Hj+jT07tMTnqd8y9nZKwh9BvRBp+iOiOwQhMxDe9DoGovBXcPRWHQc3/+xFoGREdBoJBg4fPDpxtGix6bFc/Hr0nVodAlBhLQE6/YV4cox16N41xIs2XYEeVlp2LJlKzJK1Ujs0gU+TnVYt+UoEvsOgEfdYUydtRGxfQYgyE2O+uwd+OKHVejQoxcKDu5EqVGB5B1rKQzfgS270xAS1x2KmhR88cV3OJicgk1btiMlPQu5BWVI7NYZO5b8gvX7Msgg52Pfzm3Yui8T4XGJQP5GfDVvN7oPGoK6lE30+yBGT7wRfZKiIanLx5y/NiEkJBBL5szCcTKsuWSQt27ZjMMlBiSRN5qybStK1AZk7tmM9Tt2Y+36nXAPi0NUiJe9IC5f2mCfI4UbuhocTM1H0qDRuG5IT1SnbUVBZRPKMjMg945An8QwSMnY85BGIlMisfcguBvrkFehsu4vuLiQZGA0Ga3TsXkExuCe+x/A009NxovPPYe7xvTF0R1bcKy4CTF9rsHD996OO26/DXdMHIG67H3YkVyEssIiSPwTcNcdN6NnRy+YjSYYKPHjnorMSQ6Fk5TXGOSnH0aBSo5ePaIo3i7Hkj8WQBk7FDeN6gGFlOoJrxanVg2qN0OvHoWObhao6yqwe/teMI8ARAT7oP9VE/Dy88/gpRdfwDP3jEXZsZ1YtSebtElOCmWbSYmRZ2gwGuk3HZT+YxYLDAYDmFSKlH0bMHfZYVx9y/14+dknEIQyrNy8Fzu370CpIhz3P/wQbho3AQ/ecQNFPjUoKFPhiusm4fFHH8FTTzyG5x6/Cx41x7Fm6yGY6dgG8qx5XbdYzNDp6Zx0Llok55SuQW+AzDMYt933KJ589GE8PXkyHrxpKDK3/IXdqUWoSV+H+WsOYfjtD+O15x5F90A9tmzfQwVwamFcnrQ54yiVSVCRuh8FVUZ4KdVoMDA46etwKDUPzm7O5GToYTDbKzuHfjDKM0tkcD7FqxBcCkhg0tRh6dxfsTmtFgoXN0SRN+QKHWoqqQHctQ7fzvwR3/34M2Yt2gi1QQeNUYr4LknQFuzBV9/+ioP5DXZZc8P4d4W2hs971+Dr39ei66gbMSreC5tXLMaOgibEhnqQt1oAna4JKYePoV5tOnkEsi5ZR/eiUBeI664aiUn3PYxAbRbmrToKv9AO8PN0gwuF01Gd+yAiQIniggIYzuE5n0Tmgm5JCWgq2IdKtRme3kGIDvBBeVUF8iprERAUjvCO0Rg+YjDC/Hk3Ae1kUGHnusWYNvULfDl7NZTBnTC4hz+qS8qh48b3X9DWlmDhrF/wyWfTsHRPCWI690K00oiSag0GXjMapspcFDVa4OUXiKSIcKgb6mAUzyzbnnFk+gbs3LUPBqoTR9YtwaL1B8goKnD84HF4JQ2Es7oIqzceRIPWQJ6JEeraCmxcuRKywE7oEs5DBRFKX3S4COxiYGYDystKUFWnJu+KvB+zzevRNpRj9aYDCEq8Ek88/ijunDAKPkon8hK1SD2eCkVEb9xz583o1sEdKh15R05OJ/rQmuF9aen7yMDO3YCIgdfj1mv6QGpsQnFJI3zIuO3dtBzLthyGVluDDctXoaRee7JRpX0ri0sBv44I8PGEd2AYvKieNdbU2bwzq3cI6NX1UGmNcHf3ONFPx/Otf8mT414dx0heJH+gwvtE4zrHQaGvRVpOKUVB9SitVyEwIBDuSgX0eg0M5FFzT7D5YY7EYkJVeTGUgfEYP7w3lGY1yikKcvZwh5PEtg3/v7W/la7bSB4jf7RiMJKnSjdkomMWUzge2WMQBiQFUdnWooYuy8PNBX7RvRDsrMaOI/lQqxqRW1EBNy9fOq71sJc1ba7PsSbvCH5fsBUj756Mx++aiFGjhqNvnDc2r98O3x6j0c3fgDXLlmPvoSM4sH8/1q9fjz1pJdY3BdyDw1GcfBBukT3RSzyQuThQ/ZIYG7Fr+3ak51fAJ6ITGgsOIyWrmAxPCbZs2oS8Mg0Se/ZCY3EqqhrJ66dGLqBDB6Tt2wvvxAHw1eXhWE4VnBUSFKQdwqYDmYjqOQxDKWRufoGFe4xpO//CtF9XoN4oh6fcQA3oPqQUNmHC7bdj9KhhuHrUSETIq3EoH3jy9eeR6O9sNWC2A0hhaCzDrh37UF1fh6wje3EoqwoDRl+Hsr1LsfFQNvIzKbRdvQrFWi+Mv3kcgiQ1WE/hcVm9GWFBcuzfdRBZ2XmoLCukBn0XGt0iccPIvvD2cEPVka3YmZKDI/t2okjng1tvnYCOijps3LobJeU1KCsvt0Y6+/YeRHh8D6iLjqNYrYC30oztm1Zje5YGV99wA3mAVVi/9TB5nQyd44JxfPdOlNTWobowA+u27kRlkxldu8Qj69gRSDy9IVGVYvWqdahShuDGcaMR6ONl1am1Ow4i9ch+JBcaMPamGxET5Gkrh8uYNmYcGeoqS6B16YBhg3vBm1pyPvDW1YOP5dICrgG4Yshg9E4KA0wMclc3ClOCER0TjdAAXwRHxsJbDoTGxCEy0KNZDQQXGCdnN3g6K2GRKRGT2I0at2A01FSiqkGLEJJRbHRHdO3eC307BaKW59eo0TGhM7ycFYhK7IrBvZKgsKhQWlaGeq0EiX2HYdLYIfA41d1hFtRVlMPsFoDYSO71uUDp4gxvnwAkxEXDRUGeJjWYFrMRMjdfdCZvzu00d0mCwPAoBLhYUFxaikazEgOvGouxAztRlFuH/NwClNc2wj0oCjdMvBG9I32ovnnAT2mB1NUfcTEd4OLui8hgT5SXlIB5dMD1N4xBTIA7xWvO8PNRQmdRwDckChNvmoguYV7wp/OFe0lQRvdV3mBEXEICPFyUiE3qgbgOATDoVCgpK6frDcTIcTdjRK9ouHryum+CzMUXvfr1QVIHV5SXVqBaY0F0XBLdewd079UT4f7uUDc2oKy6AX4dEnHLXXcgMcSdNEoKN1dn69jfgOAIjJ10BwYmBtvL4PKm7c0Ezq/2Hy6R3wq/fv5OKY9tLKQgp0HreMc49wrEUIWLC69mFEVbRcllZjYZYLZIIJfzR8Y2j56HhmYyXnzM/qnvCFtlTLK1PoSh3wonOW155uMYgjLOzHVcv/k2jvJ5XWIw8gceVGfkdA18W34IM/++j5kMIZ2bD9U5EQLzLeyn5N2BvJ7x/SGR0b3x7WzrOLb6KrUe78T+fHv7gxy5E3/Thh+R8qVSmCmfh8z8HW++zrYPX28Lwa3lQv9MVJZ0Zbbr5dtQvpTfB+3Px8E7URnzELz5nJzma+HXyx0lARUbFYq1JMRnEgQCgeAkbXAoj0AgEJx/hHEUCAQCBwjjKBAIBA4QxlEgEAgcIIyjQCAQOEAYR4FAIHCAMI4CgUDgAGEcBQKBwAHCOAoEAoED/vaGDH/VSCAQCC53ThhH/iGj4vIq8fqgQCAQECeMI3/ZnH+rQyAQCASnGEeBQCAQnEQ8kBEIBAIHCOMoEAgEDhDGUSAQCBwgjKNAIBA4QBhHgUAgcEC7eVrNPzWZpwXqTWTxJUCAHIhxAVzFp6ovCcr0QIEOaDIDCpJPsBKIJvnIxbDaSwqtBcghPao02L7x4+UERJGc/PmnfS4z2rRx5BdeTUbxrypgQy0pIAlUS8rH8SShhpEC3hQIDPcBPISRvOBw5Sogo/hHObC30daA6Uj5+OdTudLFktLdHgT08QScRQxzUVGT3mypB+ZXAMUks0ZyMrh+ceciWAFc6W3TpSD6fbnQpo3jflK4aUVAPnkkpHOn9RHwm+KJf20zyQ14vgMpo6t1leACYKTCX0aN1m9lZBRJ0TinOonN8uFGcRgp3pMkHx/+cT/BBSeP9OezAiBZbZMbl9OZsuJEkLMxOQIYQI3ZqevbK23SOPILPkiG8ZUcQENW8d8ExQ1nZzKQH8cAvpdheHCh4fJZVU0KV2hTtn/DTNtcQQby1UibRym4cDRRw/ViNnBUZeuOOhtclEra5gPSo4Fetrz2TJsMZngI8G0J/T0Hw8jhN5lKwp9CraOeW0rBeSVbA3xD8jGcg2Hk8DB7dwOwggyq4MJhIvl8RDpxjDzGfzOMHL6Jnvax6p69+6o90yaN47paIIsUsCUXz+fT4P1eR8hICs4f3FP8vRyo49+xt+edC1zX5lfaHgQILgxHmoCt9S2TE982VwssrrItt2fanHHkYfRGMo7nEq6diZn2PUAGUnD+qCLjduwcQrQz4Ztzw8gbMMGF4RDJiXuPLYV3g3Ad5A9t2jNtzjjWk0eSwb3GFiofh3uP2dTqCc4f/Ik0H67TGnhl5H1frdBXQSvIIT3iXRothetePukRHynSnmlzxpH3YzVQi9UKmVrh+wrOH3yojrG1/bokVG5chXG8MDRSI9YaPeL78AawvffftznjyIcrKumqW6NAXKh8X8H5gw+dao1X34yLkM8Fgw/Gbw1c9+Qkp9Z4nW2JNlcVPZyAjs4koFZYR75PB6V9QXBe4ENx3Fo54J4PGo9zbX1UIGgZ4aRHvP+wpfBd+AsW3u182FWbM45cIINaO8aKtK63p/234LwQQkrDFacVOgcF1cYh3sI4Xih6ebROTnwn/lZTYDt/W6ZNBjHX+wMBLRQMrwShtE8fqhCC8wd/4+W2oJZXLO41Xu1riwoEFwauC1FU3i3tOuQvUtxBMm7vtEnjGE6eycSAc2/1+HaeFOq93BHwE2/InFe418ffdhnjZ1s+F7h8eIjHFU5MRHHh4F0gb0TZXttsiS5NIN3j8mrvtEnjyDv8JwUCD4TaOpW51/FP8HWudJdPR4iQ+kLBO+ofCgNGkSfIRXM2xeN9Xrwf+LVIIMLFnim4YPB5B54l3eD9xGfrf+R6xB+23R0C3NqKyKAt0qYnnuAC42/LzCoDSgw24TaHCFx4XJj8nerHwm1/BRcWLp85FcDiStsQHS6b5srG5cNHDvSnBuuJDkDIZTTby6UIf+Psq2LbAH4+MPxUPeKNHZ+Z565gigj8L58+4XYxnyN/KyNTaxNwLSkhF2gQeSPxrkAnSmK6sosHb7D4VHLpJBs+3yYfZ8qNIn9ok0Cy4XMFiuE7lwYqs+0liXQ1UG53NnjIzXWI61J7fwBzJu3COAoEAsH/N6LNFggEAgcI4ygQCAQOEMZRIBAIHCCMo0AgEDjgEn8gw6DXaqEzmODs6g4lf9u9VTDoNJoTx3FW8MfX/NhqyjPb39OWws3THfL/MmvCZYbZqIdaq4NM4QI359Y/yjQZddCo9ZAqneHmorQOFbGYTZSngck6iJVBJlfAzdX1P01qcbnCy1KtVoMEBXc3l1YOxbFAo1LB0DwBpMwJHu5utsknmIV0SQOtkcGN8uSy9uFzXbrG0WJCxu4VmPL1bJQ16BHaeRheee5hxAW5t1i4Wdt+wHtfr0NlUxO8YofivTefR5x7E95/eCRWFHWAr7sTzOZAvPHdFxgS7m7fS3A26kpSMePjL7A9uwxOHqH43yNPYeKVnVvcuNQVp+BDOs7RnEpYFD64+4mXcNvIzig5uhR3PjYNngGeMJvM6NBrFD58ZTL8XYV1bAkmXT1mTZ+CuRtT4eTqievueAL3XT8A7i2dnsqchVuH/g/1/kGQkm6qQ3rh+49eR7yvFIc2LMBHM+ag1ihFh25X4KWnHkZCSDvQI24cL0Wqji1nY6+/m63en8GqKivYqlmfsmvvfJWVNBrtW5wjFgvL3reWpeUWseqqUjb7s+fZmLf/ZOrGIvbcdUPZkl2ZrKammlVX1zIduSmCc8BYzz5/6SE2Y9FWVlJeyXJTtrPH77mbbUyvtG9w7jSU5bIDyemsvKqKZe6azyZMeoBlVKhZ6vbf2U3vz2W1tTUkm2pW29DEzEI8LUTLlr59D3vuk99YYXkVK8w6xF698xr29ZLD9vXnjqV+J7v//rdYKcmCy6OqtoEZSSANmevZ/Q8+zfam5LOKimK26Zd32T0vTGUag9m+Z9vlEvV/Tdi9ahd8+t+JkX3i4B8QiGsn3Ihw7SEczmvhxyskEsT0vRoJUeHw8w9GQmIkMkvLoTVoUV8ug7qhGgUFxVCZ+Bx1wis5F9TFh5FZ5IoJo/ojNCgAUUlDcMOwBKzalm7f4tzxDI5C787xCPL3R0z3rvBiBgrVDTCoGuFs1qO0uAgllfUUEVK4LcTTIlhNDj5dn4Nrx09AhyB/dIjtiacfm4DjBzbbtzh3WEM9akkv60uLUVRWDQnJQyZl2Lf8OwT2vQa9EzsiMDAMw+95GsGVR5Ch0dv3bLtcmsbRbERqUwNcE6JwYp4Idx90dvdEU8MZX8gyaZGfn4ucXEp5+WjUGOwr/o7ZWI9Vq5Px+KQxcFe4oduwnijOPIqtG5fj9ZdfwaJjlfYtBWejoYzKWRkMF/nJV48CqOHRF1VZP5R1KvU1ZTbZ5OahvPqfPxDDTDpsnTMbxvCe6BjkAS/fDohk1di2awfmfv8pnn9lGiob/lm2gr/TWF1E8tAhwOfkVFT+HRLIMdCdeI2zGUNDOXKtcspFIRm/v/W1yX2QFKLA5t378decmXjkkdeRWlKLzONlCPYPOKXh8oB/CDVqtWfWhLbHpWkcJVL4UcvEtNqTQuL9HBYzZE5nzLDZmIdXXn4Rk59+DpOffQU7MxwbOKOuCr+99QwaOgzFkyNjofQIxeTPv8BLkx/B08+/hoevisWnX6+mqiT4NxT84ZjBcNqEH0aDCVIXxRn9wRbsXvQTnn7qWTwx+QX8sODAiXd2T4Nke3zbfEzfqcKLLz8GX2cZIvtdj/feeh6PPvw4Pvr8I4TVr8KBojL7DoJzQeHsQUbLCSbTSUNlNmggczCFd/numXjm2acx+ZnnMeXHRbCcKlxCGjIQ77/3Jh576AG8/c7bGOxyAGv25cHHTwKD6VQv0QKTgUHZDqZXujSNo1SOfl0iULB2OSrsH8itzjyCbRUmxHQIsC6fwCcBv/42B4sW/IlFf/6Kq7uH2VecxKyrwcwP38cRn6vx0qM32W7aYjmpqLweWLgwJX9vMQV/wzuyG3wV5GVUNtkyLBrsPbgX8f06nVGhpLj6vpewYOE8LFk0By8/eOXfKhz3GHct/gqfL0zBa2++gW7WF3gZzKdOEWOmOuB0puEV/BsuwZ0w2M8ZB45m2DIsOmxcshgBgfF/K8sOV72G+fMWYNH8PzD95fspZD59C4vxpIFlEgYLrWeU+o66DhmHD5GBtGmTpmAnUqpD0Nmv7b+Ifck+rWbk6X3w5OMoCxuMq3uFY9WiJfAd9RTevbNvy+b8o1D6+9cewZwcD7zw8C2QUsgOiRuSopwxdfYm9O/ZGVJVPuYv247rX56Oe/oE23cUnI1df0zHl+sKcP3YK1Cfsh47ikIx48vnEejeMqU4vuEX3P/6zxj7wDPoE+5KZlGKhL79UUme5L4KOaLCvXB86yrsLQ3DzK9fRaj3ZTb7wX+kLn0JHnvvL4wYdyNk5Ucwe10aPvn2O/SJaNn8fYUbv8Ifx+VISopEzt6NWLSlEtN/nYGeoRa8//yTqPG/AoMTnLFy1q/oeud7eOqmgW3+GzOX9DhHXWMFdu/Zj/J6HUJjumJgjzgoWlri2irM/2sdjBIFnMhtYfRPAm8Mu6ovCo7tQ355IzmNMkR37YU+CZFiHN05YjZqkH5oP1IKK6DwDEX/fr0Q7OPaQu/Ogsz9W7E3g46hdOIjJygMlKLr4BEIRRV2HUhBg84EN68Q9OnXGyE+rR2jdznDUJB2EHuP5cLJ1Rvd+w9GdKBbi8vR1FCILbuOoqpJC4WrD3pSAxYZ5GmNBFTVJVY9rdYxdIjtgt5dYuHC5wts44hZeQQCgcABZ3YBCQQCgYAQxlEgEAgcIIyjQCAQOEAYR4FAIHCAMI4CgUDgAGEcBQKBwAHCOAoEAoEDhHEUCAQCBwjjKBAIBA4QxlEgEAgccOL1QYvFApVGJ95dFQgEAuKEceR/jKfM+yYQCASXM2LiCYFAIHCA6HMUCAQCBwjjKBAIBA4QxlEgEAgcIIyjQCAQOEAYR4FAIHCAMI4CgUDggDY/lIcxC3SmRuQ07kVW/U7U6UvI4ssQ4BqDBJ9hCHfvAqXMlbYUw9svBhZmgtpYh/S6LchrOoAmfQUUMjeEuCWii+9V8HPpCLlUSVsK+VxcGAxmLUo16Uir3YgKTZZVdt7KUMR6DaY0EC5OntYPoF0utGnjqDdrcLhqqVWYKmO1PdcGvykJ/fN37oiuAdch3vtKuxIKLhQNhnIcrFyCnPpd0JobKYdLxAaXj0wisxrJXoETEOnR27ZCcMExWQzIatiBo1UrUKXNI9nwL3SeigRuch9yNkagN8lKSY3b5UCbNY4mix7rCqeSt7gL0rO0ZlzQjJkxOPR/JNgbT1FPwfmk0VCJlXkfokKbTUbQyZ77d7h8nCRyjIp4Ep28hwr5XHCY1cHYWvwjpFKns5a/hfQoyrMvrun47GVhINukj2wmd39n2SxkN5zdMHK4sKXkoewvX4DU2g32XMH5hHv0W0u+t3ohZzOMHC4fEzNie8nPKFWn2nMFF4rM+h3YWz4PMqncKouzwfUov+kAdpHucUPZ3mmTxrFGV4D0us3c7Nlz/g2ugAZSwF8o1Kuw5wnOF5n1W5DbsBcSybl5gVwpeb/kwYpF1oZPcGFoMlZhc9G3MFp09px/h+tcet1WVGpz7DntlzZnHHmLlVyzBjqz2p5z7hgsGhQ0HrQvCc4HOrMKx2vWWb2MlsA7+gtUh1GuzrDnCM43BY2HSF5N9qVzx0iRwaHKv6ghM9pz2idtzjhqTY0obDpq9TZaQ6k6zf5LcD5oMlRCZeAPx1ouH2axIL/xgLUfUnD+KdNkWD3BFkMNWak6BSpjrT2jfdLmjKORvL9GCo1bYxz5Hlx5BecPPXn0RovevtQyeBjOh2LZnmULzjdNhqpWDc3huqcy1MBAUUJ7pg2G1QxmS2vdeYno0zrP8HGn/2UARHsP1S4lLJbW6wLv3rKQrNszbc448rGK7gr/VoVefA83ua9tQXBekMtcSEYK+1LL4DL1VATRr9Z1mQhaBh+7yBuzlsLl5Cr3hsL6ckX7pc0ZR1cnLwS6dGqVUEH7BLhE2xcE5wN3uV+rx8BxjzPMrYs1bBOcf/xJFyz0r6Vw3eNvNrk5tW9Ho80ZRxl5JZ19R7XqbRcn2jfSs5d9SXA+cHPyQbRX/xaPg+PeiL9LJDp69rDnCM43HT16tFKP5Ojqdw15ji72nPZJmzOOHG7ggt3irQp1rjBqIeN9rkSwa5w9R3A+4B38/HVAL2VIi+QjlTjZX01zt+cIzjeBrrFk5K616kZLCCId4m8ztXfapHF0otbuitAH4Ovc4ZzCa/76YCevwRgSei8tiZDtfMND62FhD1n7tP69095mQLv7X4sYr4HW34ILx6CQO61Og83TP3tjxnXNSxmMoaH3/+ubT+2BNj3xhMpYg9X5n6JEkwIZ/klYFsRSK8eVlc8qIrhwFKuTsaFgOhqMFdQK/70d5p4lV7K+gZPQL3iSPVdwoeED97eV/ISMus205Nh54MYz2DUe10W+CA9FgD23fdPmpyzTmhqsA4fzKFVpc6GhZd6hz59oB7t2snojHdy7Wb1NwYWHj0nNbdhnfSe3VlcMvbmJDKLC+lQ61D0JsZ4DEeQWd1l4IpcyZmZAsSoZ2fW7UK7JJMejyur1u8i8EOAahUiPPojy7ANXigYuF9q8cTyT5v6TVo38F5xXbBWNy4c3X6J741Kmub/4cpZTuzOOAoFA8P+BcK8EAoHAAcI4CgQCgQOEcRQIBAIHCOMoEAgEDrikHshYTAYc3LkeOw/lICi+D268diAU9tmkzdoG7N2+DntTKtF12DiM6NmhxZa9/NgKzNucA5OFzmWWIb73GIwdHkXHYaguTseyFeuhc+2AG8ePRZCn3L6X4ATMhJS9m7BhTzr8Ijvj+tFXwsvZNgTHbFDj4LaN2JVSiOihYzCuV5Q1vyWY1HXYunEtjuZWITyxL8YM7wepugpL/liEMn3zbD1SBEb2wk0TBqN9v7z232DqCsydtxDlDXzmHQbGYvHAE9fBWyFB3tHt2JrtjFsm9oNLCx9GW9TlWLZ8DXIqtRgw4joM7NwRUvsxKvOS8deazZB4ReKG8aMR6Nq2deiS8hyrj63HjuRShEWGI3/bXPzv1e9RrbNA11CEj99/H1uzVAjvEA4XJ1MLX3iykbXlFxwrNaBTTBSiYzoi0M829rGCjOZrH3wPo2c4PAxFePyhh7DheKl1naAZhoKDO7B+WzZCIzqg8vhaPPHab2jgglAV4ot338GG5HKSXQRcpK2oViYd9m3fgKw6KSI7hiJny1y8/vUamOUKhER2RFQ0l1kMpPXp2HK0GC2bZ/zyw1CfhXVbDqBjp06I5mUX7Q8nsxo7F36ON979FD/P3wWtfdtzRVORiafufg5HKsyIDPXGvBlT8PWuYlrDkLftV7z+8Q+Q+4RB1piJp+9/Ajuya2w7tlW453gpoi/bx0YMvYUdKGhkR/58jX04dzszNlWzqppGZrFY7Fu1BBNb8uqN7PtFh637nziGuZF9eVNf9t26Y7ZlInPxm+yh93+yLwkc0VRyhN085iq2vdTCdv/0Mnv64+WssbGGlVXWMmOr5HM6Fel72KSxb7EK+7INPZvx9K1s2ZF8+7Lgn6jLXMFefOnr0+q6qamM/TH3O7Z//S9s+K3TWE0LxVR+bAPrPeo5VthgtB5z7W9T2E3fH2ZMXcgeGH0l+3VLs1wMbPN3z7JH3pvHDOb/XhcuFpdonyNDcVoKjAFh8PUyY9uyPUjesQqffPMTPv/gTTz28jcoa2zpbNMG1JcbsG75T3j5hefw5KsfY1daOcz1+VhaEIi4qAj7dkDklddCXVJOVyH4J2pKS6B17Y4ItzpsPJSNgtztmPHNz/j68yl4+I2vUWAN51pO3uF1WLhwIX6avRi9Jo2Anz2fU31oGXbWRqJ3dJg9R/BPGFQaZB/djNfefAOPPfUCvl2wCzplIG697SH4KloyJchJAmJ74ol+TXju6afwxmsv4of1JXhjXAIayguRr/JA9y4d7FvK0Xtgf6okx2E0t10tuiSNo7axEB9/vwT/e+ElRDnX4Xi2Bl2GjMOrL76IDz94Cf6Vy7DmSL59azu6Svz87Wd467338c77U7DpaKF9RTPOuG3abPw84xO8P+VD3NqN4eHXv0RprQYFShlkipP9IxJ3T7gZWhe6Xw4wfQlmfjsXE558GKGWJlRV5cIv6Wo8/+LzeOftlxGVQQZuQ8pp5ccMamycN51Cug/w1jtvY+6mYzA6KOCGqlLkZqXh0PE0q0xOhM8mFRYuXovIMXcg1EO8avhvBHS9Ab/O+wVvv/k23pt8I5Z+8hBWHzv7lzerC4/i9bffxTvvvYdXP/wOuZUa+xob9eV5WLY1Fzfc9RieeeY59AnWYP72POh1RpiMnlAqTnZgOnt4wSLTU2Rqz2iDXGLGkaEyay/efPE19LjlZdw/IJAaITcEebgjKtg+saazJ2LCQtFYd8b3K5xcEZ/UA7179kKvnj0R5u9hX9GMBEoyeh5uLpArlOg+ZBQCC4tQq/DFtZIG1Fad7B9RpR+Fxs9L9Gs5oI4U6KXH3oTPsHtx+4BoSOVKKN18EBMXDTnphlThjk7xelTXV+A0p0HmhLDYLuhDsundszfiwv1OdOSfSo+r78GLr7yBn76Zgj0LZ2B7mc2C1pZkYX9dGO6/NsG6LDg7EicFPDzdoZA7wT+2K8Z36YSy4rMbR2d3f/Tp3Zv0pxf69kyC5xkPVHKPb4F6yC244crO8AsIxvhrr8KOXxbA5OcLb7dSFJc266QFBRmpkMnC4eRIyG2ES8o4ahsK8Nob7yJg7Ft4aPxAW6sjDcS1t3XGxn1HeP8oVMXpWL09C3GxobadmnFyx+ArR2Hc2Otw/ZhrER92xgvy5LkUVGtgoWPwqZcy9m1BeUgQPL1icP/DvbF88XrbOnUpPvr4W3TvQ2GB4HTURZjy2gcknyfwwp0joXSSQurmh6t6d8fh1cvQoLdAXVWAuUec0TWps9VYNiORKZHQewRuuP46jBt3PfrEhUF2ynqL2QytmnsaXD4MmroK6DQKUlBbFU3ZswERfYciRniN/w7VbxV54E0GW1k2FWZgZUoa/IL87Rs4xt03DOOvH4Prx47BhNFD4e9+unH08o9A8c79KKnVWY+bl5sDaWgHeAcl4b4Rfli08C8YqEXU1+Zj6mcLkDBsOBRObdc4XkJDebRY8tnr+G5bCRISoyEjAfMLu+mBJ9A33AWzf/wO+7JqIKWWqPuISbjzur5wPVX7/g1DPWZ9/xUdo4GUVg+zWyhuuut+DE0IpDCxAXN/nontaeUkTPJwuozEw7dfBR9n4TuewKTFqh9fx5dL88hDj4NSymAi33rUpMdwfTcF5v30K7ZlVVCFAjoPuQF3T7wCbi1oes16FVbMmYn1qVWQWQzQmeQYNeEe3Dw8iVbWY+Zb76PnvS+jf8zZFVzAYSg5shKf/baRGiU5tAYzEq+YiPvGD4I7Gaui/Yvw2h9qfPX53fBqgQqZdY3YtOg3LN2bDSdSDYVPFO588CF0C3EF01Vg1szvsTe/gTxGKeIHXIv/3TAMHqeE2m0NMfGEQCAQOOCSfCAjEAgEFxthHAUCgcABwjgKBAKBA4RxFAgEAgcI4ygQCAQOEMZRIBAIHCCMo0AgEDhAGEeBQCBwgDCOAoFA4ABhHAUCgcABp70+KN4kFAgEAhsnjKPJZEZVbT3sn2wRCASCyxox8YRAIBA4QPQ5CgQCgQOEcRQIBAIHCOMoEAgEDhDGUSAQCBwgjKNAIBA4oB09reZfqTNQMluX+LdzAYXtp+ASgMuHf2ucy4e3yVw+p3/ASXCpwPXIaPtp/QYn16PLz49qJ3ecS+kDSoMo8a8S8o+LX0PpO0pVlAQXD/5x/yOUnqXUg1IwpWhKN1NaQqmRkuDSgH+e+BdK11EKpxRCiX+F811KWZQuL9q451hL6WNKv1Mq4xlnwEe0J1J6mNK9lM78lrXg/JJO6UNKf1FyZAR52zyA0nOUJlASbyBcHPj3prkOfUMpmWc4IJDSnZRephTAM9o9bdg4NlG6gdJWSrYPv/8z/FvHz1Piiiq4MHBv/lpK3OP4tyrGw+sZlB6kJAzkhectSjzyau6S+id4Y9aX0kpKfjyjXdNGw2red/UCpc2U/s0wcnho9xWlrymdy/aC/0YdpcconYth5PD+rTcocXkKLiy/UfqS0r8ZRg7Xnb2UXqTEdap900Y9x52UrqfElbAl8LB6P6V465LgfMCr0xeUeOPV0qp1FaWllFysS4LzDffue1Jqab+vO6VllIZbl9orbdBz5F7Gj5Raahg5akprbT8F5wneD/wrpda0uRso7bH9FFwA1lBqzQMx3kc5jZLOutReaYPGkT995krUGnhYsN32U3CeKKBUavvZYrhB5f1ZbTCYaZPstv9tDTsoldh+tlPaoHHkLd1/EUprFVdwbtRT4h56a8mgJIzjhaHc/rc18GE/XNbtlzZoHLni/BflOZeOZ0Hr4d75f5EPH4AsuDD8V11o3w8326Bx5J3B/2WcVZD9r+D84EnJ1fazVcRSEsN5Lgz+9r+tgT/c5LJuv7RB48iNG38TpjXw2+XjtATnD/52kq/tZ6sYRUkYxwtDH/vf1sCfcnNZt1/aoHHk73nyt13crEstgw8R4a8VCs4f/E2KibafLYYrXPseHnJpwYdOtcbLV1J6hNJ/iRAufdqgceRwoQ62/WwRD1DqbfspOE/wiQr4e9T8tc2WwBWNDy72ti4JLgT8XXcuq5bCI7fWNoBthzZqHLki8YHG3NM4l1vg2/D3QqfYfwvOL3zCAj4Ojk8wcS44U3qC0jjrkuBCwbsv3qTEI7Fz6crg23ShxHWPe4/tmzZsKTpTWkGJe5Fng98iDwGmUmrfYcClxUhK8yhxZTobvGP/E0rvUxLyufDw99q5seMeJJ+D4GzwLo/VlLjH2f5pB/M58gko+KtMPKVQ4m/O8BaOP7jhQryd0jBKPNwTXHgqKM2nxN/GyKbEx6lyr4NPLTeQEpcPl5OQz8WFD8vhk7jMpXSYEh8DyfN4Nwd3RMZSGk/Ji9LlQTua7Ja/Vtg8mSqHt4I8XBNKd2nAZcPHMHKF440X91i4kRTdHJcWXH+4rE6d7JbL6fKbmLgdGUeBQCD4/0M02wKBQOAAYRwFAoHAAcI4CgQCgQOEcRQIBAIHyN4m7L8vHsyCtD0r8c7nP2D9hg1Ys3YjKiy+6NGJDyY2Yvu8b7G/zh1JHVs+4URlxm589MNixHXvB0+lBPUlafjmq2lYvPEQPDsmIdyHP9G2oS07jq+++hoL1h1AUHQCgr3FuLsTMDMKj2/HzO9+wOLVOwCfCESF+EAqAUy1efjxu28xZ8l6NDr5o1PHIMjOZUzxKTRUZOHjT7/E0pVrsHbdWuw5UonuPZPgIpeCaSux4Kdv8ePCNdAoghAbEdDi419OlGcfwLSp07Fyy0Eowzqjo59tZnVNZRY+e+cb+HbuhUCPlg/i3rn0d2wuVKBrjD8acw/j629mYuHKbVAGR6FjoDckdpmk7V6JL2f8gL3ZDejeIwFKWdv0wS6NqybFyz26GfksAMNHjcRVo4ajS0wgTPo6/PrFh5jx53IcyHL0dcGzYUHOwRX48OPpWLRmM+p0FqiK9+Glt6dDGt4VfeN98O3rj2D2Rv61NYacvX/hxke+gFN4FwxJ9MHU997E8uNVYmZBO5q6Uvy1MxOR3QdhcI9wzJ/6LtYeK4W2KhfPPvEOiiTBuKJ/EnbP/xJfrUu173XuNFXm4VBBHQaPHIVRVAeGDkyEkgyjujoLL01+HUfVPriyfyIOLJqOz2ZvOTHQRHA6hppjeOfjb+EdNwC94v0wc/ItWLI7D7qCnXhvyqdYumoVyupbNoO3WV2JP755Cx9/PQc7U8qgV5Xjj+/XwDumO9WFUPzy8QfYntdAG2qx7ff3MGXWDnQeNBz+ujTccs8rOF7KZw5vg/ChPBcdk47N//hR9vb8I8xsz+LomsrYxv0p7Miy99mrv2y0554jFj07uGM9Szm8gfW75kZ2vELHlr5wI/twzhZmsW3Aqg8tZne98DGzmAxs+rOPsqnbi5jZutLCDv71Fet//6esSmfdWGCxUNnYSo6zfOrL7MNFh1h19kE2esKLLF9lk9yeBZ+yR3/Yaf3dEvL2LmJPvPcjO7O4D/01jT3+2QJmtFeM2oLDbOJdj7NDFafWFEEzmpR57KHXPrcvGdgfk4ezrxYfZDWH5rFDxw6wp67tx9YlV9nXnxu66hy2ZMt+tmHWx+zhLzczvcXMDAaTfS1jC758jL28IJk1FR5hNw28jm3MqbPmW0xaNveVcezln9cz08mq02a4JDxHug4YzRJsX/4Lnpr8JO574lWsPZgLpXswRvRJ+sfhp1T8MJvNtmQ5Y+JNiQK9Bo9CQhCf/5EwVWFVShNiOsXa3yKVwDOxJ6T1jdCY1UjWumFU51BrmMjXRSV1hTk1FZWNfECsgMdMUvLkt2xYjQWzvsOyTB1G9OwI3/AY3NFNgycefASvvvwcPpx3HHePSrDvdJKzyoowmkzIPbYVLz33PO55cDK+XbAVaoMJ2Wkl6JoYByd7TXX3C0N0kw6ZhfxzGYIzcY6/FhGaVNxGOvTM5McwMysRIwZ1hm/PSege6c+DJAfREIPFYpcNJbJj9nwbSr9ojL+yD1yVUuu+EokUcrn95QpjEzLzGbpTqF1dWYLkoP5ICrG9RSOROWPgyBGoyioAGUdrXlvikjCOEiclJk7+EPOnv4spH3yAV+/ojenTZ1tfDPxnLMjYPg8vkDI988ILmPrTWuu7F/+IyYBqmMlmnnx/VCJRwpWEZmQGNMkYnJs1kHCSK+FlNDlU5MsWkx6qpnrU1lVB1aCCVm9GbUU+Vh2tw/8efw7PPv8Cru/ljaXrj9t3OEnKtoV44YUX8fRzL+LTb9da38E4lei+4zD7+6/w3ttv48s37sWhBTNxMLcceoORZHHyLSeJVApPBSNxihndHaFK34rUJh+8/uJzeOmZyejrnY9tB/+lm0Nfg2+/fAdPPfcCnn3uOSzYmn5u3UkWNVZ99zpynLthXJcAGExaqNyV1JCd7BBWurhBQTJsi6+aXBp9juSpObt5wtfbEx4enghLHIiIujpUnLVAJQiK6onrr78e48Zejyv6Jdg9wn/A2Q8jA1xQU8zf9bWhq8pFg5szPGSeSCQDeay0wb4GqCzKQ01EOLzd+PyRAivuIRg74TY8/NTrePrmHnh/0Q5r57+5+zCMHRwPf/9gjLrmOmRu2o6qM2QXEt0dY8eOxQ3Xj8XwgYl/m+JAJneGj7cXyd8dPhHdMCTCDxWNOnTsEICCopPfOtGrG5BJsUSo3TsRnIoJhzZtQEy3EehM5Rcc1RUv3DsQWw79vbE6DSc3DLriGqtsxpE+dY8NPLsucSjaWvTdNPyeGo5Xn78brnIp/HxCEJ+fhpIGe58mMyHz8EHIwoMgO8VgthUuCeNoMeuRk52P2kY1dFoNUrYvQbafD8LOWp4S+HRIwHBy20eNGI6+3aP+WaBWRXXDpMm3YuOi+civ10FbV4YfPvsU0d0GQOakwPChUfjwlc+RVdkETWMtfpq3BhPuuANh7uLdbI5eVYfiskqoNVR29Dv5+DFEB3jDKygKZbt343BeFbRaLY7v3wNZWAS8zhCGX4d4jCA5jRo5HP17RZ7xxjtDVUkuSirrodPpUJayFSsyixHg44mEK4YjddEcbEin42tU2PbX75DE9EH/jq2Z7Li9I0PHznHISNmO6iYt1A0VWPjXekQE/svM7DIX9Ow7GFeRLo0cORIJ4X72Ff+ASY3lX72K+Yct+OLjyQh3l0KnN8InOgk39dLgp99WokGtQ3HyNrz6ZwGuGTYAZDvbHJfEu9UWkw4rZ83EssOFcJWYoFf44c777seQpHDr+pytP2BVXXc8Ob6fdbklWKqO4643fsE7Uz5FjDfDugU/YtH2VCicZPCOHoLJ9461DmuwaGrw15+/YOPRYvJqzIjodR2e+N+1l8GsdedGQ2kKpn7zG+ooHjY0NsCtYw888tDdiPIEdq76A39sOAInmRRyn0j874EH0C28Zd8Xyd67Al/N3QQJHUOlZxg8ehJuu7YvnKUmHN22HL8t2gKzkwRK33g88MjdiAvgU50JzoRZmrD4p++x4kgReLvu0aEzHrjnDmrIXCkKLsNnzz+Hoc9/g4ExLZ9U+Oja37C0KgkP9lbhsec+h1fHTvDzUFifGcgjR+Kdx66BvD4H33z3K9IqdZBKFRg65g7cODzpXydDuxS5ZCaesJiN1PoYwPtteX+fUuF0whO0mAwwMhmUp/Q9nTPMDI3OAGdnF+vDFmYxW70TCznNSmfn0/pH+LZarZ7WUZhP69piKHDeoGpiNOphMPK+PgnkSqW1gbGts1jL1GQBFArKb4Wc+AMbvU5PxyDJyORwVirsD8c4DAY6vtFMSnjqeQUOsZhNpEt6KjWq40qq482DQq1lrIOT0qVVddvM9dAig0JmgZZ0imM1HvQ/CcnM1UVh1Vm+HfckrXJ0tuW1RcSsPAKBQOCANtgTIBAIBOcfYRwFAoHAAcI4CgQCgQOEcRQIBAIHCOMoEAgEDhDGUSAQCBwgjKNAIBA4QBhHgUAgcIAwjgKBQOCAE2/I8D8WMT2XQCAQWDlhHM1mC+obmyBps29CCgQCwf8f4t1qgUAgcIDocxQIBAIHCOMoEAgEDhDGUSAQCBwgjKNAIBA4QBhHgUAgcIAwjgKBQOCAdjKUh25BUwzUHAS0/DOeZPM9ogC/voCi5R8SEpwHmjJIPkes30iGzBnwjCP59LH9Flw6mJqAqr2AKtf6zRk4B5GcegNuEfYNLh/atnHkwqs7CmTOBErXkoEsIeGa6K5ondwFcCWBRt9O6X+AOxeuGOB+QbGQLCq2kny+ASp3Arpq/raBTQwKDzKQ8UDsvUDkLYDyXz4HKji/cOcidxaQ8zugLgAMWls+/5iZSxgQMhKIf8xmKC8TPWrbxrFoCbB3ss0oShzcBs+SkHC5FzlkNuDf35YvOP+YdUDyR0DKl/S70Z7pAIkcCL4SGPwbKWGoPVNwQamliGsbORFNObTAvy7pAK5LLiFA38+pMbuVFtq/gWybxpF7jEWLgR332cKAf5MTv0OfbsCVC2zhnOD8wkjB0qcDh14n71FjzzwL/JX+0KvIQP5K3r4wkBcUdRGwZYKtS+pc9EhGEdngny4LA9k2H8gYyRM58g41cudgGDl8m/pjwM67yJieg7IK/hvV+0k+b56bYeTwWli+ydY9IrhwWAykE3eQYTx07npkoXD7yNsUdp8lGmgntE3jmP0j0JBuX2gB1YdJCTfYFwTnBR5Op3xIDZjKnnGukLeZ9T2g4qGd4ILAdaF8Jxm9FgaPTdlA2mf0o+0FnS2h7RlHQz1QsIjkYrJntAC+T9lG+4LgvKChMK36HEI0R2gqgOLV9gXBead8M+lEK6Yp5PsULrY9YGvHtD3jyIeC1FGI3Brl4y1kfYp9QXBe0JKB4w1Ya+Ayrd7TOoUVtJz6tFbqEaWGLPuwufZL2zOOZj0ZyP/Qb2hosv8QnBfMWsBitC+0EK50ukrbb8H5x6BunXHkGEjGXNbtmLZnHKUKQE6ptTi52n8IzgtSJSUn+0IrEIP2LxxOLvYfrYCPf5SRrNsxbc84Kn0ArwQKvezLLYKaSa9O9t+C84JzADVenvaFFsJlygcZS9petWyTeMbYhlG1FC4nj0ibrNsxbdA4+gER4+kHtVwthvYJGWX/LTgvuHUEvBNb13hxoxp+vX1BcN4JHtHKhoj2CR/T7gftt80mutOD9tcBWwBXVt5ShlxlWxacH3io1vlFqllye8Y5wuUTc7ftlULBhYE7Cj6dW96Q8YH6XV6yL7Rf2qZx5K8xdX6Wrr4FfSbcoxn0C6CgsFxwHpHYGqDEp+jnOfYNc+X0pXDauk9rIgJBq5B7AEPnkKNBTsO5GkiJ0qZ7zsH2jPZL2zSOXIG499h3KkXKJOCzCZb3qci9gAHfAgEDbXmC8wuXT9fXSUb3/7vScfn4diclnQV4kJIKLizeXYGBM219+Wfrf+RylLoBfT4B4h4lGbdN09ES2v6sPMXLgbRpQF0KYKwlAdsHh/OpsOR+QPAQUtSXKXzoYcsXXDj4O9b8babMn2xvVfDXPi2Ux/VK6mrzPjqMphDtFQrVwm37CC4ODWnA8Q+Asq2Agc+epLPl85EHcvtD0KSnSV4TyGq0dvxP26J9zOdoaCDly7JNX2YdJ0eeizspm29PUjoKp8XwnYsHb8AM1Gg1pNoaMEMdiYdCM49oarC4fEJJAf/D0CzB/x983CKfiKL2EKAqtDVuzv4kJ/Ls+YQtl9kwq/ZhHAUCgeD/mfbfcSAQCAStQBhHgUAgcIAwjgKBQOAAYRwFAoHAARfVOPJnQRq1FiZL8zMhBr1Whbr6RhhMZnueDYvJCFWTFic2bQnMAnVTA+obmmAynz6Yy2zUob6uDmqdwZ5zErNejfr6BmiNrZg7sl3CoFOpqLzqUccTlY3BbBMI42Ws0lD5tu75ntmkR0N9PclBf/rQSKojOnUT6hoaYTSdbSCegNdzTZMKRnsdN+l1VjmptXrrcjOMdKlJrWmdLhEGneaE3K3nVDWSfJpOnLcZrlv8/BoHutUWuGhPq03aBuxa8wfenLIZby76CcNDZdiz6g/8unQn+AgrpXc47nrwCQxKCICmIhc/f/0Jfl/thWVbP0CoawtmfTHU4s/pM7Ahowh6nRp+na7EK88/gCBXCcrTtmPad3+gsMECJ7kSV46/B7de3QuuMuDolsWY+fsyqCwymBSeuPO+RzBmQIL9oJcrVXjxloeQr/SFmzPJQOaM+1/6GAOC9Ni64ne89vYGvP3njxjd1d++/TnAzCg8uhXTflqASo0ZTlJnjJp0HyaN6gEnkxobF/6GP9YdhImacTf/RNz36P3oHenT6pm22isWXT3WLfoZb72/BFMWLMRAn0p88ukPyFfpoDdYMPTmp/DAmC4w1Zdi9tcf48vt9Vg6bxbiWvDCmNmgxtHtq/HhtJ9w1Wt/4r5uBsyf8SVWHS+DTGqGR1gPPP3cY4j1kaPo2FZ8/dM8lKjNkMrdcNVND+DmEV2hbEuxKjeOFx4LS139K3v+k5nskZseZmvzVKxw71J2zdh72d7MMtbU1MAOLfuOXTnhGZZVo2ZLPnyKTZ02hY0Z9iwrVhvtxzg3LIZ6lpxawGrqG1hDbTn76KlH2SfLMpmhPo89OXoU+3XdIdagUrGyjG3slitGsuX7S5mxKYs9cO+jbG9+JWtsbGBFKZvYnQ+8yMq09oNerujy2IOPPMaOUbmoqMyaVGpmILc/fflM9vrHX7D7Rt/KVhypsm98bhgbS9jz99zMpq9KZQ1NTawkfT+7/9bH2LY8NcvdMpNNvOtFllxQxZoa69iW2R+yCQ+9xSrUZvvegmZK1n/I3vliGntk7EC29lgFU9UWs/y8cpKRimXuWcqG9LqWHamoY79+/jr79NOPWdLVd7OMWvvO50jusU3s3udnsJdffJx9t7eB5e9ZwoZdM5mlVtdb5fPju6+wjxanMk1FBrtj9HXs903JrFHVxAqPbWVjRtzAlidX24/UNrhodjzqikl4/8lbEeLF54RjOHxgC8JH3YGescFwd/dEj9HjMZQdREZeFa5+bApuH9kTMvIyWurmSuRe6JwYAV8vT3h4+cLfTQ61RoeKjAPY6tINIwZ0h6ebG4LjhuLxiQHYn3wEDQcXQxnbF/06BsDDwxNhiVeit2c9VmfU2Y96maJRQ9VUi+MH92DTlh3ILq0BIxcuYthdePWx2xFIZdtS+Rgp9KutNSAmLhwe7u7wCw6Gc2kFkjPysG3pPnQeMRHxEf5w9/DGlRNvRkBFFgrKWjnTeDvGf8AjePmBG+HtZLGGy24+YegYGQR3qtuBfj5wQTX0RgUmPvgSHpw4EJZWxNTh8QPx1YfkGQa50xKDT0gEIjzqcGDfcWSkHkFOvRHdKNIryT6CspBBuHpQZ3i4uaND1wG4vy/D/p2H/unDr5ckF8k4SuDs6nJi0jEJTKgs0iAiLAgye7wkkXkhIlaCOk0TXD35Gy5cmH8PpnQNNUhPS0VqejrSMrOgMf6z0DWF+7ClAph0TQJqK7PhH+AFV+eTRRAV1wUNKg2Kcgrh7XEyNORnDQiWIK9cbcu4XFF4YXi/AWAWIyoLk/Hek09hwfYiOLu7wonkwxzIh5kMKM7LRGpaOqU0lNRqTjOgzt7BuG5YDKa98gZ+/v0PzJgxA8maGpj1GmTVmOAXEkDHtuMSgBiqCk0UKgpOR+HuDTmvymdWf8awZtVaeI17CV2CXaixdye9c6wjBk09kklGqelp1DjlQqU/3ZTJFc5wcyIZ23vilJ5+iAxQYeOKVVhF58htMCHUxxX11bXw84mA64m5cBWITgok3Solo2zPagNcEj0AjMTl4SNFY5P65LvvFj0aa01wIYGcjdqCo/j2m68x4+tvMfOHX0Ahl33NKZAwS45vwSMvfomrbn8YSd5yuHoEQUMepMl0sqI01FbCWSGHb6A79IbTv56nUVng43H2a2n3uIXjwclP4Y6bJuL+R5/BcxODsGnTCmjP4g6YeV/Ykp8xjeQz/asZ2JFBrdMpSJxccePjb+Kdh0agqaEBnfqOQGJ4JIJCAxGskEFDdeKEhEwa1OokUCj/w0zjlxFmfRO2z/0E6/M8MePFG+Ha7Hn8A3VlWZg63aZLX/ywACV1Z2uEnHBw80pswFhMnfoB3njnQ9w3xBcfz1oPOUUAOl0djCfqhYUMZj2clV5t6rXsS8Q4StGley8cWrcMlU22J8M16buxMq8DYsLOPjVSSJdh+OyLqZj2xWf4bMo7iPT6u+I05e3Bm1MXYOKLn+K2YYnWvJC4XgjOP4KU/CrrsllViJ9nH0RidDyC+o5DecYRVNsfUltUxdhbqMA1SZf3dGdmMzul5TdDpdWTr0j+/1kqvJN7AP43+T3M+PIzfDVtKm7qH/n3zckjHTBqHJ56/GF099OjJigCg7qGY9CojjiydQPqdPykDEX7NyBZ7oEOwWLauX+FWbDy16/w6UYTXnrtcQSdw+x+gdG98e30L0mXPsd3Hz6HuCA3+xoHSCUkfxWc/b3hIrdJ1N3NFdW1DQiKToAufQuO59u6Pwy1+fhlTS3iu/Y4ERm2BWRvE/bfFxyLSY/tqzYjfOgIDOgSDWPaCizekoqSolTMXbAWA+96FmP6drQWqKYqG8tW5WDMHVfD0xo/2JBQUySTyU6kM1umhvx9eODByWjySUCslwFHDh/C0SoLunXuisTASvw8dzVKKiqwZvF8lEaMxuO3XwUPrzBYirZj+h87UFGSgT9+/w0RgyZgwsDLeyLWhtx9+Hrmz0jOzcP2NSuwZJcKdz7yOBJD3GAhT3vzXxsQceU1iAs+daIPCaTSk/KROnAdmKUay36ej/Xb1mPBmj244d4nMSDSF0FRcSjd9hdWHMhAYeZB/L5oH0bf/xyGUoh2SbTqlxrGJmykehw94lbo9s7ASzM24Yoxw9FUkIpDh49A4hmOYAp7DXUF+GHFIdx28wT4nWI0T9cl6T96eYd3bwCLGIJr4rywe9ZM7CuoQmHKLizfmolJd96N/knRiJLn4Nc/N6C8uhQrliyBOekGPD5pKFya+9LaABd14glmMSE3LRte0Z3gT6Vm1DYhOysT1SoTAkM7IDoi1NaPQhhV1UhOq0Zir3g4t6D50dQU40BKHqRO5FHyO6UWFX4d0D8+Ak7MiOJ83sHfADcff3SKjYG7fayBSa9GQXYGyhoM8PQLRqfoDtRCtiHJngeYUYvc7EyU16kpHHZGh8gYhAZ6WfuOmdmA7OMZ8I6JR4BHC2fZYVqk7j+KeiZHSMcoRAT6QEaeCUenqkNWZjYa9QxB4VGIDA8A7/YSOMCsQ9bxo/CN6QFDyQFkVZOxo3K0aThDx/hu6ODvDrO2DrtTitGze1e4tXDCdk5JfiaYTzTCvaRQ1VQiKzcfaqMEwR2iEBUWYDun2YiivEwUVDTAwyeQdCsaboq21aSJWXkEAoHAASI6EQgEAgcI4ygQCAQOEMZRIBAIHCCMo0AgEDhAGEeBQCBwgDCOAoFA4ABhHAUCgcABwjgKBAKBA4RxFAgEAgcI4ygQCAQOOPH6oNlisU4ZdrYZVgQCgeBy4YRx5H9M5rY0T69AIBCcP8TEEwKBQOAA0ecoEAgEDhDGUSAQCBwgjKNAIBA4QBhHgUAgcIAwjgKBQOCA9vG0mm7BUlwMU3IyLFVVAP9AUFgYnLp3h8RHfKnuUsCckQFzejos9fWQODtD2rEjnHr0sP4WXDqwxkaYDh+26hMzmyH194dTly6QRkTYt7h8aNvG0WKBOTcX+vnzYdq/H0ytBkwmuisJIJdD4uEBxejRUFx/PaQBAbZ8wYXDaLQ2WPq5c62Gkel0VoXjX7mDQmFVPMWECVCMGAGJt7d9J8EFhzsXNTUwrFgBIyWLSgUYDLZ15GhI3Nwg69kTzrfdBllsLMWbl0fA2XaNI122Yf166H/+GZbaWseGj98a5UtDQuDy9NNWT0VwYWBaLfRz5sCwfLn19z/Kh5TPqXNnq3yk4eH2FYILien4cWi//BKWkpITOnMadhMhpQZMeffdUFx33WVhINvmHXLDuHkzdFyg/2QYOfZ8S2kptNOmwVJUZF0WnGfIOzQsXQr9woVWb/Gs8iHv33TkCLSff27rEhFcUFhl5em64UhWPI8S7xLRfvUVDBs3njCY7Zk2aRwtdXUwzJ5tDdH+UfFOhQuWWkXNJ5/YQm/BecWUkmINpbnhOyfIezSlpsKwbJk9Q3Ah4A2X5qOPYCksPDdPkOsaGUU91z0ylO2dtmccSTjGdetg5iHAuRjGZmhbc1aW1UsRnD+YwQD9vHn/HEr/EzwaWLnS6uULLgz8wQsPqVuqR5ayMugXLbLKrD3T5owj9/yMO3eeu1dyKuRpmqlCCM4fPEwz5+ScmydyKqR0/Empce9ee4bgfGM+dqx1Bo47KHv2gDU02DPaJ23POJIC8SfULWrtmqF9zAUF9gXB+cAabrW264IMqiU9vXUKK2gx5nMNp8+Ee49FRWB1dfaM9knbC6uNRlu/YWuMIyH6HM8vPKxmfDhVa+BKR42fMI4XBqbRtNrJ4PtyWbdn2p5x5OMX3dxap0C8Iri62hcE5wUuH5nMvtBCSKZ8bGprGz5By5BwXWiNHnE5ubhYZd2eaXPGkSuPLDKy1UKVdexoXxCcD/hYOPDGqzVYLJDFxwvjeIGQ8XGlrem7Jz3iY1Ktsm7HtEnjKB88uHUKRPvIe/WyLwjOB9KgIMiiolreeHFvhIyqfOBAe4bgfNPqlyK4Hg0YAImvrz2jfdL2wmpCPmoUpKGhLVNA7pXExEDWvbs9Q3BeUCigvPVW69+WGkjFmDFW4yq4MMjIOPK3k1rqPUoDA6GYONG+1H5pk8aRvyfNFVDC+zzORQFpG2lwMFyefx4Sd3d7puB8wT0S5c030w8ne86/QPKRxcVZ37PmA8IFFwbeb+jy8su21zbPUY+4fLjuSf387JntlzZpHLlbryDv0fmZZ2wd+PxNmX/CZIKEjKkLbSuLjrZnCs43ykmToLzxRqphVMX+yTPhysY9+i5d4MqVlE8OIrigWOcdIN2weuxnG2XAJwxxc4PLE09AcfXVrevWamO07Vl56NJNR49aZ+VpnvWlWcBWr9LVFfL+/aG8/XZbGC64sJB8jFu3Wt+msI6p40M/7K98cvlIvLwgHzHCakTFrDwXF0tlpXWiEOOuXQAfpmM02laQ98+nleOz8ShvuQVOvM/+MjCMnHYxnyMfc8VfO7POQdfUZFM+X1/IIiIgCQyEhPd/CS4OVL24TLhs+GtnFrXaahj5dGV8jkBreHau4bfg/EKNF5/8gzdkjE/oQl49j8ykYWFW58I6hO4yon1MdisQCAT/z7TNPkeBQCA4z7Rb46irScczN92GP9fvQ1FJGfQm4SBfTEzaevz89gN46YdVyC0shUp/lodogkuCXat/w4Q7p+BoXiGqmnT23MsH2duE/Xe7wsnFC+HeJqxdtQlHC8qR1L0PPJXizYuLhdRJiYggJXZtXovdx4sRFtcVIV5K+1rBpUhQsB8q9m7BjqNHoPVLQJdwb1xOGtSu+xzNejVKKxvgHxoCF5ljsVosFlioCPhaiVQK6WXyJO6iYNajvLwSSq8g+Lg7fkjGGMnDYq+SJAtZa2aNEfw/YUFDZRlUcEVooM8/Gkaz2QwuMQn9k5K82osKXQLGkaGxqhxltY1w9vRHWLAvnOyly8xGlJcUoV7HENqhA7xcmhWKob66AmqTG0KDPU4TmsVsgkqlhkRmQerG9Ugtr0ZT53GYPMTB90ksZqxf9COW786GTtWEzpNexFOjTh8LqWuqRXm9BR06+EMMTwaaaitQUlkPD78ghPh7U2Niy9eq6lCrAkKCfU7vqyFjp1GrYGQS1CVvwOrUJjCnWDz0v0Fw9Iy66Og6fD17I1RaNVwSRuOjJ8aeVu5mox6lVbUIDAqBUgjk7zAz6Uw5PELC4EblYzGqUVBQCj3k6BAeDjdne6lb9CgqryF5hcLpjPbHoNdAqzfBoinFF7/tR6dIKa66/laEuDoocEMdvp0+FVkVatJHFzz56hvoEnBqw8dQU1oBha8/PJrP3Ua4yM2yBdl71uKFp5/D+x9OwZOPP4FZa49a15i0NZg//TU89dJb+OC9t/D8m5+TodOQrplQfHwrnvzfXXh+yhacOWlSU2k6PnhsMh576nl8+tsi7EkrRUygh33tGUik6D7oKtw8Mg5Najn6xAbaV5wkfdMfuO3xH1Dbivfz2xXMhLQtC/D0U8/hg08+wfMvvIr52zLI6zajtvAw3pv8EB5/709o7Js3Y1JV4tdpr+Pxyc/i1amzsX3fMch93BwaRo5fZA/cOv4KqCpL0Dku8m8VtLE8HY+9/C5yG+0ZghMYtfXYuuAb3HrTQ9hdB+irc/H+80+S7ryHd15/Ds++9w0qDIwa/CosnPEarnvoVdTS8pkcWjsPTz79LCa/NAX7dm1FMVV+V8U/uIMyN4weNx4xrBRmRQiCPc40oAw/v/we1mRW25fbDhc9ZvGJ6obXPp2Omd98i+lv34tNcxahGmbsXfwrZqf54cNpX+H7b2dgfCc9Xn79N1RWFGD+oo3o2acL5E5nCIyc4IrCVDR6B+L2+5/B1998idF9wqDXA8n71uCNxYdJmW2bFh9dhS/mrIJbSCSMeTuQdO04DO7oiv2rF2LhniIy2zak/HUphdM/hhSXC9qaIkz5+i+MevQtzPx6Bj5+dhIWfPMpjhRV4I/FyxHccxB8PP5u8ioKkpFXI8fYO5/EF9O/xWNjEuEb7I364kx8+8UKCtlsNNXk4/1flkCjDIBrUwlU/sMx/ookVGXuwQ/Ld1vDNo6EGjSFQn7CYxWcJP/wGiyvikbvboHW+pq6cwOWVvbGzG+/wY/f/4hwYwb+StPh4LaNqAkdil4RISCH/gwY8guL4B/bB6+88ylmffUcAhVN1lB5+cJZSKs++RbNuj9/x8Eahg7+btiUUoQb770L/s4q/Dl1Lqp1J7dz4vJqg90jF/mKpfALCkVEqD/cXF3h4+cPJ4sBJqMOm4+mYPjdD5LX5w1Xd2+Muu5aOJcsQJE5GJNffxcDYoO5LTwdEqBfhwR0lBZhx8ECBAX4oyzrEPYValCYfRh/7M49YfRq8g9h+bYD0FksKM3eC08vPs8jQ/bhPdiVUX1CGQU2jPom5OtdERocAlcXFwRQ2TJ1DvaVO5GX/gbGDYyFo25dd/8IhFhKsXrFAXgGBEJdloaj+XVQ11De8gPQ2rfTNVVi4ea9aDKaUVZdjCoffygo3qsvy8T6g5lCHudATL+b8emj1yDEQ2HVjbDoOIQ3HMaWfYdw5MAulOmcMbCDCwaMuRkP33QlvJ1lDsqVIS4+EttmLkRpoxRBPq607zarnhzYvQUlTSdDqCM7t5EHb4S+sRJqdT28vfggcQ12rNqORpJjW+fSMef6Wiz46Vt0HHUV/E16aBrKEBHsY18JKD384OyugEZjsL5Q4VhZJHD3cENDtQQDB3ax5VCTx70M/ld2irthW/777UtoG/FQ5u+4B0ThiUFKzJjyJqbP+AafffUz8mvNvEvRWpb/JBFnFw/UN7hh2MQRcKbi5p6frdSlp8mDN2xOJ+Rx8nj80P/wLE1wBlKn00Nambs7AqTl2Lf3EA4cPAiNSQ5XKYOsuRfXocikUJKMAq++Fp1jbVOSSe1ysj5ssf6ywfXkxDL9bnZWztyurXJJGEeztgGzv/4Ey6q74rGbh1HhyuHs5o+6hpOfNDDpVDDqjBTinm32YYa0Xaux2aMfBnc9OaktF6H136lGz6H0+NM2fpRTag2PO2ixPQj7vyBVeGDSC1/irQdGw9PdCyPG3YLYYD9KZ38nuih9N/Z5d8etg0/2HzK7HLg8TpbrP5QwKaptLMFJLndZnAtSJ4YtK/6A+rpX8PHrT+OpF97AmCgppv6+F//m061ZvwK3P/WE7QEMFTZpBeXaS/2Uwj9VnU5CW9Nup9tdvqFDS3xJc9GNI9NWY86M97FfE4cfpjyCIHcnUkQX9I+Pw8o/FqBeT64JM+PQ9s2odh2OyKB/+cwBNV8WEyX+l9ya+noDIsM94OfiCbeSAqh5VED5leUNJ4TLH9g3y9k/2BUZGdmwjVFmKC2phEtoDNwuiWbk4iKRydFlwNW49547oKg6BkvkaArT/u29dWpqTBaY7bpRVdWIYH9nigLcIHGpQpW9/dPWVcFgsPVTWRsnu7ei9AtCXVER6uxdWOq6UvIw3WCN4AT/DBWfxWyAkgr+ZCBsgd6o/VczxR+yGcy2Atdry2G0hMGdlEXh5IzKOvsXB421KK/V2M0eHZF0yCYyX/iEa5FTZX9UaqxHuVSLEGu3Vdviog4CZxQ+L/7+A7z58z7065+I4oyj2H0kDU6B8RjYJwoZy6Zhya4c5CbvwoIt2Zj89uvoFuxi3bf4+E4cKg/EuGviThnqIYGnpxdSVv2M7SkFSNm1CinqMDx/50ir0d23aCa2pRcje99WrN91CGq3CNx47RVozN6DhdtU6DdiEDqFBmHHn9Ow7Xg+MvZvwl8HKvHSB08i2v30kOVyhNXkYNYff2LZwjlYuqsML7z8OKJ8bZW+vjQT29PVGD2yF041ly7UKCWvnY0Vu1KQtmcVdmQDD9w5ASG0X9Ghpfh9xV6UZh/C6lVbka5zx53jroKiNgerFm5AeI/+6BnTAXW7l+KnZTtQmHkQf8zbgKE3P4ZhCX8fWSAgqOHfvWE1ggdfjz5B7pgz7UMcKyjF8R0rsOZ4Ix5/5hF09OQtvQ5r1+3G0JHD4X7Gg02lsQHTp/2IstJczPpxDmKG3Y0re0ZB3lCAj6b+iNKyIqxYvhYpuWXoM+ZGJHoYSH5rUK4PwpA+CfCQluGTqb8gvzAXS2b9DFXEQNwzuj/kbax/5KKOc+TDcnJSDqOwRgcZLzju7ckUiO7cCx295TCoapCSloUmPUNEbAIiT+mDrCvJQWGjB7omBv7N/VXXliAlIx86ixM6JXVBiI/NzWiqzMOxzBLIPYPQwdtC+8vQq3MsLI2lOHC0BHF9eyLAxQm6hnIcT8uFxiSh8yYi6l9Cx8sGQyMOHU4m71uBqE4JCPN3P+FxaxsqkFVuQOf4DmeMB2XQ1JcjNT0XarMTouKS0CHANjbV0FSNo8kZMMrcERUZjJyyepJHvFU5jx45DveOXRAX6g2zrhHpqWmoVpvgF9wR8dFhbU7RLhikQ7npyfCM6Qp/BaM6X4jk7GIYmAyRMQnoeKIuG5GamouYBCrvMxSImfUoykpFfqUazj7B6JIQDVe5FBbyOrNSj6FcBXQgfbRUF8I9KgnBLgzF6UdRpHJFn94JcGJGFOemI7+sAU7ufkhM7ARvl7b3MS4xK49AIBA4QPSkCQQCgQOEcRQIBAIHCOMoEAgEDhDGUSAQCBwgjKNAIBA4QBhHgUAg+BvA/wHvlPGLN3aZpQAAAABJRU5ErkJggg==)"
      ],
      "metadata": {
        "id": "emmb9oJreEIv"
      }
    },
    {
      "cell_type": "code",
      "source": [
        "# your code here\n",
        "pm2_5 = int(input('Input concentration of PM 2.5:'))\n",
        "\n",
        "if pm2_5 <=25:\n",
        "  print('คุณภาพอากาศดีมาก')\n",
        "elif pm2_5 <=37:\n",
        "  print('คุณภาพอากาศดี')\n",
        "elif pm2_5 <=50:\n",
        "  print('คุณภาพอากาศปานกลาง')\n",
        "elif pm2_5 <=90:\n",
        "  print('คุณภาพอากาศเริ่มมีผลกระทบต่อสุขภาพ')\n",
        "else:\n",
        "  print('คุณภาพอากาศมีผลกระทบต่อสุขภาพ')"
      ],
      "metadata": {
        "colab": {
          "base_uri": "https://localhost:8080/"
        },
        "id": "bxq6i3PGYepk",
        "outputId": "2e33b2a4-c65c-43e8-f972-d6980a08548d"
      },
      "execution_count": null,
      "outputs": [
        {
          "output_type": "stream",
          "name": "stdout",
          "text": [
            "Input concentration of PM 2.5:56\n",
            "คุณภาพอากาศเริ่มมีผลกระทบต่อสุขภาพ\n"
          ]
        }
      ]
    },
    {
      "cell_type": "markdown",
      "source": [
        "# **06_LOOP**"
      ],
      "metadata": {
        "id": "_AQK_aO_2NWp"
      }
    },
    {
      "cell_type": "markdown",
      "source": [
        "##### Example 19: For Loop"
      ],
      "metadata": {
        "id": "SUuhGQMQXcL1"
      }
    },
    {
      "cell_type": "code",
      "source": [
        "for char in 'Python!':\n",
        "  print(char)"
      ],
      "metadata": {
        "colab": {
          "base_uri": "https://localhost:8080/"
        },
        "id": "2JUEhPtKaOl3",
        "outputId": "9e96ae9b-9b62-4b20-e515-6015ca38da98"
      },
      "execution_count": null,
      "outputs": [
        {
          "output_type": "stream",
          "name": "stdout",
          "text": [
            "P\n",
            "y\n",
            "t\n",
            "h\n",
            "o\n",
            "n\n",
            "!\n"
          ]
        }
      ]
    },
    {
      "cell_type": "code",
      "source": [
        "for elm in {'A','B'}:\n",
        "  print(elm)"
      ],
      "metadata": {
        "colab": {
          "base_uri": "https://localhost:8080/"
        },
        "id": "L2OoCzTHaeek",
        "outputId": "7639a363-85de-478a-dcc9-9e78f1e538aa"
      },
      "execution_count": null,
      "outputs": [
        {
          "output_type": "stream",
          "name": "stdout",
          "text": [
            "A\n",
            "B\n"
          ]
        }
      ]
    },
    {
      "cell_type": "code",
      "source": [
        "for item in ('This',True,3.14,-2):\n",
        "  print(item)"
      ],
      "metadata": {
        "colab": {
          "base_uri": "https://localhost:8080/"
        },
        "id": "DKDVO0cKa2M1",
        "outputId": "c1bb33a7-bbda-4fde-e905-7e582de83ef2"
      },
      "execution_count": null,
      "outputs": [
        {
          "output_type": "stream",
          "name": "stdout",
          "text": [
            "This\n",
            "True\n",
            "3.14\n",
            "-2\n"
          ]
        }
      ]
    },
    {
      "cell_type": "code",
      "source": [
        "for num in [1,2,3,4,5]:\n",
        "  print(num)"
      ],
      "metadata": {
        "id": "4lm9r5Lu2Sab",
        "colab": {
          "base_uri": "https://localhost:8080/"
        },
        "outputId": "362e9389-72d4-412b-80ef-b9e50227a2ac"
      },
      "execution_count": null,
      "outputs": [
        {
          "output_type": "stream",
          "name": "stdout",
          "text": [
            "1\n",
            "2\n",
            "3\n",
            "4\n",
            "5\n"
          ]
        }
      ]
    },
    {
      "cell_type": "code",
      "source": [
        "for num in range(1,6):\n",
        "  print(num)"
      ],
      "metadata": {
        "colab": {
          "base_uri": "https://localhost:8080/"
        },
        "id": "QhBZlIsQ13hH",
        "outputId": "10f51934-839d-47ad-c7ba-0798333500af"
      },
      "execution_count": null,
      "outputs": [
        {
          "output_type": "stream",
          "name": "stdout",
          "text": [
            "1\n",
            "2\n",
            "3\n",
            "4\n",
            "5\n"
          ]
        }
      ]
    },
    {
      "cell_type": "code",
      "source": [
        "x = {'1':-25,  11:'What',  'How':1.1,  -3.14:'!',  4:True}\n",
        "for key in x.keys():\n",
        "  print(key)"
      ],
      "metadata": {
        "colab": {
          "base_uri": "https://localhost:8080/"
        },
        "id": "Q5k1_Eu8TWTM",
        "outputId": "b86c6913-c25e-4676-a58e-bf9b5ab0ae8f"
      },
      "execution_count": null,
      "outputs": [
        {
          "output_type": "stream",
          "name": "stdout",
          "text": [
            "1\n",
            "11\n",
            "How\n",
            "-3.14\n",
            "4\n"
          ]
        }
      ]
    },
    {
      "cell_type": "code",
      "source": [
        "#[หาผลรวมของตัวเลขในลิสต์]\n",
        "sum=0\n",
        "for num in [1,2,3,4,5]:\n",
        "  sum=sum+num\n",
        "  print(sum)\n",
        "print('\\n')\n",
        "print(sum)\n",
        "\n",
        "# n=1: sum = 0+1=1\n",
        "# n=2: sum = 1+2=3\n",
        "# n=3: sum = 3+3=6\n",
        "# n=4: sum = 6+4=10\n",
        "# n=5: sum = 10+5=15"
      ],
      "metadata": {
        "colab": {
          "base_uri": "https://localhost:8080/"
        },
        "id": "HRGR2cwLRZdX",
        "outputId": "53f2e598-8c28-40e4-8c56-0b2f03a69c50"
      },
      "execution_count": null,
      "outputs": [
        {
          "output_type": "stream",
          "name": "stdout",
          "text": [
            "1\n",
            "3\n",
            "6\n",
            "10\n",
            "15\n",
            "\n",
            "\n",
            "15\n"
          ]
        }
      ]
    },
    {
      "cell_type": "code",
      "source": [
        "#[หาผลรวมโดยใช้ container คือ range]\n",
        "sum=0\n",
        "for num in range(0,6):\n",
        "  sum=sum+num\n",
        "  print(sum)\n",
        "print('\\n')\n",
        "print(sum)"
      ],
      "metadata": {
        "colab": {
          "base_uri": "https://localhost:8080/"
        },
        "id": "7R9eB9DnQoWj",
        "outputId": "7b787075-30b0-4b95-aabd-8bb6fc655170"
      },
      "execution_count": null,
      "outputs": [
        {
          "output_type": "stream",
          "name": "stdout",
          "text": [
            "0\n",
            "1\n",
            "3\n",
            "6\n",
            "10\n",
            "15\n",
            "\n",
            "\n",
            "15\n"
          ]
        }
      ]
    },
    {
      "cell_type": "code",
      "source": [
        "#จงหาผลรวมของจำนวนคู่ ตั้งแต่จำนวน 1-100\n",
        "sum_even=0\n",
        "for i in range(2,101,2):\n",
        "  sum_even = sum_even+i\n",
        "print(sum_even)"
      ],
      "metadata": {
        "colab": {
          "base_uri": "https://localhost:8080/"
        },
        "id": "zlXTk-tXEroM",
        "outputId": "d7ceea60-c00f-487e-b186-fdf11ef035ec"
      },
      "execution_count": null,
      "outputs": [
        {
          "output_type": "stream",
          "name": "stdout",
          "text": [
            "2550\n"
          ]
        }
      ]
    },
    {
      "cell_type": "markdown",
      "source": [
        "##### Example 20: While Loop"
      ],
      "metadata": {
        "id": "NzrcmJfdXkZE"
      }
    },
    {
      "cell_type": "code",
      "source": [
        "i = 1\n",
        "while i <= 5:\n",
        "    print(\"Good Morning\")\n",
        "    i = i + 1"
      ],
      "metadata": {
        "colab": {
          "base_uri": "https://localhost:8080/"
        },
        "id": "fnZ_cEFqLBHd",
        "outputId": "fe9436f0-e0fe-4c38-84d2-35ea08df8573"
      },
      "execution_count": null,
      "outputs": [
        {
          "output_type": "stream",
          "name": "stdout",
          "text": [
            "Good Morning\n",
            "Good Morning\n",
            "Good Morning\n",
            "Good Morning\n",
            "Good Morning\n"
          ]
        }
      ]
    },
    {
      "cell_type": "code",
      "source": [
        "i = 1\n",
        "while i <= 12:\n",
        "  print('2 x', i,'=',2 * i)\n",
        "  i += 1"
      ],
      "metadata": {
        "colab": {
          "base_uri": "https://localhost:8080/"
        },
        "id": "TQDaK2__zQnm",
        "outputId": "af73d784-36a2-4c9e-b03b-0471356228bc"
      },
      "execution_count": null,
      "outputs": [
        {
          "output_type": "stream",
          "name": "stdout",
          "text": [
            "2 x 1 = 2\n",
            "2 x 2 = 4\n",
            "2 x 3 = 6\n",
            "2 x 4 = 8\n",
            "2 x 5 = 10\n",
            "2 x 6 = 12\n",
            "2 x 7 = 14\n",
            "2 x 8 = 16\n",
            "2 x 9 = 18\n",
            "2 x 10 = 20\n",
            "2 x 11 = 22\n",
            "2 x 12 = 24\n"
          ]
        }
      ]
    },
    {
      "cell_type": "markdown",
      "source": [
        "Extra!!! จงสร้างตารางสูตรคูณทั้ง 12 แม่"
      ],
      "metadata": {
        "id": "2cwtktUNoyeU"
      }
    },
    {
      "cell_type": "code",
      "source": [
        "# your code here\n",
        "i=1\n",
        "j=1\n",
        "for i in range(1,13):\n",
        "  for j in range(1,13):\n",
        "    print(i,'x',j,'=',i*j)\n",
        "  print('-----------')"
      ],
      "metadata": {
        "id": "A_tyCQnho7X5",
        "colab": {
          "base_uri": "https://localhost:8080/"
        },
        "outputId": "6ae363a7-cdec-4e7d-de3e-f272ef882a61"
      },
      "execution_count": null,
      "outputs": [
        {
          "output_type": "stream",
          "name": "stdout",
          "text": [
            "1 x 1 = 1\n",
            "1 x 2 = 2\n",
            "1 x 3 = 3\n",
            "1 x 4 = 4\n",
            "1 x 5 = 5\n",
            "1 x 6 = 6\n",
            "1 x 7 = 7\n",
            "1 x 8 = 8\n",
            "1 x 9 = 9\n",
            "1 x 10 = 10\n",
            "1 x 11 = 11\n",
            "1 x 12 = 12\n",
            "-----------\n",
            "2 x 1 = 2\n",
            "2 x 2 = 4\n",
            "2 x 3 = 6\n",
            "2 x 4 = 8\n",
            "2 x 5 = 10\n",
            "2 x 6 = 12\n",
            "2 x 7 = 14\n",
            "2 x 8 = 16\n",
            "2 x 9 = 18\n",
            "2 x 10 = 20\n",
            "2 x 11 = 22\n",
            "2 x 12 = 24\n",
            "-----------\n",
            "3 x 1 = 3\n",
            "3 x 2 = 6\n",
            "3 x 3 = 9\n",
            "3 x 4 = 12\n",
            "3 x 5 = 15\n",
            "3 x 6 = 18\n",
            "3 x 7 = 21\n",
            "3 x 8 = 24\n",
            "3 x 9 = 27\n",
            "3 x 10 = 30\n",
            "3 x 11 = 33\n",
            "3 x 12 = 36\n",
            "-----------\n",
            "4 x 1 = 4\n",
            "4 x 2 = 8\n",
            "4 x 3 = 12\n",
            "4 x 4 = 16\n",
            "4 x 5 = 20\n",
            "4 x 6 = 24\n",
            "4 x 7 = 28\n",
            "4 x 8 = 32\n",
            "4 x 9 = 36\n",
            "4 x 10 = 40\n",
            "4 x 11 = 44\n",
            "4 x 12 = 48\n",
            "-----------\n",
            "5 x 1 = 5\n",
            "5 x 2 = 10\n",
            "5 x 3 = 15\n",
            "5 x 4 = 20\n",
            "5 x 5 = 25\n",
            "5 x 6 = 30\n",
            "5 x 7 = 35\n",
            "5 x 8 = 40\n",
            "5 x 9 = 45\n",
            "5 x 10 = 50\n",
            "5 x 11 = 55\n",
            "5 x 12 = 60\n",
            "-----------\n",
            "6 x 1 = 6\n",
            "6 x 2 = 12\n",
            "6 x 3 = 18\n",
            "6 x 4 = 24\n",
            "6 x 5 = 30\n",
            "6 x 6 = 36\n",
            "6 x 7 = 42\n",
            "6 x 8 = 48\n",
            "6 x 9 = 54\n",
            "6 x 10 = 60\n",
            "6 x 11 = 66\n",
            "6 x 12 = 72\n",
            "-----------\n",
            "7 x 1 = 7\n",
            "7 x 2 = 14\n",
            "7 x 3 = 21\n",
            "7 x 4 = 28\n",
            "7 x 5 = 35\n",
            "7 x 6 = 42\n",
            "7 x 7 = 49\n",
            "7 x 8 = 56\n",
            "7 x 9 = 63\n",
            "7 x 10 = 70\n",
            "7 x 11 = 77\n",
            "7 x 12 = 84\n",
            "-----------\n",
            "8 x 1 = 8\n",
            "8 x 2 = 16\n",
            "8 x 3 = 24\n",
            "8 x 4 = 32\n",
            "8 x 5 = 40\n",
            "8 x 6 = 48\n",
            "8 x 7 = 56\n",
            "8 x 8 = 64\n",
            "8 x 9 = 72\n",
            "8 x 10 = 80\n",
            "8 x 11 = 88\n",
            "8 x 12 = 96\n",
            "-----------\n",
            "9 x 1 = 9\n",
            "9 x 2 = 18\n",
            "9 x 3 = 27\n",
            "9 x 4 = 36\n",
            "9 x 5 = 45\n",
            "9 x 6 = 54\n",
            "9 x 7 = 63\n",
            "9 x 8 = 72\n",
            "9 x 9 = 81\n",
            "9 x 10 = 90\n",
            "9 x 11 = 99\n",
            "9 x 12 = 108\n",
            "-----------\n",
            "10 x 1 = 10\n",
            "10 x 2 = 20\n",
            "10 x 3 = 30\n",
            "10 x 4 = 40\n",
            "10 x 5 = 50\n",
            "10 x 6 = 60\n",
            "10 x 7 = 70\n",
            "10 x 8 = 80\n",
            "10 x 9 = 90\n",
            "10 x 10 = 100\n",
            "10 x 11 = 110\n",
            "10 x 12 = 120\n",
            "-----------\n",
            "11 x 1 = 11\n",
            "11 x 2 = 22\n",
            "11 x 3 = 33\n",
            "11 x 4 = 44\n",
            "11 x 5 = 55\n",
            "11 x 6 = 66\n",
            "11 x 7 = 77\n",
            "11 x 8 = 88\n",
            "11 x 9 = 99\n",
            "11 x 10 = 110\n",
            "11 x 11 = 121\n",
            "11 x 12 = 132\n",
            "-----------\n",
            "12 x 1 = 12\n",
            "12 x 2 = 24\n",
            "12 x 3 = 36\n",
            "12 x 4 = 48\n",
            "12 x 5 = 60\n",
            "12 x 6 = 72\n",
            "12 x 7 = 84\n",
            "12 x 8 = 96\n",
            "12 x 9 = 108\n",
            "12 x 10 = 120\n",
            "12 x 11 = 132\n",
            "12 x 12 = 144\n",
            "-----------\n"
          ]
        }
      ]
    },
    {
      "cell_type": "markdown",
      "source": [
        "# **07_FUNCTION**"
      ],
      "metadata": {
        "id": "zFH1BdKb2VPA"
      }
    },
    {
      "cell_type": "markdown",
      "source": [
        "##### Example 21: Function"
      ],
      "metadata": {
        "id": "8Z9Vtsy43XC0"
      }
    },
    {
      "cell_type": "code",
      "source": [
        "def my_function():\n",
        "  print(\"Hello from a function\")\n",
        "my_function()"
      ],
      "metadata": {
        "colab": {
          "base_uri": "https://localhost:8080/"
        },
        "id": "ljAqa6NHLuVd",
        "outputId": "011ae552-1dfd-4a39-ab23-8b5996958dd3"
      },
      "execution_count": null,
      "outputs": [
        {
          "output_type": "stream",
          "name": "stdout",
          "text": [
            "Hello from a function\n"
          ]
        }
      ]
    },
    {
      "cell_type": "code",
      "source": [
        "def show_student(name, organization='No organization'):\n",
        "  print('Name:',name)\n",
        "  print('Organization:',organization)\n",
        "  #print('\\n') #Enter\n",
        "\n",
        "show_student('Mr.A')\n",
        "show_student('Mr.A','BDI')\n",
        "show_student(name='Mr.A')\n",
        "show_student(organization='BDI', name='Mr.A')"
      ],
      "metadata": {
        "colab": {
          "base_uri": "https://localhost:8080/"
        },
        "id": "9mTi5RllMZ7Q",
        "outputId": "5a2dc384-2734-484c-f8c8-6f9fd6b0c999"
      },
      "execution_count": null,
      "outputs": [
        {
          "output_type": "stream",
          "name": "stdout",
          "text": [
            "Name: Mr.A\n",
            "Organization: No organization\n",
            "Name: Mr.A\n",
            "Organization: BDI\n",
            "Name: Mr.A\n",
            "Organization: No organization\n",
            "Name: Mr.A\n",
            "Organization: BDI\n"
          ]
        }
      ]
    },
    {
      "cell_type": "code",
      "source": [
        "#หาพื้นที่สามเหลี่ยมมุมฉาก\n",
        "def triangle_area(base,height):\n",
        "  area = 1/2 * base*height\n",
        "  return area\n",
        "print('Area of triangle is: ', triangle_area(10,4),'unit square')\n",
        "print('Area of triangle is: ', triangle_area(base=7,height=9),'unit square')"
      ],
      "metadata": {
        "id": "67r4fZ5a2Ygs",
        "colab": {
          "base_uri": "https://localhost:8080/"
        },
        "outputId": "90db4616-13a1-4156-b042-0e722fbd2e51"
      },
      "execution_count": null,
      "outputs": [
        {
          "output_type": "stream",
          "name": "stdout",
          "text": [
            "Area of triangle is:  20.0 unit square\n",
            "Area of triangle is:  31.5 unit square\n"
          ]
        }
      ]
    },
    {
      "cell_type": "markdown",
      "source": [
        "### **Exercise 3: Function**"
      ],
      "metadata": {
        "id": "WXmbv_tfMsT4"
      }
    },
    {
      "cell_type": "markdown",
      "source": [
        "จงสร้างฟังก์ชัน convert_month ในการแปลงเดือนจากตัวเลข เป็นชื่อเดือน โดยกำหนดให้ input อยู่ในรูปแบบของ dd-mm-yyyy"
      ],
      "metadata": {
        "id": "KycHtBOkwn6a"
      }
    },
    {
      "cell_type": "markdown",
      "source": [
        "![Screenshot 2023-07-09 200733.png](data:image/png;base64,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)"
      ],
      "metadata": {
        "id": "Iqps2rriw8mE"
      }
    },
    {
      "cell_type": "code",
      "source": [
        "#Write your code here\n",
        "def convert_month(date_string):\n",
        "  dd=date_string[0:2]\n",
        "  mm=date_string[3:5]\n",
        "  yy=date_string[6:10]\n",
        "\n",
        "  month_thai= {'01':'มกราคม','02':'กุมภาพันธ์','03':'มีนาคม','04':'เมษายน'\n",
        "              ,'05':'พฤษภาคม','06':'มิถุนายน','07':'กรกฎาคม','08':'สิงหาคม'\n",
        "              ,'09':'กันยายน','10':'ตุลาคม','11':'พฤศจิกายน','12':'ธันวาคม'\n",
        "              }\n",
        "\n",
        "  print(dd,month_thai[mm],yy)\n",
        "\n",
        "\n",
        "convert_month('19-05-2564')\n",
        "convert_month('09-09-2549')\n",
        "convert_month('31-12-2500')"
      ],
      "metadata": {
        "id": "4bnKtM6MMrah",
        "colab": {
          "base_uri": "https://localhost:8080/"
        },
        "outputId": "25915fbd-7f64-454e-9190-841c63b973f7"
      },
      "execution_count": null,
      "outputs": [
        {
          "output_type": "stream",
          "name": "stdout",
          "text": [
            "19 พฤษภาคม 2564\n",
            "09 กันยายน 2549\n",
            "31 ธันวาคม 2500\n"
          ]
        }
      ]
    },
    {
      "cell_type": "markdown",
      "source": [
        "# **08_Numpy**"
      ],
      "metadata": {
        "id": "RpMW2o4f2t46"
      }
    },
    {
      "cell_type": "code",
      "source": [
        "#import library\n",
        "import numpy as np"
      ],
      "metadata": {
        "id": "WNum6IJd7Gcu"
      },
      "execution_count": 12,
      "outputs": []
    },
    {
      "cell_type": "markdown",
      "source": [
        "### **08.1_Array**"
      ],
      "metadata": {
        "id": "T7IVk_W3_IXS"
      }
    },
    {
      "cell_type": "markdown",
      "source": [
        "##### Example 22: Array"
      ],
      "metadata": {
        "id": "M11baYog3fYR"
      }
    },
    {
      "cell_type": "markdown",
      "source": [
        "Creating Array"
      ],
      "metadata": {
        "id": "6wr05K6K_PjO"
      }
    },
    {
      "cell_type": "code",
      "source": [
        "# 1D-array\n",
        "a = np.array([1,2])\n",
        "print(a)"
      ],
      "metadata": {
        "colab": {
          "base_uri": "https://localhost:8080/"
        },
        "id": "dik37Cujs2o-",
        "outputId": "6111b0d7-3432-464b-8721-53f2d2a732f7"
      },
      "execution_count": null,
      "outputs": [
        {
          "output_type": "stream",
          "name": "stdout",
          "text": [
            "[1 2]\n"
          ]
        }
      ]
    },
    {
      "cell_type": "code",
      "source": [
        "# 2D-array\n",
        "b = np.array([[1,2],[3,4]])\n",
        "print(b)"
      ],
      "metadata": {
        "colab": {
          "base_uri": "https://localhost:8080/"
        },
        "id": "5kAl2oUp_Eum",
        "outputId": "4de3eb05-9e7d-416a-da3e-e4ceb008bb80"
      },
      "execution_count": null,
      "outputs": [
        {
          "output_type": "stream",
          "name": "stdout",
          "text": [
            "[[1 2]\n",
            " [3 4]]\n"
          ]
        }
      ]
    },
    {
      "cell_type": "code",
      "source": [
        "# 3D-array\n",
        "c = np.array([[[1,2],[3,4],[5,6]]])\n",
        "print(c)"
      ],
      "metadata": {
        "colab": {
          "base_uri": "https://localhost:8080/"
        },
        "id": "d6RlbN9GCkMV",
        "outputId": "44bef217-796f-41eb-df10-220d5164de93"
      },
      "execution_count": 13,
      "outputs": [
        {
          "output_type": "stream",
          "name": "stdout",
          "text": [
            "[[[1 2]\n",
            "  [3 4]\n",
            "  [5 6]]]\n"
          ]
        }
      ]
    },
    {
      "cell_type": "code",
      "source": [
        "# 5x2 with zero values\n",
        "d = np.zeros((5,2))   #5rows ,2columns\n",
        "print(d)"
      ],
      "metadata": {
        "colab": {
          "base_uri": "https://localhost:8080/"
        },
        "id": "OK7_zhkI7iI2",
        "outputId": "194b8bb5-e642-48e0-e8ae-d00953aa1b80"
      },
      "execution_count": null,
      "outputs": [
        {
          "output_type": "stream",
          "name": "stdout",
          "text": [
            "[[0. 0.]\n",
            " [0. 0.]\n",
            " [0. 0.]\n",
            " [0. 0.]\n",
            " [0. 0.]]\n"
          ]
        }
      ]
    },
    {
      "cell_type": "code",
      "source": [
        "# NxN with 1 values\n",
        "e = np.ones((5,5))\n",
        "print(e)"
      ],
      "metadata": {
        "colab": {
          "base_uri": "https://localhost:8080/"
        },
        "id": "1TQNQMbH7zgy",
        "outputId": "1556ac77-f96c-4be6-9424-f0c53a16fb77"
      },
      "execution_count": null,
      "outputs": [
        {
          "output_type": "stream",
          "name": "stdout",
          "text": [
            "[[1. 1. 1. 1. 1.]\n",
            " [1. 1. 1. 1. 1.]\n",
            " [1. 1. 1. 1. 1.]\n",
            " [1. 1. 1. 1. 1.]\n",
            " [1. 1. 1. 1. 1.]]\n"
          ]
        }
      ]
    },
    {
      "cell_type": "code",
      "source": [
        "# identity matrix\n",
        "f = np.eye(4)\n",
        "print(f)"
      ],
      "metadata": {
        "colab": {
          "base_uri": "https://localhost:8080/"
        },
        "id": "9mfLTbl4C8JR",
        "outputId": "ef973995-8f1a-4d46-f6b8-bf5a6e9914f2"
      },
      "execution_count": null,
      "outputs": [
        {
          "output_type": "stream",
          "name": "stdout",
          "text": [
            "[[1. 0. 0. 0.]\n",
            " [0. 1. 0. 0.]\n",
            " [0. 0. 1. 0.]\n",
            " [0. 0. 0. 1.]]\n"
          ]
        }
      ]
    },
    {
      "cell_type": "code",
      "source": [
        "# random\n",
        "g = np.random.random((3,3))\n",
        "print(g)"
      ],
      "metadata": {
        "colab": {
          "base_uri": "https://localhost:8080/"
        },
        "id": "9tdnNQuMDu5l",
        "outputId": "a998cee3-a43f-48a9-9a2e-55841889e861"
      },
      "execution_count": null,
      "outputs": [
        {
          "output_type": "stream",
          "name": "stdout",
          "text": [
            "[[0.2708727  0.92002734 0.55316313]\n",
            " [0.47544338 0.97924167 0.8591106 ]\n",
            " [0.95647221 0.45524862 0.95832883]]\n"
          ]
        }
      ]
    },
    {
      "cell_type": "markdown",
      "source": [
        "Accessing Array"
      ],
      "metadata": {
        "id": "6EAwmNrXDnhf"
      }
    },
    {
      "cell_type": "code",
      "source": [
        "arr1= np.array([1,2,3,4])\n",
        "arr1[2]"
      ],
      "metadata": {
        "colab": {
          "base_uri": "https://localhost:8080/"
        },
        "id": "kqgkZgMHRyCH",
        "outputId": "4686155b-9a2d-45cc-a819-df8d8dd2995c"
      },
      "execution_count": null,
      "outputs": [
        {
          "output_type": "execute_result",
          "data": {
            "text/plain": [
              "3"
            ]
          },
          "metadata": {},
          "execution_count": 134
        }
      ]
    },
    {
      "cell_type": "code",
      "source": [
        "arr1[:3]"
      ],
      "metadata": {
        "colab": {
          "base_uri": "https://localhost:8080/"
        },
        "id": "7hJVrR6dSGp2",
        "outputId": "aae854b5-51d1-4ae5-ad1c-6ef575f6cbc0"
      },
      "execution_count": null,
      "outputs": [
        {
          "output_type": "execute_result",
          "data": {
            "text/plain": [
              "array([1, 2, 3])"
            ]
          },
          "metadata": {},
          "execution_count": 135
        }
      ]
    },
    {
      "cell_type": "code",
      "source": [
        "arr2= np.array([[1,2,3,4],[2,3,2,1],[4,4,2,1]])\n",
        "arr2[2]"
      ],
      "metadata": {
        "id": "oR0WY47xEPax",
        "colab": {
          "base_uri": "https://localhost:8080/"
        },
        "outputId": "b15bf5bb-8fca-462a-9744-c86a1146832f"
      },
      "execution_count": null,
      "outputs": [
        {
          "output_type": "execute_result",
          "data": {
            "text/plain": [
              "array([4, 4, 2, 1])"
            ]
          },
          "metadata": {},
          "execution_count": 137
        }
      ]
    },
    {
      "cell_type": "code",
      "source": [
        "arr2[2][2]"
      ],
      "metadata": {
        "colab": {
          "base_uri": "https://localhost:8080/"
        },
        "id": "F_nob_LJGE5b",
        "outputId": "ea3324a5-4fc0-44ac-bfbb-caef54a78316"
      },
      "execution_count": null,
      "outputs": [
        {
          "output_type": "execute_result",
          "data": {
            "text/plain": [
              "2"
            ]
          },
          "metadata": {},
          "execution_count": 138
        }
      ]
    },
    {
      "cell_type": "markdown",
      "source": [
        "Basic Math"
      ],
      "metadata": {
        "id": "SQI70a83TMRj"
      }
    },
    {
      "cell_type": "code",
      "source": [
        "ar1 = np.array([1,2,3,4,5,6])\n",
        "ar2 = np.array([7,8,9,10,11,12])"
      ],
      "metadata": {
        "id": "R854EYUqTOlo"
      },
      "execution_count": null,
      "outputs": []
    },
    {
      "cell_type": "code",
      "source": [
        "r1=np.add(ar1,ar2)      #ar1+ar2\n",
        "r2=np.subtract(ar1,ar2) #ar1-ar2\n",
        "r3=np.multiply(ar1,ar2) #ar1*ar2\n",
        "r4=np.divide(ar1,ar2)   #ar1/ar2\n",
        "r5=np.sum(ar1)\n",
        "r6=np.average(ar1)\n",
        "r7=np.sqrt(ar1)\n",
        "print([r1])\n",
        "print([r2])\n",
        "print([r3])\n",
        "print([r4.round(3)])\n",
        "print([r5])\n",
        "print([r6])\n",
        "print([r7.round(2)])"
      ],
      "metadata": {
        "colab": {
          "base_uri": "https://localhost:8080/"
        },
        "id": "M5rMFPnYTV4O",
        "outputId": "cef68cb5-418d-48ad-d141-2f832e452a7e"
      },
      "execution_count": null,
      "outputs": [
        {
          "output_type": "stream",
          "name": "stdout",
          "text": [
            "[array([ 8, 10, 12, 14, 16, 18])]\n",
            "[array([-6, -6, -6, -6, -6, -6])]\n",
            "[array([ 7, 16, 27, 40, 55, 72])]\n",
            "[array([0.143, 0.25 , 0.333, 0.4  , 0.455, 0.5  ])]\n",
            "[21]\n",
            "[3.5]\n",
            "[array([1.  , 1.41, 1.73, 2.  , 2.24, 2.45])]\n"
          ]
        }
      ]
    },
    {
      "cell_type": "markdown",
      "source": [
        "Reshaping"
      ],
      "metadata": {
        "id": "HRdnzWdhkGTy"
      }
    },
    {
      "cell_type": "code",
      "source": [
        "ar3 = np.array([[1,2], [3,4], [5,6]])\n",
        "ar3.shape"
      ],
      "metadata": {
        "colab": {
          "base_uri": "https://localhost:8080/"
        },
        "id": "ijPHJTVQU3NU",
        "outputId": "df19d53c-fdca-4c02-f3c5-6fb55bfe682f"
      },
      "execution_count": null,
      "outputs": [
        {
          "output_type": "execute_result",
          "data": {
            "text/plain": [
              "(3, 2)"
            ]
          },
          "metadata": {},
          "execution_count": 141
        }
      ]
    },
    {
      "cell_type": "code",
      "source": [
        "ar3.reshape(2,3)"
      ],
      "metadata": {
        "colab": {
          "base_uri": "https://localhost:8080/"
        },
        "id": "SOFZI-V8gPO7",
        "outputId": "41f599b8-cb21-4bcf-c0ab-ec561c60a24b"
      },
      "execution_count": null,
      "outputs": [
        {
          "output_type": "execute_result",
          "data": {
            "text/plain": [
              "array([[1, 2, 3],\n",
              "       [4, 5, 6]])"
            ]
          },
          "metadata": {},
          "execution_count": 142
        }
      ]
    },
    {
      "cell_type": "markdown",
      "source": [
        "Transpose"
      ],
      "metadata": {
        "id": "z0s5mF7ej1zU"
      }
    },
    {
      "cell_type": "code",
      "source": [
        "#generate new array and reshape\n",
        "ar4 = np.arange(9).reshape((3,3))\n",
        "ar4"
      ],
      "metadata": {
        "colab": {
          "base_uri": "https://localhost:8080/"
        },
        "id": "0cADGuZLgfh6",
        "outputId": "6f2809de-14b7-45db-94ac-dc44f88b958a"
      },
      "execution_count": null,
      "outputs": [
        {
          "output_type": "execute_result",
          "data": {
            "text/plain": [
              "array([[0, 1, 2],\n",
              "       [3, 4, 5],\n",
              "       [6, 7, 8]])"
            ]
          },
          "metadata": {},
          "execution_count": 143
        }
      ]
    },
    {
      "cell_type": "code",
      "source": [
        "ar4.T"
      ],
      "metadata": {
        "colab": {
          "base_uri": "https://localhost:8080/"
        },
        "id": "yxxoWbCOkAi6",
        "outputId": "3f1ce652-e7bc-4fe3-f297-43c3dd53f2c8"
      },
      "execution_count": null,
      "outputs": [
        {
          "output_type": "execute_result",
          "data": {
            "text/plain": [
              "array([[0, 3, 6],\n",
              "       [1, 4, 7],\n",
              "       [2, 5, 8]])"
            ]
          },
          "metadata": {},
          "execution_count": 144
        }
      ]
    },
    {
      "cell_type": "markdown",
      "source": [
        "# **09_Pandas**"
      ],
      "metadata": {
        "id": "dbz9apvL2xxw"
      }
    },
    {
      "cell_type": "code",
      "source": [
        "#import library\n",
        "import pandas as pd"
      ],
      "metadata": {
        "id": "RG0UQ1B020vN"
      },
      "execution_count": 15,
      "outputs": []
    },
    {
      "cell_type": "markdown",
      "source": [
        "##### Example 23: Creating DataFrame"
      ],
      "metadata": {
        "id": "TkKhfpaT3IjG"
      }
    },
    {
      "cell_type": "code",
      "source": [
        "# 1.Basic Creating DataFrame\n",
        "df=pd.DataFrame(columns=['Name','Gender','Age'])\n",
        "df"
      ],
      "metadata": {
        "colab": {
          "base_uri": "https://localhost:8080/",
          "height": 49
        },
        "id": "OkRJ4Wsb2N6n",
        "outputId": "be8ab165-ba40-494a-cb76-50568342b333"
      },
      "execution_count": null,
      "outputs": [
        {
          "output_type": "execute_result",
          "data": {
            "text/plain": [
              "Empty DataFrame\n",
              "Columns: [Name, Gender, Age]\n",
              "Index: []"
            ],
            "text/html": [
              "\n",
              "  <div id=\"df-774bf438-ec08-4451-9a18-f4f4c1b858cc\">\n",
              "    <div class=\"colab-df-container\">\n",
              "      <div>\n",
              "<style scoped>\n",
              "    .dataframe tbody tr th:only-of-type {\n",
              "        vertical-align: middle;\n",
              "    }\n",
              "\n",
              "    .dataframe tbody tr th {\n",
              "        vertical-align: top;\n",
              "    }\n",
              "\n",
              "    .dataframe thead th {\n",
              "        text-align: right;\n",
              "    }\n",
              "</style>\n",
              "<table border=\"1\" class=\"dataframe\">\n",
              "  <thead>\n",
              "    <tr style=\"text-align: right;\">\n",
              "      <th></th>\n",
              "      <th>Name</th>\n",
              "      <th>Gender</th>\n",
              "      <th>Age</th>\n",
              "    </tr>\n",
              "  </thead>\n",
              "  <tbody>\n",
              "  </tbody>\n",
              "</table>\n",
              "</div>\n",
              "      <button class=\"colab-df-convert\" onclick=\"convertToInteractive('df-774bf438-ec08-4451-9a18-f4f4c1b858cc')\"\n",
              "              title=\"Convert this dataframe to an interactive table.\"\n",
              "              style=\"display:none;\">\n",
              "        \n",
              "  <svg xmlns=\"http://www.w3.org/2000/svg\" height=\"24px\"viewBox=\"0 0 24 24\"\n",
              "       width=\"24px\">\n",
              "    <path d=\"M0 0h24v24H0V0z\" fill=\"none\"/>\n",
              "    <path d=\"M18.56 5.44l.94 2.06.94-2.06 2.06-.94-2.06-.94-.94-2.06-.94 2.06-2.06.94zm-11 1L8.5 8.5l.94-2.06 2.06-.94-2.06-.94L8.5 2.5l-.94 2.06-2.06.94zm10 10l.94 2.06.94-2.06 2.06-.94-2.06-.94-.94-2.06-.94 2.06-2.06.94z\"/><path d=\"M17.41 7.96l-1.37-1.37c-.4-.4-.92-.59-1.43-.59-.52 0-1.04.2-1.43.59L10.3 9.45l-7.72 7.72c-.78.78-.78 2.05 0 2.83L4 21.41c.39.39.9.59 1.41.59.51 0 1.02-.2 1.41-.59l7.78-7.78 2.81-2.81c.8-.78.8-2.07 0-2.86zM5.41 20L4 18.59l7.72-7.72 1.47 1.35L5.41 20z\"/>\n",
              "  </svg>\n",
              "      </button>\n",
              "      \n",
              "  <style>\n",
              "    .colab-df-container {\n",
              "      display:flex;\n",
              "      flex-wrap:wrap;\n",
              "      gap: 12px;\n",
              "    }\n",
              "\n",
              "    .colab-df-convert {\n",
              "      background-color: #E8F0FE;\n",
              "      border: none;\n",
              "      border-radius: 50%;\n",
              "      cursor: pointer;\n",
              "      display: none;\n",
              "      fill: #1967D2;\n",
              "      height: 32px;\n",
              "      padding: 0 0 0 0;\n",
              "      width: 32px;\n",
              "    }\n",
              "\n",
              "    .colab-df-convert:hover {\n",
              "      background-color: #E2EBFA;\n",
              "      box-shadow: 0px 1px 2px rgba(60, 64, 67, 0.3), 0px 1px 3px 1px rgba(60, 64, 67, 0.15);\n",
              "      fill: #174EA6;\n",
              "    }\n",
              "\n",
              "    [theme=dark] .colab-df-convert {\n",
              "      background-color: #3B4455;\n",
              "      fill: #D2E3FC;\n",
              "    }\n",
              "\n",
              "    [theme=dark] .colab-df-convert:hover {\n",
              "      background-color: #434B5C;\n",
              "      box-shadow: 0px 1px 3px 1px rgba(0, 0, 0, 0.15);\n",
              "      filter: drop-shadow(0px 1px 2px rgba(0, 0, 0, 0.3));\n",
              "      fill: #FFFFFF;\n",
              "    }\n",
              "  </style>\n",
              "\n",
              "      <script>\n",
              "        const buttonEl =\n",
              "          document.querySelector('#df-774bf438-ec08-4451-9a18-f4f4c1b858cc button.colab-df-convert');\n",
              "        buttonEl.style.display =\n",
              "          google.colab.kernel.accessAllowed ? 'block' : 'none';\n",
              "\n",
              "        async function convertToInteractive(key) {\n",
              "          const element = document.querySelector('#df-774bf438-ec08-4451-9a18-f4f4c1b858cc');\n",
              "          const dataTable =\n",
              "            await google.colab.kernel.invokeFunction('convertToInteractive',\n",
              "                                                     [key], {});\n",
              "          if (!dataTable) return;\n",
              "\n",
              "          const docLinkHtml = 'Like what you see? Visit the ' +\n",
              "            '<a target=\"_blank\" href=https://colab.research.google.com/notebooks/data_table.ipynb>data table notebook</a>'\n",
              "            + ' to learn more about interactive tables.';\n",
              "          element.innerHTML = '';\n",
              "          dataTable['output_type'] = 'display_data';\n",
              "          await google.colab.output.renderOutput(dataTable, element);\n",
              "          const docLink = document.createElement('div');\n",
              "          docLink.innerHTML = docLinkHtml;\n",
              "          element.appendChild(docLink);\n",
              "        }\n",
              "      </script>\n",
              "    </div>\n",
              "  </div>\n",
              "  "
            ]
          },
          "metadata": {},
          "execution_count": 146
        }
      ]
    },
    {
      "cell_type": "code",
      "source": [
        "df.loc[0]=['Annie','Female',23]\n",
        "df.loc[1]=['Tom', 'Male', 57]\n",
        "df.loc[2]=['Eddy', 'Male', 35]\n",
        "df"
      ],
      "metadata": {
        "colab": {
          "base_uri": "https://localhost:8080/",
          "height": 143
        },
        "id": "juqnDGZM2d3a",
        "outputId": "36371c45-9d42-4308-aa8e-548961c52be4"
      },
      "execution_count": null,
      "outputs": [
        {
          "output_type": "execute_result",
          "data": {
            "text/plain": [
              "    Name  Gender  Age\n",
              "0  Annie  Female   23\n",
              "1    Tom    Male   57\n",
              "2   Eddy    Male   35"
            ],
            "text/html": [
              "\n",
              "  <div id=\"df-a665f580-4564-4064-9131-6dc6a1a988a4\">\n",
              "    <div class=\"colab-df-container\">\n",
              "      <div>\n",
              "<style scoped>\n",
              "    .dataframe tbody tr th:only-of-type {\n",
              "        vertical-align: middle;\n",
              "    }\n",
              "\n",
              "    .dataframe tbody tr th {\n",
              "        vertical-align: top;\n",
              "    }\n",
              "\n",
              "    .dataframe thead th {\n",
              "        text-align: right;\n",
              "    }\n",
              "</style>\n",
              "<table border=\"1\" class=\"dataframe\">\n",
              "  <thead>\n",
              "    <tr style=\"text-align: right;\">\n",
              "      <th></th>\n",
              "      <th>Name</th>\n",
              "      <th>Gender</th>\n",
              "      <th>Age</th>\n",
              "    </tr>\n",
              "  </thead>\n",
              "  <tbody>\n",
              "    <tr>\n",
              "      <th>0</th>\n",
              "      <td>Annie</td>\n",
              "      <td>Female</td>\n",
              "      <td>23</td>\n",
              "    </tr>\n",
              "    <tr>\n",
              "      <th>1</th>\n",
              "      <td>Tom</td>\n",
              "      <td>Male</td>\n",
              "      <td>57</td>\n",
              "    </tr>\n",
              "    <tr>\n",
              "      <th>2</th>\n",
              "      <td>Eddy</td>\n",
              "      <td>Male</td>\n",
              "      <td>35</td>\n",
              "    </tr>\n",
              "  </tbody>\n",
              "</table>\n",
              "</div>\n",
              "      <button class=\"colab-df-convert\" onclick=\"convertToInteractive('df-a665f580-4564-4064-9131-6dc6a1a988a4')\"\n",
              "              title=\"Convert this dataframe to an interactive table.\"\n",
              "              style=\"display:none;\">\n",
              "        \n",
              "  <svg xmlns=\"http://www.w3.org/2000/svg\" height=\"24px\"viewBox=\"0 0 24 24\"\n",
              "       width=\"24px\">\n",
              "    <path d=\"M0 0h24v24H0V0z\" fill=\"none\"/>\n",
              "    <path d=\"M18.56 5.44l.94 2.06.94-2.06 2.06-.94-2.06-.94-.94-2.06-.94 2.06-2.06.94zm-11 1L8.5 8.5l.94-2.06 2.06-.94-2.06-.94L8.5 2.5l-.94 2.06-2.06.94zm10 10l.94 2.06.94-2.06 2.06-.94-2.06-.94-.94-2.06-.94 2.06-2.06.94z\"/><path d=\"M17.41 7.96l-1.37-1.37c-.4-.4-.92-.59-1.43-.59-.52 0-1.04.2-1.43.59L10.3 9.45l-7.72 7.72c-.78.78-.78 2.05 0 2.83L4 21.41c.39.39.9.59 1.41.59.51 0 1.02-.2 1.41-.59l7.78-7.78 2.81-2.81c.8-.78.8-2.07 0-2.86zM5.41 20L4 18.59l7.72-7.72 1.47 1.35L5.41 20z\"/>\n",
              "  </svg>\n",
              "      </button>\n",
              "      \n",
              "  <style>\n",
              "    .colab-df-container {\n",
              "      display:flex;\n",
              "      flex-wrap:wrap;\n",
              "      gap: 12px;\n",
              "    }\n",
              "\n",
              "    .colab-df-convert {\n",
              "      background-color: #E8F0FE;\n",
              "      border: none;\n",
              "      border-radius: 50%;\n",
              "      cursor: pointer;\n",
              "      display: none;\n",
              "      fill: #1967D2;\n",
              "      height: 32px;\n",
              "      padding: 0 0 0 0;\n",
              "      width: 32px;\n",
              "    }\n",
              "\n",
              "    .colab-df-convert:hover {\n",
              "      background-color: #E2EBFA;\n",
              "      box-shadow: 0px 1px 2px rgba(60, 64, 67, 0.3), 0px 1px 3px 1px rgba(60, 64, 67, 0.15);\n",
              "      fill: #174EA6;\n",
              "    }\n",
              "\n",
              "    [theme=dark] .colab-df-convert {\n",
              "      background-color: #3B4455;\n",
              "      fill: #D2E3FC;\n",
              "    }\n",
              "\n",
              "    [theme=dark] .colab-df-convert:hover {\n",
              "      background-color: #434B5C;\n",
              "      box-shadow: 0px 1px 3px 1px rgba(0, 0, 0, 0.15);\n",
              "      filter: drop-shadow(0px 1px 2px rgba(0, 0, 0, 0.3));\n",
              "      fill: #FFFFFF;\n",
              "    }\n",
              "  </style>\n",
              "\n",
              "      <script>\n",
              "        const buttonEl =\n",
              "          document.querySelector('#df-a665f580-4564-4064-9131-6dc6a1a988a4 button.colab-df-convert');\n",
              "        buttonEl.style.display =\n",
              "          google.colab.kernel.accessAllowed ? 'block' : 'none';\n",
              "\n",
              "        async function convertToInteractive(key) {\n",
              "          const element = document.querySelector('#df-a665f580-4564-4064-9131-6dc6a1a988a4');\n",
              "          const dataTable =\n",
              "            await google.colab.kernel.invokeFunction('convertToInteractive',\n",
              "                                                     [key], {});\n",
              "          if (!dataTable) return;\n",
              "\n",
              "          const docLinkHtml = 'Like what you see? Visit the ' +\n",
              "            '<a target=\"_blank\" href=https://colab.research.google.com/notebooks/data_table.ipynb>data table notebook</a>'\n",
              "            + ' to learn more about interactive tables.';\n",
              "          element.innerHTML = '';\n",
              "          dataTable['output_type'] = 'display_data';\n",
              "          await google.colab.output.renderOutput(dataTable, element);\n",
              "          const docLink = document.createElement('div');\n",
              "          docLink.innerHTML = docLinkHtml;\n",
              "          element.appendChild(docLink);\n",
              "        }\n",
              "      </script>\n",
              "    </div>\n",
              "  </div>\n",
              "  "
            ]
          },
          "metadata": {},
          "execution_count": 147
        }
      ]
    },
    {
      "cell_type": "code",
      "source": [
        "# 2.Creating DataFrame from a Dictionary\n",
        "d1 = {'Name': ['Annie', 'Tom','Eddy'], 'Gender': ['Female', 'Male', 'Male'], 'Age':[23, 57, 35]}\n",
        "df = pd.DataFrame(d1)\n",
        "df"
      ],
      "metadata": {
        "colab": {
          "base_uri": "https://localhost:8080/",
          "height": 143
        },
        "id": "JadHcGkeagEf",
        "outputId": "4db8cb00-b0f0-4e7a-c9cb-a3c90b1da984"
      },
      "execution_count": null,
      "outputs": [
        {
          "output_type": "execute_result",
          "data": {
            "text/plain": [
              "    Name  Gender  Age\n",
              "0  Annie  Female   23\n",
              "1    Tom    Male   57\n",
              "2   Eddy    Male   35"
            ],
            "text/html": [
              "\n",
              "  <div id=\"df-a1e4d1b8-0ede-433d-8c9f-0f95c55b8a5d\">\n",
              "    <div class=\"colab-df-container\">\n",
              "      <div>\n",
              "<style scoped>\n",
              "    .dataframe tbody tr th:only-of-type {\n",
              "        vertical-align: middle;\n",
              "    }\n",
              "\n",
              "    .dataframe tbody tr th {\n",
              "        vertical-align: top;\n",
              "    }\n",
              "\n",
              "    .dataframe thead th {\n",
              "        text-align: right;\n",
              "    }\n",
              "</style>\n",
              "<table border=\"1\" class=\"dataframe\">\n",
              "  <thead>\n",
              "    <tr style=\"text-align: right;\">\n",
              "      <th></th>\n",
              "      <th>Name</th>\n",
              "      <th>Gender</th>\n",
              "      <th>Age</th>\n",
              "    </tr>\n",
              "  </thead>\n",
              "  <tbody>\n",
              "    <tr>\n",
              "      <th>0</th>\n",
              "      <td>Annie</td>\n",
              "      <td>Female</td>\n",
              "      <td>23</td>\n",
              "    </tr>\n",
              "    <tr>\n",
              "      <th>1</th>\n",
              "      <td>Tom</td>\n",
              "      <td>Male</td>\n",
              "      <td>57</td>\n",
              "    </tr>\n",
              "    <tr>\n",
              "      <th>2</th>\n",
              "      <td>Eddy</td>\n",
              "      <td>Male</td>\n",
              "      <td>35</td>\n",
              "    </tr>\n",
              "  </tbody>\n",
              "</table>\n",
              "</div>\n",
              "      <button class=\"colab-df-convert\" onclick=\"convertToInteractive('df-a1e4d1b8-0ede-433d-8c9f-0f95c55b8a5d')\"\n",
              "              title=\"Convert this dataframe to an interactive table.\"\n",
              "              style=\"display:none;\">\n",
              "        \n",
              "  <svg xmlns=\"http://www.w3.org/2000/svg\" height=\"24px\"viewBox=\"0 0 24 24\"\n",
              "       width=\"24px\">\n",
              "    <path d=\"M0 0h24v24H0V0z\" fill=\"none\"/>\n",
              "    <path d=\"M18.56 5.44l.94 2.06.94-2.06 2.06-.94-2.06-.94-.94-2.06-.94 2.06-2.06.94zm-11 1L8.5 8.5l.94-2.06 2.06-.94-2.06-.94L8.5 2.5l-.94 2.06-2.06.94zm10 10l.94 2.06.94-2.06 2.06-.94-2.06-.94-.94-2.06-.94 2.06-2.06.94z\"/><path d=\"M17.41 7.96l-1.37-1.37c-.4-.4-.92-.59-1.43-.59-.52 0-1.04.2-1.43.59L10.3 9.45l-7.72 7.72c-.78.78-.78 2.05 0 2.83L4 21.41c.39.39.9.59 1.41.59.51 0 1.02-.2 1.41-.59l7.78-7.78 2.81-2.81c.8-.78.8-2.07 0-2.86zM5.41 20L4 18.59l7.72-7.72 1.47 1.35L5.41 20z\"/>\n",
              "  </svg>\n",
              "      </button>\n",
              "      \n",
              "  <style>\n",
              "    .colab-df-container {\n",
              "      display:flex;\n",
              "      flex-wrap:wrap;\n",
              "      gap: 12px;\n",
              "    }\n",
              "\n",
              "    .colab-df-convert {\n",
              "      background-color: #E8F0FE;\n",
              "      border: none;\n",
              "      border-radius: 50%;\n",
              "      cursor: pointer;\n",
              "      display: none;\n",
              "      fill: #1967D2;\n",
              "      height: 32px;\n",
              "      padding: 0 0 0 0;\n",
              "      width: 32px;\n",
              "    }\n",
              "\n",
              "    .colab-df-convert:hover {\n",
              "      background-color: #E2EBFA;\n",
              "      box-shadow: 0px 1px 2px rgba(60, 64, 67, 0.3), 0px 1px 3px 1px rgba(60, 64, 67, 0.15);\n",
              "      fill: #174EA6;\n",
              "    }\n",
              "\n",
              "    [theme=dark] .colab-df-convert {\n",
              "      background-color: #3B4455;\n",
              "      fill: #D2E3FC;\n",
              "    }\n",
              "\n",
              "    [theme=dark] .colab-df-convert:hover {\n",
              "      background-color: #434B5C;\n",
              "      box-shadow: 0px 1px 3px 1px rgba(0, 0, 0, 0.15);\n",
              "      filter: drop-shadow(0px 1px 2px rgba(0, 0, 0, 0.3));\n",
              "      fill: #FFFFFF;\n",
              "    }\n",
              "  </style>\n",
              "\n",
              "      <script>\n",
              "        const buttonEl =\n",
              "          document.querySelector('#df-a1e4d1b8-0ede-433d-8c9f-0f95c55b8a5d button.colab-df-convert');\n",
              "        buttonEl.style.display =\n",
              "          google.colab.kernel.accessAllowed ? 'block' : 'none';\n",
              "\n",
              "        async function convertToInteractive(key) {\n",
              "          const element = document.querySelector('#df-a1e4d1b8-0ede-433d-8c9f-0f95c55b8a5d');\n",
              "          const dataTable =\n",
              "            await google.colab.kernel.invokeFunction('convertToInteractive',\n",
              "                                                     [key], {});\n",
              "          if (!dataTable) return;\n",
              "\n",
              "          const docLinkHtml = 'Like what you see? Visit the ' +\n",
              "            '<a target=\"_blank\" href=https://colab.research.google.com/notebooks/data_table.ipynb>data table notebook</a>'\n",
              "            + ' to learn more about interactive tables.';\n",
              "          element.innerHTML = '';\n",
              "          dataTable['output_type'] = 'display_data';\n",
              "          await google.colab.output.renderOutput(dataTable, element);\n",
              "          const docLink = document.createElement('div');\n",
              "          docLink.innerHTML = docLinkHtml;\n",
              "          element.appendChild(docLink);\n",
              "        }\n",
              "      </script>\n",
              "    </div>\n",
              "  </div>\n",
              "  "
            ]
          },
          "metadata": {},
          "execution_count": 148
        }
      ]
    },
    {
      "cell_type": "code",
      "source": [
        "# 3.Creating DataFrame from a List\n",
        "a_list = [['Annie', 'Female', 23], ['Tom', 'Male', 57], ['Eddy', 'Male', 35]]\n",
        "df = pd.DataFrame(a_list,columns=['Name','Gender','Age'])\n",
        "df"
      ],
      "metadata": {
        "id": "0Ny5PkSHjJIL",
        "colab": {
          "base_uri": "https://localhost:8080/",
          "height": 143
        },
        "outputId": "426f6dd9-8659-4a84-f13f-174781c7da1c"
      },
      "execution_count": null,
      "outputs": [
        {
          "output_type": "execute_result",
          "data": {
            "text/plain": [
              "    Name  Gender  Age\n",
              "0  Annie  Female   23\n",
              "1    Tom    Male   57\n",
              "2   Eddy    Male   35"
            ],
            "text/html": [
              "\n",
              "  <div id=\"df-98b85022-b851-431d-a51b-4dc7536ca22a\">\n",
              "    <div class=\"colab-df-container\">\n",
              "      <div>\n",
              "<style scoped>\n",
              "    .dataframe tbody tr th:only-of-type {\n",
              "        vertical-align: middle;\n",
              "    }\n",
              "\n",
              "    .dataframe tbody tr th {\n",
              "        vertical-align: top;\n",
              "    }\n",
              "\n",
              "    .dataframe thead th {\n",
              "        text-align: right;\n",
              "    }\n",
              "</style>\n",
              "<table border=\"1\" class=\"dataframe\">\n",
              "  <thead>\n",
              "    <tr style=\"text-align: right;\">\n",
              "      <th></th>\n",
              "      <th>Name</th>\n",
              "      <th>Gender</th>\n",
              "      <th>Age</th>\n",
              "    </tr>\n",
              "  </thead>\n",
              "  <tbody>\n",
              "    <tr>\n",
              "      <th>0</th>\n",
              "      <td>Annie</td>\n",
              "      <td>Female</td>\n",
              "      <td>23</td>\n",
              "    </tr>\n",
              "    <tr>\n",
              "      <th>1</th>\n",
              "      <td>Tom</td>\n",
              "      <td>Male</td>\n",
              "      <td>57</td>\n",
              "    </tr>\n",
              "    <tr>\n",
              "      <th>2</th>\n",
              "      <td>Eddy</td>\n",
              "      <td>Male</td>\n",
              "      <td>35</td>\n",
              "    </tr>\n",
              "  </tbody>\n",
              "</table>\n",
              "</div>\n",
              "      <button class=\"colab-df-convert\" onclick=\"convertToInteractive('df-98b85022-b851-431d-a51b-4dc7536ca22a')\"\n",
              "              title=\"Convert this dataframe to an interactive table.\"\n",
              "              style=\"display:none;\">\n",
              "        \n",
              "  <svg xmlns=\"http://www.w3.org/2000/svg\" height=\"24px\"viewBox=\"0 0 24 24\"\n",
              "       width=\"24px\">\n",
              "    <path d=\"M0 0h24v24H0V0z\" fill=\"none\"/>\n",
              "    <path d=\"M18.56 5.44l.94 2.06.94-2.06 2.06-.94-2.06-.94-.94-2.06-.94 2.06-2.06.94zm-11 1L8.5 8.5l.94-2.06 2.06-.94-2.06-.94L8.5 2.5l-.94 2.06-2.06.94zm10 10l.94 2.06.94-2.06 2.06-.94-2.06-.94-.94-2.06-.94 2.06-2.06.94z\"/><path d=\"M17.41 7.96l-1.37-1.37c-.4-.4-.92-.59-1.43-.59-.52 0-1.04.2-1.43.59L10.3 9.45l-7.72 7.72c-.78.78-.78 2.05 0 2.83L4 21.41c.39.39.9.59 1.41.59.51 0 1.02-.2 1.41-.59l7.78-7.78 2.81-2.81c.8-.78.8-2.07 0-2.86zM5.41 20L4 18.59l7.72-7.72 1.47 1.35L5.41 20z\"/>\n",
              "  </svg>\n",
              "      </button>\n",
              "      \n",
              "  <style>\n",
              "    .colab-df-container {\n",
              "      display:flex;\n",
              "      flex-wrap:wrap;\n",
              "      gap: 12px;\n",
              "    }\n",
              "\n",
              "    .colab-df-convert {\n",
              "      background-color: #E8F0FE;\n",
              "      border: none;\n",
              "      border-radius: 50%;\n",
              "      cursor: pointer;\n",
              "      display: none;\n",
              "      fill: #1967D2;\n",
              "      height: 32px;\n",
              "      padding: 0 0 0 0;\n",
              "      width: 32px;\n",
              "    }\n",
              "\n",
              "    .colab-df-convert:hover {\n",
              "      background-color: #E2EBFA;\n",
              "      box-shadow: 0px 1px 2px rgba(60, 64, 67, 0.3), 0px 1px 3px 1px rgba(60, 64, 67, 0.15);\n",
              "      fill: #174EA6;\n",
              "    }\n",
              "\n",
              "    [theme=dark] .colab-df-convert {\n",
              "      background-color: #3B4455;\n",
              "      fill: #D2E3FC;\n",
              "    }\n",
              "\n",
              "    [theme=dark] .colab-df-convert:hover {\n",
              "      background-color: #434B5C;\n",
              "      box-shadow: 0px 1px 3px 1px rgba(0, 0, 0, 0.15);\n",
              "      filter: drop-shadow(0px 1px 2px rgba(0, 0, 0, 0.3));\n",
              "      fill: #FFFFFF;\n",
              "    }\n",
              "  </style>\n",
              "\n",
              "      <script>\n",
              "        const buttonEl =\n",
              "          document.querySelector('#df-98b85022-b851-431d-a51b-4dc7536ca22a button.colab-df-convert');\n",
              "        buttonEl.style.display =\n",
              "          google.colab.kernel.accessAllowed ? 'block' : 'none';\n",
              "\n",
              "        async function convertToInteractive(key) {\n",
              "          const element = document.querySelector('#df-98b85022-b851-431d-a51b-4dc7536ca22a');\n",
              "          const dataTable =\n",
              "            await google.colab.kernel.invokeFunction('convertToInteractive',\n",
              "                                                     [key], {});\n",
              "          if (!dataTable) return;\n",
              "\n",
              "          const docLinkHtml = 'Like what you see? Visit the ' +\n",
              "            '<a target=\"_blank\" href=https://colab.research.google.com/notebooks/data_table.ipynb>data table notebook</a>'\n",
              "            + ' to learn more about interactive tables.';\n",
              "          element.innerHTML = '';\n",
              "          dataTable['output_type'] = 'display_data';\n",
              "          await google.colab.output.renderOutput(dataTable, element);\n",
              "          const docLink = document.createElement('div');\n",
              "          docLink.innerHTML = docLinkHtml;\n",
              "          element.appendChild(docLink);\n",
              "        }\n",
              "      </script>\n",
              "    </div>\n",
              "  </div>\n",
              "  "
            ]
          },
          "metadata": {},
          "execution_count": 149
        }
      ]
    },
    {
      "cell_type": "code",
      "source": [
        "# 4.Creating DataFrame from an Array\n",
        "arr3=np.arange(9).reshape(3,3)\n",
        "arr3\n",
        "\n",
        "df=pd.DataFrame(arr3,columns=['A','B','C'])\n",
        "df\n"
      ],
      "metadata": {
        "id": "_fNeDueIj8pU",
        "colab": {
          "base_uri": "https://localhost:8080/",
          "height": 143
        },
        "outputId": "ab996d0b-0a1f-451d-97d6-1624805780af"
      },
      "execution_count": null,
      "outputs": [
        {
          "output_type": "execute_result",
          "data": {
            "text/plain": [
              "   A  B  C\n",
              "0  0  1  2\n",
              "1  3  4  5\n",
              "2  6  7  8"
            ],
            "text/html": [
              "\n",
              "  <div id=\"df-ba03f507-be72-409a-b258-a6da5ec0f75b\">\n",
              "    <div class=\"colab-df-container\">\n",
              "      <div>\n",
              "<style scoped>\n",
              "    .dataframe tbody tr th:only-of-type {\n",
              "        vertical-align: middle;\n",
              "    }\n",
              "\n",
              "    .dataframe tbody tr th {\n",
              "        vertical-align: top;\n",
              "    }\n",
              "\n",
              "    .dataframe thead th {\n",
              "        text-align: right;\n",
              "    }\n",
              "</style>\n",
              "<table border=\"1\" class=\"dataframe\">\n",
              "  <thead>\n",
              "    <tr style=\"text-align: right;\">\n",
              "      <th></th>\n",
              "      <th>A</th>\n",
              "      <th>B</th>\n",
              "      <th>C</th>\n",
              "    </tr>\n",
              "  </thead>\n",
              "  <tbody>\n",
              "    <tr>\n",
              "      <th>0</th>\n",
              "      <td>0</td>\n",
              "      <td>1</td>\n",
              "      <td>2</td>\n",
              "    </tr>\n",
              "    <tr>\n",
              "      <th>1</th>\n",
              "      <td>3</td>\n",
              "      <td>4</td>\n",
              "      <td>5</td>\n",
              "    </tr>\n",
              "    <tr>\n",
              "      <th>2</th>\n",
              "      <td>6</td>\n",
              "      <td>7</td>\n",
              "      <td>8</td>\n",
              "    </tr>\n",
              "  </tbody>\n",
              "</table>\n",
              "</div>\n",
              "      <button class=\"colab-df-convert\" onclick=\"convertToInteractive('df-ba03f507-be72-409a-b258-a6da5ec0f75b')\"\n",
              "              title=\"Convert this dataframe to an interactive table.\"\n",
              "              style=\"display:none;\">\n",
              "        \n",
              "  <svg xmlns=\"http://www.w3.org/2000/svg\" height=\"24px\"viewBox=\"0 0 24 24\"\n",
              "       width=\"24px\">\n",
              "    <path d=\"M0 0h24v24H0V0z\" fill=\"none\"/>\n",
              "    <path d=\"M18.56 5.44l.94 2.06.94-2.06 2.06-.94-2.06-.94-.94-2.06-.94 2.06-2.06.94zm-11 1L8.5 8.5l.94-2.06 2.06-.94-2.06-.94L8.5 2.5l-.94 2.06-2.06.94zm10 10l.94 2.06.94-2.06 2.06-.94-2.06-.94-.94-2.06-.94 2.06-2.06.94z\"/><path d=\"M17.41 7.96l-1.37-1.37c-.4-.4-.92-.59-1.43-.59-.52 0-1.04.2-1.43.59L10.3 9.45l-7.72 7.72c-.78.78-.78 2.05 0 2.83L4 21.41c.39.39.9.59 1.41.59.51 0 1.02-.2 1.41-.59l7.78-7.78 2.81-2.81c.8-.78.8-2.07 0-2.86zM5.41 20L4 18.59l7.72-7.72 1.47 1.35L5.41 20z\"/>\n",
              "  </svg>\n",
              "      </button>\n",
              "      \n",
              "  <style>\n",
              "    .colab-df-container {\n",
              "      display:flex;\n",
              "      flex-wrap:wrap;\n",
              "      gap: 12px;\n",
              "    }\n",
              "\n",
              "    .colab-df-convert {\n",
              "      background-color: #E8F0FE;\n",
              "      border: none;\n",
              "      border-radius: 50%;\n",
              "      cursor: pointer;\n",
              "      display: none;\n",
              "      fill: #1967D2;\n",
              "      height: 32px;\n",
              "      padding: 0 0 0 0;\n",
              "      width: 32px;\n",
              "    }\n",
              "\n",
              "    .colab-df-convert:hover {\n",
              "      background-color: #E2EBFA;\n",
              "      box-shadow: 0px 1px 2px rgba(60, 64, 67, 0.3), 0px 1px 3px 1px rgba(60, 64, 67, 0.15);\n",
              "      fill: #174EA6;\n",
              "    }\n",
              "\n",
              "    [theme=dark] .colab-df-convert {\n",
              "      background-color: #3B4455;\n",
              "      fill: #D2E3FC;\n",
              "    }\n",
              "\n",
              "    [theme=dark] .colab-df-convert:hover {\n",
              "      background-color: #434B5C;\n",
              "      box-shadow: 0px 1px 3px 1px rgba(0, 0, 0, 0.15);\n",
              "      filter: drop-shadow(0px 1px 2px rgba(0, 0, 0, 0.3));\n",
              "      fill: #FFFFFF;\n",
              "    }\n",
              "  </style>\n",
              "\n",
              "      <script>\n",
              "        const buttonEl =\n",
              "          document.querySelector('#df-ba03f507-be72-409a-b258-a6da5ec0f75b button.colab-df-convert');\n",
              "        buttonEl.style.display =\n",
              "          google.colab.kernel.accessAllowed ? 'block' : 'none';\n",
              "\n",
              "        async function convertToInteractive(key) {\n",
              "          const element = document.querySelector('#df-ba03f507-be72-409a-b258-a6da5ec0f75b');\n",
              "          const dataTable =\n",
              "            await google.colab.kernel.invokeFunction('convertToInteractive',\n",
              "                                                     [key], {});\n",
              "          if (!dataTable) return;\n",
              "\n",
              "          const docLinkHtml = 'Like what you see? Visit the ' +\n",
              "            '<a target=\"_blank\" href=https://colab.research.google.com/notebooks/data_table.ipynb>data table notebook</a>'\n",
              "            + ' to learn more about interactive tables.';\n",
              "          element.innerHTML = '';\n",
              "          dataTable['output_type'] = 'display_data';\n",
              "          await google.colab.output.renderOutput(dataTable, element);\n",
              "          const docLink = document.createElement('div');\n",
              "          docLink.innerHTML = docLinkHtml;\n",
              "          element.appendChild(docLink);\n",
              "        }\n",
              "      </script>\n",
              "    </div>\n",
              "  </div>\n",
              "  "
            ]
          },
          "metadata": {},
          "execution_count": 150
        }
      ]
    },
    {
      "cell_type": "markdown",
      "source": [
        "##### Example 24: Dealing with a Excel file into a DataFrame"
      ],
      "metadata": {
        "id": "53_iGiWh7E_m"
      }
    },
    {
      "cell_type": "markdown",
      "source": [
        "วิธีนำเข้าไฟล์ด้วยวิธี upload"
      ],
      "metadata": {
        "id": "QZbbNDhCs-on"
      }
    },
    {
      "cell_type": "markdown",
      "source": [
        "![Screenshot (84).png](data:image/png;base64,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)"
      ],
      "metadata": {
        "id": "0iGTnABPsl3w"
      }
    },
    {
      "cell_type": "code",
      "source": [
        "#จะต้อง upload file ชื่อ Superstore.xlsx ก่อน\n",
        "df=pd.read_excel('Superstore.xlsx')\n",
        "df"
      ],
      "metadata": {
        "id": "Ng-I6qBt5s0C",
        "colab": {
          "base_uri": "https://localhost:8080/",
          "height": 1000
        },
        "outputId": "4feceba1-4af3-4ec9-9be4-697ab3616830"
      },
      "execution_count": null,
      "outputs": [
        {
          "output_type": "execute_result",
          "data": {
            "text/plain": [
              "      Row ID        Order ID Order Date  Ship Date       Ship Mode  \\\n",
              "0          1  CA-2018-152156 2018-11-08 2018-11-11    Second Class   \n",
              "1          2  CA-2018-152156 2018-11-08 2018-11-11    Second Class   \n",
              "2          3  CA-2018-138688 2018-06-12 2018-06-16    Second Class   \n",
              "3          4  US-2017-108966 2017-10-11 2017-10-18  Standard Class   \n",
              "4          5  US-2017-108966 2017-10-11 2017-10-18  Standard Class   \n",
              "...      ...             ...        ...        ...             ...   \n",
              "9989    9990  CA-2016-110422 2016-01-21 2016-01-23    Second Class   \n",
              "9990    9991  CA-2019-121258 2019-02-26 2019-03-03  Standard Class   \n",
              "9991    9992  CA-2019-121258 2019-02-26 2019-03-03  Standard Class   \n",
              "9992    9993  CA-2019-121258 2019-02-26 2019-03-03  Standard Class   \n",
              "9993    9994  CA-2019-119914 2019-05-04 2019-05-09    Second Class   \n",
              "\n",
              "     Customer ID     Customer Name    Segment Country/Region             City  \\\n",
              "0       CG-12520       Claire Gute   Consumer  United States        Henderson   \n",
              "1       CG-12520       Claire Gute   Consumer  United States        Henderson   \n",
              "2       DV-13045   Darrin Van Huff  Corporate  United States      Los Angeles   \n",
              "3       SO-20335    Sean O'Donnell   Consumer  United States  Fort Lauderdale   \n",
              "4       SO-20335    Sean O'Donnell   Consumer  United States  Fort Lauderdale   \n",
              "...          ...               ...        ...            ...              ...   \n",
              "9989    TB-21400  Tom Boeckenhauer   Consumer  United States            Miami   \n",
              "9990    DB-13060       Dave Brooks   Consumer  United States       Costa Mesa   \n",
              "9991    DB-13060       Dave Brooks   Consumer  United States       Costa Mesa   \n",
              "9992    DB-13060       Dave Brooks   Consumer  United States       Costa Mesa   \n",
              "9993    CC-12220      Chris Cortes   Consumer  United States      Westminster   \n",
              "\n",
              "      ... Postal Code  Region       Product ID         Category Sub-Category  \\\n",
              "0     ...     42420.0   South  FUR-BO-10001798        Furniture    Bookcases   \n",
              "1     ...     42420.0   South  FUR-CH-10000454        Furniture       Chairs   \n",
              "2     ...     90036.0    West  OFF-LA-10000240  Office Supplies       Labels   \n",
              "3     ...     33311.0   South  FUR-TA-10000577        Furniture       Tables   \n",
              "4     ...     33311.0   South  OFF-ST-10000760  Office Supplies      Storage   \n",
              "...   ...         ...     ...              ...              ...          ...   \n",
              "9989  ...     33180.0   South  FUR-FU-10001889        Furniture  Furnishings   \n",
              "9990  ...     92627.0    West  FUR-FU-10000747        Furniture  Furnishings   \n",
              "9991  ...     92627.0    West  TEC-PH-10003645       Technology       Phones   \n",
              "9992  ...     92627.0    West  OFF-PA-10004041  Office Supplies        Paper   \n",
              "9993  ...     92683.0    West  OFF-AP-10002684  Office Supplies   Appliances   \n",
              "\n",
              "                                           Product Name     Sales  Quantity  \\\n",
              "0                     Bush Somerset Collection Bookcase  261.9600         2   \n",
              "1     Hon Deluxe Fabric Upholstered Stacking Chairs,...  731.9400         3   \n",
              "2     Self-Adhesive Address Labels for Typewriters b...   14.6200         2   \n",
              "3         Bretford CR4500 Series Slim Rectangular Table  957.5775         5   \n",
              "4                        Eldon Fold 'N Roll Cart System   22.3680         2   \n",
              "...                                                 ...       ...       ...   \n",
              "9989                             Ultra Door Pull Handle   25.2480         3   \n",
              "9990  Tenex B1-RE Series Chair Mats for Low Pile Car...   91.9600         2   \n",
              "9991                              Aastra 57i VoIP phone  258.5760         2   \n",
              "9992  It's Hot Message Books with Stickers, 2 3/4\" x 5\"   29.6000         4   \n",
              "9993  Acco 7-Outlet Masterpiece Power Center, Wihtou...  243.1600         2   \n",
              "\n",
              "      Discount    Profit  \n",
              "0         0.00   41.9136  \n",
              "1         0.00  219.5820  \n",
              "2         0.00    6.8714  \n",
              "3         0.45 -383.0310  \n",
              "4         0.20    2.5164  \n",
              "...        ...       ...  \n",
              "9989      0.20    4.1028  \n",
              "9990      0.00   15.6332  \n",
              "9991      0.20   19.3932  \n",
              "9992      0.00   13.3200  \n",
              "9993      0.00   72.9480  \n",
              "\n",
              "[9994 rows x 21 columns]"
            ],
            "text/html": [
              "\n",
              "\n",
              "  <div id=\"df-dd399964-17a0-4531-a4d5-281cad08246a\">\n",
              "    <div class=\"colab-df-container\">\n",
              "      <div>\n",
              "<style scoped>\n",
              "    .dataframe tbody tr th:only-of-type {\n",
              "        vertical-align: middle;\n",
              "    }\n",
              "\n",
              "    .dataframe tbody tr th {\n",
              "        vertical-align: top;\n",
              "    }\n",
              "\n",
              "    .dataframe thead th {\n",
              "        text-align: right;\n",
              "    }\n",
              "</style>\n",
              "<table border=\"1\" class=\"dataframe\">\n",
              "  <thead>\n",
              "    <tr style=\"text-align: right;\">\n",
              "      <th></th>\n",
              "      <th>Row ID</th>\n",
              "      <th>Order ID</th>\n",
              "      <th>Order Date</th>\n",
              "      <th>Ship Date</th>\n",
              "      <th>Ship Mode</th>\n",
              "      <th>Customer ID</th>\n",
              "      <th>Customer Name</th>\n",
              "      <th>Segment</th>\n",
              "      <th>Country/Region</th>\n",
              "      <th>City</th>\n",
              "      <th>...</th>\n",
              "      <th>Postal Code</th>\n",
              "      <th>Region</th>\n",
              "      <th>Product ID</th>\n",
              "      <th>Category</th>\n",
              "      <th>Sub-Category</th>\n",
              "      <th>Product Name</th>\n",
              "      <th>Sales</th>\n",
              "      <th>Quantity</th>\n",
              "      <th>Discount</th>\n",
              "      <th>Profit</th>\n",
              "    </tr>\n",
              "  </thead>\n",
              "  <tbody>\n",
              "    <tr>\n",
              "      <th>0</th>\n",
              "      <td>1</td>\n",
              "      <td>CA-2018-152156</td>\n",
              "      <td>2018-11-08</td>\n",
              "      <td>2018-11-11</td>\n",
              "      <td>Second Class</td>\n",
              "      <td>CG-12520</td>\n",
              "      <td>Claire Gute</td>\n",
              "      <td>Consumer</td>\n",
              "      <td>United States</td>\n",
              "      <td>Henderson</td>\n",
              "      <td>...</td>\n",
              "      <td>42420.0</td>\n",
              "      <td>South</td>\n",
              "      <td>FUR-BO-10001798</td>\n",
              "      <td>Furniture</td>\n",
              "      <td>Bookcases</td>\n",
              "      <td>Bush Somerset Collection Bookcase</td>\n",
              "      <td>261.9600</td>\n",
              "      <td>2</td>\n",
              "      <td>0.00</td>\n",
              "      <td>41.9136</td>\n",
              "    </tr>\n",
              "    <tr>\n",
              "      <th>1</th>\n",
              "      <td>2</td>\n",
              "      <td>CA-2018-152156</td>\n",
              "      <td>2018-11-08</td>\n",
              "      <td>2018-11-11</td>\n",
              "      <td>Second Class</td>\n",
              "      <td>CG-12520</td>\n",
              "      <td>Claire Gute</td>\n",
              "      <td>Consumer</td>\n",
              "      <td>United States</td>\n",
              "      <td>Henderson</td>\n",
              "      <td>...</td>\n",
              "      <td>42420.0</td>\n",
              "      <td>South</td>\n",
              "      <td>FUR-CH-10000454</td>\n",
              "      <td>Furniture</td>\n",
              "      <td>Chairs</td>\n",
              "      <td>Hon Deluxe Fabric Upholstered Stacking Chairs,...</td>\n",
              "      <td>731.9400</td>\n",
              "      <td>3</td>\n",
              "      <td>0.00</td>\n",
              "      <td>219.5820</td>\n",
              "    </tr>\n",
              "    <tr>\n",
              "      <th>2</th>\n",
              "      <td>3</td>\n",
              "      <td>CA-2018-138688</td>\n",
              "      <td>2018-06-12</td>\n",
              "      <td>2018-06-16</td>\n",
              "      <td>Second Class</td>\n",
              "      <td>DV-13045</td>\n",
              "      <td>Darrin Van Huff</td>\n",
              "      <td>Corporate</td>\n",
              "      <td>United States</td>\n",
              "      <td>Los Angeles</td>\n",
              "      <td>...</td>\n",
              "      <td>90036.0</td>\n",
              "      <td>West</td>\n",
              "      <td>OFF-LA-10000240</td>\n",
              "      <td>Office Supplies</td>\n",
              "      <td>Labels</td>\n",
              "      <td>Self-Adhesive Address Labels for Typewriters b...</td>\n",
              "      <td>14.6200</td>\n",
              "      <td>2</td>\n",
              "      <td>0.00</td>\n",
              "      <td>6.8714</td>\n",
              "    </tr>\n",
              "    <tr>\n",
              "      <th>3</th>\n",
              "      <td>4</td>\n",
              "      <td>US-2017-108966</td>\n",
              "      <td>2017-10-11</td>\n",
              "      <td>2017-10-18</td>\n",
              "      <td>Standard Class</td>\n",
              "      <td>SO-20335</td>\n",
              "      <td>Sean O'Donnell</td>\n",
              "      <td>Consumer</td>\n",
              "      <td>United States</td>\n",
              "      <td>Fort Lauderdale</td>\n",
              "      <td>...</td>\n",
              "      <td>33311.0</td>\n",
              "      <td>South</td>\n",
              "      <td>FUR-TA-10000577</td>\n",
              "      <td>Furniture</td>\n",
              "      <td>Tables</td>\n",
              "      <td>Bretford CR4500 Series Slim Rectangular Table</td>\n",
              "      <td>957.5775</td>\n",
              "      <td>5</td>\n",
              "      <td>0.45</td>\n",
              "      <td>-383.0310</td>\n",
              "    </tr>\n",
              "    <tr>\n",
              "      <th>4</th>\n",
              "      <td>5</td>\n",
              "      <td>US-2017-108966</td>\n",
              "      <td>2017-10-11</td>\n",
              "      <td>2017-10-18</td>\n",
              "      <td>Standard Class</td>\n",
              "      <td>SO-20335</td>\n",
              "      <td>Sean O'Donnell</td>\n",
              "      <td>Consumer</td>\n",
              "      <td>United States</td>\n",
              "      <td>Fort Lauderdale</td>\n",
              "      <td>...</td>\n",
              "      <td>33311.0</td>\n",
              "      <td>South</td>\n",
              "      <td>OFF-ST-10000760</td>\n",
              "      <td>Office Supplies</td>\n",
              "      <td>Storage</td>\n",
              "      <td>Eldon Fold 'N Roll Cart System</td>\n",
              "      <td>22.3680</td>\n",
              "      <td>2</td>\n",
              "      <td>0.20</td>\n",
              "      <td>2.5164</td>\n",
              "    </tr>\n",
              "    <tr>\n",
              "      <th>...</th>\n",
              "      <td>...</td>\n",
              "      <td>...</td>\n",
              "      <td>...</td>\n",
              "      <td>...</td>\n",
              "      <td>...</td>\n",
              "      <td>...</td>\n",
              "      <td>...</td>\n",
              "      <td>...</td>\n",
              "      <td>...</td>\n",
              "      <td>...</td>\n",
              "      <td>...</td>\n",
              "      <td>...</td>\n",
              "      <td>...</td>\n",
              "      <td>...</td>\n",
              "      <td>...</td>\n",
              "      <td>...</td>\n",
              "      <td>...</td>\n",
              "      <td>...</td>\n",
              "      <td>...</td>\n",
              "      <td>...</td>\n",
              "      <td>...</td>\n",
              "    </tr>\n",
              "    <tr>\n",
              "      <th>9989</th>\n",
              "      <td>9990</td>\n",
              "      <td>CA-2016-110422</td>\n",
              "      <td>2016-01-21</td>\n",
              "      <td>2016-01-23</td>\n",
              "      <td>Second Class</td>\n",
              "      <td>TB-21400</td>\n",
              "      <td>Tom Boeckenhauer</td>\n",
              "      <td>Consumer</td>\n",
              "      <td>United States</td>\n",
              "      <td>Miami</td>\n",
              "      <td>...</td>\n",
              "      <td>33180.0</td>\n",
              "      <td>South</td>\n",
              "      <td>FUR-FU-10001889</td>\n",
              "      <td>Furniture</td>\n",
              "      <td>Furnishings</td>\n",
              "      <td>Ultra Door Pull Handle</td>\n",
              "      <td>25.2480</td>\n",
              "      <td>3</td>\n",
              "      <td>0.20</td>\n",
              "      <td>4.1028</td>\n",
              "    </tr>\n",
              "    <tr>\n",
              "      <th>9990</th>\n",
              "      <td>9991</td>\n",
              "      <td>CA-2019-121258</td>\n",
              "      <td>2019-02-26</td>\n",
              "      <td>2019-03-03</td>\n",
              "      <td>Standard Class</td>\n",
              "      <td>DB-13060</td>\n",
              "      <td>Dave Brooks</td>\n",
              "      <td>Consumer</td>\n",
              "      <td>United States</td>\n",
              "      <td>Costa Mesa</td>\n",
              "      <td>...</td>\n",
              "      <td>92627.0</td>\n",
              "      <td>West</td>\n",
              "      <td>FUR-FU-10000747</td>\n",
              "      <td>Furniture</td>\n",
              "      <td>Furnishings</td>\n",
              "      <td>Tenex B1-RE Series Chair Mats for Low Pile Car...</td>\n",
              "      <td>91.9600</td>\n",
              "      <td>2</td>\n",
              "      <td>0.00</td>\n",
              "      <td>15.6332</td>\n",
              "    </tr>\n",
              "    <tr>\n",
              "      <th>9991</th>\n",
              "      <td>9992</td>\n",
              "      <td>CA-2019-121258</td>\n",
              "      <td>2019-02-26</td>\n",
              "      <td>2019-03-03</td>\n",
              "      <td>Standard Class</td>\n",
              "      <td>DB-13060</td>\n",
              "      <td>Dave Brooks</td>\n",
              "      <td>Consumer</td>\n",
              "      <td>United States</td>\n",
              "      <td>Costa Mesa</td>\n",
              "      <td>...</td>\n",
              "      <td>92627.0</td>\n",
              "      <td>West</td>\n",
              "      <td>TEC-PH-10003645</td>\n",
              "      <td>Technology</td>\n",
              "      <td>Phones</td>\n",
              "      <td>Aastra 57i VoIP phone</td>\n",
              "      <td>258.5760</td>\n",
              "      <td>2</td>\n",
              "      <td>0.20</td>\n",
              "      <td>19.3932</td>\n",
              "    </tr>\n",
              "    <tr>\n",
              "      <th>9992</th>\n",
              "      <td>9993</td>\n",
              "      <td>CA-2019-121258</td>\n",
              "      <td>2019-02-26</td>\n",
              "      <td>2019-03-03</td>\n",
              "      <td>Standard Class</td>\n",
              "      <td>DB-13060</td>\n",
              "      <td>Dave Brooks</td>\n",
              "      <td>Consumer</td>\n",
              "      <td>United States</td>\n",
              "      <td>Costa Mesa</td>\n",
              "      <td>...</td>\n",
              "      <td>92627.0</td>\n",
              "      <td>West</td>\n",
              "      <td>OFF-PA-10004041</td>\n",
              "      <td>Office Supplies</td>\n",
              "      <td>Paper</td>\n",
              "      <td>It's Hot Message Books with Stickers, 2 3/4\" x 5\"</td>\n",
              "      <td>29.6000</td>\n",
              "      <td>4</td>\n",
              "      <td>0.00</td>\n",
              "      <td>13.3200</td>\n",
              "    </tr>\n",
              "    <tr>\n",
              "      <th>9993</th>\n",
              "      <td>9994</td>\n",
              "      <td>CA-2019-119914</td>\n",
              "      <td>2019-05-04</td>\n",
              "      <td>2019-05-09</td>\n",
              "      <td>Second Class</td>\n",
              "      <td>CC-12220</td>\n",
              "      <td>Chris Cortes</td>\n",
              "      <td>Consumer</td>\n",
              "      <td>United States</td>\n",
              "      <td>Westminster</td>\n",
              "      <td>...</td>\n",
              "      <td>92683.0</td>\n",
              "      <td>West</td>\n",
              "      <td>OFF-AP-10002684</td>\n",
              "      <td>Office Supplies</td>\n",
              "      <td>Appliances</td>\n",
              "      <td>Acco 7-Outlet Masterpiece Power Center, Wihtou...</td>\n",
              "      <td>243.1600</td>\n",
              "      <td>2</td>\n",
              "      <td>0.00</td>\n",
              "      <td>72.9480</td>\n",
              "    </tr>\n",
              "  </tbody>\n",
              "</table>\n",
              "<p>9994 rows × 21 columns</p>\n",
              "</div>\n",
              "      <button class=\"colab-df-convert\" onclick=\"convertToInteractive('df-dd399964-17a0-4531-a4d5-281cad08246a')\"\n",
              "              title=\"Convert this dataframe to an interactive table.\"\n",
              "              style=\"display:none;\">\n",
              "\n",
              "  <svg xmlns=\"http://www.w3.org/2000/svg\" height=\"24px\"viewBox=\"0 0 24 24\"\n",
              "       width=\"24px\">\n",
              "    <path d=\"M0 0h24v24H0V0z\" fill=\"none\"/>\n",
              "    <path d=\"M18.56 5.44l.94 2.06.94-2.06 2.06-.94-2.06-.94-.94-2.06-.94 2.06-2.06.94zm-11 1L8.5 8.5l.94-2.06 2.06-.94-2.06-.94L8.5 2.5l-.94 2.06-2.06.94zm10 10l.94 2.06.94-2.06 2.06-.94-2.06-.94-.94-2.06-.94 2.06-2.06.94z\"/><path d=\"M17.41 7.96l-1.37-1.37c-.4-.4-.92-.59-1.43-.59-.52 0-1.04.2-1.43.59L10.3 9.45l-7.72 7.72c-.78.78-.78 2.05 0 2.83L4 21.41c.39.39.9.59 1.41.59.51 0 1.02-.2 1.41-.59l7.78-7.78 2.81-2.81c.8-.78.8-2.07 0-2.86zM5.41 20L4 18.59l7.72-7.72 1.47 1.35L5.41 20z\"/>\n",
              "  </svg>\n",
              "      </button>\n",
              "\n",
              "\n",
              "\n",
              "    <div id=\"df-b0eab46b-b84e-4556-be28-be0e3fbb3e93\">\n",
              "      <button class=\"colab-df-quickchart\" onclick=\"quickchart('df-b0eab46b-b84e-4556-be28-be0e3fbb3e93')\"\n",
              "              title=\"Suggest charts.\"\n",
              "              style=\"display:none;\">\n",
              "\n",
              "<svg xmlns=\"http://www.w3.org/2000/svg\" height=\"24px\"viewBox=\"0 0 24 24\"\n",
              "     width=\"24px\">\n",
              "    <g>\n",
              "        <path d=\"M19 3H5c-1.1 0-2 .9-2 2v14c0 1.1.9 2 2 2h14c1.1 0 2-.9 2-2V5c0-1.1-.9-2-2-2zM9 17H7v-7h2v7zm4 0h-2V7h2v10zm4 0h-2v-4h2v4z\"/>\n",
              "    </g>\n",
              "</svg>\n",
              "      </button>\n",
              "    </div>\n",
              "\n",
              "<style>\n",
              "  .colab-df-quickchart {\n",
              "    background-color: #E8F0FE;\n",
              "    border: none;\n",
              "    border-radius: 50%;\n",
              "    cursor: pointer;\n",
              "    display: none;\n",
              "    fill: #1967D2;\n",
              "    height: 32px;\n",
              "    padding: 0 0 0 0;\n",
              "    width: 32px;\n",
              "  }\n",
              "\n",
              "  .colab-df-quickchart:hover {\n",
              "    background-color: #E2EBFA;\n",
              "    box-shadow: 0px 1px 2px rgba(60, 64, 67, 0.3), 0px 1px 3px 1px rgba(60, 64, 67, 0.15);\n",
              "    fill: #174EA6;\n",
              "  }\n",
              "\n",
              "  [theme=dark] .colab-df-quickchart {\n",
              "    background-color: #3B4455;\n",
              "    fill: #D2E3FC;\n",
              "  }\n",
              "\n",
              "  [theme=dark] .colab-df-quickchart:hover {\n",
              "    background-color: #434B5C;\n",
              "    box-shadow: 0px 1px 3px 1px rgba(0, 0, 0, 0.15);\n",
              "    filter: drop-shadow(0px 1px 2px rgba(0, 0, 0, 0.3));\n",
              "    fill: #FFFFFF;\n",
              "  }\n",
              "</style>\n",
              "\n",
              "    <script>\n",
              "      async function quickchart(key) {\n",
              "        const containerElement = document.querySelector('#' + key);\n",
              "        const charts = await google.colab.kernel.invokeFunction(\n",
              "            'suggestCharts', [key], {});\n",
              "      }\n",
              "    </script>\n",
              "\n",
              "      <script>\n",
              "\n",
              "function displayQuickchartButton(domScope) {\n",
              "  let quickchartButtonEl =\n",
              "    domScope.querySelector('#df-b0eab46b-b84e-4556-be28-be0e3fbb3e93 button.colab-df-quickchart');\n",
              "  quickchartButtonEl.style.display =\n",
              "    google.colab.kernel.accessAllowed ? 'block' : 'none';\n",
              "}\n",
              "\n",
              "        displayQuickchartButton(document);\n",
              "      </script>\n",
              "      <style>\n",
              "    .colab-df-container {\n",
              "      display:flex;\n",
              "      flex-wrap:wrap;\n",
              "      gap: 12px;\n",
              "    }\n",
              "\n",
              "    .colab-df-convert {\n",
              "      background-color: #E8F0FE;\n",
              "      border: none;\n",
              "      border-radius: 50%;\n",
              "      cursor: pointer;\n",
              "      display: none;\n",
              "      fill: #1967D2;\n",
              "      height: 32px;\n",
              "      padding: 0 0 0 0;\n",
              "      width: 32px;\n",
              "    }\n",
              "\n",
              "    .colab-df-convert:hover {\n",
              "      background-color: #E2EBFA;\n",
              "      box-shadow: 0px 1px 2px rgba(60, 64, 67, 0.3), 0px 1px 3px 1px rgba(60, 64, 67, 0.15);\n",
              "      fill: #174EA6;\n",
              "    }\n",
              "\n",
              "    [theme=dark] .colab-df-convert {\n",
              "      background-color: #3B4455;\n",
              "      fill: #D2E3FC;\n",
              "    }\n",
              "\n",
              "    [theme=dark] .colab-df-convert:hover {\n",
              "      background-color: #434B5C;\n",
              "      box-shadow: 0px 1px 3px 1px rgba(0, 0, 0, 0.15);\n",
              "      filter: drop-shadow(0px 1px 2px rgba(0, 0, 0, 0.3));\n",
              "      fill: #FFFFFF;\n",
              "    }\n",
              "  </style>\n",
              "\n",
              "      <script>\n",
              "        const buttonEl =\n",
              "          document.querySelector('#df-dd399964-17a0-4531-a4d5-281cad08246a button.colab-df-convert');\n",
              "        buttonEl.style.display =\n",
              "          google.colab.kernel.accessAllowed ? 'block' : 'none';\n",
              "\n",
              "        async function convertToInteractive(key) {\n",
              "          const element = document.querySelector('#df-dd399964-17a0-4531-a4d5-281cad08246a');\n",
              "          const dataTable =\n",
              "            await google.colab.kernel.invokeFunction('convertToInteractive',\n",
              "                                                     [key], {});\n",
              "          if (!dataTable) return;\n",
              "\n",
              "          const docLinkHtml = 'Like what you see? Visit the ' +\n",
              "            '<a target=\"_blank\" href=https://colab.research.google.com/notebooks/data_table.ipynb>data table notebook</a>'\n",
              "            + ' to learn more about interactive tables.';\n",
              "          element.innerHTML = '';\n",
              "          dataTable['output_type'] = 'display_data';\n",
              "          await google.colab.output.renderOutput(dataTable, element);\n",
              "          const docLink = document.createElement('div');\n",
              "          docLink.innerHTML = docLinkHtml;\n",
              "          element.appendChild(docLink);\n",
              "        }\n",
              "      </script>\n",
              "    </div>\n",
              "  </div>\n"
            ]
          },
          "metadata": {},
          "execution_count": 39
        }
      ]
    },
    {
      "cell_type": "code",
      "source": [
        "#กรณีต้องการเลือกใช้ชีท ภายในไฟล์ Excel\n",
        "df2=pd.read_excel('Superstore.xlsx',sheet_name='returns')\n",
        "df2"
      ],
      "metadata": {
        "colab": {
          "base_uri": "https://localhost:8080/",
          "height": 423
        },
        "id": "mJmD5k5jnfXG",
        "outputId": "489d2b9e-f5f2-4d38-aa27-4b322daa5c8a"
      },
      "execution_count": 18,
      "outputs": [
        {
          "output_type": "execute_result",
          "data": {
            "text/plain": [
              "    Returned        Order ID\n",
              "0        Yes  CA-2016-100762\n",
              "1        Yes  CA-2016-100762\n",
              "2        Yes  CA-2016-100762\n",
              "3        Yes  CA-2016-100762\n",
              "4        Yes  CA-2016-100867\n",
              "..       ...             ...\n",
              "795      Yes  US-2019-147886\n",
              "796      Yes  US-2019-147998\n",
              "797      Yes  US-2019-151127\n",
              "798      Yes  US-2019-155999\n",
              "799      Yes  US-2019-155999\n",
              "\n",
              "[800 rows x 2 columns]"
            ],
            "text/html": [
              "\n",
              "\n",
              "  <div id=\"df-66b7613a-7083-4e6f-9a56-93ca0c81a306\">\n",
              "    <div class=\"colab-df-container\">\n",
              "      <div>\n",
              "<style scoped>\n",
              "    .dataframe tbody tr th:only-of-type {\n",
              "        vertical-align: middle;\n",
              "    }\n",
              "\n",
              "    .dataframe tbody tr th {\n",
              "        vertical-align: top;\n",
              "    }\n",
              "\n",
              "    .dataframe thead th {\n",
              "        text-align: right;\n",
              "    }\n",
              "</style>\n",
              "<table border=\"1\" class=\"dataframe\">\n",
              "  <thead>\n",
              "    <tr style=\"text-align: right;\">\n",
              "      <th></th>\n",
              "      <th>Returned</th>\n",
              "      <th>Order ID</th>\n",
              "    </tr>\n",
              "  </thead>\n",
              "  <tbody>\n",
              "    <tr>\n",
              "      <th>0</th>\n",
              "      <td>Yes</td>\n",
              "      <td>CA-2016-100762</td>\n",
              "    </tr>\n",
              "    <tr>\n",
              "      <th>1</th>\n",
              "      <td>Yes</td>\n",
              "      <td>CA-2016-100762</td>\n",
              "    </tr>\n",
              "    <tr>\n",
              "      <th>2</th>\n",
              "      <td>Yes</td>\n",
              "      <td>CA-2016-100762</td>\n",
              "    </tr>\n",
              "    <tr>\n",
              "      <th>3</th>\n",
              "      <td>Yes</td>\n",
              "      <td>CA-2016-100762</td>\n",
              "    </tr>\n",
              "    <tr>\n",
              "      <th>4</th>\n",
              "      <td>Yes</td>\n",
              "      <td>CA-2016-100867</td>\n",
              "    </tr>\n",
              "    <tr>\n",
              "      <th>...</th>\n",
              "      <td>...</td>\n",
              "      <td>...</td>\n",
              "    </tr>\n",
              "    <tr>\n",
              "      <th>795</th>\n",
              "      <td>Yes</td>\n",
              "      <td>US-2019-147886</td>\n",
              "    </tr>\n",
              "    <tr>\n",
              "      <th>796</th>\n",
              "      <td>Yes</td>\n",
              "      <td>US-2019-147998</td>\n",
              "    </tr>\n",
              "    <tr>\n",
              "      <th>797</th>\n",
              "      <td>Yes</td>\n",
              "      <td>US-2019-151127</td>\n",
              "    </tr>\n",
              "    <tr>\n",
              "      <th>798</th>\n",
              "      <td>Yes</td>\n",
              "      <td>US-2019-155999</td>\n",
              "    </tr>\n",
              "    <tr>\n",
              "      <th>799</th>\n",
              "      <td>Yes</td>\n",
              "      <td>US-2019-155999</td>\n",
              "    </tr>\n",
              "  </tbody>\n",
              "</table>\n",
              "<p>800 rows × 2 columns</p>\n",
              "</div>\n",
              "      <button class=\"colab-df-convert\" onclick=\"convertToInteractive('df-66b7613a-7083-4e6f-9a56-93ca0c81a306')\"\n",
              "              title=\"Convert this dataframe to an interactive table.\"\n",
              "              style=\"display:none;\">\n",
              "\n",
              "  <svg xmlns=\"http://www.w3.org/2000/svg\" height=\"24px\"viewBox=\"0 0 24 24\"\n",
              "       width=\"24px\">\n",
              "    <path d=\"M0 0h24v24H0V0z\" fill=\"none\"/>\n",
              "    <path d=\"M18.56 5.44l.94 2.06.94-2.06 2.06-.94-2.06-.94-.94-2.06-.94 2.06-2.06.94zm-11 1L8.5 8.5l.94-2.06 2.06-.94-2.06-.94L8.5 2.5l-.94 2.06-2.06.94zm10 10l.94 2.06.94-2.06 2.06-.94-2.06-.94-.94-2.06-.94 2.06-2.06.94z\"/><path d=\"M17.41 7.96l-1.37-1.37c-.4-.4-.92-.59-1.43-.59-.52 0-1.04.2-1.43.59L10.3 9.45l-7.72 7.72c-.78.78-.78 2.05 0 2.83L4 21.41c.39.39.9.59 1.41.59.51 0 1.02-.2 1.41-.59l7.78-7.78 2.81-2.81c.8-.78.8-2.07 0-2.86zM5.41 20L4 18.59l7.72-7.72 1.47 1.35L5.41 20z\"/>\n",
              "  </svg>\n",
              "      </button>\n",
              "\n",
              "\n",
              "\n",
              "    <div id=\"df-839f39fc-1105-4224-a596-c2eafbdc2cbc\">\n",
              "      <button class=\"colab-df-quickchart\" onclick=\"quickchart('df-839f39fc-1105-4224-a596-c2eafbdc2cbc')\"\n",
              "              title=\"Suggest charts.\"\n",
              "              style=\"display:none;\">\n",
              "\n",
              "<svg xmlns=\"http://www.w3.org/2000/svg\" height=\"24px\"viewBox=\"0 0 24 24\"\n",
              "     width=\"24px\">\n",
              "    <g>\n",
              "        <path d=\"M19 3H5c-1.1 0-2 .9-2 2v14c0 1.1.9 2 2 2h14c1.1 0 2-.9 2-2V5c0-1.1-.9-2-2-2zM9 17H7v-7h2v7zm4 0h-2V7h2v10zm4 0h-2v-4h2v4z\"/>\n",
              "    </g>\n",
              "</svg>\n",
              "      </button>\n",
              "    </div>\n",
              "\n",
              "<style>\n",
              "  .colab-df-quickchart {\n",
              "    background-color: #E8F0FE;\n",
              "    border: none;\n",
              "    border-radius: 50%;\n",
              "    cursor: pointer;\n",
              "    display: none;\n",
              "    fill: #1967D2;\n",
              "    height: 32px;\n",
              "    padding: 0 0 0 0;\n",
              "    width: 32px;\n",
              "  }\n",
              "\n",
              "  .colab-df-quickchart:hover {\n",
              "    background-color: #E2EBFA;\n",
              "    box-shadow: 0px 1px 2px rgba(60, 64, 67, 0.3), 0px 1px 3px 1px rgba(60, 64, 67, 0.15);\n",
              "    fill: #174EA6;\n",
              "  }\n",
              "\n",
              "  [theme=dark] .colab-df-quickchart {\n",
              "    background-color: #3B4455;\n",
              "    fill: #D2E3FC;\n",
              "  }\n",
              "\n",
              "  [theme=dark] .colab-df-quickchart:hover {\n",
              "    background-color: #434B5C;\n",
              "    box-shadow: 0px 1px 3px 1px rgba(0, 0, 0, 0.15);\n",
              "    filter: drop-shadow(0px 1px 2px rgba(0, 0, 0, 0.3));\n",
              "    fill: #FFFFFF;\n",
              "  }\n",
              "</style>\n",
              "\n",
              "    <script>\n",
              "      async function quickchart(key) {\n",
              "        const containerElement = document.querySelector('#' + key);\n",
              "        const charts = await google.colab.kernel.invokeFunction(\n",
              "            'suggestCharts', [key], {});\n",
              "      }\n",
              "    </script>\n",
              "\n",
              "      <script>\n",
              "\n",
              "function displayQuickchartButton(domScope) {\n",
              "  let quickchartButtonEl =\n",
              "    domScope.querySelector('#df-839f39fc-1105-4224-a596-c2eafbdc2cbc button.colab-df-quickchart');\n",
              "  quickchartButtonEl.style.display =\n",
              "    google.colab.kernel.accessAllowed ? 'block' : 'none';\n",
              "}\n",
              "\n",
              "        displayQuickchartButton(document);\n",
              "      </script>\n",
              "      <style>\n",
              "    .colab-df-container {\n",
              "      display:flex;\n",
              "      flex-wrap:wrap;\n",
              "      gap: 12px;\n",
              "    }\n",
              "\n",
              "    .colab-df-convert {\n",
              "      background-color: #E8F0FE;\n",
              "      border: none;\n",
              "      border-radius: 50%;\n",
              "      cursor: pointer;\n",
              "      display: none;\n",
              "      fill: #1967D2;\n",
              "      height: 32px;\n",
              "      padding: 0 0 0 0;\n",
              "      width: 32px;\n",
              "    }\n",
              "\n",
              "    .colab-df-convert:hover {\n",
              "      background-color: #E2EBFA;\n",
              "      box-shadow: 0px 1px 2px rgba(60, 64, 67, 0.3), 0px 1px 3px 1px rgba(60, 64, 67, 0.15);\n",
              "      fill: #174EA6;\n",
              "    }\n",
              "\n",
              "    [theme=dark] .colab-df-convert {\n",
              "      background-color: #3B4455;\n",
              "      fill: #D2E3FC;\n",
              "    }\n",
              "\n",
              "    [theme=dark] .colab-df-convert:hover {\n",
              "      background-color: #434B5C;\n",
              "      box-shadow: 0px 1px 3px 1px rgba(0, 0, 0, 0.15);\n",
              "      filter: drop-shadow(0px 1px 2px rgba(0, 0, 0, 0.3));\n",
              "      fill: #FFFFFF;\n",
              "    }\n",
              "  </style>\n",
              "\n",
              "      <script>\n",
              "        const buttonEl =\n",
              "          document.querySelector('#df-66b7613a-7083-4e6f-9a56-93ca0c81a306 button.colab-df-convert');\n",
              "        buttonEl.style.display =\n",
              "          google.colab.kernel.accessAllowed ? 'block' : 'none';\n",
              "\n",
              "        async function convertToInteractive(key) {\n",
              "          const element = document.querySelector('#df-66b7613a-7083-4e6f-9a56-93ca0c81a306');\n",
              "          const dataTable =\n",
              "            await google.colab.kernel.invokeFunction('convertToInteractive',\n",
              "                                                     [key], {});\n",
              "          if (!dataTable) return;\n",
              "\n",
              "          const docLinkHtml = 'Like what you see? Visit the ' +\n",
              "            '<a target=\"_blank\" href=https://colab.research.google.com/notebooks/data_table.ipynb>data table notebook</a>'\n",
              "            + ' to learn more about interactive tables.';\n",
              "          element.innerHTML = '';\n",
              "          dataTable['output_type'] = 'display_data';\n",
              "          await google.colab.output.renderOutput(dataTable, element);\n",
              "          const docLink = document.createElement('div');\n",
              "          docLink.innerHTML = docLinkHtml;\n",
              "          element.appendChild(docLink);\n",
              "        }\n",
              "      </script>\n",
              "    </div>\n",
              "  </div>\n"
            ]
          },
          "metadata": {},
          "execution_count": 18
        }
      ]
    },
    {
      "cell_type": "markdown",
      "source": [
        "วิธีนำเข้าไฟล์ เมื่อไฟล์ถูกเก็บอยู่ใน Google Drive"
      ],
      "metadata": {
        "id": "HuJpieyHtptF"
      }
    },
    {
      "cell_type": "code",
      "source": [
        "# To read file from drive\n",
        "\n",
        "from google.colab import drive\n",
        "\n",
        "drive.mount('/content/drive')\n",
        "\n",
        "#จะต้องรัน cell นี้ก่อน เป็นการขออนุญาตเข้าถึง Drive ของตัวเรา"
      ],
      "metadata": {
        "colab": {
          "base_uri": "https://localhost:8080/"
        },
        "id": "ff5x1HlGDWUQ",
        "outputId": "74c307f0-f3a8-4ebb-c325-c85400e09c60"
      },
      "execution_count": 19,
      "outputs": [
        {
          "output_type": "stream",
          "name": "stdout",
          "text": [
            "Mounted at /content/drive\n"
          ]
        }
      ]
    },
    {
      "cell_type": "markdown",
      "source": [
        "copy root path"
      ],
      "metadata": {
        "id": "2fpvH4VtvpHi"
      }
    },
    {
      "cell_type": "markdown",
      "source": [
        "![Screenshot (85).png](data:image/png;base64,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)"
      ],
      "metadata": {
        "id": "T3_nNqyyvhSM"
      }
    },
    {
      "cell_type": "code",
      "source": [
        "#นำ root path ที่ copy มาวางแทนที่ root path ตัวอย่าง\n",
        "root_path = '/content/drive/MyDrive/Python_class/Accident62.xlsx'"
      ],
      "metadata": {
        "id": "W11kW2d_Dgn0"
      },
      "execution_count": null,
      "outputs": []
    },
    {
      "cell_type": "code",
      "source": [
        "df3 = pd.read_excel(root_path)\n",
        "df3"
      ],
      "metadata": {
        "colab": {
          "base_uri": "https://localhost:8080/",
          "height": 502
        },
        "id": "kbAeukDuDpW4",
        "outputId": "21779628-cba1-4f98-a6f4-6f40ac7dbfd9"
      },
      "execution_count": null,
      "outputs": [
        {
          "output_type": "execute_result",
          "data": {
            "text/plain": [
              "            จังหวัด  จำนวนผู้บาดเจ็บ  จำนวนผู้เสียชีวิต  แอลกอฮอล์:ดื่ม  \\\n",
              "0       สมุทรปราการ             1477                  0             153   \n",
              "1           นนทบุรี             4851                  1             681   \n",
              "2          ปทุมธานี             6667                 21             988   \n",
              "3   พระนครศรีอยุธยา             8108                 68             998   \n",
              "4           อ่างทอง             2271                  9             222   \n",
              "..              ...              ...                ...             ...   \n",
              "71             ตรัง             7348                 25             761   \n",
              "72           พัทลุง             6102                 20             623   \n",
              "73          ปัตตานี             2137                  0              30   \n",
              "74             ยะลา             3878                  9              90   \n",
              "75         นราธิวาส             5808                  2             131   \n",
              "\n",
              "    แอลกอฮอล์:ไม่ดื่ม  แอลกอฮอล์:ไม่ทราบ  สารเสพติด:ใช้  สารเสพติด:ไม่ใช้  \\\n",
              "0                1174                150              7              1204   \n",
              "1                2809               1362             41              2334   \n",
              "2                4069               1612             38              2082   \n",
              "3                5229               1881             69              4325   \n",
              "4                1626                423              9              1350   \n",
              "..                ...                ...            ...               ...   \n",
              "71               5600                988             39              5864   \n",
              "72               4259               1221             24              4239   \n",
              "73               1547                560              6              1523   \n",
              "74               3140                648             24              3095   \n",
              "75               4362               1315             23              4347   \n",
              "\n",
              "    สารเสพติด:ไม่ทราบ  เข็มขัดนิรภัย:คาด  เข็มขัดนิรภัย:ไม่คาด  \\\n",
              "0                 266                 10                   558   \n",
              "1                2477                 95                  2253   \n",
              "2                4547                125                  1068   \n",
              "3                3714                243                  1175   \n",
              "4                 912                 50                  1089   \n",
              "..                ...                ...                   ...   \n",
              "71               1446                 83                  2991   \n",
              "72               1839                173                  1792   \n",
              "73                608                 11                  1162   \n",
              "74                759                 33                  1215   \n",
              "75               1438                 49                  3817   \n",
              "\n",
              "    เข็มขัดนิรภัย:ไม่ทราบ  หมวกนิรภัย:สวม  หมวกนิรภัย:ไม่สวม  \\\n",
              "0                     907             183                794   \n",
              "1                    2503            1364               2533   \n",
              "2                    5475            1536               3331   \n",
              "3                    5984            1086               3890   \n",
              "4                    1132             287               1559   \n",
              "..                    ...             ...                ...   \n",
              "71                   3733             670               5380   \n",
              "72                   4138             851               3818   \n",
              "73                    965              93               1496   \n",
              "74                   1269             132               2993   \n",
              "75                   1942             281               4558   \n",
              "\n",
              "    หมวกนิรภัย:ไม่ทราบ  \n",
              "0                  498  \n",
              "1                  955  \n",
              "2                 1803  \n",
              "3                 3016  \n",
              "4                  425  \n",
              "..                 ...  \n",
              "71                1233  \n",
              "72                1434  \n",
              "73                 549  \n",
              "74                 583  \n",
              "75                 969  \n",
              "\n",
              "[76 rows x 15 columns]"
            ],
            "text/html": [
              "\n",
              "\n",
              "  <div id=\"df-23b53615-d42e-4c6b-aede-601a4bebd09d\">\n",
              "    <div class=\"colab-df-container\">\n",
              "      <div>\n",
              "<style scoped>\n",
              "    .dataframe tbody tr th:only-of-type {\n",
              "        vertical-align: middle;\n",
              "    }\n",
              "\n",
              "    .dataframe tbody tr th {\n",
              "        vertical-align: top;\n",
              "    }\n",
              "\n",
              "    .dataframe thead th {\n",
              "        text-align: right;\n",
              "    }\n",
              "</style>\n",
              "<table border=\"1\" class=\"dataframe\">\n",
              "  <thead>\n",
              "    <tr style=\"text-align: right;\">\n",
              "      <th></th>\n",
              "      <th>จังหวัด</th>\n",
              "      <th>จำนวนผู้บาดเจ็บ</th>\n",
              "      <th>จำนวนผู้เสียชีวิต</th>\n",
              "      <th>แอลกอฮอล์:ดื่ม</th>\n",
              "      <th>แอลกอฮอล์:ไม่ดื่ม</th>\n",
              "      <th>แอลกอฮอล์:ไม่ทราบ</th>\n",
              "      <th>สารเสพติด:ใช้</th>\n",
              "      <th>สารเสพติด:ไม่ใช้</th>\n",
              "      <th>สารเสพติด:ไม่ทราบ</th>\n",
              "      <th>เข็มขัดนิรภัย:คาด</th>\n",
              "      <th>เข็มขัดนิรภัย:ไม่คาด</th>\n",
              "      <th>เข็มขัดนิรภัย:ไม่ทราบ</th>\n",
              "      <th>หมวกนิรภัย:สวม</th>\n",
              "      <th>หมวกนิรภัย:ไม่สวม</th>\n",
              "      <th>หมวกนิรภัย:ไม่ทราบ</th>\n",
              "    </tr>\n",
              "  </thead>\n",
              "  <tbody>\n",
              "    <tr>\n",
              "      <th>0</th>\n",
              "      <td>สมุทรปราการ</td>\n",
              "      <td>1477</td>\n",
              "      <td>0</td>\n",
              "      <td>153</td>\n",
              "      <td>1174</td>\n",
              "      <td>150</td>\n",
              "      <td>7</td>\n",
              "      <td>1204</td>\n",
              "      <td>266</td>\n",
              "      <td>10</td>\n",
              "      <td>558</td>\n",
              "      <td>907</td>\n",
              "      <td>183</td>\n",
              "      <td>794</td>\n",
              "      <td>498</td>\n",
              "    </tr>\n",
              "    <tr>\n",
              "      <th>1</th>\n",
              "      <td>นนทบุรี</td>\n",
              "      <td>4851</td>\n",
              "      <td>1</td>\n",
              "      <td>681</td>\n",
              "      <td>2809</td>\n",
              "      <td>1362</td>\n",
              "      <td>41</td>\n",
              "      <td>2334</td>\n",
              "      <td>2477</td>\n",
              "      <td>95</td>\n",
              "      <td>2253</td>\n",
              "      <td>2503</td>\n",
              "      <td>1364</td>\n",
              "      <td>2533</td>\n",
              "      <td>955</td>\n",
              "    </tr>\n",
              "    <tr>\n",
              "      <th>2</th>\n",
              "      <td>ปทุมธานี</td>\n",
              "      <td>6667</td>\n",
              "      <td>21</td>\n",
              "      <td>988</td>\n",
              "      <td>4069</td>\n",
              "      <td>1612</td>\n",
              "      <td>38</td>\n",
              "      <td>2082</td>\n",
              "      <td>4547</td>\n",
              "      <td>125</td>\n",
              "      <td>1068</td>\n",
              "      <td>5475</td>\n",
              "      <td>1536</td>\n",
              "      <td>3331</td>\n",
              "      <td>1803</td>\n",
              "    </tr>\n",
              "    <tr>\n",
              "      <th>3</th>\n",
              "      <td>พระนครศรีอยุธยา</td>\n",
              "      <td>8108</td>\n",
              "      <td>68</td>\n",
              "      <td>998</td>\n",
              "      <td>5229</td>\n",
              "      <td>1881</td>\n",
              "      <td>69</td>\n",
              "      <td>4325</td>\n",
              "      <td>3714</td>\n",
              "      <td>243</td>\n",
              "      <td>1175</td>\n",
              "      <td>5984</td>\n",
              "      <td>1086</td>\n",
              "      <td>3890</td>\n",
              "      <td>3016</td>\n",
              "    </tr>\n",
              "    <tr>\n",
              "      <th>4</th>\n",
              "      <td>อ่างทอง</td>\n",
              "      <td>2271</td>\n",
              "      <td>9</td>\n",
              "      <td>222</td>\n",
              "      <td>1626</td>\n",
              "      <td>423</td>\n",
              "      <td>9</td>\n",
              "      <td>1350</td>\n",
              "      <td>912</td>\n",
              "      <td>50</td>\n",
              "      <td>1089</td>\n",
              "      <td>1132</td>\n",
              "      <td>287</td>\n",
              "      <td>1559</td>\n",
              "      <td>425</td>\n",
              "    </tr>\n",
              "    <tr>\n",
              "      <th>...</th>\n",
              "      <td>...</td>\n",
              "      <td>...</td>\n",
              "      <td>...</td>\n",
              "      <td>...</td>\n",
              "      <td>...</td>\n",
              "      <td>...</td>\n",
              "      <td>...</td>\n",
              "      <td>...</td>\n",
              "      <td>...</td>\n",
              "      <td>...</td>\n",
              "      <td>...</td>\n",
              "      <td>...</td>\n",
              "      <td>...</td>\n",
              "      <td>...</td>\n",
              "      <td>...</td>\n",
              "    </tr>\n",
              "    <tr>\n",
              "      <th>71</th>\n",
              "      <td>ตรัง</td>\n",
              "      <td>7348</td>\n",
              "      <td>25</td>\n",
              "      <td>761</td>\n",
              "      <td>5600</td>\n",
              "      <td>988</td>\n",
              "      <td>39</td>\n",
              "      <td>5864</td>\n",
              "      <td>1446</td>\n",
              "      <td>83</td>\n",
              "      <td>2991</td>\n",
              "      <td>3733</td>\n",
              "      <td>670</td>\n",
              "      <td>5380</td>\n",
              "      <td>1233</td>\n",
              "    </tr>\n",
              "    <tr>\n",
              "      <th>72</th>\n",
              "      <td>พัทลุง</td>\n",
              "      <td>6102</td>\n",
              "      <td>20</td>\n",
              "      <td>623</td>\n",
              "      <td>4259</td>\n",
              "      <td>1221</td>\n",
              "      <td>24</td>\n",
              "      <td>4239</td>\n",
              "      <td>1839</td>\n",
              "      <td>173</td>\n",
              "      <td>1792</td>\n",
              "      <td>4138</td>\n",
              "      <td>851</td>\n",
              "      <td>3818</td>\n",
              "      <td>1434</td>\n",
              "    </tr>\n",
              "    <tr>\n",
              "      <th>73</th>\n",
              "      <td>ปัตตานี</td>\n",
              "      <td>2137</td>\n",
              "      <td>0</td>\n",
              "      <td>30</td>\n",
              "      <td>1547</td>\n",
              "      <td>560</td>\n",
              "      <td>6</td>\n",
              "      <td>1523</td>\n",
              "      <td>608</td>\n",
              "      <td>11</td>\n",
              "      <td>1162</td>\n",
              "      <td>965</td>\n",
              "      <td>93</td>\n",
              "      <td>1496</td>\n",
              "      <td>549</td>\n",
              "    </tr>\n",
              "    <tr>\n",
              "      <th>74</th>\n",
              "      <td>ยะลา</td>\n",
              "      <td>3878</td>\n",
              "      <td>9</td>\n",
              "      <td>90</td>\n",
              "      <td>3140</td>\n",
              "      <td>648</td>\n",
              "      <td>24</td>\n",
              "      <td>3095</td>\n",
              "      <td>759</td>\n",
              "      <td>33</td>\n",
              "      <td>1215</td>\n",
              "      <td>1269</td>\n",
              "      <td>132</td>\n",
              "      <td>2993</td>\n",
              "      <td>583</td>\n",
              "    </tr>\n",
              "    <tr>\n",
              "      <th>75</th>\n",
              "      <td>นราธิวาส</td>\n",
              "      <td>5808</td>\n",
              "      <td>2</td>\n",
              "      <td>131</td>\n",
              "      <td>4362</td>\n",
              "      <td>1315</td>\n",
              "      <td>23</td>\n",
              "      <td>4347</td>\n",
              "      <td>1438</td>\n",
              "      <td>49</td>\n",
              "      <td>3817</td>\n",
              "      <td>1942</td>\n",
              "      <td>281</td>\n",
              "      <td>4558</td>\n",
              "      <td>969</td>\n",
              "    </tr>\n",
              "  </tbody>\n",
              "</table>\n",
              "<p>76 rows × 15 columns</p>\n",
              "</div>\n",
              "      <button class=\"colab-df-convert\" onclick=\"convertToInteractive('df-23b53615-d42e-4c6b-aede-601a4bebd09d')\"\n",
              "              title=\"Convert this dataframe to an interactive table.\"\n",
              "              style=\"display:none;\">\n",
              "\n",
              "  <svg xmlns=\"http://www.w3.org/2000/svg\" height=\"24px\"viewBox=\"0 0 24 24\"\n",
              "       width=\"24px\">\n",
              "    <path d=\"M0 0h24v24H0V0z\" fill=\"none\"/>\n",
              "    <path d=\"M18.56 5.44l.94 2.06.94-2.06 2.06-.94-2.06-.94-.94-2.06-.94 2.06-2.06.94zm-11 1L8.5 8.5l.94-2.06 2.06-.94-2.06-.94L8.5 2.5l-.94 2.06-2.06.94zm10 10l.94 2.06.94-2.06 2.06-.94-2.06-.94-.94-2.06-.94 2.06-2.06.94z\"/><path d=\"M17.41 7.96l-1.37-1.37c-.4-.4-.92-.59-1.43-.59-.52 0-1.04.2-1.43.59L10.3 9.45l-7.72 7.72c-.78.78-.78 2.05 0 2.83L4 21.41c.39.39.9.59 1.41.59.51 0 1.02-.2 1.41-.59l7.78-7.78 2.81-2.81c.8-.78.8-2.07 0-2.86zM5.41 20L4 18.59l7.72-7.72 1.47 1.35L5.41 20z\"/>\n",
              "  </svg>\n",
              "      </button>\n",
              "\n",
              "\n",
              "\n",
              "    <div id=\"df-ebf92041-2a81-49b7-8cf1-75732cd1d440\">\n",
              "      <button class=\"colab-df-quickchart\" onclick=\"quickchart('df-ebf92041-2a81-49b7-8cf1-75732cd1d440')\"\n",
              "              title=\"Suggest charts.\"\n",
              "              style=\"display:none;\">\n",
              "\n",
              "<svg xmlns=\"http://www.w3.org/2000/svg\" height=\"24px\"viewBox=\"0 0 24 24\"\n",
              "     width=\"24px\">\n",
              "    <g>\n",
              "        <path d=\"M19 3H5c-1.1 0-2 .9-2 2v14c0 1.1.9 2 2 2h14c1.1 0 2-.9 2-2V5c0-1.1-.9-2-2-2zM9 17H7v-7h2v7zm4 0h-2V7h2v10zm4 0h-2v-4h2v4z\"/>\n",
              "    </g>\n",
              "</svg>\n",
              "      </button>\n",
              "    </div>\n",
              "\n",
              "<style>\n",
              "  .colab-df-quickchart {\n",
              "    background-color: #E8F0FE;\n",
              "    border: none;\n",
              "    border-radius: 50%;\n",
              "    cursor: pointer;\n",
              "    display: none;\n",
              "    fill: #1967D2;\n",
              "    height: 32px;\n",
              "    padding: 0 0 0 0;\n",
              "    width: 32px;\n",
              "  }\n",
              "\n",
              "  .colab-df-quickchart:hover {\n",
              "    background-color: #E2EBFA;\n",
              "    box-shadow: 0px 1px 2px rgba(60, 64, 67, 0.3), 0px 1px 3px 1px rgba(60, 64, 67, 0.15);\n",
              "    fill: #174EA6;\n",
              "  }\n",
              "\n",
              "  [theme=dark] .colab-df-quickchart {\n",
              "    background-color: #3B4455;\n",
              "    fill: #D2E3FC;\n",
              "  }\n",
              "\n",
              "  [theme=dark] .colab-df-quickchart:hover {\n",
              "    background-color: #434B5C;\n",
              "    box-shadow: 0px 1px 3px 1px rgba(0, 0, 0, 0.15);\n",
              "    filter: drop-shadow(0px 1px 2px rgba(0, 0, 0, 0.3));\n",
              "    fill: #FFFFFF;\n",
              "  }\n",
              "</style>\n",
              "\n",
              "    <script>\n",
              "      async function quickchart(key) {\n",
              "        const containerElement = document.querySelector('#' + key);\n",
              "        const charts = await google.colab.kernel.invokeFunction(\n",
              "            'suggestCharts', [key], {});\n",
              "      }\n",
              "    </script>\n",
              "\n",
              "      <script>\n",
              "\n",
              "function displayQuickchartButton(domScope) {\n",
              "  let quickchartButtonEl =\n",
              "    domScope.querySelector('#df-ebf92041-2a81-49b7-8cf1-75732cd1d440 button.colab-df-quickchart');\n",
              "  quickchartButtonEl.style.display =\n",
              "    google.colab.kernel.accessAllowed ? 'block' : 'none';\n",
              "}\n",
              "\n",
              "        displayQuickchartButton(document);\n",
              "      </script>\n",
              "      <style>\n",
              "    .colab-df-container {\n",
              "      display:flex;\n",
              "      flex-wrap:wrap;\n",
              "      gap: 12px;\n",
              "    }\n",
              "\n",
              "    .colab-df-convert {\n",
              "      background-color: #E8F0FE;\n",
              "      border: none;\n",
              "      border-radius: 50%;\n",
              "      cursor: pointer;\n",
              "      display: none;\n",
              "      fill: #1967D2;\n",
              "      height: 32px;\n",
              "      padding: 0 0 0 0;\n",
              "      width: 32px;\n",
              "    }\n",
              "\n",
              "    .colab-df-convert:hover {\n",
              "      background-color: #E2EBFA;\n",
              "      box-shadow: 0px 1px 2px rgba(60, 64, 67, 0.3), 0px 1px 3px 1px rgba(60, 64, 67, 0.15);\n",
              "      fill: #174EA6;\n",
              "    }\n",
              "\n",
              "    [theme=dark] .colab-df-convert {\n",
              "      background-color: #3B4455;\n",
              "      fill: #D2E3FC;\n",
              "    }\n",
              "\n",
              "    [theme=dark] .colab-df-convert:hover {\n",
              "      background-color: #434B5C;\n",
              "      box-shadow: 0px 1px 3px 1px rgba(0, 0, 0, 0.15);\n",
              "      filter: drop-shadow(0px 1px 2px rgba(0, 0, 0, 0.3));\n",
              "      fill: #FFFFFF;\n",
              "    }\n",
              "  </style>\n",
              "\n",
              "      <script>\n",
              "        const buttonEl =\n",
              "          document.querySelector('#df-23b53615-d42e-4c6b-aede-601a4bebd09d button.colab-df-convert');\n",
              "        buttonEl.style.display =\n",
              "          google.colab.kernel.accessAllowed ? 'block' : 'none';\n",
              "\n",
              "        async function convertToInteractive(key) {\n",
              "          const element = document.querySelector('#df-23b53615-d42e-4c6b-aede-601a4bebd09d');\n",
              "          const dataTable =\n",
              "            await google.colab.kernel.invokeFunction('convertToInteractive',\n",
              "                                                     [key], {});\n",
              "          if (!dataTable) return;\n",
              "\n",
              "          const docLinkHtml = 'Like what you see? Visit the ' +\n",
              "            '<a target=\"_blank\" href=https://colab.research.google.com/notebooks/data_table.ipynb>data table notebook</a>'\n",
              "            + ' to learn more about interactive tables.';\n",
              "          element.innerHTML = '';\n",
              "          dataTable['output_type'] = 'display_data';\n",
              "          await google.colab.output.renderOutput(dataTable, element);\n",
              "          const docLink = document.createElement('div');\n",
              "          docLink.innerHTML = docLinkHtml;\n",
              "          element.appendChild(docLink);\n",
              "        }\n",
              "      </script>\n",
              "    </div>\n",
              "  </div>\n"
            ]
          },
          "metadata": {},
          "execution_count": 47
        }
      ]
    },
    {
      "cell_type": "code",
      "source": [
        "df3.shape"
      ],
      "metadata": {
        "id": "hesOBar4bGoX",
        "colab": {
          "base_uri": "https://localhost:8080/"
        },
        "outputId": "9e04450f-8bd2-4a30-86cc-09a81a169d41"
      },
      "execution_count": null,
      "outputs": [
        {
          "output_type": "execute_result",
          "data": {
            "text/plain": [
              "(76, 15)"
            ]
          },
          "metadata": {},
          "execution_count": 48
        }
      ]
    },
    {
      "cell_type": "code",
      "source": [
        "df3.columns"
      ],
      "metadata": {
        "colab": {
          "base_uri": "https://localhost:8080/"
        },
        "id": "kYjOahGa5hkE",
        "outputId": "e9a7dafd-d594-44a0-ea68-592d6d40bd3d"
      },
      "execution_count": null,
      "outputs": [
        {
          "output_type": "execute_result",
          "data": {
            "text/plain": [
              "Index(['จังหวัด', 'จำนวนผู้บาดเจ็บ', 'จำนวนผู้เสียชีวิต', 'แอลกอฮอล์:ดื่ม',\n",
              "       'แอลกอฮอล์:ไม่ดื่ม', 'แอลกอฮอล์:ไม่ทราบ', 'สารเสพติด:ใช้',\n",
              "       'สารเสพติด:ไม่ใช้', 'สารเสพติด:ไม่ทราบ', 'เข็มขัดนิรภัย:คาด',\n",
              "       'เข็มขัดนิรภัย:ไม่คาด', 'เข็มขัดนิรภัย:ไม่ทราบ', 'หมวกนิรภัย:สวม',\n",
              "       'หมวกนิรภัย:ไม่สวม', 'หมวกนิรภัย:ไม่ทราบ'],\n",
              "      dtype='object')"
            ]
          },
          "metadata": {},
          "execution_count": 49
        }
      ]
    },
    {
      "cell_type": "code",
      "source": [
        "df3.index"
      ],
      "metadata": {
        "colab": {
          "base_uri": "https://localhost:8080/"
        },
        "id": "ofjXWqQQBrKU",
        "outputId": "1155e2c6-5261-4564-8364-aa49612041e5"
      },
      "execution_count": null,
      "outputs": [
        {
          "output_type": "execute_result",
          "data": {
            "text/plain": [
              "RangeIndex(start=0, stop=76, step=1)"
            ]
          },
          "metadata": {},
          "execution_count": 158
        }
      ]
    },
    {
      "cell_type": "code",
      "source": [
        "df3.head()"
      ],
      "metadata": {
        "colab": {
          "base_uri": "https://localhost:8080/",
          "height": 322
        },
        "id": "4Ts8_NqYlWzd",
        "outputId": "08a8b4ab-6932-4e90-cf3f-87899cc11d13"
      },
      "execution_count": null,
      "outputs": [
        {
          "output_type": "execute_result",
          "data": {
            "text/plain": [
              "           จังหวัด  จำนวนผู้บาดเจ็บ  จำนวนผู้เสียชีวิต  แอลกอฮอล์:ดื่ม  \\\n",
              "0      สมุทรปราการ             1477                  0             153   \n",
              "1          นนทบุรี             4851                  1             681   \n",
              "2         ปทุมธานี             6667                 21             988   \n",
              "3  พระนครศรีอยุธยา             8108                 68             998   \n",
              "4          อ่างทอง             2271                  9             222   \n",
              "\n",
              "   แอลกอฮอล์:ไม่ดื่ม  แอลกอฮอล์:ไม่ทราบ  สารเสพติด:ใช้  สารเสพติด:ไม่ใช้  \\\n",
              "0               1174                150              7              1204   \n",
              "1               2809               1362             41              2334   \n",
              "2               4069               1612             38              2082   \n",
              "3               5229               1881             69              4325   \n",
              "4               1626                423              9              1350   \n",
              "\n",
              "   สารเสพติด:ไม่ทราบ  เข็มขัดนิรภัย:คาด  เข็มขัดนิรภัย:ไม่คาด  \\\n",
              "0                266                 10                   558   \n",
              "1               2477                 95                  2253   \n",
              "2               4547                125                  1068   \n",
              "3               3714                243                  1175   \n",
              "4                912                 50                  1089   \n",
              "\n",
              "   เข็มขัดนิรภัย:ไม่ทราบ  หมวกนิรภัย:สวม  หมวกนิรภัย:ไม่สวม  \\\n",
              "0                    907             183                794   \n",
              "1                   2503            1364               2533   \n",
              "2                   5475            1536               3331   \n",
              "3                   5984            1086               3890   \n",
              "4                   1132             287               1559   \n",
              "\n",
              "   หมวกนิรภัย:ไม่ทราบ  \n",
              "0                 498  \n",
              "1                 955  \n",
              "2                1803  \n",
              "3                3016  \n",
              "4                 425  "
            ],
            "text/html": [
              "\n",
              "  <div id=\"df-84a9a083-b810-4b0e-a3d1-e9cb7965969d\">\n",
              "    <div class=\"colab-df-container\">\n",
              "      <div>\n",
              "<style scoped>\n",
              "    .dataframe tbody tr th:only-of-type {\n",
              "        vertical-align: middle;\n",
              "    }\n",
              "\n",
              "    .dataframe tbody tr th {\n",
              "        vertical-align: top;\n",
              "    }\n",
              "\n",
              "    .dataframe thead th {\n",
              "        text-align: right;\n",
              "    }\n",
              "</style>\n",
              "<table border=\"1\" class=\"dataframe\">\n",
              "  <thead>\n",
              "    <tr style=\"text-align: right;\">\n",
              "      <th></th>\n",
              "      <th>จังหวัด</th>\n",
              "      <th>จำนวนผู้บาดเจ็บ</th>\n",
              "      <th>จำนวนผู้เสียชีวิต</th>\n",
              "      <th>แอลกอฮอล์:ดื่ม</th>\n",
              "      <th>แอลกอฮอล์:ไม่ดื่ม</th>\n",
              "      <th>แอลกอฮอล์:ไม่ทราบ</th>\n",
              "      <th>สารเสพติด:ใช้</th>\n",
              "      <th>สารเสพติด:ไม่ใช้</th>\n",
              "      <th>สารเสพติด:ไม่ทราบ</th>\n",
              "      <th>เข็มขัดนิรภัย:คาด</th>\n",
              "      <th>เข็มขัดนิรภัย:ไม่คาด</th>\n",
              "      <th>เข็มขัดนิรภัย:ไม่ทราบ</th>\n",
              "      <th>หมวกนิรภัย:สวม</th>\n",
              "      <th>หมวกนิรภัย:ไม่สวม</th>\n",
              "      <th>หมวกนิรภัย:ไม่ทราบ</th>\n",
              "    </tr>\n",
              "  </thead>\n",
              "  <tbody>\n",
              "    <tr>\n",
              "      <th>0</th>\n",
              "      <td>สมุทรปราการ</td>\n",
              "      <td>1477</td>\n",
              "      <td>0</td>\n",
              "      <td>153</td>\n",
              "      <td>1174</td>\n",
              "      <td>150</td>\n",
              "      <td>7</td>\n",
              "      <td>1204</td>\n",
              "      <td>266</td>\n",
              "      <td>10</td>\n",
              "      <td>558</td>\n",
              "      <td>907</td>\n",
              "      <td>183</td>\n",
              "      <td>794</td>\n",
              "      <td>498</td>\n",
              "    </tr>\n",
              "    <tr>\n",
              "      <th>1</th>\n",
              "      <td>นนทบุรี</td>\n",
              "      <td>4851</td>\n",
              "      <td>1</td>\n",
              "      <td>681</td>\n",
              "      <td>2809</td>\n",
              "      <td>1362</td>\n",
              "      <td>41</td>\n",
              "      <td>2334</td>\n",
              "      <td>2477</td>\n",
              "      <td>95</td>\n",
              "      <td>2253</td>\n",
              "      <td>2503</td>\n",
              "      <td>1364</td>\n",
              "      <td>2533</td>\n",
              "      <td>955</td>\n",
              "    </tr>\n",
              "    <tr>\n",
              "      <th>2</th>\n",
              "      <td>ปทุมธานี</td>\n",
              "      <td>6667</td>\n",
              "      <td>21</td>\n",
              "      <td>988</td>\n",
              "      <td>4069</td>\n",
              "      <td>1612</td>\n",
              "      <td>38</td>\n",
              "      <td>2082</td>\n",
              "      <td>4547</td>\n",
              "      <td>125</td>\n",
              "      <td>1068</td>\n",
              "      <td>5475</td>\n",
              "      <td>1536</td>\n",
              "      <td>3331</td>\n",
              "      <td>1803</td>\n",
              "    </tr>\n",
              "    <tr>\n",
              "      <th>3</th>\n",
              "      <td>พระนครศรีอยุธยา</td>\n",
              "      <td>8108</td>\n",
              "      <td>68</td>\n",
              "      <td>998</td>\n",
              "      <td>5229</td>\n",
              "      <td>1881</td>\n",
              "      <td>69</td>\n",
              "      <td>4325</td>\n",
              "      <td>3714</td>\n",
              "      <td>243</td>\n",
              "      <td>1175</td>\n",
              "      <td>5984</td>\n",
              "      <td>1086</td>\n",
              "      <td>3890</td>\n",
              "      <td>3016</td>\n",
              "    </tr>\n",
              "    <tr>\n",
              "      <th>4</th>\n",
              "      <td>อ่างทอง</td>\n",
              "      <td>2271</td>\n",
              "      <td>9</td>\n",
              "      <td>222</td>\n",
              "      <td>1626</td>\n",
              "      <td>423</td>\n",
              "      <td>9</td>\n",
              "      <td>1350</td>\n",
              "      <td>912</td>\n",
              "      <td>50</td>\n",
              "      <td>1089</td>\n",
              "      <td>1132</td>\n",
              "      <td>287</td>\n",
              "      <td>1559</td>\n",
              "      <td>425</td>\n",
              "    </tr>\n",
              "  </tbody>\n",
              "</table>\n",
              "</div>\n",
              "      <button class=\"colab-df-convert\" onclick=\"convertToInteractive('df-84a9a083-b810-4b0e-a3d1-e9cb7965969d')\"\n",
              "              title=\"Convert this dataframe to an interactive table.\"\n",
              "              style=\"display:none;\">\n",
              "        \n",
              "  <svg xmlns=\"http://www.w3.org/2000/svg\" height=\"24px\"viewBox=\"0 0 24 24\"\n",
              "       width=\"24px\">\n",
              "    <path d=\"M0 0h24v24H0V0z\" fill=\"none\"/>\n",
              "    <path d=\"M18.56 5.44l.94 2.06.94-2.06 2.06-.94-2.06-.94-.94-2.06-.94 2.06-2.06.94zm-11 1L8.5 8.5l.94-2.06 2.06-.94-2.06-.94L8.5 2.5l-.94 2.06-2.06.94zm10 10l.94 2.06.94-2.06 2.06-.94-2.06-.94-.94-2.06-.94 2.06-2.06.94z\"/><path d=\"M17.41 7.96l-1.37-1.37c-.4-.4-.92-.59-1.43-.59-.52 0-1.04.2-1.43.59L10.3 9.45l-7.72 7.72c-.78.78-.78 2.05 0 2.83L4 21.41c.39.39.9.59 1.41.59.51 0 1.02-.2 1.41-.59l7.78-7.78 2.81-2.81c.8-.78.8-2.07 0-2.86zM5.41 20L4 18.59l7.72-7.72 1.47 1.35L5.41 20z\"/>\n",
              "  </svg>\n",
              "      </button>\n",
              "      \n",
              "  <style>\n",
              "    .colab-df-container {\n",
              "      display:flex;\n",
              "      flex-wrap:wrap;\n",
              "      gap: 12px;\n",
              "    }\n",
              "\n",
              "    .colab-df-convert {\n",
              "      background-color: #E8F0FE;\n",
              "      border: none;\n",
              "      border-radius: 50%;\n",
              "      cursor: pointer;\n",
              "      display: none;\n",
              "      fill: #1967D2;\n",
              "      height: 32px;\n",
              "      padding: 0 0 0 0;\n",
              "      width: 32px;\n",
              "    }\n",
              "\n",
              "    .colab-df-convert:hover {\n",
              "      background-color: #E2EBFA;\n",
              "      box-shadow: 0px 1px 2px rgba(60, 64, 67, 0.3), 0px 1px 3px 1px rgba(60, 64, 67, 0.15);\n",
              "      fill: #174EA6;\n",
              "    }\n",
              "\n",
              "    [theme=dark] .colab-df-convert {\n",
              "      background-color: #3B4455;\n",
              "      fill: #D2E3FC;\n",
              "    }\n",
              "\n",
              "    [theme=dark] .colab-df-convert:hover {\n",
              "      background-color: #434B5C;\n",
              "      box-shadow: 0px 1px 3px 1px rgba(0, 0, 0, 0.15);\n",
              "      filter: drop-shadow(0px 1px 2px rgba(0, 0, 0, 0.3));\n",
              "      fill: #FFFFFF;\n",
              "    }\n",
              "  </style>\n",
              "\n",
              "      <script>\n",
              "        const buttonEl =\n",
              "          document.querySelector('#df-84a9a083-b810-4b0e-a3d1-e9cb7965969d button.colab-df-convert');\n",
              "        buttonEl.style.display =\n",
              "          google.colab.kernel.accessAllowed ? 'block' : 'none';\n",
              "\n",
              "        async function convertToInteractive(key) {\n",
              "          const element = document.querySelector('#df-84a9a083-b810-4b0e-a3d1-e9cb7965969d');\n",
              "          const dataTable =\n",
              "            await google.colab.kernel.invokeFunction('convertToInteractive',\n",
              "                                                     [key], {});\n",
              "          if (!dataTable) return;\n",
              "\n",
              "          const docLinkHtml = 'Like what you see? Visit the ' +\n",
              "            '<a target=\"_blank\" href=https://colab.research.google.com/notebooks/data_table.ipynb>data table notebook</a>'\n",
              "            + ' to learn more about interactive tables.';\n",
              "          element.innerHTML = '';\n",
              "          dataTable['output_type'] = 'display_data';\n",
              "          await google.colab.output.renderOutput(dataTable, element);\n",
              "          const docLink = document.createElement('div');\n",
              "          docLink.innerHTML = docLinkHtml;\n",
              "          element.appendChild(docLink);\n",
              "        }\n",
              "      </script>\n",
              "    </div>\n",
              "  </div>\n",
              "  "
            ]
          },
          "metadata": {},
          "execution_count": 159
        }
      ]
    },
    {
      "cell_type": "code",
      "source": [
        "df3.tail()"
      ],
      "metadata": {
        "colab": {
          "base_uri": "https://localhost:8080/",
          "height": 322
        },
        "id": "2MP-oblnlo9n",
        "outputId": "531bed48-c54e-4924-8527-91ba2e112c8c"
      },
      "execution_count": null,
      "outputs": [
        {
          "output_type": "execute_result",
          "data": {
            "text/plain": [
              "     จังหวัด  จำนวนผู้บาดเจ็บ  จำนวนผู้เสียชีวิต  แอลกอฮอล์:ดื่ม  \\\n",
              "71      ตรัง             7348                 25             761   \n",
              "72    พัทลุง             6102                 20             623   \n",
              "73   ปัตตานี             2137                  0              30   \n",
              "74      ยะลา             3878                  9              90   \n",
              "75  นราธิวาส             5808                  2             131   \n",
              "\n",
              "    แอลกอฮอล์:ไม่ดื่ม  แอลกอฮอล์:ไม่ทราบ  สารเสพติด:ใช้  สารเสพติด:ไม่ใช้  \\\n",
              "71               5600                988             39              5864   \n",
              "72               4259               1221             24              4239   \n",
              "73               1547                560              6              1523   \n",
              "74               3140                648             24              3095   \n",
              "75               4362               1315             23              4347   \n",
              "\n",
              "    สารเสพติด:ไม่ทราบ  เข็มขัดนิรภัย:คาด  เข็มขัดนิรภัย:ไม่คาด  \\\n",
              "71               1446                 83                  2991   \n",
              "72               1839                173                  1792   \n",
              "73                608                 11                  1162   \n",
              "74                759                 33                  1215   \n",
              "75               1438                 49                  3817   \n",
              "\n",
              "    เข็มขัดนิรภัย:ไม่ทราบ  หมวกนิรภัย:สวม  หมวกนิรภัย:ไม่สวม  \\\n",
              "71                   3733             670               5380   \n",
              "72                   4138             851               3818   \n",
              "73                    965              93               1496   \n",
              "74                   1269             132               2993   \n",
              "75                   1942             281               4558   \n",
              "\n",
              "    หมวกนิรภัย:ไม่ทราบ  \n",
              "71                1233  \n",
              "72                1434  \n",
              "73                 549  \n",
              "74                 583  \n",
              "75                 969  "
            ],
            "text/html": [
              "\n",
              "  <div id=\"df-dca7d188-7ef3-447b-8f06-c6f1a6dc332a\">\n",
              "    <div class=\"colab-df-container\">\n",
              "      <div>\n",
              "<style scoped>\n",
              "    .dataframe tbody tr th:only-of-type {\n",
              "        vertical-align: middle;\n",
              "    }\n",
              "\n",
              "    .dataframe tbody tr th {\n",
              "        vertical-align: top;\n",
              "    }\n",
              "\n",
              "    .dataframe thead th {\n",
              "        text-align: right;\n",
              "    }\n",
              "</style>\n",
              "<table border=\"1\" class=\"dataframe\">\n",
              "  <thead>\n",
              "    <tr style=\"text-align: right;\">\n",
              "      <th></th>\n",
              "      <th>จังหวัด</th>\n",
              "      <th>จำนวนผู้บาดเจ็บ</th>\n",
              "      <th>จำนวนผู้เสียชีวิต</th>\n",
              "      <th>แอลกอฮอล์:ดื่ม</th>\n",
              "      <th>แอลกอฮอล์:ไม่ดื่ม</th>\n",
              "      <th>แอลกอฮอล์:ไม่ทราบ</th>\n",
              "      <th>สารเสพติด:ใช้</th>\n",
              "      <th>สารเสพติด:ไม่ใช้</th>\n",
              "      <th>สารเสพติด:ไม่ทราบ</th>\n",
              "      <th>เข็มขัดนิรภัย:คาด</th>\n",
              "      <th>เข็มขัดนิรภัย:ไม่คาด</th>\n",
              "      <th>เข็มขัดนิรภัย:ไม่ทราบ</th>\n",
              "      <th>หมวกนิรภัย:สวม</th>\n",
              "      <th>หมวกนิรภัย:ไม่สวม</th>\n",
              "      <th>หมวกนิรภัย:ไม่ทราบ</th>\n",
              "    </tr>\n",
              "  </thead>\n",
              "  <tbody>\n",
              "    <tr>\n",
              "      <th>71</th>\n",
              "      <td>ตรัง</td>\n",
              "      <td>7348</td>\n",
              "      <td>25</td>\n",
              "      <td>761</td>\n",
              "      <td>5600</td>\n",
              "      <td>988</td>\n",
              "      <td>39</td>\n",
              "      <td>5864</td>\n",
              "      <td>1446</td>\n",
              "      <td>83</td>\n",
              "      <td>2991</td>\n",
              "      <td>3733</td>\n",
              "      <td>670</td>\n",
              "      <td>5380</td>\n",
              "      <td>1233</td>\n",
              "    </tr>\n",
              "    <tr>\n",
              "      <th>72</th>\n",
              "      <td>พัทลุง</td>\n",
              "      <td>6102</td>\n",
              "      <td>20</td>\n",
              "      <td>623</td>\n",
              "      <td>4259</td>\n",
              "      <td>1221</td>\n",
              "      <td>24</td>\n",
              "      <td>4239</td>\n",
              "      <td>1839</td>\n",
              "      <td>173</td>\n",
              "      <td>1792</td>\n",
              "      <td>4138</td>\n",
              "      <td>851</td>\n",
              "      <td>3818</td>\n",
              "      <td>1434</td>\n",
              "    </tr>\n",
              "    <tr>\n",
              "      <th>73</th>\n",
              "      <td>ปัตตานี</td>\n",
              "      <td>2137</td>\n",
              "      <td>0</td>\n",
              "      <td>30</td>\n",
              "      <td>1547</td>\n",
              "      <td>560</td>\n",
              "      <td>6</td>\n",
              "      <td>1523</td>\n",
              "      <td>608</td>\n",
              "      <td>11</td>\n",
              "      <td>1162</td>\n",
              "      <td>965</td>\n",
              "      <td>93</td>\n",
              "      <td>1496</td>\n",
              "      <td>549</td>\n",
              "    </tr>\n",
              "    <tr>\n",
              "      <th>74</th>\n",
              "      <td>ยะลา</td>\n",
              "      <td>3878</td>\n",
              "      <td>9</td>\n",
              "      <td>90</td>\n",
              "      <td>3140</td>\n",
              "      <td>648</td>\n",
              "      <td>24</td>\n",
              "      <td>3095</td>\n",
              "      <td>759</td>\n",
              "      <td>33</td>\n",
              "      <td>1215</td>\n",
              "      <td>1269</td>\n",
              "      <td>132</td>\n",
              "      <td>2993</td>\n",
              "      <td>583</td>\n",
              "    </tr>\n",
              "    <tr>\n",
              "      <th>75</th>\n",
              "      <td>นราธิวาส</td>\n",
              "      <td>5808</td>\n",
              "      <td>2</td>\n",
              "      <td>131</td>\n",
              "      <td>4362</td>\n",
              "      <td>1315</td>\n",
              "      <td>23</td>\n",
              "      <td>4347</td>\n",
              "      <td>1438</td>\n",
              "      <td>49</td>\n",
              "      <td>3817</td>\n",
              "      <td>1942</td>\n",
              "      <td>281</td>\n",
              "      <td>4558</td>\n",
              "      <td>969</td>\n",
              "    </tr>\n",
              "  </tbody>\n",
              "</table>\n",
              "</div>\n",
              "      <button class=\"colab-df-convert\" onclick=\"convertToInteractive('df-dca7d188-7ef3-447b-8f06-c6f1a6dc332a')\"\n",
              "              title=\"Convert this dataframe to an interactive table.\"\n",
              "              style=\"display:none;\">\n",
              "        \n",
              "  <svg xmlns=\"http://www.w3.org/2000/svg\" height=\"24px\"viewBox=\"0 0 24 24\"\n",
              "       width=\"24px\">\n",
              "    <path d=\"M0 0h24v24H0V0z\" fill=\"none\"/>\n",
              "    <path d=\"M18.56 5.44l.94 2.06.94-2.06 2.06-.94-2.06-.94-.94-2.06-.94 2.06-2.06.94zm-11 1L8.5 8.5l.94-2.06 2.06-.94-2.06-.94L8.5 2.5l-.94 2.06-2.06.94zm10 10l.94 2.06.94-2.06 2.06-.94-2.06-.94-.94-2.06-.94 2.06-2.06.94z\"/><path d=\"M17.41 7.96l-1.37-1.37c-.4-.4-.92-.59-1.43-.59-.52 0-1.04.2-1.43.59L10.3 9.45l-7.72 7.72c-.78.78-.78 2.05 0 2.83L4 21.41c.39.39.9.59 1.41.59.51 0 1.02-.2 1.41-.59l7.78-7.78 2.81-2.81c.8-.78.8-2.07 0-2.86zM5.41 20L4 18.59l7.72-7.72 1.47 1.35L5.41 20z\"/>\n",
              "  </svg>\n",
              "      </button>\n",
              "      \n",
              "  <style>\n",
              "    .colab-df-container {\n",
              "      display:flex;\n",
              "      flex-wrap:wrap;\n",
              "      gap: 12px;\n",
              "    }\n",
              "\n",
              "    .colab-df-convert {\n",
              "      background-color: #E8F0FE;\n",
              "      border: none;\n",
              "      border-radius: 50%;\n",
              "      cursor: pointer;\n",
              "      display: none;\n",
              "      fill: #1967D2;\n",
              "      height: 32px;\n",
              "      padding: 0 0 0 0;\n",
              "      width: 32px;\n",
              "    }\n",
              "\n",
              "    .colab-df-convert:hover {\n",
              "      background-color: #E2EBFA;\n",
              "      box-shadow: 0px 1px 2px rgba(60, 64, 67, 0.3), 0px 1px 3px 1px rgba(60, 64, 67, 0.15);\n",
              "      fill: #174EA6;\n",
              "    }\n",
              "\n",
              "    [theme=dark] .colab-df-convert {\n",
              "      background-color: #3B4455;\n",
              "      fill: #D2E3FC;\n",
              "    }\n",
              "\n",
              "    [theme=dark] .colab-df-convert:hover {\n",
              "      background-color: #434B5C;\n",
              "      box-shadow: 0px 1px 3px 1px rgba(0, 0, 0, 0.15);\n",
              "      filter: drop-shadow(0px 1px 2px rgba(0, 0, 0, 0.3));\n",
              "      fill: #FFFFFF;\n",
              "    }\n",
              "  </style>\n",
              "\n",
              "      <script>\n",
              "        const buttonEl =\n",
              "          document.querySelector('#df-dca7d188-7ef3-447b-8f06-c6f1a6dc332a button.colab-df-convert');\n",
              "        buttonEl.style.display =\n",
              "          google.colab.kernel.accessAllowed ? 'block' : 'none';\n",
              "\n",
              "        async function convertToInteractive(key) {\n",
              "          const element = document.querySelector('#df-dca7d188-7ef3-447b-8f06-c6f1a6dc332a');\n",
              "          const dataTable =\n",
              "            await google.colab.kernel.invokeFunction('convertToInteractive',\n",
              "                                                     [key], {});\n",
              "          if (!dataTable) return;\n",
              "\n",
              "          const docLinkHtml = 'Like what you see? Visit the ' +\n",
              "            '<a target=\"_blank\" href=https://colab.research.google.com/notebooks/data_table.ipynb>data table notebook</a>'\n",
              "            + ' to learn more about interactive tables.';\n",
              "          element.innerHTML = '';\n",
              "          dataTable['output_type'] = 'display_data';\n",
              "          await google.colab.output.renderOutput(dataTable, element);\n",
              "          const docLink = document.createElement('div');\n",
              "          docLink.innerHTML = docLinkHtml;\n",
              "          element.appendChild(docLink);\n",
              "        }\n",
              "      </script>\n",
              "    </div>\n",
              "  </div>\n",
              "  "
            ]
          },
          "metadata": {},
          "execution_count": 160
        }
      ]
    },
    {
      "cell_type": "code",
      "source": [
        "df3.dtypes"
      ],
      "metadata": {
        "colab": {
          "base_uri": "https://localhost:8080/"
        },
        "id": "YqxhDCyvops9",
        "outputId": "de27d9a8-fca0-4a00-9621-3f7e781ee99f"
      },
      "execution_count": null,
      "outputs": [
        {
          "output_type": "execute_result",
          "data": {
            "text/plain": [
              "จังหวัด                  object\n",
              "จำนวนผู้บาดเจ็บ           int64\n",
              "จำนวนผู้เสียชีวิต         int64\n",
              "แอลกอฮอล์:ดื่ม            int64\n",
              "แอลกอฮอล์:ไม่ดื่ม         int64\n",
              "แอลกอฮอล์:ไม่ทราบ         int64\n",
              "สารเสพติด:ใช้             int64\n",
              "สารเสพติด:ไม่ใช้          int64\n",
              "สารเสพติด:ไม่ทราบ         int64\n",
              "เข็มขัดนิรภัย:คาด         int64\n",
              "เข็มขัดนิรภัย:ไม่คาด      int64\n",
              "เข็มขัดนิรภัย:ไม่ทราบ     int64\n",
              "หมวกนิรภัย:สวม            int64\n",
              "หมวกนิรภัย:ไม่สวม         int64\n",
              "หมวกนิรภัย:ไม่ทราบ        int64\n",
              "dtype: object"
            ]
          },
          "metadata": {},
          "execution_count": 161
        }
      ]
    },
    {
      "cell_type": "code",
      "source": [
        "df3.info()"
      ],
      "metadata": {
        "colab": {
          "base_uri": "https://localhost:8080/"
        },
        "id": "nDJ2No-fl0Ru",
        "outputId": "01858eb7-1798-4bc4-9e5d-7244a7cb1509"
      },
      "execution_count": null,
      "outputs": [
        {
          "output_type": "stream",
          "name": "stdout",
          "text": [
            "<class 'pandas.core.frame.DataFrame'>\n",
            "RangeIndex: 76 entries, 0 to 75\n",
            "Data columns (total 15 columns):\n",
            " #   Column                 Non-Null Count  Dtype \n",
            "---  ------                 --------------  ----- \n",
            " 0   จังหวัด                76 non-null     object\n",
            " 1   จำนวนผู้บาดเจ็บ        76 non-null     int64 \n",
            " 2   จำนวนผู้เสียชีวิต      76 non-null     int64 \n",
            " 3   แอลกอฮอล์:ดื่ม         76 non-null     int64 \n",
            " 4   แอลกอฮอล์:ไม่ดื่ม      76 non-null     int64 \n",
            " 5   แอลกอฮอล์:ไม่ทราบ      76 non-null     int64 \n",
            " 6   สารเสพติด:ใช้          76 non-null     int64 \n",
            " 7   สารเสพติด:ไม่ใช้       76 non-null     int64 \n",
            " 8   สารเสพติด:ไม่ทราบ      76 non-null     int64 \n",
            " 9   เข็มขัดนิรภัย:คาด      76 non-null     int64 \n",
            " 10  เข็มขัดนิรภัย:ไม่คาด   76 non-null     int64 \n",
            " 11  เข็มขัดนิรภัย:ไม่ทราบ  76 non-null     int64 \n",
            " 12  หมวกนิรภัย:สวม         76 non-null     int64 \n",
            " 13  หมวกนิรภัย:ไม่สวม      76 non-null     int64 \n",
            " 14  หมวกนิรภัย:ไม่ทราบ     76 non-null     int64 \n",
            "dtypes: int64(14), object(1)\n",
            "memory usage: 9.0+ KB\n"
          ]
        }
      ]
    },
    {
      "cell_type": "code",
      "source": [
        "df3[['จังหวัด','จำนวนผู้เสียชีวิต']]"
      ],
      "metadata": {
        "colab": {
          "base_uri": "https://localhost:8080/",
          "height": 423
        },
        "id": "5-lKOnU76_Io",
        "outputId": "9095857d-44fb-4834-a0b2-812399ec2e19"
      },
      "execution_count": null,
      "outputs": [
        {
          "output_type": "execute_result",
          "data": {
            "text/plain": [
              "            จังหวัด  จำนวนผู้เสียชีวิต\n",
              "0       สมุทรปราการ                  0\n",
              "1           นนทบุรี                  1\n",
              "2          ปทุมธานี                 21\n",
              "3   พระนครศรีอยุธยา                 68\n",
              "4           อ่างทอง                  9\n",
              "..              ...                ...\n",
              "71             ตรัง                 25\n",
              "72           พัทลุง                 20\n",
              "73          ปัตตานี                  0\n",
              "74             ยะลา                  9\n",
              "75         นราธิวาส                  2\n",
              "\n",
              "[76 rows x 2 columns]"
            ],
            "text/html": [
              "\n",
              "  <div id=\"df-3f548bb0-ca12-4f13-a838-baa5148098b6\">\n",
              "    <div class=\"colab-df-container\">\n",
              "      <div>\n",
              "<style scoped>\n",
              "    .dataframe tbody tr th:only-of-type {\n",
              "        vertical-align: middle;\n",
              "    }\n",
              "\n",
              "    .dataframe tbody tr th {\n",
              "        vertical-align: top;\n",
              "    }\n",
              "\n",
              "    .dataframe thead th {\n",
              "        text-align: right;\n",
              "    }\n",
              "</style>\n",
              "<table border=\"1\" class=\"dataframe\">\n",
              "  <thead>\n",
              "    <tr style=\"text-align: right;\">\n",
              "      <th></th>\n",
              "      <th>จังหวัด</th>\n",
              "      <th>จำนวนผู้เสียชีวิต</th>\n",
              "    </tr>\n",
              "  </thead>\n",
              "  <tbody>\n",
              "    <tr>\n",
              "      <th>0</th>\n",
              "      <td>สมุทรปราการ</td>\n",
              "      <td>0</td>\n",
              "    </tr>\n",
              "    <tr>\n",
              "      <th>1</th>\n",
              "      <td>นนทบุรี</td>\n",
              "      <td>1</td>\n",
              "    </tr>\n",
              "    <tr>\n",
              "      <th>2</th>\n",
              "      <td>ปทุมธานี</td>\n",
              "      <td>21</td>\n",
              "    </tr>\n",
              "    <tr>\n",
              "      <th>3</th>\n",
              "      <td>พระนครศรีอยุธยา</td>\n",
              "      <td>68</td>\n",
              "    </tr>\n",
              "    <tr>\n",
              "      <th>4</th>\n",
              "      <td>อ่างทอง</td>\n",
              "      <td>9</td>\n",
              "    </tr>\n",
              "    <tr>\n",
              "      <th>...</th>\n",
              "      <td>...</td>\n",
              "      <td>...</td>\n",
              "    </tr>\n",
              "    <tr>\n",
              "      <th>71</th>\n",
              "      <td>ตรัง</td>\n",
              "      <td>25</td>\n",
              "    </tr>\n",
              "    <tr>\n",
              "      <th>72</th>\n",
              "      <td>พัทลุง</td>\n",
              "      <td>20</td>\n",
              "    </tr>\n",
              "    <tr>\n",
              "      <th>73</th>\n",
              "      <td>ปัตตานี</td>\n",
              "      <td>0</td>\n",
              "    </tr>\n",
              "    <tr>\n",
              "      <th>74</th>\n",
              "      <td>ยะลา</td>\n",
              "      <td>9</td>\n",
              "    </tr>\n",
              "    <tr>\n",
              "      <th>75</th>\n",
              "      <td>นราธิวาส</td>\n",
              "      <td>2</td>\n",
              "    </tr>\n",
              "  </tbody>\n",
              "</table>\n",
              "<p>76 rows × 2 columns</p>\n",
              "</div>\n",
              "      <button class=\"colab-df-convert\" onclick=\"convertToInteractive('df-3f548bb0-ca12-4f13-a838-baa5148098b6')\"\n",
              "              title=\"Convert this dataframe to an interactive table.\"\n",
              "              style=\"display:none;\">\n",
              "        \n",
              "  <svg xmlns=\"http://www.w3.org/2000/svg\" height=\"24px\"viewBox=\"0 0 24 24\"\n",
              "       width=\"24px\">\n",
              "    <path d=\"M0 0h24v24H0V0z\" fill=\"none\"/>\n",
              "    <path d=\"M18.56 5.44l.94 2.06.94-2.06 2.06-.94-2.06-.94-.94-2.06-.94 2.06-2.06.94zm-11 1L8.5 8.5l.94-2.06 2.06-.94-2.06-.94L8.5 2.5l-.94 2.06-2.06.94zm10 10l.94 2.06.94-2.06 2.06-.94-2.06-.94-.94-2.06-.94 2.06-2.06.94z\"/><path d=\"M17.41 7.96l-1.37-1.37c-.4-.4-.92-.59-1.43-.59-.52 0-1.04.2-1.43.59L10.3 9.45l-7.72 7.72c-.78.78-.78 2.05 0 2.83L4 21.41c.39.39.9.59 1.41.59.51 0 1.02-.2 1.41-.59l7.78-7.78 2.81-2.81c.8-.78.8-2.07 0-2.86zM5.41 20L4 18.59l7.72-7.72 1.47 1.35L5.41 20z\"/>\n",
              "  </svg>\n",
              "      </button>\n",
              "      \n",
              "  <style>\n",
              "    .colab-df-container {\n",
              "      display:flex;\n",
              "      flex-wrap:wrap;\n",
              "      gap: 12px;\n",
              "    }\n",
              "\n",
              "    .colab-df-convert {\n",
              "      background-color: #E8F0FE;\n",
              "      border: none;\n",
              "      border-radius: 50%;\n",
              "      cursor: pointer;\n",
              "      display: none;\n",
              "      fill: #1967D2;\n",
              "      height: 32px;\n",
              "      padding: 0 0 0 0;\n",
              "      width: 32px;\n",
              "    }\n",
              "\n",
              "    .colab-df-convert:hover {\n",
              "      background-color: #E2EBFA;\n",
              "      box-shadow: 0px 1px 2px rgba(60, 64, 67, 0.3), 0px 1px 3px 1px rgba(60, 64, 67, 0.15);\n",
              "      fill: #174EA6;\n",
              "    }\n",
              "\n",
              "    [theme=dark] .colab-df-convert {\n",
              "      background-color: #3B4455;\n",
              "      fill: #D2E3FC;\n",
              "    }\n",
              "\n",
              "    [theme=dark] .colab-df-convert:hover {\n",
              "      background-color: #434B5C;\n",
              "      box-shadow: 0px 1px 3px 1px rgba(0, 0, 0, 0.15);\n",
              "      filter: drop-shadow(0px 1px 2px rgba(0, 0, 0, 0.3));\n",
              "      fill: #FFFFFF;\n",
              "    }\n",
              "  </style>\n",
              "\n",
              "      <script>\n",
              "        const buttonEl =\n",
              "          document.querySelector('#df-3f548bb0-ca12-4f13-a838-baa5148098b6 button.colab-df-convert');\n",
              "        buttonEl.style.display =\n",
              "          google.colab.kernel.accessAllowed ? 'block' : 'none';\n",
              "\n",
              "        async function convertToInteractive(key) {\n",
              "          const element = document.querySelector('#df-3f548bb0-ca12-4f13-a838-baa5148098b6');\n",
              "          const dataTable =\n",
              "            await google.colab.kernel.invokeFunction('convertToInteractive',\n",
              "                                                     [key], {});\n",
              "          if (!dataTable) return;\n",
              "\n",
              "          const docLinkHtml = 'Like what you see? Visit the ' +\n",
              "            '<a target=\"_blank\" href=https://colab.research.google.com/notebooks/data_table.ipynb>data table notebook</a>'\n",
              "            + ' to learn more about interactive tables.';\n",
              "          element.innerHTML = '';\n",
              "          dataTable['output_type'] = 'display_data';\n",
              "          await google.colab.output.renderOutput(dataTable, element);\n",
              "          const docLink = document.createElement('div');\n",
              "          docLink.innerHTML = docLinkHtml;\n",
              "          element.appendChild(docLink);\n",
              "        }\n",
              "      </script>\n",
              "    </div>\n",
              "  </div>\n",
              "  "
            ]
          },
          "metadata": {},
          "execution_count": 163
        }
      ]
    },
    {
      "cell_type": "code",
      "source": [
        "df3.describe()"
      ],
      "metadata": {
        "colab": {
          "base_uri": "https://localhost:8080/",
          "height": 399
        },
        "id": "QpwZM8QLm64z",
        "outputId": "e03459ee-9c75-4fb1-f413-0ee3c08f726b"
      },
      "execution_count": null,
      "outputs": [
        {
          "output_type": "execute_result",
          "data": {
            "text/plain": [
              "       จำนวนผู้บาดเจ็บ  จำนวนผู้เสียชีวิต  แอลกอฮอล์:ดื่ม  แอลกอฮอล์:ไม่ดื่ม  \\\n",
              "count        76.000000          76.000000       76.000000          76.000000   \n",
              "mean       6185.684211          21.263158     1084.802632        3952.644737   \n",
              "std        4174.239464          29.003158      855.501802        2407.761775   \n",
              "min         323.000000           0.000000       15.000000         230.000000   \n",
              "25%        3223.000000           5.750000      533.250000        1909.750000   \n",
              "50%        5399.000000          11.000000      903.500000        3569.500000   \n",
              "75%        7632.000000          26.250000     1352.500000        5314.750000   \n",
              "max       25010.000000         195.000000     4670.000000       11153.000000   \n",
              "\n",
              "       แอลกอฮอล์:ไม่ทราบ  สารเสพติด:ใช้  สารเสพติด:ไม่ใช้  สารเสพติด:ไม่ทราบ  \\\n",
              "count          76.000000      76.000000         76.000000          76.000000   \n",
              "mean         1149.921053      54.447368       3713.539474        2419.157895   \n",
              "std          1731.518492     168.437715       2559.655583        2448.109181   \n",
              "min            76.000000       2.000000        190.000000         131.000000   \n",
              "25%           548.750000      14.750000       1739.000000        1115.250000   \n",
              "50%           802.500000      24.000000       3327.000000        1977.000000   \n",
              "75%          1367.250000      46.750000       4897.750000        3037.750000   \n",
              "max         14723.000000    1462.000000      11870.000000       19780.000000   \n",
              "\n",
              "       เข็มขัดนิรภัย:คาด  เข็มขัดนิรภัย:ไม่คาด  เข็มขัดนิรภัย:ไม่ทราบ  \\\n",
              "count          76.000000             76.000000              76.000000   \n",
              "mean          147.973684           2199.881579            3601.868421   \n",
              "std           103.774753           1786.316791            2988.283674   \n",
              "min             4.000000             30.000000              43.000000   \n",
              "25%            70.000000           1088.500000            1805.250000   \n",
              "50%           121.500000           1818.500000            2861.500000   \n",
              "75%           213.250000           2755.750000            4862.250000   \n",
              "max           513.000000          10099.000000           21034.000000   \n",
              "\n",
              "       หมวกนิรภัย:สวม  หมวกนิรภัย:ไม่สวม  หมวกนิรภัย:ไม่ทราบ  \n",
              "count       76.000000          76.000000           76.000000  \n",
              "mean       818.315789        3839.039474         1474.657895  \n",
              "std        657.107930        2363.082176         1915.897684  \n",
              "min         36.000000         196.000000           28.000000  \n",
              "25%        342.750000        2136.500000          687.500000  \n",
              "50%        606.000000        3515.000000         1087.500000  \n",
              "75%       1104.250000        5080.500000         1764.750000  \n",
              "max       2913.000000       11794.000000        16085.000000  "
            ],
            "text/html": [
              "\n",
              "  <div id=\"df-c758cd87-e697-4f22-a346-e9041b5d7c31\">\n",
              "    <div class=\"colab-df-container\">\n",
              "      <div>\n",
              "<style scoped>\n",
              "    .dataframe tbody tr th:only-of-type {\n",
              "        vertical-align: middle;\n",
              "    }\n",
              "\n",
              "    .dataframe tbody tr th {\n",
              "        vertical-align: top;\n",
              "    }\n",
              "\n",
              "    .dataframe thead th {\n",
              "        text-align: right;\n",
              "    }\n",
              "</style>\n",
              "<table border=\"1\" class=\"dataframe\">\n",
              "  <thead>\n",
              "    <tr style=\"text-align: right;\">\n",
              "      <th></th>\n",
              "      <th>จำนวนผู้บาดเจ็บ</th>\n",
              "      <th>จำนวนผู้เสียชีวิต</th>\n",
              "      <th>แอลกอฮอล์:ดื่ม</th>\n",
              "      <th>แอลกอฮอล์:ไม่ดื่ม</th>\n",
              "      <th>แอลกอฮอล์:ไม่ทราบ</th>\n",
              "      <th>สารเสพติด:ใช้</th>\n",
              "      <th>สารเสพติด:ไม่ใช้</th>\n",
              "      <th>สารเสพติด:ไม่ทราบ</th>\n",
              "      <th>เข็มขัดนิรภัย:คาด</th>\n",
              "      <th>เข็มขัดนิรภัย:ไม่คาด</th>\n",
              "      <th>เข็มขัดนิรภัย:ไม่ทราบ</th>\n",
              "      <th>หมวกนิรภัย:สวม</th>\n",
              "      <th>หมวกนิรภัย:ไม่สวม</th>\n",
              "      <th>หมวกนิรภัย:ไม่ทราบ</th>\n",
              "    </tr>\n",
              "  </thead>\n",
              "  <tbody>\n",
              "    <tr>\n",
              "      <th>count</th>\n",
              "      <td>76.000000</td>\n",
              "      <td>76.000000</td>\n",
              "      <td>76.000000</td>\n",
              "      <td>76.000000</td>\n",
              "      <td>76.000000</td>\n",
              "      <td>76.000000</td>\n",
              "      <td>76.000000</td>\n",
              "      <td>76.000000</td>\n",
              "      <td>76.000000</td>\n",
              "      <td>76.000000</td>\n",
              "      <td>76.000000</td>\n",
              "      <td>76.000000</td>\n",
              "      <td>76.000000</td>\n",
              "      <td>76.000000</td>\n",
              "    </tr>\n",
              "    <tr>\n",
              "      <th>mean</th>\n",
              "      <td>6185.684211</td>\n",
              "      <td>21.263158</td>\n",
              "      <td>1084.802632</td>\n",
              "      <td>3952.644737</td>\n",
              "      <td>1149.921053</td>\n",
              "      <td>54.447368</td>\n",
              "      <td>3713.539474</td>\n",
              "      <td>2419.157895</td>\n",
              "      <td>147.973684</td>\n",
              "      <td>2199.881579</td>\n",
              "      <td>3601.868421</td>\n",
              "      <td>818.315789</td>\n",
              "      <td>3839.039474</td>\n",
              "      <td>1474.657895</td>\n",
              "    </tr>\n",
              "    <tr>\n",
              "      <th>std</th>\n",
              "      <td>4174.239464</td>\n",
              "      <td>29.003158</td>\n",
              "      <td>855.501802</td>\n",
              "      <td>2407.761775</td>\n",
              "      <td>1731.518492</td>\n",
              "      <td>168.437715</td>\n",
              "      <td>2559.655583</td>\n",
              "      <td>2448.109181</td>\n",
              "      <td>103.774753</td>\n",
              "      <td>1786.316791</td>\n",
              "      <td>2988.283674</td>\n",
              "      <td>657.107930</td>\n",
              "      <td>2363.082176</td>\n",
              "      <td>1915.897684</td>\n",
              "    </tr>\n",
              "    <tr>\n",
              "      <th>min</th>\n",
              "      <td>323.000000</td>\n",
              "      <td>0.000000</td>\n",
              "      <td>15.000000</td>\n",
              "      <td>230.000000</td>\n",
              "      <td>76.000000</td>\n",
              "      <td>2.000000</td>\n",
              "      <td>190.000000</td>\n",
              "      <td>131.000000</td>\n",
              "      <td>4.000000</td>\n",
              "      <td>30.000000</td>\n",
              "      <td>43.000000</td>\n",
              "      <td>36.000000</td>\n",
              "      <td>196.000000</td>\n",
              "      <td>28.000000</td>\n",
              "    </tr>\n",
              "    <tr>\n",
              "      <th>25%</th>\n",
              "      <td>3223.000000</td>\n",
              "      <td>5.750000</td>\n",
              "      <td>533.250000</td>\n",
              "      <td>1909.750000</td>\n",
              "      <td>548.750000</td>\n",
              "      <td>14.750000</td>\n",
              "      <td>1739.000000</td>\n",
              "      <td>1115.250000</td>\n",
              "      <td>70.000000</td>\n",
              "      <td>1088.500000</td>\n",
              "      <td>1805.250000</td>\n",
              "      <td>342.750000</td>\n",
              "      <td>2136.500000</td>\n",
              "      <td>687.500000</td>\n",
              "    </tr>\n",
              "    <tr>\n",
              "      <th>50%</th>\n",
              "      <td>5399.000000</td>\n",
              "      <td>11.000000</td>\n",
              "      <td>903.500000</td>\n",
              "      <td>3569.500000</td>\n",
              "      <td>802.500000</td>\n",
              "      <td>24.000000</td>\n",
              "      <td>3327.000000</td>\n",
              "      <td>1977.000000</td>\n",
              "      <td>121.500000</td>\n",
              "      <td>1818.500000</td>\n",
              "      <td>2861.500000</td>\n",
              "      <td>606.000000</td>\n",
              "      <td>3515.000000</td>\n",
              "      <td>1087.500000</td>\n",
              "    </tr>\n",
              "    <tr>\n",
              "      <th>75%</th>\n",
              "      <td>7632.000000</td>\n",
              "      <td>26.250000</td>\n",
              "      <td>1352.500000</td>\n",
              "      <td>5314.750000</td>\n",
              "      <td>1367.250000</td>\n",
              "      <td>46.750000</td>\n",
              "      <td>4897.750000</td>\n",
              "      <td>3037.750000</td>\n",
              "      <td>213.250000</td>\n",
              "      <td>2755.750000</td>\n",
              "      <td>4862.250000</td>\n",
              "      <td>1104.250000</td>\n",
              "      <td>5080.500000</td>\n",
              "      <td>1764.750000</td>\n",
              "    </tr>\n",
              "    <tr>\n",
              "      <th>max</th>\n",
              "      <td>25010.000000</td>\n",
              "      <td>195.000000</td>\n",
              "      <td>4670.000000</td>\n",
              "      <td>11153.000000</td>\n",
              "      <td>14723.000000</td>\n",
              "      <td>1462.000000</td>\n",
              "      <td>11870.000000</td>\n",
              "      <td>19780.000000</td>\n",
              "      <td>513.000000</td>\n",
              "      <td>10099.000000</td>\n",
              "      <td>21034.000000</td>\n",
              "      <td>2913.000000</td>\n",
              "      <td>11794.000000</td>\n",
              "      <td>16085.000000</td>\n",
              "    </tr>\n",
              "  </tbody>\n",
              "</table>\n",
              "</div>\n",
              "      <button class=\"colab-df-convert\" onclick=\"convertToInteractive('df-c758cd87-e697-4f22-a346-e9041b5d7c31')\"\n",
              "              title=\"Convert this dataframe to an interactive table.\"\n",
              "              style=\"display:none;\">\n",
              "        \n",
              "  <svg xmlns=\"http://www.w3.org/2000/svg\" height=\"24px\"viewBox=\"0 0 24 24\"\n",
              "       width=\"24px\">\n",
              "    <path d=\"M0 0h24v24H0V0z\" fill=\"none\"/>\n",
              "    <path d=\"M18.56 5.44l.94 2.06.94-2.06 2.06-.94-2.06-.94-.94-2.06-.94 2.06-2.06.94zm-11 1L8.5 8.5l.94-2.06 2.06-.94-2.06-.94L8.5 2.5l-.94 2.06-2.06.94zm10 10l.94 2.06.94-2.06 2.06-.94-2.06-.94-.94-2.06-.94 2.06-2.06.94z\"/><path d=\"M17.41 7.96l-1.37-1.37c-.4-.4-.92-.59-1.43-.59-.52 0-1.04.2-1.43.59L10.3 9.45l-7.72 7.72c-.78.78-.78 2.05 0 2.83L4 21.41c.39.39.9.59 1.41.59.51 0 1.02-.2 1.41-.59l7.78-7.78 2.81-2.81c.8-.78.8-2.07 0-2.86zM5.41 20L4 18.59l7.72-7.72 1.47 1.35L5.41 20z\"/>\n",
              "  </svg>\n",
              "      </button>\n",
              "      \n",
              "  <style>\n",
              "    .colab-df-container {\n",
              "      display:flex;\n",
              "      flex-wrap:wrap;\n",
              "      gap: 12px;\n",
              "    }\n",
              "\n",
              "    .colab-df-convert {\n",
              "      background-color: #E8F0FE;\n",
              "      border: none;\n",
              "      border-radius: 50%;\n",
              "      cursor: pointer;\n",
              "      display: none;\n",
              "      fill: #1967D2;\n",
              "      height: 32px;\n",
              "      padding: 0 0 0 0;\n",
              "      width: 32px;\n",
              "    }\n",
              "\n",
              "    .colab-df-convert:hover {\n",
              "      background-color: #E2EBFA;\n",
              "      box-shadow: 0px 1px 2px rgba(60, 64, 67, 0.3), 0px 1px 3px 1px rgba(60, 64, 67, 0.15);\n",
              "      fill: #174EA6;\n",
              "    }\n",
              "\n",
              "    [theme=dark] .colab-df-convert {\n",
              "      background-color: #3B4455;\n",
              "      fill: #D2E3FC;\n",
              "    }\n",
              "\n",
              "    [theme=dark] .colab-df-convert:hover {\n",
              "      background-color: #434B5C;\n",
              "      box-shadow: 0px 1px 3px 1px rgba(0, 0, 0, 0.15);\n",
              "      filter: drop-shadow(0px 1px 2px rgba(0, 0, 0, 0.3));\n",
              "      fill: #FFFFFF;\n",
              "    }\n",
              "  </style>\n",
              "\n",
              "      <script>\n",
              "        const buttonEl =\n",
              "          document.querySelector('#df-c758cd87-e697-4f22-a346-e9041b5d7c31 button.colab-df-convert');\n",
              "        buttonEl.style.display =\n",
              "          google.colab.kernel.accessAllowed ? 'block' : 'none';\n",
              "\n",
              "        async function convertToInteractive(key) {\n",
              "          const element = document.querySelector('#df-c758cd87-e697-4f22-a346-e9041b5d7c31');\n",
              "          const dataTable =\n",
              "            await google.colab.kernel.invokeFunction('convertToInteractive',\n",
              "                                                     [key], {});\n",
              "          if (!dataTable) return;\n",
              "\n",
              "          const docLinkHtml = 'Like what you see? Visit the ' +\n",
              "            '<a target=\"_blank\" href=https://colab.research.google.com/notebooks/data_table.ipynb>data table notebook</a>'\n",
              "            + ' to learn more about interactive tables.';\n",
              "          element.innerHTML = '';\n",
              "          dataTable['output_type'] = 'display_data';\n",
              "          await google.colab.output.renderOutput(dataTable, element);\n",
              "          const docLink = document.createElement('div');\n",
              "          docLink.innerHTML = docLinkHtml;\n",
              "          element.appendChild(docLink);\n",
              "        }\n",
              "      </script>\n",
              "    </div>\n",
              "  </div>\n",
              "  "
            ]
          },
          "metadata": {},
          "execution_count": 164
        }
      ]
    },
    {
      "cell_type": "code",
      "source": [
        "\n",
        "# วิธี Export Data\n",
        "#เลือกตารางที่ต้องการ Export (ในที่นี้เลือกตาราง df2) >> สร้างชื่อไฟล์, ชื่อชีท >> Run\n",
        "\n",
        "writer_data = pd.ExcelWriter('Export_Data_Test.xlsx')\n",
        "df2.to_excel(writer_data, sheet_name = 'Export1', index = False)\n",
        "writer_data.save()"
      ],
      "metadata": {
        "id": "LNPcPApQoFzf",
        "colab": {
          "base_uri": "https://localhost:8080/"
        },
        "outputId": "78c9a565-09ae-4900-bce8-7c9a64aa473b"
      },
      "execution_count": 21,
      "outputs": [
        {
          "output_type": "stream",
          "name": "stderr",
          "text": [
            "<ipython-input-21-f1305b04596e>:3: FutureWarning: save is not part of the public API, usage can give unexpected results and will be removed in a future version\n",
            "  writer_data.save()\n"
          ]
        }
      ]
    },
    {
      "cell_type": "markdown",
      "source": [
        "![Screenshot (86).png](data:image/png;base64,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)"
      ],
      "metadata": {
        "id": "XbhfvbnRxYc1"
      }
    }
  ]
}